{
 "cells": [
  {
   "cell_type": "markdown",
   "metadata": {},
   "source": [
    "### Take a look at the data"
   ]
  },
  {
   "cell_type": "code",
   "execution_count": 1,
   "metadata": {},
   "outputs": [],
   "source": [
    "path = '../other_dumps/comments'"
   ]
  },
  {
   "cell_type": "code",
   "execution_count": 2,
   "metadata": {},
   "outputs": [],
   "source": [
    "import os"
   ]
  },
  {
   "cell_type": "code",
   "execution_count": 5,
   "metadata": {},
   "outputs": [],
   "source": [
    "files = os.listdir(f'{path}/original_dumps')"
   ]
  },
  {
   "cell_type": "code",
   "execution_count": 6,
   "metadata": {},
   "outputs": [],
   "source": [
    "import pandas as pd"
   ]
  },
  {
   "cell_type": "code",
   "execution_count": 8,
   "metadata": {},
   "outputs": [],
   "source": [
    "# collect all dfs with comments into one (they start with AN)\n",
    "areas = []\n",
    "\n",
    "for i, file in enumerate(files):\n",
    "    if 'AN' not in file:\n",
    "        continue\n",
    "    df = pd.read_csv(f'{path}/original_dumps/{file}')\n",
    "    end_area = 9 + file[9:].index('-')\n",
    "    area_name = file[8:end_area].lower()\n",
    "    df['area'] = [area_name] * df.shape[0]\n",
    "    areas.append(area_name)\n",
    "    \n",
    "    if i == 0:\n",
    "        common_df = df\n",
    "    else:\n",
    "        common_df = pd.concat([common_df, df])"
   ]
  },
  {
   "cell_type": "code",
   "execution_count": 9,
   "metadata": {},
   "outputs": [
    {
     "data": {
      "text/plain": [
       "(250770, 13)"
      ]
     },
     "execution_count": 9,
     "metadata": {},
     "output_type": "execute_result"
    }
   ],
   "source": [
    "common_df.shape"
   ]
  },
  {
   "cell_type": "code",
   "execution_count": 10,
   "metadata": {},
   "outputs": [
    {
     "data": {
      "text/html": [
       "<div>\n",
       "<style scoped>\n",
       "    .dataframe tbody tr th:only-of-type {\n",
       "        vertical-align: middle;\n",
       "    }\n",
       "\n",
       "    .dataframe tbody tr th {\n",
       "        vertical-align: top;\n",
       "    }\n",
       "\n",
       "    .dataframe thead th {\n",
       "        text-align: right;\n",
       "    }\n",
       "</style>\n",
       "<table border=\"1\" class=\"dataframe\">\n",
       "  <thead>\n",
       "    <tr style=\"text-align: right;\">\n",
       "      <th></th>\n",
       "      <th>id</th>\n",
       "      <th>status</th>\n",
       "      <th>thread</th>\n",
       "      <th>text</th>\n",
       "      <th>time</th>\n",
       "      <th>content_link</th>\n",
       "      <th>block_name</th>\n",
       "      <th>enabled</th>\n",
       "      <th>abuses</th>\n",
       "      <th>likes</th>\n",
       "      <th>replies</th>\n",
       "      <th>anon_user_id</th>\n",
       "      <th>area</th>\n",
       "    </tr>\n",
       "  </thead>\n",
       "  <tbody>\n",
       "    <tr>\n",
       "      <th>0</th>\n",
       "      <td>1988</td>\n",
       "      <td>new</td>\n",
       "      <td>skip</td>\n",
       "      <td>Im not goot with chars</td>\n",
       "      <td>2019-04-01 11:27:56</td>\n",
       "      <td>https://hyperskill.org/learn/step/18814</td>\n",
       "      <td>choice</td>\n",
       "      <td>1</td>\n",
       "      <td>0</td>\n",
       "      <td>0</td>\n",
       "      <td>0</td>\n",
       "      <td>12</td>\n",
       "      <td>math</td>\n",
       "    </tr>\n",
       "    <tr>\n",
       "      <th>1</th>\n",
       "      <td>1989</td>\n",
       "      <td>new</td>\n",
       "      <td>skip</td>\n",
       "      <td>all answers are wrong</td>\n",
       "      <td>2019-04-01 11:32:55</td>\n",
       "      <td>https://hyperskill.org/learn/step/18816</td>\n",
       "      <td>choice</td>\n",
       "      <td>1</td>\n",
       "      <td>0</td>\n",
       "      <td>0</td>\n",
       "      <td>0</td>\n",
       "      <td>54</td>\n",
       "      <td>math</td>\n",
       "    </tr>\n",
       "    <tr>\n",
       "      <th>2</th>\n",
       "      <td>1990</td>\n",
       "      <td>new</td>\n",
       "      <td>skip</td>\n",
       "      <td>all answerd are wrong</td>\n",
       "      <td>2019-04-01 11:34:13</td>\n",
       "      <td>https://hyperskill.org/learn/step/18817</td>\n",
       "      <td>string</td>\n",
       "      <td>1</td>\n",
       "      <td>0</td>\n",
       "      <td>0</td>\n",
       "      <td>0</td>\n",
       "      <td>54</td>\n",
       "      <td>math</td>\n",
       "    </tr>\n",
       "    <tr>\n",
       "      <th>3</th>\n",
       "      <td>2018</td>\n",
       "      <td>new</td>\n",
       "      <td>skip</td>\n",
       "      <td>Error in checking</td>\n",
       "      <td>2019-04-01 15:33:40</td>\n",
       "      <td>https://hyperskill.org/learn/step/18915</td>\n",
       "      <td>number</td>\n",
       "      <td>1</td>\n",
       "      <td>0</td>\n",
       "      <td>0</td>\n",
       "      <td>0</td>\n",
       "      <td>53</td>\n",
       "      <td>math</td>\n",
       "    </tr>\n",
       "    <tr>\n",
       "      <th>4</th>\n",
       "      <td>2052</td>\n",
       "      <td>new</td>\n",
       "      <td>skip</td>\n",
       "      <td>import java.util.Scanner;\\n\\nclass Main {\\n   ...</td>\n",
       "      <td>2019-04-02 09:52:55</td>\n",
       "      <td>https://hyperskill.org/learn/step/19117</td>\n",
       "      <td>choice</td>\n",
       "      <td>1</td>\n",
       "      <td>0</td>\n",
       "      <td>0</td>\n",
       "      <td>0</td>\n",
       "      <td>46</td>\n",
       "      <td>math</td>\n",
       "    </tr>\n",
       "  </tbody>\n",
       "</table>\n",
       "</div>"
      ],
      "text/plain": [
       "     id status thread                                               text  \\\n",
       "0  1988    new   skip                             Im not goot with chars   \n",
       "1  1989    new   skip                              all answers are wrong   \n",
       "2  1990    new   skip                              all answerd are wrong   \n",
       "3  2018    new   skip                                  Error in checking   \n",
       "4  2052    new   skip  import java.util.Scanner;\\n\\nclass Main {\\n   ...   \n",
       "\n",
       "                  time                             content_link block_name  \\\n",
       "0  2019-04-01 11:27:56  https://hyperskill.org/learn/step/18814     choice   \n",
       "1  2019-04-01 11:32:55  https://hyperskill.org/learn/step/18816     choice   \n",
       "2  2019-04-01 11:34:13  https://hyperskill.org/learn/step/18817     string   \n",
       "3  2019-04-01 15:33:40  https://hyperskill.org/learn/step/18915     number   \n",
       "4  2019-04-02 09:52:55  https://hyperskill.org/learn/step/19117     choice   \n",
       "\n",
       "   enabled  abuses  likes  replies  anon_user_id  area  \n",
       "0        1       0      0        0            12  math  \n",
       "1        1       0      0        0            54  math  \n",
       "2        1       0      0        0            54  math  \n",
       "3        1       0      0        0            53  math  \n",
       "4        1       0      0        0            46  math  "
      ]
     },
     "execution_count": 10,
     "metadata": {},
     "output_type": "execute_result"
    }
   ],
   "source": [
    "common_df.head(5)"
   ]
  },
  {
   "cell_type": "code",
   "execution_count": 11,
   "metadata": {},
   "outputs": [],
   "source": [
    "import matplotlib.pyplot as plt"
   ]
  },
  {
   "cell_type": "code",
   "execution_count": 12,
   "metadata": {},
   "outputs": [],
   "source": [
    "plt.rcParams[\"figure.figsize\"] = (20, 3)"
   ]
  },
  {
   "cell_type": "code",
   "execution_count": 13,
   "metadata": {},
   "outputs": [
    {
     "data": {
      "image/png": "[encoded data removed]",
      "text/plain": [
       "<Figure size 1440x216 with 1 Axes>"
      ]
     },
     "metadata": {
      "needs_background": "light"
     },
     "output_type": "display_data"
    }
   ],
   "source": [
    "n, bins, patches = plt.hist(common_df.area.values, bins=len(areas))\n",
    "ticks = [(patch._x0 + patch._x1)/2 for patch in patches]\n",
    "ticklabels = areas\n",
    "plt.xticks(ticks, ticklabels)\n",
    "plt.title('All comments')\n",
    "plt.show()"
   ]
  },
  {
   "cell_type": "code",
   "execution_count": 14,
   "metadata": {},
   "outputs": [
    {
     "name": "stdout",
     "output_type": "stream",
     "text": [
      "math: 7554 comments, 0.03%\n",
      "scalaᵝ: 177 comments, 0.0%\n",
      "java: 72214 comments, 0.29%\n",
      "desktop: 464 comments, 0.0%\n",
      "frontend: 11013 comments, 0.04%\n",
      "data science: 2048 comments, 0.01%\n",
      "fundamentals: 41381 comments, 0.17%\n",
      "mobile: 1031 comments, 0.0%\n",
      "backend: 4296 comments, 0.02%\n",
      "kotlin: 26064 comments, 0.1%\n",
      "javascript: 5728 comments, 0.02%\n",
      "golangᵝ: 1154 comments, 0.0%\n",
      "python: 77646 comments, 0.31%\n"
     ]
    }
   ],
   "source": [
    "all_comments = common_df.shape[0]\n",
    "\n",
    "for area in areas:\n",
    "    df_area = common_df[common_df.area == area]\n",
    "    num_comments = df_area.shape[0]\n",
    "    print(f'{area}: {num_comments} comments, {round(num_comments / all_comments, 2)}%')"
   ]
  },
  {
   "cell_type": "markdown",
   "metadata": {},
   "source": [
    "#### Now leave only comments to theories"
   ]
  },
  {
   "cell_type": "code",
   "execution_count": 15,
   "metadata": {},
   "outputs": [],
   "source": [
    "common_df_theories = common_df[common_df.block_name == 'text']"
   ]
  },
  {
   "cell_type": "code",
   "execution_count": 16,
   "metadata": {},
   "outputs": [
    {
     "data": {
      "text/plain": [
       "(25311, 13)"
      ]
     },
     "execution_count": 16,
     "metadata": {},
     "output_type": "execute_result"
    }
   ],
   "source": [
    "common_df_theories.shape"
   ]
  },
  {
   "cell_type": "code",
   "execution_count": 17,
   "metadata": {},
   "outputs": [
    {
     "data": {
      "text/html": [
       "<div>\n",
       "<style scoped>\n",
       "    .dataframe tbody tr th:only-of-type {\n",
       "        vertical-align: middle;\n",
       "    }\n",
       "\n",
       "    .dataframe tbody tr th {\n",
       "        vertical-align: top;\n",
       "    }\n",
       "\n",
       "    .dataframe thead th {\n",
       "        text-align: right;\n",
       "    }\n",
       "</style>\n",
       "<table border=\"1\" class=\"dataframe\">\n",
       "  <thead>\n",
       "    <tr style=\"text-align: right;\">\n",
       "      <th></th>\n",
       "      <th>id</th>\n",
       "      <th>status</th>\n",
       "      <th>thread</th>\n",
       "      <th>text</th>\n",
       "      <th>time</th>\n",
       "      <th>content_link</th>\n",
       "      <th>block_name</th>\n",
       "      <th>enabled</th>\n",
       "      <th>abuses</th>\n",
       "      <th>likes</th>\n",
       "      <th>replies</th>\n",
       "      <th>anon_user_id</th>\n",
       "      <th>area</th>\n",
       "    </tr>\n",
       "  </thead>\n",
       "  <tbody>\n",
       "    <tr>\n",
       "      <th>28</th>\n",
       "      <td>9403</td>\n",
       "      <td>fixed</td>\n",
       "      <td>comment</td>\n",
       "      <td>\"...to divide between two your friends\"\\r\\nI t...</td>\n",
       "      <td>2019-06-08 20:14:45</td>\n",
       "      <td>https://hyperskill.org/learn/step/5614</td>\n",
       "      <td>text</td>\n",
       "      <td>0</td>\n",
       "      <td>0</td>\n",
       "      <td>0</td>\n",
       "      <td>0</td>\n",
       "      <td>45</td>\n",
       "      <td>math</td>\n",
       "    </tr>\n",
       "    <tr>\n",
       "      <th>29</th>\n",
       "      <td>9408</td>\n",
       "      <td>won't fix</td>\n",
       "      <td>comment</td>\n",
       "      <td>It was not completely clear for me, how to con...</td>\n",
       "      <td>2019-06-08 20:32:26</td>\n",
       "      <td>https://hyperskill.org/learn/step/5614</td>\n",
       "      <td>text</td>\n",
       "      <td>1</td>\n",
       "      <td>0</td>\n",
       "      <td>3</td>\n",
       "      <td>2</td>\n",
       "      <td>45</td>\n",
       "      <td>math</td>\n",
       "    </tr>\n",
       "    <tr>\n",
       "      <th>48</th>\n",
       "      <td>15054</td>\n",
       "      <td>fixed</td>\n",
       "      <td>feedback</td>\n",
       "      <td>completly not understood</td>\n",
       "      <td>2019-07-09 11:11:43</td>\n",
       "      <td>https://hyperskill.org/learn/step/5753</td>\n",
       "      <td>text</td>\n",
       "      <td>1</td>\n",
       "      <td>0</td>\n",
       "      <td>0</td>\n",
       "      <td>0</td>\n",
       "      <td>105</td>\n",
       "      <td>math</td>\n",
       "    </tr>\n",
       "    <tr>\n",
       "      <th>49</th>\n",
       "      <td>15115</td>\n",
       "      <td>fixed</td>\n",
       "      <td>feedback</td>\n",
       "      <td>A better explanation is needed with clear defi...</td>\n",
       "      <td>2019-07-09 17:34:21</td>\n",
       "      <td>https://hyperskill.org/learn/step/5753</td>\n",
       "      <td>text</td>\n",
       "      <td>1</td>\n",
       "      <td>0</td>\n",
       "      <td>0</td>\n",
       "      <td>0</td>\n",
       "      <td>109</td>\n",
       "      <td>math</td>\n",
       "    </tr>\n",
       "    <tr>\n",
       "      <th>52</th>\n",
       "      <td>15268</td>\n",
       "      <td>fixed</td>\n",
       "      <td>comment</td>\n",
       "      <td>&gt;remember that 2^8 in decimal is 1000 0000 in ...</td>\n",
       "      <td>2019-07-10 16:03:41</td>\n",
       "      <td>https://hyperskill.org/learn/step/5753</td>\n",
       "      <td>text</td>\n",
       "      <td>0</td>\n",
       "      <td>0</td>\n",
       "      <td>1</td>\n",
       "      <td>0</td>\n",
       "      <td>122</td>\n",
       "      <td>math</td>\n",
       "    </tr>\n",
       "    <tr>\n",
       "      <th>...</th>\n",
       "      <td>...</td>\n",
       "      <td>...</td>\n",
       "      <td>...</td>\n",
       "      <td>...</td>\n",
       "      <td>...</td>\n",
       "      <td>...</td>\n",
       "      <td>...</td>\n",
       "      <td>...</td>\n",
       "      <td>...</td>\n",
       "      <td>...</td>\n",
       "      <td>...</td>\n",
       "      <td>...</td>\n",
       "      <td>...</td>\n",
       "    </tr>\n",
       "    <tr>\n",
       "      <th>77479</th>\n",
       "      <td>1588623</td>\n",
       "      <td>new</td>\n",
       "      <td>feedback</td>\n",
       "      <td>repetitive to other stuff in the track</td>\n",
       "      <td>2022-05-27 06:55:37</td>\n",
       "      <td>https://hyperskill.org/learn/step/9468</td>\n",
       "      <td>text</td>\n",
       "      <td>1</td>\n",
       "      <td>0</td>\n",
       "      <td>0</td>\n",
       "      <td>0</td>\n",
       "      <td>16614</td>\n",
       "      <td>python</td>\n",
       "    </tr>\n",
       "    <tr>\n",
       "      <th>77482</th>\n",
       "      <td>1588755</td>\n",
       "      <td>new</td>\n",
       "      <td>feedback</td>\n",
       "      <td>Nothing is clear(</td>\n",
       "      <td>2022-05-27 08:42:54</td>\n",
       "      <td>https://hyperskill.org/learn/step/8061</td>\n",
       "      <td>text</td>\n",
       "      <td>1</td>\n",
       "      <td>0</td>\n",
       "      <td>0</td>\n",
       "      <td>0</td>\n",
       "      <td>17359</td>\n",
       "      <td>python</td>\n",
       "    </tr>\n",
       "    <tr>\n",
       "      <th>77494</th>\n",
       "      <td>1589607</td>\n",
       "      <td>new</td>\n",
       "      <td>feedback</td>\n",
       "      <td>This comment in section 4 code is not fully ac...</td>\n",
       "      <td>2022-05-27 17:05:22</td>\n",
       "      <td>https://hyperskill.org/learn/step/5920</td>\n",
       "      <td>text</td>\n",
       "      <td>1</td>\n",
       "      <td>0</td>\n",
       "      <td>0</td>\n",
       "      <td>0</td>\n",
       "      <td>17469</td>\n",
       "      <td>python</td>\n",
       "    </tr>\n",
       "    <tr>\n",
       "      <th>77508</th>\n",
       "      <td>1590347</td>\n",
       "      <td>new</td>\n",
       "      <td>feedback</td>\n",
       "      <td>more visual imagination, more pictures</td>\n",
       "      <td>2022-05-28 06:10:55</td>\n",
       "      <td>https://hyperskill.org/learn/step/6057</td>\n",
       "      <td>text</td>\n",
       "      <td>1</td>\n",
       "      <td>0</td>\n",
       "      <td>0</td>\n",
       "      <td>0</td>\n",
       "      <td>17465</td>\n",
       "      <td>python</td>\n",
       "    </tr>\n",
       "    <tr>\n",
       "      <th>77562</th>\n",
       "      <td>1591937</td>\n",
       "      <td>new</td>\n",
       "      <td>feedback</td>\n",
       "      <td>It is too difficult to understand, i can not p...</td>\n",
       "      <td>2022-05-29 01:30:10</td>\n",
       "      <td>https://hyperskill.org/learn/step/11389</td>\n",
       "      <td>text</td>\n",
       "      <td>1</td>\n",
       "      <td>0</td>\n",
       "      <td>0</td>\n",
       "      <td>0</td>\n",
       "      <td>16179</td>\n",
       "      <td>python</td>\n",
       "    </tr>\n",
       "  </tbody>\n",
       "</table>\n",
       "<p>25306 rows × 13 columns</p>\n",
       "</div>"
      ],
      "text/plain": [
       "            id     status    thread  \\\n",
       "28        9403      fixed   comment   \n",
       "29        9408  won't fix   comment   \n",
       "48       15054      fixed  feedback   \n",
       "49       15115      fixed  feedback   \n",
       "52       15268      fixed   comment   \n",
       "...        ...        ...       ...   \n",
       "77479  1588623        new  feedback   \n",
       "77482  1588755        new  feedback   \n",
       "77494  1589607        new  feedback   \n",
       "77508  1590347        new  feedback   \n",
       "77562  1591937        new  feedback   \n",
       "\n",
       "                                                    text                 time  \\\n",
       "28     \"...to divide between two your friends\"\\r\\nI t...  2019-06-08 20:14:45   \n",
       "29     It was not completely clear for me, how to con...  2019-06-08 20:32:26   \n",
       "48                              completly not understood  2019-07-09 11:11:43   \n",
       "49     A better explanation is needed with clear defi...  2019-07-09 17:34:21   \n",
       "52     >remember that 2^8 in decimal is 1000 0000 in ...  2019-07-10 16:03:41   \n",
       "...                                                  ...                  ...   \n",
       "77479             repetitive to other stuff in the track  2022-05-27 06:55:37   \n",
       "77482                                  Nothing is clear(  2022-05-27 08:42:54   \n",
       "77494  This comment in section 4 code is not fully ac...  2022-05-27 17:05:22   \n",
       "77508             more visual imagination, more pictures  2022-05-28 06:10:55   \n",
       "77562  It is too difficult to understand, i can not p...  2022-05-29 01:30:10   \n",
       "\n",
       "                                  content_link block_name  enabled  abuses  \\\n",
       "28      https://hyperskill.org/learn/step/5614       text        0       0   \n",
       "29      https://hyperskill.org/learn/step/5614       text        1       0   \n",
       "48      https://hyperskill.org/learn/step/5753       text        1       0   \n",
       "49      https://hyperskill.org/learn/step/5753       text        1       0   \n",
       "52      https://hyperskill.org/learn/step/5753       text        0       0   \n",
       "...                                        ...        ...      ...     ...   \n",
       "77479   https://hyperskill.org/learn/step/9468       text        1       0   \n",
       "77482   https://hyperskill.org/learn/step/8061       text        1       0   \n",
       "77494   https://hyperskill.org/learn/step/5920       text        1       0   \n",
       "77508   https://hyperskill.org/learn/step/6057       text        1       0   \n",
       "77562  https://hyperskill.org/learn/step/11389       text        1       0   \n",
       "\n",
       "       likes  replies  anon_user_id    area  \n",
       "28         0        0            45    math  \n",
       "29         3        2            45    math  \n",
       "48         0        0           105    math  \n",
       "49         0        0           109    math  \n",
       "52         1        0           122    math  \n",
       "...      ...      ...           ...     ...  \n",
       "77479      0        0         16614  python  \n",
       "77482      0        0         17359  python  \n",
       "77494      0        0         17469  python  \n",
       "77508      0        0         17465  python  \n",
       "77562      0        0         16179  python  \n",
       "\n",
       "[25306 rows x 13 columns]"
      ]
     },
     "execution_count": 17,
     "metadata": {},
     "output_type": "execute_result"
    }
   ],
   "source": [
    "common_df_theories.head(-5)"
   ]
  },
  {
   "cell_type": "code",
   "execution_count": 18,
   "metadata": {},
   "outputs": [
    {
     "data": {
      "image/png": "[encoded data removed]",
      "text/plain": [
       "<Figure size 1440x216 with 1 Axes>"
      ]
     },
     "metadata": {
      "needs_background": "light"
     },
     "output_type": "display_data"
    }
   ],
   "source": [
    "n, bins, patches = plt.hist(common_df_theories.area.values, bins=len(areas))\n",
    "ticks = [(patch._x0 + patch._x1)/2 for patch in patches]\n",
    "ticklabels = areas\n",
    "plt.xticks(ticks, ticklabels)\n",
    "plt.title('Theory comments')\n",
    "plt.show()"
   ]
  },
  {
   "cell_type": "code",
   "execution_count": 19,
   "metadata": {},
   "outputs": [
    {
     "name": "stdout",
     "output_type": "stream",
     "text": [
      "math: 950 comments, 0.04%\n",
      "scalaᵝ: 19 comments, 0.0%\n",
      "java: 7399 comments, 0.29%\n",
      "desktop: 185 comments, 0.01%\n",
      "frontend: 918 comments, 0.04%\n",
      "data science: 205 comments, 0.01%\n",
      "fundamentals: 5603 comments, 0.22%\n",
      "mobile: 160 comments, 0.01%\n",
      "backend: 1278 comments, 0.05%\n",
      "kotlin: 2339 comments, 0.09%\n",
      "javascript: 589 comments, 0.02%\n",
      "golangᵝ: 102 comments, 0.0%\n",
      "python: 5564 comments, 0.22%\n"
     ]
    }
   ],
   "source": [
    "all_theory_comments = common_df_theories.shape[0]\n",
    "\n",
    "for area in areas:\n",
    "    df_area = common_df_theories[common_df_theories.area == area]\n",
    "    num_comments = df_area.shape[0]\n",
    "    print(f'{area}: {num_comments} comments, {round(num_comments / all_theory_comments, 2)}%')"
   ]
  },
  {
   "cell_type": "code",
   "execution_count": 20,
   "metadata": {},
   "outputs": [
    {
     "name": "stdout",
     "output_type": "stream",
     "text": [
      "(25311, 13)\n",
      "(25311, 13)\n"
     ]
    }
   ],
   "source": [
    "print(common_df_theories.shape)\n",
    "common_df_theories = common_df_theories.dropna(subset=['text', 'content_link', 'status'])\n",
    "print(common_df_theories.shape)"
   ]
  },
  {
   "cell_type": "markdown",
   "metadata": {},
   "source": [
    "### Add topic_id to each comment "
   ]
  },
  {
   "cell_type": "code",
   "execution_count": 21,
   "metadata": {},
   "outputs": [],
   "source": [
    "import pickle"
   ]
  },
  {
   "cell_type": "code",
   "execution_count": 22,
   "metadata": {},
   "outputs": [],
   "source": [
    "step_id_topic_id_mapping = pickle.load(open(\"step_id_topic_id_mapping.pkl\", \"rb\"))"
   ]
  },
  {
   "cell_type": "code",
   "execution_count": 23,
   "metadata": {},
   "outputs": [],
   "source": [
    "step_ids = []\n",
    "topic_ids = []\n",
    "steps_not_in_initial_dump = set()\n",
    "\n",
    "for row in common_df_theories.iterrows():\n",
    "    comment_id = row[1].id\n",
    "    step_id = row[1].content_link.split('/')[-1]\n",
    "    try:\n",
    "        topic_id = step_id_topic_id_mapping[int(step_id)]\n",
    "    except KeyError:\n",
    "        # we don't have this step in the initial dump\n",
    "        topic_id = None\n",
    "        steps_not_in_initial_dump.add(row[1].content_link)\n",
    "    step_ids.append(step_id)\n",
    "    topic_ids.append(topic_id)\n",
    "    \n",
    "common_df_theories['step_id'] = step_ids\n",
    "common_df_theories['topic_id'] = topic_ids"
   ]
  },
  {
   "cell_type": "code",
   "execution_count": 24,
   "metadata": {
    "collapsed": true
   },
   "outputs": [
    {
     "name": "stdout",
     "output_type": "stream",
     "text": [
      "https://hyperskill.org/learn/step/7362\n",
      "https://hyperskill.org/learn/step/4963\n",
      "https://hyperskill.org/learn/step/5356\n",
      "https://hyperskill.org/learn/step/6773\n",
      "https://hyperskill.org/learn/step/17400\n",
      "https://hyperskill.org/learn/step/3601\n",
      "https://hyperskill.org/learn/step/8936\n",
      "https://hyperskill.org/learn/step/5227\n",
      "https://hyperskill.org/learn/step/19773\n",
      "https://hyperskill.org/learn/step/9400\n",
      "https://hyperskill.org/learn/step/5372\n",
      "https://hyperskill.org/learn/step/19510\n",
      "https://hyperskill.org/learn/step/3544\n",
      "https://hyperskill.org/learn/step/19153\n",
      "https://hyperskill.org/learn/step/13124\n",
      "https://hyperskill.org/learn/step/7015\n",
      "https://hyperskill.org/learn/step/4540\n",
      "https://hyperskill.org/learn/step/19186\n",
      "https://hyperskill.org/learn/step/3603\n",
      "https://hyperskill.org/learn/step/9092\n",
      "https://hyperskill.org/learn/step/6577\n",
      "https://hyperskill.org/learn/step/6997\n",
      "https://hyperskill.org/learn/step/5364\n",
      "https://hyperskill.org/learn/step/12741\n",
      "https://hyperskill.org/learn/step/19281\n",
      "https://hyperskill.org/learn/step/6989\n",
      "https://hyperskill.org/learn/step/6685\n",
      "https://hyperskill.org/learn/step/6237\n",
      "https://hyperskill.org/learn/step/19600\n",
      "https://hyperskill.org/learn/step/8771\n",
      "https://hyperskill.org/learn/step/3559\n",
      "https://hyperskill.org/learn/step/19579\n",
      "https://hyperskill.org/learn/step/19445\n",
      "https://hyperskill.org/learn/step/19163\n",
      "https://hyperskill.org/learn/step/19618\n",
      "https://hyperskill.org/learn/step/7061\n",
      "https://hyperskill.org/learn/step/4953\n",
      "https://hyperskill.org/learn/step/13991\n",
      "https://hyperskill.org/learn/step/19718\n",
      "https://hyperskill.org/learn/step/3560\n",
      "https://hyperskill.org/learn/step/10530\n",
      "https://hyperskill.org/learn/step/3561\n",
      "https://hyperskill.org/learn/step/19212\n",
      "https://hyperskill.org/learn/step/7353\n",
      "https://hyperskill.org/learn/step/3805\n",
      "https://hyperskill.org/learn/step/18819\n",
      "https://hyperskill.org/learn/step/3524\n",
      "https://hyperskill.org/learn/step/9167\n",
      "https://hyperskill.org/learn/step/9224\n",
      "https://hyperskill.org/learn/step/9101\n",
      "https://hyperskill.org/learn/step/11776\n",
      "https://hyperskill.org/learn/step/19113\n",
      "https://hyperskill.org/learn/step/18811\n",
      "https://hyperskill.org/learn/step/3598\n",
      "https://hyperskill.org/learn/step/3562\n",
      "https://hyperskill.org/learn/step/7165\n",
      "https://hyperskill.org/learn/step/9364\n",
      "https://hyperskill.org/learn/step/6359\n",
      "https://hyperskill.org/learn/step/19259\n",
      "https://hyperskill.org/learn/step/6922\n",
      "https://hyperskill.org/learn/step/5232\n",
      "https://hyperskill.org/learn/step/5096\n",
      "https://hyperskill.org/learn/step/11610\n",
      "https://hyperskill.org/learn/step/5161\n",
      "https://hyperskill.org/learn/step/6613\n",
      "https://hyperskill.org/learn/step/4563\n",
      "https://hyperskill.org/learn/step/7285\n",
      "https://hyperskill.org/learn/step/19656\n",
      "https://hyperskill.org/learn/step/6413\n",
      "https://hyperskill.org/learn/step/4991\n",
      "https://hyperskill.org/learn/step/5177\n",
      "https://hyperskill.org/learn/step/9536\n",
      "https://hyperskill.org/learn/step/19487\n",
      "https://hyperskill.org/learn/step/9941\n"
     ]
    }
   ],
   "source": [
    "for el in steps_not_in_initial_dump:\n",
    "    print(el)  # some (or all) of them were disabled"
   ]
  },
  {
   "cell_type": "code",
   "execution_count": 25,
   "metadata": {},
   "outputs": [
    {
     "data": {
      "text/html": [
       "<div>\n",
       "<style scoped>\n",
       "    .dataframe tbody tr th:only-of-type {\n",
       "        vertical-align: middle;\n",
       "    }\n",
       "\n",
       "    .dataframe tbody tr th {\n",
       "        vertical-align: top;\n",
       "    }\n",
       "\n",
       "    .dataframe thead th {\n",
       "        text-align: right;\n",
       "    }\n",
       "</style>\n",
       "<table border=\"1\" class=\"dataframe\">\n",
       "  <thead>\n",
       "    <tr style=\"text-align: right;\">\n",
       "      <th></th>\n",
       "      <th>id</th>\n",
       "      <th>status</th>\n",
       "      <th>thread</th>\n",
       "      <th>text</th>\n",
       "      <th>time</th>\n",
       "      <th>content_link</th>\n",
       "      <th>block_name</th>\n",
       "      <th>enabled</th>\n",
       "      <th>abuses</th>\n",
       "      <th>likes</th>\n",
       "      <th>replies</th>\n",
       "      <th>anon_user_id</th>\n",
       "      <th>area</th>\n",
       "      <th>step_id</th>\n",
       "      <th>topic_id</th>\n",
       "    </tr>\n",
       "  </thead>\n",
       "  <tbody>\n",
       "    <tr>\n",
       "      <th>28</th>\n",
       "      <td>9403</td>\n",
       "      <td>fixed</td>\n",
       "      <td>comment</td>\n",
       "      <td>\"...to divide between two your friends\"\\r\\nI t...</td>\n",
       "      <td>2019-06-08 20:14:45</td>\n",
       "      <td>https://hyperskill.org/learn/step/5614</td>\n",
       "      <td>text</td>\n",
       "      <td>0</td>\n",
       "      <td>0</td>\n",
       "      <td>0</td>\n",
       "      <td>0</td>\n",
       "      <td>45</td>\n",
       "      <td>math</td>\n",
       "      <td>5614</td>\n",
       "      <td>370.0</td>\n",
       "    </tr>\n",
       "    <tr>\n",
       "      <th>29</th>\n",
       "      <td>9408</td>\n",
       "      <td>won't fix</td>\n",
       "      <td>comment</td>\n",
       "      <td>It was not completely clear for me, how to con...</td>\n",
       "      <td>2019-06-08 20:32:26</td>\n",
       "      <td>https://hyperskill.org/learn/step/5614</td>\n",
       "      <td>text</td>\n",
       "      <td>1</td>\n",
       "      <td>0</td>\n",
       "      <td>3</td>\n",
       "      <td>2</td>\n",
       "      <td>45</td>\n",
       "      <td>math</td>\n",
       "      <td>5614</td>\n",
       "      <td>370.0</td>\n",
       "    </tr>\n",
       "    <tr>\n",
       "      <th>48</th>\n",
       "      <td>15054</td>\n",
       "      <td>fixed</td>\n",
       "      <td>feedback</td>\n",
       "      <td>completly not understood</td>\n",
       "      <td>2019-07-09 11:11:43</td>\n",
       "      <td>https://hyperskill.org/learn/step/5753</td>\n",
       "      <td>text</td>\n",
       "      <td>1</td>\n",
       "      <td>0</td>\n",
       "      <td>0</td>\n",
       "      <td>0</td>\n",
       "      <td>105</td>\n",
       "      <td>math</td>\n",
       "      <td>5753</td>\n",
       "      <td>385.0</td>\n",
       "    </tr>\n",
       "    <tr>\n",
       "      <th>49</th>\n",
       "      <td>15115</td>\n",
       "      <td>fixed</td>\n",
       "      <td>feedback</td>\n",
       "      <td>A better explanation is needed with clear defi...</td>\n",
       "      <td>2019-07-09 17:34:21</td>\n",
       "      <td>https://hyperskill.org/learn/step/5753</td>\n",
       "      <td>text</td>\n",
       "      <td>1</td>\n",
       "      <td>0</td>\n",
       "      <td>0</td>\n",
       "      <td>0</td>\n",
       "      <td>109</td>\n",
       "      <td>math</td>\n",
       "      <td>5753</td>\n",
       "      <td>385.0</td>\n",
       "    </tr>\n",
       "    <tr>\n",
       "      <th>52</th>\n",
       "      <td>15268</td>\n",
       "      <td>fixed</td>\n",
       "      <td>comment</td>\n",
       "      <td>&gt;remember that 2^8 in decimal is 1000 0000 in ...</td>\n",
       "      <td>2019-07-10 16:03:41</td>\n",
       "      <td>https://hyperskill.org/learn/step/5753</td>\n",
       "      <td>text</td>\n",
       "      <td>0</td>\n",
       "      <td>0</td>\n",
       "      <td>1</td>\n",
       "      <td>0</td>\n",
       "      <td>122</td>\n",
       "      <td>math</td>\n",
       "      <td>5753</td>\n",
       "      <td>385.0</td>\n",
       "    </tr>\n",
       "  </tbody>\n",
       "</table>\n",
       "</div>"
      ],
      "text/plain": [
       "       id     status    thread  \\\n",
       "28   9403      fixed   comment   \n",
       "29   9408  won't fix   comment   \n",
       "48  15054      fixed  feedback   \n",
       "49  15115      fixed  feedback   \n",
       "52  15268      fixed   comment   \n",
       "\n",
       "                                                 text                 time  \\\n",
       "28  \"...to divide between two your friends\"\\r\\nI t...  2019-06-08 20:14:45   \n",
       "29  It was not completely clear for me, how to con...  2019-06-08 20:32:26   \n",
       "48                           completly not understood  2019-07-09 11:11:43   \n",
       "49  A better explanation is needed with clear defi...  2019-07-09 17:34:21   \n",
       "52  >remember that 2^8 in decimal is 1000 0000 in ...  2019-07-10 16:03:41   \n",
       "\n",
       "                              content_link block_name  enabled  abuses  likes  \\\n",
       "28  https://hyperskill.org/learn/step/5614       text        0       0      0   \n",
       "29  https://hyperskill.org/learn/step/5614       text        1       0      3   \n",
       "48  https://hyperskill.org/learn/step/5753       text        1       0      0   \n",
       "49  https://hyperskill.org/learn/step/5753       text        1       0      0   \n",
       "52  https://hyperskill.org/learn/step/5753       text        0       0      1   \n",
       "\n",
       "    replies  anon_user_id  area step_id  topic_id  \n",
       "28        0            45  math    5614     370.0  \n",
       "29        2            45  math    5614     370.0  \n",
       "48        0           105  math    5753     385.0  \n",
       "49        0           109  math    5753     385.0  \n",
       "52        0           122  math    5753     385.0  "
      ]
     },
     "execution_count": 25,
     "metadata": {},
     "output_type": "execute_result"
    }
   ],
   "source": [
    "common_df_theories.head()"
   ]
  },
  {
   "cell_type": "code",
   "execution_count": 26,
   "metadata": {},
   "outputs": [
    {
     "data": {
      "text/plain": [
       "25311"
      ]
     },
     "execution_count": 26,
     "metadata": {},
     "output_type": "execute_result"
    }
   ],
   "source": [
    "common_df_theories.shape[0]  # rows"
   ]
  },
  {
   "cell_type": "code",
   "execution_count": 27,
   "metadata": {},
   "outputs": [],
   "source": [
    "# now we need to delete rows with empty topic_id values\n",
    "common_df_theories = common_df_theories.dropna(subset=['topic_id'])"
   ]
  },
  {
   "cell_type": "code",
   "execution_count": 28,
   "metadata": {},
   "outputs": [
    {
     "data": {
      "text/plain": [
       "23905"
      ]
     },
     "execution_count": 28,
     "metadata": {},
     "output_type": "execute_result"
    }
   ],
   "source": [
    "common_df_theories.shape[0]  # 1406 were deleted"
   ]
  },
  {
   "cell_type": "code",
   "execution_count": null,
   "metadata": {},
   "outputs": [],
   "source": [
    "common_df_theories.to_csv(f'{path}/all_comments_to_theories.csv', index=False)"
   ]
  },
  {
   "cell_type": "markdown",
   "metadata": {},
   "source": [
    "### Lemmatize comments"
   ]
  },
  {
   "cell_type": "code",
   "execution_count": 29,
   "metadata": {},
   "outputs": [],
   "source": [
    "path = '../other_dumps/comments'"
   ]
  },
  {
   "cell_type": "code",
   "execution_count": 30,
   "metadata": {},
   "outputs": [],
   "source": [
    "import pandas as pd"
   ]
  },
  {
   "cell_type": "code",
   "execution_count": 31,
   "metadata": {},
   "outputs": [],
   "source": [
    "all_texts_comments = pd.read_csv(f'{path}/all_comments_to_theories.csv')"
   ]
  },
  {
   "cell_type": "code",
   "execution_count": 32,
   "metadata": {},
   "outputs": [],
   "source": [
    "import spacy"
   ]
  },
  {
   "cell_type": "code",
   "execution_count": 33,
   "metadata": {},
   "outputs": [],
   "source": [
    "model = spacy.load('en_core_web_sm')"
   ]
  },
  {
   "cell_type": "code",
   "execution_count": 34,
   "metadata": {},
   "outputs": [],
   "source": [
    "def spacy_lemmatize(text, model):\n",
    "    if len(text) > 50000:\n",
    "        return ''\n",
    "    doc = model(text)\n",
    "    lemmas = [str(token.lemma_) for token in doc]\n",
    "    return ' '.join(lemmas)"
   ]
  },
  {
   "cell_type": "code",
   "execution_count": null,
   "metadata": {},
   "outputs": [],
   "source": [
    "lemmatized = []\n",
    "\n",
    "for i, row in enumerate(all_texts_comments.iterrows()):\n",
    "    if i % 500 == 0:\n",
    "        print(i)\n",
    "    lemmatized.append(spacy_lemmatize(row[1].text, model))"
   ]
  },
  {
   "cell_type": "code",
   "execution_count": null,
   "metadata": {},
   "outputs": [],
   "source": [
    "all_texts_comments['lemmatized_comments'] = lemmatized"
   ]
  },
  {
   "cell_type": "code",
   "execution_count": null,
   "metadata": {},
   "outputs": [],
   "source": [
    "all_texts_comments.to_csv(f'{path}/all_comments_to_theories.csv', index=False)"
   ]
  },
  {
   "cell_type": "code",
   "execution_count": null,
   "metadata": {},
   "outputs": [],
   "source": []
  }
 ],
 "metadata": {
  "kernelspec": {
   "display_name": "Python 3",
   "language": "python",
   "name": "python3"
  },
  "language_info": {
   "codemirror_mode": {
    "name": "ipython",
    "version": 3
   },
   "file_extension": ".py",
   "mimetype": "text/x-python",
   "name": "python",
   "nbconvert_exporter": "python",
   "pygments_lexer": "ipython3",
   "version": "3.6.9"
  }
 },
 "nbformat": 4,
 "nbformat_minor": 4
}
