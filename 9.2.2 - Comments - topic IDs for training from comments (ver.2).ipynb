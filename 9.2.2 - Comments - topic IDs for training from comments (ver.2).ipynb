{
 "cells": [
  {
   "cell_type": "markdown",
   "metadata": {},
   "source": [
    "## Prepare the grades for comments"
   ]
  },
  {
   "cell_type": "code",
   "execution_count": 54,
   "metadata": {},
   "outputs": [],
   "source": [
    "import pandas as pd"
   ]
  },
  {
   "cell_type": "code",
   "execution_count": 55,
   "metadata": {},
   "outputs": [],
   "source": [
    "path = '../other_dumps/comments'"
   ]
  },
  {
   "cell_type": "code",
   "execution_count": 56,
   "metadata": {},
   "outputs": [
    {
     "data": {
      "text/html": [
       "<div>\n",
       "<style scoped>\n",
       "    .dataframe tbody tr th:only-of-type {\n",
       "        vertical-align: middle;\n",
       "    }\n",
       "\n",
       "    .dataframe tbody tr th {\n",
       "        vertical-align: top;\n",
       "    }\n",
       "\n",
       "    .dataframe thead th {\n",
       "        text-align: right;\n",
       "    }\n",
       "</style>\n",
       "<table border=\"1\" class=\"dataframe\">\n",
       "  <thead>\n",
       "    <tr style=\"text-align: right;\">\n",
       "      <th></th>\n",
       "      <th>id</th>\n",
       "      <th>status</th>\n",
       "      <th>thread</th>\n",
       "      <th>text</th>\n",
       "      <th>time</th>\n",
       "      <th>content_link</th>\n",
       "      <th>block_name</th>\n",
       "      <th>enabled</th>\n",
       "      <th>abuses</th>\n",
       "      <th>likes</th>\n",
       "      <th>replies</th>\n",
       "      <th>anon_user_id</th>\n",
       "      <th>area</th>\n",
       "      <th>step_id</th>\n",
       "      <th>topic_id</th>\n",
       "      <th>lemmatized_comments</th>\n",
       "      <th>count_bad</th>\n",
       "      <th>TextBlobPolarity</th>\n",
       "      <th>FlairPolarity</th>\n",
       "      <th>VaderPolarity</th>\n",
       "    </tr>\n",
       "  </thead>\n",
       "  <tbody>\n",
       "    <tr>\n",
       "      <th>0</th>\n",
       "      <td>9403</td>\n",
       "      <td>fixed</td>\n",
       "      <td>comment</td>\n",
       "      <td>\"...to divide between two your friends\"\\r\\nI t...</td>\n",
       "      <td>2019-06-08 20:14:45</td>\n",
       "      <td>https://hyperskill.org/learn/step/5614</td>\n",
       "      <td>text</td>\n",
       "      <td>0</td>\n",
       "      <td>0</td>\n",
       "      <td>0</td>\n",
       "      <td>0</td>\n",
       "      <td>45</td>\n",
       "      <td>math</td>\n",
       "      <td>5614</td>\n",
       "      <td>370.0</td>\n",
       "      <td>\" ... to divide between two your friend \" \\r\\n...</td>\n",
       "      <td>0</td>\n",
       "      <td>0.000000</td>\n",
       "      <td>0.817580</td>\n",
       "      <td>0.7351</td>\n",
       "    </tr>\n",
       "    <tr>\n",
       "      <th>1</th>\n",
       "      <td>9408</td>\n",
       "      <td>won't fix</td>\n",
       "      <td>comment</td>\n",
       "      <td>It was not completely clear for me, how to con...</td>\n",
       "      <td>2019-06-08 20:32:26</td>\n",
       "      <td>https://hyperskill.org/learn/step/5614</td>\n",
       "      <td>text</td>\n",
       "      <td>1</td>\n",
       "      <td>0</td>\n",
       "      <td>3</td>\n",
       "      <td>2</td>\n",
       "      <td>45</td>\n",
       "      <td>math</td>\n",
       "      <td>5614</td>\n",
       "      <td>370.0</td>\n",
       "      <td>it be not completely clear for I , how to conv...</td>\n",
       "      <td>3</td>\n",
       "      <td>0.065278</td>\n",
       "      <td>-0.999997</td>\n",
       "      <td>0.6766</td>\n",
       "    </tr>\n",
       "    <tr>\n",
       "      <th>2</th>\n",
       "      <td>15054</td>\n",
       "      <td>fixed</td>\n",
       "      <td>feedback</td>\n",
       "      <td>completly not understood</td>\n",
       "      <td>2019-07-09 11:11:43</td>\n",
       "      <td>https://hyperskill.org/learn/step/5753</td>\n",
       "      <td>text</td>\n",
       "      <td>1</td>\n",
       "      <td>0</td>\n",
       "      <td>0</td>\n",
       "      <td>0</td>\n",
       "      <td>105</td>\n",
       "      <td>math</td>\n",
       "      <td>5753</td>\n",
       "      <td>385.0</td>\n",
       "      <td>completly not understand</td>\n",
       "      <td>1</td>\n",
       "      <td>0.000000</td>\n",
       "      <td>-0.999818</td>\n",
       "      <td>0.0000</td>\n",
       "    </tr>\n",
       "    <tr>\n",
       "      <th>3</th>\n",
       "      <td>15115</td>\n",
       "      <td>fixed</td>\n",
       "      <td>feedback</td>\n",
       "      <td>A better explanation is needed with clear defi...</td>\n",
       "      <td>2019-07-09 17:34:21</td>\n",
       "      <td>https://hyperskill.org/learn/step/5753</td>\n",
       "      <td>text</td>\n",
       "      <td>1</td>\n",
       "      <td>0</td>\n",
       "      <td>0</td>\n",
       "      <td>0</td>\n",
       "      <td>109</td>\n",
       "      <td>math</td>\n",
       "      <td>5753</td>\n",
       "      <td>385.0</td>\n",
       "      <td>a well explanation be need with clear definiti...</td>\n",
       "      <td>4</td>\n",
       "      <td>0.300000</td>\n",
       "      <td>0.765204</td>\n",
       "      <td>0.6705</td>\n",
       "    </tr>\n",
       "    <tr>\n",
       "      <th>4</th>\n",
       "      <td>15268</td>\n",
       "      <td>fixed</td>\n",
       "      <td>comment</td>\n",
       "      <td>&gt;remember that 2^8 in decimal is 1000 0000 in ...</td>\n",
       "      <td>2019-07-10 16:03:41</td>\n",
       "      <td>https://hyperskill.org/learn/step/5753</td>\n",
       "      <td>text</td>\n",
       "      <td>0</td>\n",
       "      <td>0</td>\n",
       "      <td>1</td>\n",
       "      <td>0</td>\n",
       "      <td>122</td>\n",
       "      <td>math</td>\n",
       "      <td>5753</td>\n",
       "      <td>385.0</td>\n",
       "      <td>&gt; remember that 2 ^ 8 in decimal be 1000 0000 ...</td>\n",
       "      <td>0</td>\n",
       "      <td>0.000000</td>\n",
       "      <td>-0.999927</td>\n",
       "      <td>0.0258</td>\n",
       "    </tr>\n",
       "  </tbody>\n",
       "</table>\n",
       "</div>"
      ],
      "text/plain": [
       "      id     status    thread  \\\n",
       "0   9403      fixed   comment   \n",
       "1   9408  won't fix   comment   \n",
       "2  15054      fixed  feedback   \n",
       "3  15115      fixed  feedback   \n",
       "4  15268      fixed   comment   \n",
       "\n",
       "                                                text                 time  \\\n",
       "0  \"...to divide between two your friends\"\\r\\nI t...  2019-06-08 20:14:45   \n",
       "1  It was not completely clear for me, how to con...  2019-06-08 20:32:26   \n",
       "2                           completly not understood  2019-07-09 11:11:43   \n",
       "3  A better explanation is needed with clear defi...  2019-07-09 17:34:21   \n",
       "4  >remember that 2^8 in decimal is 1000 0000 in ...  2019-07-10 16:03:41   \n",
       "\n",
       "                             content_link block_name  enabled  abuses  likes  \\\n",
       "0  https://hyperskill.org/learn/step/5614       text        0       0      0   \n",
       "1  https://hyperskill.org/learn/step/5614       text        1       0      3   \n",
       "2  https://hyperskill.org/learn/step/5753       text        1       0      0   \n",
       "3  https://hyperskill.org/learn/step/5753       text        1       0      0   \n",
       "4  https://hyperskill.org/learn/step/5753       text        0       0      1   \n",
       "\n",
       "   replies  anon_user_id  area  step_id  topic_id  \\\n",
       "0        0            45  math     5614     370.0   \n",
       "1        2            45  math     5614     370.0   \n",
       "2        0           105  math     5753     385.0   \n",
       "3        0           109  math     5753     385.0   \n",
       "4        0           122  math     5753     385.0   \n",
       "\n",
       "                                 lemmatized_comments  count_bad  \\\n",
       "0  \" ... to divide between two your friend \" \\r\\n...          0   \n",
       "1  it be not completely clear for I , how to conv...          3   \n",
       "2                           completly not understand          1   \n",
       "3  a well explanation be need with clear definiti...          4   \n",
       "4  > remember that 2 ^ 8 in decimal be 1000 0000 ...          0   \n",
       "\n",
       "   TextBlobPolarity  FlairPolarity  VaderPolarity  \n",
       "0          0.000000       0.817580         0.7351  \n",
       "1          0.065278      -0.999997         0.6766  \n",
       "2          0.000000      -0.999818         0.0000  \n",
       "3          0.300000       0.765204         0.6705  \n",
       "4          0.000000      -0.999927         0.0258  "
      ]
     },
     "execution_count": 56,
     "metadata": {},
     "output_type": "execute_result"
    }
   ],
   "source": [
    "# open the file where we'll add the final decision about comments\n",
    "df_with_comments = pd.read_csv(f'{path}/VER2_all_comments_to_theories_with_scores.csv')\n",
    "df_with_comments.head()"
   ]
  },
  {
   "cell_type": "code",
   "execution_count": null,
   "metadata": {},
   "outputs": [],
   "source": [
    "df_with_polarities = pd.read_csv(f'{path}/all_comments_to_theories_with_3_polarities.csv')"
   ]
  },
  {
   "cell_type": "code",
   "execution_count": null,
   "metadata": {},
   "outputs": [],
   "source": [
    "# add polarities to the file with counts of bad words\n",
    "df_with_comments['TextBlobPolarity'] = df_with_polarities.TextBlobPolarity\n",
    "df_with_comments['FlairPolarity'] = df_with_polarities.FlairPolarity\n",
    "df_with_comments['VaderPolarity'] = df_with_polarities.VaderPolarity\n",
    "df_with_comments.head()"
   ]
  },
  {
   "cell_type": "code",
   "execution_count": null,
   "metadata": {},
   "outputs": [],
   "source": [
    "# check their distributions again\n",
    "# for Vader and TextBlob we can use the threshold 0.5\n",
    "# and for Flair we'll use 0.75"
   ]
  },
  {
   "cell_type": "code",
   "execution_count": 8,
   "metadata": {},
   "outputs": [
    {
     "data": {
      "text/plain": [
       "<AxesSubplot:>"
      ]
     },
     "execution_count": 8,
     "metadata": {},
     "output_type": "execute_result"
    },
    {
     "data": {
      "image/png": "[encoded data removed]",
      "text/plain": [
       "<Figure size 432x288 with 1 Axes>"
      ]
     },
     "metadata": {
      "needs_background": "light"
     },
     "output_type": "display_data"
    }
   ],
   "source": [
    "df_with_comments.TextBlobPolarity.hist()"
   ]
  },
  {
   "cell_type": "code",
   "execution_count": 9,
   "metadata": {},
   "outputs": [
    {
     "data": {
      "text/plain": [
       "<AxesSubplot:>"
      ]
     },
     "execution_count": 9,
     "metadata": {},
     "output_type": "execute_result"
    },
    {
     "data": {
      "image/png": "[encoded data removed]",
      "text/plain": [
       "<Figure size 432x288 with 1 Axes>"
      ]
     },
     "metadata": {
      "needs_background": "light"
     },
     "output_type": "display_data"
    }
   ],
   "source": [
    "df_with_comments.FlairPolarity.hist()"
   ]
  },
  {
   "cell_type": "code",
   "execution_count": 10,
   "metadata": {},
   "outputs": [
    {
     "data": {
      "text/plain": [
       "<AxesSubplot:>"
      ]
     },
     "execution_count": 10,
     "metadata": {},
     "output_type": "execute_result"
    },
    {
     "data": {
      "image/png": "[encoded data removed]",
      "text/plain": [
       "<Figure size 432x288 with 1 Axes>"
      ]
     },
     "metadata": {
      "needs_background": "light"
     },
     "output_type": "display_data"
    }
   ],
   "source": [
    "df_with_comments.VaderPolarity.hist()"
   ]
  },
  {
   "cell_type": "code",
   "execution_count": 19,
   "metadata": {},
   "outputs": [],
   "source": [
    "def get_score_from_three(blob, flair, vader, blob_thrshld=0.5, flair_thrshld=0.75, vader_thrshld=0.5):\n",
    "    \"\"\"\n",
    "    If two out of the three are positive/negative --> the comment is good/bad.\n",
    "    Otherwise it's neutral. The function returns 1 for good, 0 for neutral, and -1 for bad.\n",
    "    \"\"\"\n",
    "    list_more_thrshld = [el >= thrshld for el, thrshld in zip([blob, flair, vader], \n",
    "                                                              [blob_thrshld, flair_thrshld, vader_thrshld])]\n",
    "    list_less_thrshld = [el <= -thrshld for el, thrshld in zip([blob, flair, vader], \n",
    "                                                               [blob_thrshld, flair_thrshld, vader_thrshld])]\n",
    "    if sum(list_more_thrshld) >= 2:\n",
    "        return 1\n",
    "    elif sum(list_less_thrshld) >= 2:\n",
    "        return -1\n",
    "    else:\n",
    "        return 0"
   ]
  },
  {
   "cell_type": "code",
   "execution_count": 20,
   "metadata": {},
   "outputs": [
    {
     "data": {
      "text/plain": [
       "<AxesSubplot:>"
      ]
     },
     "execution_count": 20,
     "metadata": {},
     "output_type": "execute_result"
    },
    {
     "data": {
      "image/png": "[encoded data removed]",
      "text/plain": [
       "<Figure size 432x288 with 1 Axes>"
      ]
     },
     "metadata": {
      "needs_background": "light"
     },
     "output_type": "display_data"
    }
   ],
   "source": [
    "grades = []\n",
    "\n",
    "for i, row in df_with_comments.iterrows():\n",
    "    if row.count_bad == 0:  # if there are no suspicious words in the comment, we mark it separately\n",
    "        grades.append(0.5)\n",
    "        continue\n",
    "    \n",
    "    blob = row.TextBlobPolarity\n",
    "    flair = row.FlairPolarity\n",
    "    vader = row.VaderPolarity\n",
    "    \n",
    "    common_decision = get_score_from_three(blob, flair, vader)\n",
    "    grades.append(common_decision)\n",
    "    \n",
    "df_with_comments['comment_grades'] = grades\n",
    "df_with_comments.comment_grades.hist()"
   ]
  },
  {
   "cell_type": "code",
   "execution_count": 22,
   "metadata": {},
   "outputs": [],
   "source": [
    "bad_read_comments = df_with_comments[df_with_comments.comment_grades == -1]\n",
    "vague_read_comments = df_with_comments[df_with_comments.comment_grades == 0]\n",
    "good_read_comments = df_with_comments[df_with_comments.comment_grades == 1]\n",
    "no_triggers_comments = df_with_comments[df_with_comments.comment_grades == 0.5]"
   ]
  },
  {
   "cell_type": "code",
   "execution_count": 25,
   "metadata": {},
   "outputs": [
    {
     "name": "stdout",
     "output_type": "stream",
     "text": [
      "8877\n",
      "1984\n",
      "11866\n"
     ]
    }
   ],
   "source": [
    "print(vague_read_comments.shape[0])\n",
    "print(good_read_comments.shape[0])\n",
    "print(no_triggers_comments.shape[0])"
   ]
  },
  {
   "cell_type": "code",
   "execution_count": 23,
   "metadata": {},
   "outputs": [
    {
     "name": "stdout",
     "output_type": "stream",
     "text": [
      "1178\n"
     ]
    },
    {
     "data": {
      "text/plain": [
       "1096"
      ]
     },
     "execution_count": 23,
     "metadata": {},
     "output_type": "execute_result"
    }
   ],
   "source": [
    "print(bad_read_comments.shape[0])\n",
    "bad_read_comments_non_fixed = bad_read_comments.drop(bad_read_comments[bad_read_comments.status == 'fixed'].index)\n",
    "bad_read_comments_non_fixed.shape[0]  # delete those that were fixed (82 were deleted)"
   ]
  },
  {
   "cell_type": "code",
   "execution_count": 21,
   "metadata": {},
   "outputs": [],
   "source": [
    "df_with_comments.to_csv(f'{path}/VER2_all_comments_to_theories_with_scores.csv', index=False)"
   ]
  },
  {
   "cell_type": "markdown",
   "metadata": {},
   "source": [
    "## Get topics' division from comments' grades"
   ]
  },
  {
   "cell_type": "markdown",
   "metadata": {},
   "source": [
    "What we'll do:\n",
    "\n",
    "* topics that have >= THRESHOLD 'good' comments and no 'bad' comments: GOOD\n",
    "* vice versa: BAD \n",
    "* topics that have no trigger words in comments: GOOD\n",
    "\n",
    "As a result, many topics will end up in the 'vague' part but at least we'll be sure."
   ]
  },
  {
   "cell_type": "code",
   "execution_count": 26,
   "metadata": {},
   "outputs": [],
   "source": [
    "def count_good_and_bad_comments_per_each_topic(df):\n",
    "    bad_comments_count_for_topics = dict()\n",
    "    good_comments_count_for_topics = dict()\n",
    "\n",
    "    for i, row in df.iterrows():\n",
    "        status = row['status']\n",
    "        comment_grade = row['comment_grades']\n",
    "        topic_id = row['topic_id']\n",
    "\n",
    "        # add the bad comments count\n",
    "        if topic_id in bad_comments_count_for_topics:\n",
    "            if comment_grade == -1 and status != 'fixed':\n",
    "                bad_comments_count_for_topics[topic_id] += 1\n",
    "            else:\n",
    "                pass  # topic is in the dict but this comment is not bad so we don't change the count\n",
    "\n",
    "        else:\n",
    "            if comment_grade == -1 and status != 'fixed':\n",
    "                bad_comments_count_for_topics[topic_id] = 1  # this is the first comment for topic and it's bad\n",
    "            else:\n",
    "                bad_comments_count_for_topics[topic_id] = 0  # this is the first comment for topic and it's not bad\n",
    "\n",
    "        # now add the good comments count\n",
    "        if topic_id in good_comments_count_for_topics:\n",
    "            if comment_grade == 1:\n",
    "                good_comments_count_for_topics[topic_id] += 1\n",
    "            else:\n",
    "                pass \n",
    "        else:\n",
    "            if comment_grade == 1:\n",
    "                good_comments_count_for_topics[topic_id] = 1  \n",
    "            else:\n",
    "                good_comments_count_for_topics[topic_id] = 0 \n",
    "                \n",
    "    return bad_comments_count_for_topics, good_comments_count_for_topics"
   ]
  },
  {
   "cell_type": "code",
   "execution_count": 27,
   "metadata": {},
   "outputs": [],
   "source": [
    "bad_comments_count_for_topics, good_comments_count_for_topics = count_good_and_bad_comments_per_each_topic(df_with_comments)"
   ]
  },
  {
   "cell_type": "code",
   "execution_count": 28,
   "metadata": {},
   "outputs": [],
   "source": [
    "def divide_into_good_vague_bad(bad_comments_count_for_topics, good_comments_count_for_topics, threshold):\n",
    "    final_good_topics = []\n",
    "    final_bad_topics = []\n",
    "    final_vague_topics = []\n",
    "\n",
    "    for topic_id in bad_comments_count_for_topics:\n",
    "        bad_num = bad_comments_count_for_topics[topic_id]\n",
    "        good_num = good_comments_count_for_topics[topic_id]\n",
    "\n",
    "        if bad_num >= threshold and good_num == 0:\n",
    "            final_bad_topics.append(topic_id)\n",
    "        elif good_num >= threshold and bad_num == 0:\n",
    "            final_good_topics.append(topic_id)\n",
    "        else:\n",
    "            final_vague_topics.append(topic_id)\n",
    "            \n",
    "    return final_good_topics, final_vague_topics, final_bad_topics"
   ]
  },
  {
   "cell_type": "code",
   "execution_count": 29,
   "metadata": {},
   "outputs": [],
   "source": [
    "final_good_topics, final_vague_topics, final_bad_topics = divide_into_good_vague_bad(bad_comments_count_for_topics, \n",
    "                                                                                     good_comments_count_for_topics, \n",
    "                                                                                     threshold=2)"
   ]
  },
  {
   "cell_type": "code",
   "execution_count": 30,
   "metadata": {},
   "outputs": [
    {
     "name": "stdout",
     "output_type": "stream",
     "text": [
      "good dataset 105\n",
      "bad dataset 62\n",
      "vague dataset 953\n"
     ]
    }
   ],
   "source": [
    "print('good dataset', len(final_good_topics))\n",
    "print('bad dataset', len(final_bad_topics))\n",
    "print('vague dataset', len(final_vague_topics))"
   ]
  },
  {
   "cell_type": "code",
   "execution_count": 31,
   "metadata": {},
   "outputs": [],
   "source": [
    "final_good_topics, final_vague_topics, final_bad_topics = divide_into_good_vague_bad(bad_comments_count_for_topics, \n",
    "                                                                                     good_comments_count_for_topics, \n",
    "                                                                                     threshold=1)"
   ]
  },
  {
   "cell_type": "code",
   "execution_count": 32,
   "metadata": {},
   "outputs": [
    {
     "name": "stdout",
     "output_type": "stream",
     "text": [
      "good dataset 261\n",
      "bad dataset 153\n",
      "vague dataset 706\n"
     ]
    }
   ],
   "source": [
    "print('good dataset', len(final_good_topics))\n",
    "print('bad dataset', len(final_bad_topics))\n",
    "print('vague dataset', len(final_vague_topics))"
   ]
  },
  {
   "cell_type": "markdown",
   "metadata": {},
   "source": [
    "## Check the division of the topics with high likes and extend the corpus"
   ]
  },
  {
   "cell_type": "code",
   "execution_count": 38,
   "metadata": {},
   "outputs": [],
   "source": [
    "import pickle"
   ]
  },
  {
   "cell_type": "code",
   "execution_count": 33,
   "metadata": {},
   "outputs": [],
   "source": [
    "file = '/home/anna/Documents/Diploma/topics_with_statistics/topics_3_months_with_statistics_and_scores.csv'"
   ]
  },
  {
   "cell_type": "code",
   "execution_count": 34,
   "metadata": {},
   "outputs": [],
   "source": [
    "topic_statistics = pd.read_csv(file)"
   ]
  },
  {
   "cell_type": "code",
   "execution_count": 35,
   "metadata": {},
   "outputs": [
    {
     "data": {
      "text/plain": [
       "591"
      ]
     },
     "execution_count": 35,
     "metadata": {},
     "output_type": "execute_result"
    }
   ],
   "source": [
    "# df with topcis where we can trust likes (with >20 evaluations)\n",
    "more_likes = topic_statistics[topic_statistics.last_3_month_likes_count > 20]\n",
    "more_likes.shape[0]"
   ]
  },
  {
   "cell_type": "code",
   "execution_count": 36,
   "metadata": {},
   "outputs": [],
   "source": [
    "# df with topics with very high likes\n",
    "very_good_topics = more_likes[more_likes.last_3_month_avg_like > 1.85]"
   ]
  },
  {
   "cell_type": "code",
   "execution_count": 37,
   "metadata": {},
   "outputs": [],
   "source": [
    "# a list of steps from the dataframe\n",
    "good_like_steps = [row['step_id'] for i, row in very_good_topics.iterrows()]"
   ]
  },
  {
   "cell_type": "code",
   "execution_count": 39,
   "metadata": {},
   "outputs": [],
   "source": [
    "step_id_topic_id_mapping = pickle.load(open('step_id_topic_id_mapping.pkl', 'br'))"
   ]
  },
  {
   "cell_type": "code",
   "execution_count": 40,
   "metadata": {},
   "outputs": [],
   "source": [
    "# a list of the corresponding topics from the dataframe\n",
    "good_like_topics = set([step_id_topic_id_mapping[step_id] for step_id in good_like_steps])"
   ]
  },
  {
   "cell_type": "code",
   "execution_count": 42,
   "metadata": {},
   "outputs": [
    {
     "name": "stdout",
     "output_type": "stream",
     "text": [
      "17\n"
     ]
    }
   ],
   "source": [
    "intersected_good_like_bad_comments = good_like_topics.intersection(final_bad_topics)\n",
    "print(len(intersected_good_like_bad_comments)) \n",
    "# 17 topics with the very high like ended up in the 'bad' topics list!"
   ]
  },
  {
   "cell_type": "code",
   "execution_count": 43,
   "metadata": {},
   "outputs": [
    {
     "data": {
      "text/plain": [
       "{429.0,\n",
       " 431.0,\n",
       " 460.0,\n",
       " 511.0,\n",
       " 530.0,\n",
       " 555.0,\n",
       " 662.0,\n",
       " 686.0,\n",
       " 706.0,\n",
       " 853.0,\n",
       " 949.0,\n",
       " 998.0,\n",
       " 1071.0,\n",
       " 1199.0,\n",
       " 1342.0,\n",
       " 1600.0,\n",
       " 1849.0}"
      ]
     },
     "execution_count": 43,
     "metadata": {},
     "output_type": "execute_result"
    }
   ],
   "source": [
    "intersected_good_like_bad_comments  # 10 of them were in the previous VER1"
   ]
  },
  {
   "cell_type": "code",
   "execution_count": 44,
   "metadata": {},
   "outputs": [],
   "source": [
    "topic_id_step_id_mapping = pickle.load(open('topic_id_step_id_mapping.pkl', 'br'))"
   ]
  },
  {
   "cell_type": "code",
   "execution_count": 46,
   "metadata": {},
   "outputs": [],
   "source": [
    "step_ids = [topic_id_step_id_mapping[topic_id] for topic_id in intersected_good_like_bad_comments]"
   ]
  },
  {
   "cell_type": "code",
   "execution_count": 48,
   "metadata": {},
   "outputs": [],
   "source": [
    "# delete from 'bad' those that received good like\n",
    "final_bad_topics = set(final_bad_topics) - intersected_good_like_bad_comments\n",
    "\n",
    "# add to 'good' those that received good like\n",
    "expanded_good_topics = good_like_topics.union(final_good_topics)"
   ]
  },
  {
   "cell_type": "code",
   "execution_count": 49,
   "metadata": {},
   "outputs": [
    {
     "name": "stdout",
     "output_type": "stream",
     "text": [
      "136 351\n"
     ]
    }
   ],
   "source": [
    "print(len(final_bad_topics), len(expanded_good_topics))  # VER1: 132 335"
   ]
  },
  {
   "cell_type": "code",
   "execution_count": 50,
   "metadata": {},
   "outputs": [],
   "source": [
    "df_with_features = pd.DataFrame({'topic_id': list([int(el) for el in expanded_good_topics]) +\\\n",
    "                                 list([int(el) for el in final_bad_topics]), \n",
    "                                'target': [0] * len(expanded_good_topics) + [1] * len(final_bad_topics)})"
   ]
  },
  {
   "cell_type": "code",
   "execution_count": 52,
   "metadata": {},
   "outputs": [],
   "source": [
    "path = './new_cleaned/train_corpus/target_features'\n",
    "df_with_features.to_csv(f'{path}/topic_ids_with_target_features_VER2.csv', index=False)"
   ]
  },
  {
   "cell_type": "code",
   "execution_count": null,
   "metadata": {},
   "outputs": [],
   "source": []
  }
 ],
 "metadata": {
  "kernelspec": {
   "display_name": "Python 3",
   "language": "python",
   "name": "python3"
  },
  "language_info": {
   "codemirror_mode": {
    "name": "ipython",
    "version": 3
   },
   "file_extension": ".py",
   "mimetype": "text/x-python",
   "name": "python",
   "nbconvert_exporter": "python",
   "pygments_lexer": "ipython3",
   "version": "3.6.9"
  }
 },
 "nbformat": 4,
 "nbformat_minor": 4
}
