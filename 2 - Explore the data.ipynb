{
 "cells": [
  {
   "cell_type": "markdown",
   "metadata": {},
   "source": [
    "## Open and look at the data"
   ]
  },
  {
   "cell_type": "code",
   "execution_count": 1,
   "metadata": {},
   "outputs": [],
   "source": [
    "import pandas as pd"
   ]
  },
  {
   "cell_type": "code",
   "execution_count": 2,
   "metadata": {},
   "outputs": [],
   "source": [
    "initial_dataset = '/home/anna/Documents/Diploma/topics_with_statistics/AN-1090-steps-stats-with-texts-for-Readability (bigger statistics).csv'"
   ]
  },
  {
   "cell_type": "code",
   "execution_count": 3,
   "metadata": {},
   "outputs": [],
   "source": [
    "df_all = pd.read_csv(initial_dataset)"
   ]
  },
  {
   "cell_type": "code",
   "execution_count": 4,
   "metadata": {},
   "outputs": [
    {
     "data": {
      "text/html": [
       "<div>\n",
       "<style scoped>\n",
       "    .dataframe tbody tr th:only-of-type {\n",
       "        vertical-align: middle;\n",
       "    }\n",
       "\n",
       "    .dataframe tbody tr th {\n",
       "        vertical-align: top;\n",
       "    }\n",
       "\n",
       "    .dataframe thead th {\n",
       "        text-align: right;\n",
       "    }\n",
       "</style>\n",
       "<table border=\"1\" class=\"dataframe\">\n",
       "  <thead>\n",
       "    <tr style=\"text-align: right;\">\n",
       "      <th></th>\n",
       "      <th>step_id</th>\n",
       "      <th>is_theory</th>\n",
       "      <th>last_3_month_completion_rate</th>\n",
       "      <th>last_3_month_avg_like</th>\n",
       "      <th>last_3_month_completed_step_users_count</th>\n",
       "      <th>last_3_month_likes_count</th>\n",
       "      <th>last_year_completion_rate</th>\n",
       "      <th>last_year_avg_like</th>\n",
       "      <th>last_year_completed_step_users_count</th>\n",
       "      <th>last_year_likes_count</th>\n",
       "      <th>seconds_to_complete</th>\n",
       "      <th>last_3_month_topic_completion_rate</th>\n",
       "      <th>last_3_month_completed_topic_users_count</th>\n",
       "      <th>last_year_topic_completion_rate</th>\n",
       "      <th>last_year_completed_topic_users_count</th>\n",
       "      <th>text</th>\n",
       "      <th>back_to_theory_times_per_user_session_avg_last_3_month</th>\n",
       "      <th>back_to_theory_users_%_last_3_month</th>\n",
       "      <th>back_to_theory_times_per_user_session_avg_last_year</th>\n",
       "      <th>back_to_theory_users_%_last_year</th>\n",
       "    </tr>\n",
       "  </thead>\n",
       "  <tbody>\n",
       "    <tr>\n",
       "      <th>0</th>\n",
       "      <td>4660</td>\n",
       "      <td>0</td>\n",
       "      <td>0.95</td>\n",
       "      <td>1.59</td>\n",
       "      <td>494.0</td>\n",
       "      <td>78.0</td>\n",
       "      <td>0.96</td>\n",
       "      <td>1.51</td>\n",
       "      <td>1394.0</td>\n",
       "      <td>180.0</td>\n",
       "      <td>71.11</td>\n",
       "      <td>NaN</td>\n",
       "      <td>NaN</td>\n",
       "      <td>NaN</td>\n",
       "      <td>NaN</td>\n",
       "      <td>\"&lt;p&gt;Select correct code snippets with loops.&lt;/...</td>\n",
       "      <td>NaN</td>\n",
       "      <td>NaN</td>\n",
       "      <td>NaN</td>\n",
       "      <td>NaN</td>\n",
       "    </tr>\n",
       "    <tr>\n",
       "      <th>1</th>\n",
       "      <td>13289</td>\n",
       "      <td>0</td>\n",
       "      <td>0.94</td>\n",
       "      <td>1.64</td>\n",
       "      <td>148.0</td>\n",
       "      <td>11.0</td>\n",
       "      <td>0.95</td>\n",
       "      <td>1.87</td>\n",
       "      <td>629.0</td>\n",
       "      <td>47.0</td>\n",
       "      <td>32.23</td>\n",
       "      <td>NaN</td>\n",
       "      <td>NaN</td>\n",
       "      <td>NaN</td>\n",
       "      <td>NaN</td>\n",
       "      <td>\"&lt;p&gt;&lt;p&gt;Complete the &lt;code class=\\\"language-jav...</td>\n",
       "      <td>NaN</td>\n",
       "      <td>NaN</td>\n",
       "      <td>NaN</td>\n",
       "      <td>NaN</td>\n",
       "    </tr>\n",
       "    <tr>\n",
       "      <th>2</th>\n",
       "      <td>13147</td>\n",
       "      <td>0</td>\n",
       "      <td>0.95</td>\n",
       "      <td>2.00</td>\n",
       "      <td>21.0</td>\n",
       "      <td>4.0</td>\n",
       "      <td>0.93</td>\n",
       "      <td>1.41</td>\n",
       "      <td>116.0</td>\n",
       "      <td>17.0</td>\n",
       "      <td>37.22</td>\n",
       "      <td>NaN</td>\n",
       "      <td>NaN</td>\n",
       "      <td>NaN</td>\n",
       "      <td>NaN</td>\n",
       "      <td>\"&lt;p&gt;&lt;a target=\\\"_blank\\\" href=\\\"https://www.dr...</td>\n",
       "      <td>NaN</td>\n",
       "      <td>NaN</td>\n",
       "      <td>NaN</td>\n",
       "      <td>NaN</td>\n",
       "    </tr>\n",
       "    <tr>\n",
       "      <th>3</th>\n",
       "      <td>5090</td>\n",
       "      <td>0</td>\n",
       "      <td>1.00</td>\n",
       "      <td>1.81</td>\n",
       "      <td>416.0</td>\n",
       "      <td>32.0</td>\n",
       "      <td>0.99</td>\n",
       "      <td>1.62</td>\n",
       "      <td>1569.0</td>\n",
       "      <td>87.0</td>\n",
       "      <td>28.19</td>\n",
       "      <td>NaN</td>\n",
       "      <td>NaN</td>\n",
       "      <td>NaN</td>\n",
       "      <td>NaN</td>\n",
       "      <td>\"&lt;p&gt;If you rely on some dependency only during...</td>\n",
       "      <td>NaN</td>\n",
       "      <td>NaN</td>\n",
       "      <td>NaN</td>\n",
       "      <td>NaN</td>\n",
       "    </tr>\n",
       "    <tr>\n",
       "      <th>4</th>\n",
       "      <td>12941</td>\n",
       "      <td>0</td>\n",
       "      <td>0.97</td>\n",
       "      <td>1.60</td>\n",
       "      <td>30.0</td>\n",
       "      <td>5.0</td>\n",
       "      <td>0.89</td>\n",
       "      <td>1.24</td>\n",
       "      <td>332.0</td>\n",
       "      <td>38.0</td>\n",
       "      <td>66.20</td>\n",
       "      <td>NaN</td>\n",
       "      <td>NaN</td>\n",
       "      <td>NaN</td>\n",
       "      <td>NaN</td>\n",
       "      <td>\"&lt;p&gt;What is the term for accessing a database ...</td>\n",
       "      <td>NaN</td>\n",
       "      <td>NaN</td>\n",
       "      <td>NaN</td>\n",
       "      <td>NaN</td>\n",
       "    </tr>\n",
       "  </tbody>\n",
       "</table>\n",
       "</div>"
      ],
      "text/plain": [
       "   step_id  is_theory  last_3_month_completion_rate  last_3_month_avg_like  \\\n",
       "0     4660          0                          0.95                   1.59   \n",
       "1    13289          0                          0.94                   1.64   \n",
       "2    13147          0                          0.95                   2.00   \n",
       "3     5090          0                          1.00                   1.81   \n",
       "4    12941          0                          0.97                   1.60   \n",
       "\n",
       "   last_3_month_completed_step_users_count  last_3_month_likes_count  \\\n",
       "0                                    494.0                      78.0   \n",
       "1                                    148.0                      11.0   \n",
       "2                                     21.0                       4.0   \n",
       "3                                    416.0                      32.0   \n",
       "4                                     30.0                       5.0   \n",
       "\n",
       "   last_year_completion_rate  last_year_avg_like  \\\n",
       "0                       0.96                1.51   \n",
       "1                       0.95                1.87   \n",
       "2                       0.93                1.41   \n",
       "3                       0.99                1.62   \n",
       "4                       0.89                1.24   \n",
       "\n",
       "   last_year_completed_step_users_count  last_year_likes_count  \\\n",
       "0                                1394.0                  180.0   \n",
       "1                                 629.0                   47.0   \n",
       "2                                 116.0                   17.0   \n",
       "3                                1569.0                   87.0   \n",
       "4                                 332.0                   38.0   \n",
       "\n",
       "   seconds_to_complete  last_3_month_topic_completion_rate  \\\n",
       "0                71.11                                 NaN   \n",
       "1                32.23                                 NaN   \n",
       "2                37.22                                 NaN   \n",
       "3                28.19                                 NaN   \n",
       "4                66.20                                 NaN   \n",
       "\n",
       "   last_3_month_completed_topic_users_count  last_year_topic_completion_rate  \\\n",
       "0                                       NaN                              NaN   \n",
       "1                                       NaN                              NaN   \n",
       "2                                       NaN                              NaN   \n",
       "3                                       NaN                              NaN   \n",
       "4                                       NaN                              NaN   \n",
       "\n",
       "   last_year_completed_topic_users_count  \\\n",
       "0                                    NaN   \n",
       "1                                    NaN   \n",
       "2                                    NaN   \n",
       "3                                    NaN   \n",
       "4                                    NaN   \n",
       "\n",
       "                                                text  \\\n",
       "0  \"<p>Select correct code snippets with loops.</...   \n",
       "1  \"<p><p>Complete the <code class=\\\"language-jav...   \n",
       "2  \"<p><a target=\\\"_blank\\\" href=\\\"https://www.dr...   \n",
       "3  \"<p>If you rely on some dependency only during...   \n",
       "4  \"<p>What is the term for accessing a database ...   \n",
       "\n",
       "   back_to_theory_times_per_user_session_avg_last_3_month  \\\n",
       "0                                                NaN        \n",
       "1                                                NaN        \n",
       "2                                                NaN        \n",
       "3                                                NaN        \n",
       "4                                                NaN        \n",
       "\n",
       "   back_to_theory_users_%_last_3_month  \\\n",
       "0                                  NaN   \n",
       "1                                  NaN   \n",
       "2                                  NaN   \n",
       "3                                  NaN   \n",
       "4                                  NaN   \n",
       "\n",
       "   back_to_theory_times_per_user_session_avg_last_year  \\\n",
       "0                                                NaN     \n",
       "1                                                NaN     \n",
       "2                                                NaN     \n",
       "3                                                NaN     \n",
       "4                                                NaN     \n",
       "\n",
       "   back_to_theory_users_%_last_year  \n",
       "0                               NaN  \n",
       "1                               NaN  \n",
       "2                               NaN  \n",
       "3                               NaN  \n",
       "4                               NaN  "
      ]
     },
     "execution_count": 4,
     "metadata": {},
     "output_type": "execute_result"
    }
   ],
   "source": [
    "df_all.head()"
   ]
  },
  {
   "cell_type": "code",
   "execution_count": 5,
   "metadata": {},
   "outputs": [],
   "source": [
    "topics_dataset = '/home/anna/Documents/Diploma/code/new_cleaned/cleaned_topics_all.csv'"
   ]
  },
  {
   "cell_type": "code",
   "execution_count": 6,
   "metadata": {},
   "outputs": [],
   "source": [
    "df_topics = pd.read_csv(topics_dataset)"
   ]
  },
  {
   "cell_type": "code",
   "execution_count": 7,
   "metadata": {},
   "outputs": [
    {
     "data": {
      "text/html": [
       "<div>\n",
       "<style scoped>\n",
       "    .dataframe tbody tr th:only-of-type {\n",
       "        vertical-align: middle;\n",
       "    }\n",
       "\n",
       "    .dataframe tbody tr th {\n",
       "        vertical-align: top;\n",
       "    }\n",
       "\n",
       "    .dataframe thead th {\n",
       "        text-align: right;\n",
       "    }\n",
       "</style>\n",
       "<table border=\"1\" class=\"dataframe\">\n",
       "  <thead>\n",
       "    <tr style=\"text-align: right;\">\n",
       "      <th></th>\n",
       "      <th>step_id</th>\n",
       "      <th>is_theory</th>\n",
       "      <th>text</th>\n",
       "      <th>seconds_to_complete</th>\n",
       "      <th>last_3_month_completion_rate</th>\n",
       "      <th>last_3_month_completed_step_users_count</th>\n",
       "      <th>last_3_month_avg_like</th>\n",
       "      <th>last_3_month_likes_count</th>\n",
       "      <th>last_3_month_topic_completion_rate</th>\n",
       "      <th>last_3_month_completed_topic_users_count</th>\n",
       "      <th>back_to_theory_times_per_user_session_avg_last_3_month</th>\n",
       "      <th>back_to_theory_users_%_last_3_month</th>\n",
       "      <th>cleaned_texts</th>\n",
       "      <th>num_headings</th>\n",
       "      <th>symbols_in_snippets</th>\n",
       "    </tr>\n",
       "  </thead>\n",
       "  <tbody>\n",
       "    <tr>\n",
       "      <th>0</th>\n",
       "      <td>12357</td>\n",
       "      <td>1</td>\n",
       "      <td>\"&lt;h5 id=\\\"introduction\\\"&gt; Introduction&lt;/h5&gt;\\n\\...</td>\n",
       "      <td>603.45</td>\n",
       "      <td>0.56</td>\n",
       "      <td>40.0</td>\n",
       "      <td>2.00</td>\n",
       "      <td>10.0</td>\n",
       "      <td>0.90</td>\n",
       "      <td>35.0</td>\n",
       "      <td>1.43</td>\n",
       "      <td>67.21</td>\n",
       "      <td>\" *heading* So far you have learned quite a lo...</td>\n",
       "      <td>6</td>\n",
       "      <td>790</td>\n",
       "    </tr>\n",
       "    <tr>\n",
       "      <th>1</th>\n",
       "      <td>12691</td>\n",
       "      <td>1</td>\n",
       "      <td>\"&lt;p&gt;JavaScript was originally developed as a l...</td>\n",
       "      <td>253.21</td>\n",
       "      <td>0.87</td>\n",
       "      <td>884.0</td>\n",
       "      <td>1.72</td>\n",
       "      <td>79.0</td>\n",
       "      <td>0.96</td>\n",
       "      <td>844.0</td>\n",
       "      <td>0.34</td>\n",
       "      <td>24.43</td>\n",
       "      <td>\"JavaScript was originally developed as a lang...</td>\n",
       "      <td>5</td>\n",
       "      <td>35</td>\n",
       "    </tr>\n",
       "    <tr>\n",
       "      <th>2</th>\n",
       "      <td>8112</td>\n",
       "      <td>1</td>\n",
       "      <td>\"&lt;p&gt;We've already learned what annotations are...</td>\n",
       "      <td>486.94</td>\n",
       "      <td>0.45</td>\n",
       "      <td>50.0</td>\n",
       "      <td>1.57</td>\n",
       "      <td>7.0</td>\n",
       "      <td>0.89</td>\n",
       "      <td>49.0</td>\n",
       "      <td>1.00</td>\n",
       "      <td>69.41</td>\n",
       "      <td>\"We've already learned what annotations are an...</td>\n",
       "      <td>3</td>\n",
       "      <td>1506</td>\n",
       "    </tr>\n",
       "    <tr>\n",
       "      <th>3</th>\n",
       "      <td>7892</td>\n",
       "      <td>1</td>\n",
       "      <td>\"&lt;h5&gt;Introduction&lt;/h5&gt;\\n\\n&lt;p&gt;You often hear pe...</td>\n",
       "      <td>542.73</td>\n",
       "      <td>0.72</td>\n",
       "      <td>60.0</td>\n",
       "      <td>2.00</td>\n",
       "      <td>5.0</td>\n",
       "      <td>0.91</td>\n",
       "      <td>58.0</td>\n",
       "      <td>0.33</td>\n",
       "      <td>26.39</td>\n",
       "      <td>\" *heading* You often hear people speak about ...</td>\n",
       "      <td>5</td>\n",
       "      <td>0</td>\n",
       "    </tr>\n",
       "    <tr>\n",
       "      <th>4</th>\n",
       "      <td>15809</td>\n",
       "      <td>1</td>\n",
       "      <td>\"&lt;h5&gt;Introduction&lt;/h5&gt;\\n\\n&lt;p&gt;When you have alr...</td>\n",
       "      <td>556.76</td>\n",
       "      <td>0.43</td>\n",
       "      <td>43.0</td>\n",
       "      <td>1.40</td>\n",
       "      <td>10.0</td>\n",
       "      <td>0.91</td>\n",
       "      <td>53.0</td>\n",
       "      <td>0.93</td>\n",
       "      <td>50.88</td>\n",
       "      <td>\" *heading* When you have already learned the ...</td>\n",
       "      <td>5</td>\n",
       "      <td>409</td>\n",
       "    </tr>\n",
       "  </tbody>\n",
       "</table>\n",
       "</div>"
      ],
      "text/plain": [
       "   step_id  is_theory                                               text  \\\n",
       "0    12357          1  \"<h5 id=\\\"introduction\\\"> Introduction</h5>\\n\\...   \n",
       "1    12691          1  \"<p>JavaScript was originally developed as a l...   \n",
       "2     8112          1  \"<p>We've already learned what annotations are...   \n",
       "3     7892          1  \"<h5>Introduction</h5>\\n\\n<p>You often hear pe...   \n",
       "4    15809          1  \"<h5>Introduction</h5>\\n\\n<p>When you have alr...   \n",
       "\n",
       "   seconds_to_complete  last_3_month_completion_rate  \\\n",
       "0               603.45                          0.56   \n",
       "1               253.21                          0.87   \n",
       "2               486.94                          0.45   \n",
       "3               542.73                          0.72   \n",
       "4               556.76                          0.43   \n",
       "\n",
       "   last_3_month_completed_step_users_count  last_3_month_avg_like  \\\n",
       "0                                     40.0                   2.00   \n",
       "1                                    884.0                   1.72   \n",
       "2                                     50.0                   1.57   \n",
       "3                                     60.0                   2.00   \n",
       "4                                     43.0                   1.40   \n",
       "\n",
       "   last_3_month_likes_count  last_3_month_topic_completion_rate  \\\n",
       "0                      10.0                                0.90   \n",
       "1                      79.0                                0.96   \n",
       "2                       7.0                                0.89   \n",
       "3                       5.0                                0.91   \n",
       "4                      10.0                                0.91   \n",
       "\n",
       "   last_3_month_completed_topic_users_count  \\\n",
       "0                                      35.0   \n",
       "1                                     844.0   \n",
       "2                                      49.0   \n",
       "3                                      58.0   \n",
       "4                                      53.0   \n",
       "\n",
       "   back_to_theory_times_per_user_session_avg_last_3_month  \\\n",
       "0                                               1.43        \n",
       "1                                               0.34        \n",
       "2                                               1.00        \n",
       "3                                               0.33        \n",
       "4                                               0.93        \n",
       "\n",
       "   back_to_theory_users_%_last_3_month  \\\n",
       "0                                67.21   \n",
       "1                                24.43   \n",
       "2                                69.41   \n",
       "3                                26.39   \n",
       "4                                50.88   \n",
       "\n",
       "                                       cleaned_texts  num_headings  \\\n",
       "0  \" *heading* So far you have learned quite a lo...             6   \n",
       "1  \"JavaScript was originally developed as a lang...             5   \n",
       "2  \"We've already learned what annotations are an...             3   \n",
       "3  \" *heading* You often hear people speak about ...             5   \n",
       "4  \" *heading* When you have already learned the ...             5   \n",
       "\n",
       "   symbols_in_snippets  \n",
       "0                  790  \n",
       "1                   35  \n",
       "2                 1506  \n",
       "3                    0  \n",
       "4                  409  "
      ]
     },
     "execution_count": 7,
     "metadata": {},
     "output_type": "execute_result"
    }
   ],
   "source": [
    "df_topics.head()"
   ]
  },
  {
   "cell_type": "code",
   "execution_count": 8,
   "metadata": {},
   "outputs": [
    {
     "data": {
      "text/plain": [
       "(13026, 20)"
      ]
     },
     "execution_count": 8,
     "metadata": {},
     "output_type": "execute_result"
    }
   ],
   "source": [
    "df_all.shape  # both tasks and theories"
   ]
  },
  {
   "cell_type": "code",
   "execution_count": 9,
   "metadata": {},
   "outputs": [
    {
     "data": {
      "text/plain": [
       "(1318, 15)"
      ]
     },
     "execution_count": 9,
     "metadata": {},
     "output_type": "execute_result"
    }
   ],
   "source": [
    "df_topics.shape  # only theories"
   ]
  },
  {
   "cell_type": "code",
   "execution_count": 10,
   "metadata": {},
   "outputs": [
    {
     "data": {
      "text/plain": [
       "(1064, 15)"
      ]
     },
     "execution_count": 10,
     "metadata": {},
     "output_type": "execute_result"
    }
   ],
   "source": [
    "# topics wiht >20 completions\n",
    "topics_20_completions = df_topics.drop(df_topics[df_topics.last_3_month_completed_step_users_count < 20].index)\n",
    "topics_20_completions.shape"
   ]
  },
  {
   "cell_type": "code",
   "execution_count": 11,
   "metadata": {},
   "outputs": [
    {
     "data": {
      "text/plain": [
       "(611, 15)"
      ]
     },
     "execution_count": 11,
     "metadata": {},
     "output_type": "execute_result"
    }
   ],
   "source": [
    "# topics with >20 likes\n",
    "topics_20_likes = df_topics.drop(df_topics[df_topics.last_3_month_likes_count < 20].index)\n",
    "topics_20_likes.shape"
   ]
  },
  {
   "cell_type": "markdown",
   "metadata": {},
   "source": [
    "## Distributions of statistical features for topics"
   ]
  },
  {
   "cell_type": "code",
   "execution_count": 12,
   "metadata": {},
   "outputs": [],
   "source": [
    "import matplotlib.pyplot as plt"
   ]
  },
  {
   "cell_type": "code",
   "execution_count": 13,
   "metadata": {},
   "outputs": [],
   "source": [
    "import numpy as np"
   ]
  },
  {
   "cell_type": "code",
   "execution_count": 14,
   "metadata": {},
   "outputs": [
    {
     "data": {
      "text/plain": [
       "Index(['step_id', 'is_theory', 'text', 'seconds_to_complete',\n",
       "       'last_3_month_completion_rate',\n",
       "       'last_3_month_completed_step_users_count', 'last_3_month_avg_like',\n",
       "       'last_3_month_likes_count', 'last_3_month_topic_completion_rate',\n",
       "       'last_3_month_completed_topic_users_count',\n",
       "       'back_to_theory_times_per_user_session_avg_last_3_month',\n",
       "       'back_to_theory_users_%_last_3_month', 'cleaned_texts', 'num_headings',\n",
       "       'symbols_in_snippets'],\n",
       "      dtype='object')"
      ]
     },
     "execution_count": 14,
     "metadata": {},
     "output_type": "execute_result"
    }
   ],
   "source": [
    "topics_20_completions.columns"
   ]
  },
  {
   "cell_type": "code",
   "execution_count": 15,
   "metadata": {},
   "outputs": [],
   "source": [
    "plt.rcParams[\"figure.figsize\"] = (20, 3)"
   ]
  },
  {
   "cell_type": "code",
   "execution_count": 16,
   "metadata": {},
   "outputs": [],
   "source": [
    "def plot_parameter(df, column_name, ticks, bins=300):\n",
    "    plt.hist(df[column_name], bins)\n",
    "    start_range = min(0, round(min(df[column_name]), int(ticks*10)))\n",
    "    end_range = max(df[column_name])+ticks\n",
    "    plt.xticks(np.arange(start_range, end_range, ticks))\n",
    "    plt.title(column_name)\n",
    "    plt.show()"
   ]
  },
  {
   "cell_type": "code",
   "execution_count": 17,
   "metadata": {},
   "outputs": [
    {
     "data": {
      "image/png": "[encoded data removed]",
      "text/plain": [
       "<Figure size 1440x216 with 1 Axes>"
      ]
     },
     "metadata": {
      "needs_background": "light"
     },
     "output_type": "display_data"
    }
   ],
   "source": [
    "plot_parameter(topics_20_completions, 'seconds_to_complete', ticks=100, bins=300)"
   ]
  },
  {
   "cell_type": "code",
   "execution_count": 18,
   "metadata": {},
   "outputs": [
    {
     "data": {
      "image/png": "[encoded data removed]",
      "text/plain": [
       "<Figure size 1440x216 with 1 Axes>"
      ]
     },
     "metadata": {
      "needs_background": "light"
     },
     "output_type": "display_data"
    }
   ],
   "source": [
    "plot_parameter(topics_20_completions, 'last_3_month_completion_rate', ticks=0.05, bins=80)"
   ]
  },
  {
   "cell_type": "code",
   "execution_count": 19,
   "metadata": {},
   "outputs": [
    {
     "data": {
      "image/png": "[encoded data removed]",
      "text/plain": [
       "<Figure size 1440x216 with 1 Axes>"
      ]
     },
     "metadata": {
      "needs_background": "light"
     },
     "output_type": "display_data"
    }
   ],
   "source": [
    "plot_parameter(topics_20_completions, 'last_3_month_completed_step_users_count', ticks=250, bins=300)"
   ]
  },
  {
   "cell_type": "code",
   "execution_count": 20,
   "metadata": {},
   "outputs": [
    {
     "data": {
      "image/png": "[encoded data removed]",
      "text/plain": [
       "<Figure size 1440x216 with 1 Axes>"
      ]
     },
     "metadata": {
      "needs_background": "light"
     },
     "output_type": "display_data"
    }
   ],
   "source": [
    "plot_parameter(topics_20_completions, 'last_3_month_avg_like', ticks=0.1, bins=150)"
   ]
  },
  {
   "cell_type": "code",
   "execution_count": 21,
   "metadata": {},
   "outputs": [
    {
     "data": {
      "image/png": "[encoded data removed]",
      "text/plain": [
       "<Figure size 1440x216 with 1 Axes>"
      ]
     },
     "metadata": {
      "needs_background": "light"
     },
     "output_type": "display_data"
    }
   ],
   "source": [
    "plot_parameter(topics_20_completions, 'last_3_month_likes_count', ticks=20, bins=150)"
   ]
  },
  {
   "cell_type": "code",
   "execution_count": 22,
   "metadata": {},
   "outputs": [
    {
     "data": {
      "image/png": "[encoded data removed]",
      "text/plain": [
       "<Figure size 1440x216 with 1 Axes>"
      ]
     },
     "metadata": {
      "needs_background": "light"
     },
     "output_type": "display_data"
    }
   ],
   "source": [
    "# now only for topics with > 20 likes\n",
    "plot_parameter(topics_20_likes, 'last_3_month_avg_like', ticks=0.1, bins=150)"
   ]
  },
  {
   "cell_type": "code",
   "execution_count": 23,
   "metadata": {},
   "outputs": [
    {
     "data": {
      "image/png": "[encoded data removed]",
      "text/plain": [
       "<Figure size 1440x216 with 1 Axes>"
      ]
     },
     "metadata": {
      "needs_background": "light"
     },
     "output_type": "display_data"
    }
   ],
   "source": [
    "plot_parameter(topics_20_completions, 'last_3_month_topic_completion_rate', ticks=0.05, bins=50)"
   ]
  },
  {
   "cell_type": "code",
   "execution_count": 24,
   "metadata": {},
   "outputs": [
    {
     "data": {
      "image/png": "[encoded data removed]",
      "text/plain": [
       "<Figure size 1440x216 with 1 Axes>"
      ]
     },
     "metadata": {
      "needs_background": "light"
     },
     "output_type": "display_data"
    }
   ],
   "source": [
    "plot_parameter(topics_20_completions, 'last_3_month_completed_topic_users_count', ticks=250, bins=300)"
   ]
  },
  {
   "cell_type": "code",
   "execution_count": 25,
   "metadata": {},
   "outputs": [
    {
     "data": {
      "image/png": "[encoded data removed]",
      "text/plain": [
       "<Figure size 1440x216 with 1 Axes>"
      ]
     },
     "metadata": {
      "needs_background": "light"
     },
     "output_type": "display_data"
    }
   ],
   "source": [
    "plot_parameter(topics_20_completions, 'back_to_theory_times_per_user_session_avg_last_3_month', ticks=0.1, bins=200)"
   ]
  },
  {
   "cell_type": "code",
   "execution_count": 31,
   "metadata": {},
   "outputs": [
    {
     "data": {
      "image/png": "[encoded data removed]",
      "text/plain": [
       "<Figure size 1440x216 with 1 Axes>"
      ]
     },
     "metadata": {
      "needs_background": "light"
     },
     "output_type": "display_data"
    }
   ],
   "source": [
    "plot_parameter(topics_20_completions, 'back_to_theory_users_%_last_3_month', ticks=5, bins=200)"
   ]
  },
  {
   "cell_type": "code",
   "execution_count": null,
   "metadata": {},
   "outputs": [],
   "source": []
  }
 ],
 "metadata": {
  "kernelspec": {
   "display_name": "Python 3",
   "language": "python",
   "name": "python3"
  },
  "language_info": {
   "codemirror_mode": {
    "name": "ipython",
    "version": 3
   },
   "file_extension": ".py",
   "mimetype": "text/x-python",
   "name": "python",
   "nbconvert_exporter": "python",
   "pygments_lexer": "ipython3",
   "version": "3.6.9"
  }
 },
 "nbformat": 4,
 "nbformat_minor": 4
}
