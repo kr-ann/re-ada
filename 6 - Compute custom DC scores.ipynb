{
 "cells": [
  {
   "cell_type": "markdown",
   "metadata": {},
   "source": [
    "### Open all necessary files for collecting vocabularies"
   ]
  },
  {
   "cell_type": "code",
   "execution_count": 1,
   "metadata": {},
   "outputs": [],
   "source": [
    "import pickle"
   ]
  },
  {
   "cell_type": "code",
   "execution_count": 2,
   "metadata": {},
   "outputs": [],
   "source": [
    "import pandas as pd"
   ]
  },
  {
   "cell_type": "code",
   "execution_count": 3,
   "metadata": {},
   "outputs": [],
   "source": [
    "topic_statistics_file = './new_cleaned/topics_all_statistics_and_scores.csv'"
   ]
  },
  {
   "cell_type": "code",
   "execution_count": 4,
   "metadata": {},
   "outputs": [],
   "source": [
    "topic_statistics = pd.read_csv(topic_statistics_file)"
   ]
  },
  {
   "cell_type": "code",
   "execution_count": 5,
   "metadata": {},
   "outputs": [
    {
     "data": {
      "text/plain": [
       "(1318, 22)"
      ]
     },
     "execution_count": 5,
     "metadata": {},
     "output_type": "execute_result"
    }
   ],
   "source": [
    "topic_statistics.shape  # there's a threshold on the number of completions"
   ]
  },
  {
   "cell_type": "code",
   "execution_count": 6,
   "metadata": {},
   "outputs": [
    {
     "data": {
      "text/plain": [
       "Index(['step_id', 'is_theory', 'text', 'seconds_to_complete',\n",
       "       'last_3_month_completion_rate',\n",
       "       'last_3_month_completed_step_users_count', 'last_3_month_avg_like',\n",
       "       'last_3_month_likes_count', 'last_3_month_topic_completion_rate',\n",
       "       'last_3_month_completed_topic_users_count',\n",
       "       'back_to_theory_times_per_user_session_avg_last_3_month',\n",
       "       'back_to_theory_users_%_last_3_month', 'cleaned_texts', 'num_headings',\n",
       "       'symbols_in_snippets', 'num_words', 'num_sentences', 'num_syllables',\n",
       "       'norm_seconds', 'ASL', 'flesch_score', 'dale_chall_score'],\n",
       "      dtype='object')"
      ]
     },
     "execution_count": 6,
     "metadata": {},
     "output_type": "execute_result"
    }
   ],
   "source": [
    "topic_statistics.columns"
   ]
  },
  {
   "cell_type": "code",
   "execution_count": 7,
   "metadata": {},
   "outputs": [
    {
     "data": {
      "text/html": [
       "<div>\n",
       "<style scoped>\n",
       "    .dataframe tbody tr th:only-of-type {\n",
       "        vertical-align: middle;\n",
       "    }\n",
       "\n",
       "    .dataframe tbody tr th {\n",
       "        vertical-align: top;\n",
       "    }\n",
       "\n",
       "    .dataframe thead th {\n",
       "        text-align: right;\n",
       "    }\n",
       "</style>\n",
       "<table border=\"1\" class=\"dataframe\">\n",
       "  <thead>\n",
       "    <tr style=\"text-align: right;\">\n",
       "      <th></th>\n",
       "      <th>step_id</th>\n",
       "      <th>is_theory</th>\n",
       "      <th>text</th>\n",
       "      <th>seconds_to_complete</th>\n",
       "      <th>last_3_month_completion_rate</th>\n",
       "      <th>last_3_month_completed_step_users_count</th>\n",
       "      <th>last_3_month_avg_like</th>\n",
       "      <th>last_3_month_likes_count</th>\n",
       "      <th>last_3_month_topic_completion_rate</th>\n",
       "      <th>last_3_month_completed_topic_users_count</th>\n",
       "      <th>...</th>\n",
       "      <th>cleaned_texts</th>\n",
       "      <th>num_headings</th>\n",
       "      <th>symbols_in_snippets</th>\n",
       "      <th>num_words</th>\n",
       "      <th>num_sentences</th>\n",
       "      <th>num_syllables</th>\n",
       "      <th>norm_seconds</th>\n",
       "      <th>ASL</th>\n",
       "      <th>flesch_score</th>\n",
       "      <th>dale_chall_score</th>\n",
       "    </tr>\n",
       "  </thead>\n",
       "  <tbody>\n",
       "    <tr>\n",
       "      <th>0</th>\n",
       "      <td>12357</td>\n",
       "      <td>1</td>\n",
       "      <td>\"&lt;h5 id=\\\"introduction\\\"&gt; Introduction&lt;/h5&gt;\\n\\...</td>\n",
       "      <td>603.45</td>\n",
       "      <td>0.56</td>\n",
       "      <td>40.0</td>\n",
       "      <td>2.00</td>\n",
       "      <td>10.0</td>\n",
       "      <td>0.90</td>\n",
       "      <td>35.0</td>\n",
       "      <td>...</td>\n",
       "      <td>\" *heading* So far you have learned quite a lo...</td>\n",
       "      <td>6</td>\n",
       "      <td>790</td>\n",
       "      <td>618</td>\n",
       "      <td>24</td>\n",
       "      <td>995</td>\n",
       "      <td>9.764563</td>\n",
       "      <td>25.750000</td>\n",
       "      <td>44.490012</td>\n",
       "      <td>9.180577</td>\n",
       "    </tr>\n",
       "    <tr>\n",
       "      <th>1</th>\n",
       "      <td>12691</td>\n",
       "      <td>1</td>\n",
       "      <td>\"&lt;p&gt;JavaScript was originally developed as a l...</td>\n",
       "      <td>253.21</td>\n",
       "      <td>0.87</td>\n",
       "      <td>884.0</td>\n",
       "      <td>1.72</td>\n",
       "      <td>79.0</td>\n",
       "      <td>0.96</td>\n",
       "      <td>844.0</td>\n",
       "      <td>...</td>\n",
       "      <td>\"JavaScript was originally developed as a lang...</td>\n",
       "      <td>5</td>\n",
       "      <td>35</td>\n",
       "      <td>605</td>\n",
       "      <td>35</td>\n",
       "      <td>962</td>\n",
       "      <td>4.185289</td>\n",
       "      <td>17.285714</td>\n",
       "      <td>54.769008</td>\n",
       "      <td>9.896400</td>\n",
       "    </tr>\n",
       "    <tr>\n",
       "      <th>2</th>\n",
       "      <td>8112</td>\n",
       "      <td>1</td>\n",
       "      <td>\"&lt;p&gt;We've already learned what annotations are...</td>\n",
       "      <td>486.94</td>\n",
       "      <td>0.45</td>\n",
       "      <td>50.0</td>\n",
       "      <td>1.57</td>\n",
       "      <td>7.0</td>\n",
       "      <td>0.89</td>\n",
       "      <td>49.0</td>\n",
       "      <td>...</td>\n",
       "      <td>\"We've already learned what annotations are an...</td>\n",
       "      <td>3</td>\n",
       "      <td>1506</td>\n",
       "      <td>610</td>\n",
       "      <td>30</td>\n",
       "      <td>990</td>\n",
       "      <td>7.982623</td>\n",
       "      <td>20.333333</td>\n",
       "      <td>48.895027</td>\n",
       "      <td>9.097296</td>\n",
       "    </tr>\n",
       "    <tr>\n",
       "      <th>3</th>\n",
       "      <td>7892</td>\n",
       "      <td>1</td>\n",
       "      <td>\"&lt;h5&gt;Introduction&lt;/h5&gt;\\n\\n&lt;p&gt;You often hear pe...</td>\n",
       "      <td>542.73</td>\n",
       "      <td>0.72</td>\n",
       "      <td>60.0</td>\n",
       "      <td>2.00</td>\n",
       "      <td>5.0</td>\n",
       "      <td>0.91</td>\n",
       "      <td>58.0</td>\n",
       "      <td>...</td>\n",
       "      <td>\" *heading* You often hear people speak about ...</td>\n",
       "      <td>5</td>\n",
       "      <td>0</td>\n",
       "      <td>1079</td>\n",
       "      <td>51</td>\n",
       "      <td>1652</td>\n",
       "      <td>5.029935</td>\n",
       "      <td>21.156863</td>\n",
       "      <td>55.834186</td>\n",
       "      <td>9.207762</td>\n",
       "    </tr>\n",
       "    <tr>\n",
       "      <th>4</th>\n",
       "      <td>15809</td>\n",
       "      <td>1</td>\n",
       "      <td>\"&lt;h5&gt;Introduction&lt;/h5&gt;\\n\\n&lt;p&gt;When you have alr...</td>\n",
       "      <td>556.76</td>\n",
       "      <td>0.43</td>\n",
       "      <td>43.0</td>\n",
       "      <td>1.40</td>\n",
       "      <td>10.0</td>\n",
       "      <td>0.91</td>\n",
       "      <td>53.0</td>\n",
       "      <td>...</td>\n",
       "      <td>\" *heading* When you have already learned the ...</td>\n",
       "      <td>5</td>\n",
       "      <td>409</td>\n",
       "      <td>633</td>\n",
       "      <td>21</td>\n",
       "      <td>995</td>\n",
       "      <td>8.795577</td>\n",
       "      <td>30.142857</td>\n",
       "      <td>43.258957</td>\n",
       "      <td>9.721412</td>\n",
       "    </tr>\n",
       "  </tbody>\n",
       "</table>\n",
       "<p>5 rows × 22 columns</p>\n",
       "</div>"
      ],
      "text/plain": [
       "   step_id  is_theory                                               text  \\\n",
       "0    12357          1  \"<h5 id=\\\"introduction\\\"> Introduction</h5>\\n\\...   \n",
       "1    12691          1  \"<p>JavaScript was originally developed as a l...   \n",
       "2     8112          1  \"<p>We've already learned what annotations are...   \n",
       "3     7892          1  \"<h5>Introduction</h5>\\n\\n<p>You often hear pe...   \n",
       "4    15809          1  \"<h5>Introduction</h5>\\n\\n<p>When you have alr...   \n",
       "\n",
       "   seconds_to_complete  last_3_month_completion_rate  \\\n",
       "0               603.45                          0.56   \n",
       "1               253.21                          0.87   \n",
       "2               486.94                          0.45   \n",
       "3               542.73                          0.72   \n",
       "4               556.76                          0.43   \n",
       "\n",
       "   last_3_month_completed_step_users_count  last_3_month_avg_like  \\\n",
       "0                                     40.0                   2.00   \n",
       "1                                    884.0                   1.72   \n",
       "2                                     50.0                   1.57   \n",
       "3                                     60.0                   2.00   \n",
       "4                                     43.0                   1.40   \n",
       "\n",
       "   last_3_month_likes_count  last_3_month_topic_completion_rate  \\\n",
       "0                      10.0                                0.90   \n",
       "1                      79.0                                0.96   \n",
       "2                       7.0                                0.89   \n",
       "3                       5.0                                0.91   \n",
       "4                      10.0                                0.91   \n",
       "\n",
       "   last_3_month_completed_topic_users_count  ...  \\\n",
       "0                                      35.0  ...   \n",
       "1                                     844.0  ...   \n",
       "2                                      49.0  ...   \n",
       "3                                      58.0  ...   \n",
       "4                                      53.0  ...   \n",
       "\n",
       "                                       cleaned_texts  num_headings  \\\n",
       "0  \" *heading* So far you have learned quite a lo...             6   \n",
       "1  \"JavaScript was originally developed as a lang...             5   \n",
       "2  \"We've already learned what annotations are an...             3   \n",
       "3  \" *heading* You often hear people speak about ...             5   \n",
       "4  \" *heading* When you have already learned the ...             5   \n",
       "\n",
       "  symbols_in_snippets  num_words  num_sentences  num_syllables  norm_seconds  \\\n",
       "0                 790        618             24            995      9.764563   \n",
       "1                  35        605             35            962      4.185289   \n",
       "2                1506        610             30            990      7.982623   \n",
       "3                   0       1079             51           1652      5.029935   \n",
       "4                 409        633             21            995      8.795577   \n",
       "\n",
       "         ASL  flesch_score  dale_chall_score  \n",
       "0  25.750000     44.490012          9.180577  \n",
       "1  17.285714     54.769008          9.896400  \n",
       "2  20.333333     48.895027          9.097296  \n",
       "3  21.156863     55.834186          9.207762  \n",
       "4  30.142857     43.258957          9.721412  \n",
       "\n",
       "[5 rows x 22 columns]"
      ]
     },
     "execution_count": 7,
     "metadata": {},
     "output_type": "execute_result"
    }
   ],
   "source": [
    "topic_statistics.head()"
   ]
  },
  {
   "cell_type": "code",
   "execution_count": 8,
   "metadata": {},
   "outputs": [],
   "source": [
    "topic_statistics = topic_statistics[['step_id', 'cleaned_texts', 'num_words', 'ASL', 'norm_seconds']]"
   ]
  },
  {
   "cell_type": "markdown",
   "metadata": {},
   "source": [
    "### Preprocess topics' texts and get text statistics"
   ]
  },
  {
   "cell_type": "code",
   "execution_count": 9,
   "metadata": {},
   "outputs": [],
   "source": [
    "import spacy"
   ]
  },
  {
   "cell_type": "code",
   "execution_count": 10,
   "metadata": {},
   "outputs": [],
   "source": [
    "#!python3 -m spacy download en_core_web_sm"
   ]
  },
  {
   "cell_type": "code",
   "execution_count": 11,
   "metadata": {},
   "outputs": [],
   "source": [
    "en_sm_model = spacy.load(\"en_core_web_sm\")"
   ]
  },
  {
   "cell_type": "code",
   "execution_count": 12,
   "metadata": {},
   "outputs": [],
   "source": [
    "def lemmatize(text):\n",
    "    doc = en_sm_model(text)\n",
    "    lemmatized = [i.lemma_ for i in doc]\n",
    "    return lemmatized"
   ]
  },
  {
   "cell_type": "code",
   "execution_count": 13,
   "metadata": {
    "collapsed": true
   },
   "outputs": [
    {
     "name": "stdout",
     "output_type": "stream",
     "text": [
      "0\n",
      "50\n",
      "100\n",
      "150\n",
      "200\n",
      "250\n",
      "300\n",
      "350\n",
      "400\n",
      "450\n",
      "500\n",
      "550\n",
      "600\n",
      "650\n",
      "700\n",
      "750\n",
      "800\n",
      "850\n",
      "900\n",
      "950\n",
      "1000\n",
      "1050\n",
      "1100\n",
      "1150\n",
      "1200\n",
      "1250\n",
      "1300\n"
     ]
    }
   ],
   "source": [
    "lemmatized_list = []\n",
    "\n",
    "for i, row in enumerate(topic_statistics.iterrows()):\n",
    "    if i % 50 == 0:\n",
    "        print(i)\n",
    "    text = row[1].cleaned_texts\n",
    "    try:\n",
    "        lemmatized = lemmatize(text)\n",
    "    except:\n",
    "        print(i, row[1].step_id, text)\n",
    "        raise\n",
    "\n",
    "    lemmatized_list.append(' '.join(lemmatized))  # store as string because df converts a list into a string anyway"
   ]
  },
  {
   "cell_type": "code",
   "execution_count": 14,
   "metadata": {},
   "outputs": [],
   "source": [
    "topic_statistics['lemmatized_texts'] = lemmatized_list"
   ]
  },
  {
   "cell_type": "markdown",
   "metadata": {},
   "source": [
    "#### Delete punctuation signs from lemmatized texts to improve topic frequency lists"
   ]
  },
  {
   "cell_type": "code",
   "execution_count": 15,
   "metadata": {},
   "outputs": [],
   "source": [
    "import re"
   ]
  },
  {
   "cell_type": "code",
   "execution_count": 16,
   "metadata": {},
   "outputs": [],
   "source": [
    "def clean_text(string):\n",
    "    string = string.replace('\\n', '')\n",
    "    string = re.sub(r'[^\\w\\s]', '', string)\n",
    "    return string"
   ]
  },
  {
   "cell_type": "code",
   "execution_count": 17,
   "metadata": {},
   "outputs": [],
   "source": [
    "lemm_wo_punct = []\n",
    "\n",
    "for i, row in topic_statistics.iterrows():\n",
    "    cleaned_text = clean_text(row.lemmatized_texts)\n",
    "    lemm_wo_punct.append(cleaned_text)\n",
    "    \n",
    "topic_statistics['lemm_wo_punct'] = lemm_wo_punct"
   ]
  },
  {
   "cell_type": "code",
   "execution_count": 18,
   "metadata": {},
   "outputs": [
    {
     "data": {
      "text/html": [
       "<div>\n",
       "<style scoped>\n",
       "    .dataframe tbody tr th:only-of-type {\n",
       "        vertical-align: middle;\n",
       "    }\n",
       "\n",
       "    .dataframe tbody tr th {\n",
       "        vertical-align: top;\n",
       "    }\n",
       "\n",
       "    .dataframe thead th {\n",
       "        text-align: right;\n",
       "    }\n",
       "</style>\n",
       "<table border=\"1\" class=\"dataframe\">\n",
       "  <thead>\n",
       "    <tr style=\"text-align: right;\">\n",
       "      <th></th>\n",
       "      <th>step_id</th>\n",
       "      <th>cleaned_texts</th>\n",
       "      <th>num_words</th>\n",
       "      <th>ASL</th>\n",
       "      <th>norm_seconds</th>\n",
       "      <th>lemmatized_texts</th>\n",
       "      <th>lemm_wo_punct</th>\n",
       "    </tr>\n",
       "  </thead>\n",
       "  <tbody>\n",
       "    <tr>\n",
       "      <th>0</th>\n",
       "      <td>12357</td>\n",
       "      <td>\" *heading* So far you have learned quite a lo...</td>\n",
       "      <td>618</td>\n",
       "      <td>25.750000</td>\n",
       "      <td>9.764563</td>\n",
       "      <td>\" * head * so far you have learn quite a lot a...</td>\n",
       "      <td>head  so far you have learn quite a lot abou...</td>\n",
       "    </tr>\n",
       "    <tr>\n",
       "      <th>1</th>\n",
       "      <td>12691</td>\n",
       "      <td>\"JavaScript was originally developed as a lang...</td>\n",
       "      <td>605</td>\n",
       "      <td>17.285714</td>\n",
       "      <td>4.185289</td>\n",
       "      <td>\" JavaScript be originally develop as a langua...</td>\n",
       "      <td>JavaScript be originally develop as a languag...</td>\n",
       "    </tr>\n",
       "    <tr>\n",
       "      <th>2</th>\n",
       "      <td>8112</td>\n",
       "      <td>\"We've already learned what annotations are an...</td>\n",
       "      <td>610</td>\n",
       "      <td>20.333333</td>\n",
       "      <td>7.982623</td>\n",
       "      <td>\" we 've already learn what annotation be and ...</td>\n",
       "      <td>we ve already learn what annotation be and wh...</td>\n",
       "    </tr>\n",
       "    <tr>\n",
       "      <th>3</th>\n",
       "      <td>7892</td>\n",
       "      <td>\" *heading* You often hear people speak about ...</td>\n",
       "      <td>1079</td>\n",
       "      <td>21.156863</td>\n",
       "      <td>5.029935</td>\n",
       "      <td>\" * head * you often hear people speak about t...</td>\n",
       "      <td>head  you often hear people speak about the ...</td>\n",
       "    </tr>\n",
       "    <tr>\n",
       "      <th>4</th>\n",
       "      <td>15809</td>\n",
       "      <td>\" *heading* When you have already learned the ...</td>\n",
       "      <td>633</td>\n",
       "      <td>30.142857</td>\n",
       "      <td>8.795577</td>\n",
       "      <td>\" * head * when you have already learn the bas...</td>\n",
       "      <td>head  when you have already learn the basic ...</td>\n",
       "    </tr>\n",
       "  </tbody>\n",
       "</table>\n",
       "</div>"
      ],
      "text/plain": [
       "   step_id                                      cleaned_texts  num_words  \\\n",
       "0    12357  \" *heading* So far you have learned quite a lo...        618   \n",
       "1    12691  \"JavaScript was originally developed as a lang...        605   \n",
       "2     8112  \"We've already learned what annotations are an...        610   \n",
       "3     7892  \" *heading* You often hear people speak about ...       1079   \n",
       "4    15809  \" *heading* When you have already learned the ...        633   \n",
       "\n",
       "         ASL  norm_seconds                                   lemmatized_texts  \\\n",
       "0  25.750000      9.764563  \" * head * so far you have learn quite a lot a...   \n",
       "1  17.285714      4.185289  \" JavaScript be originally develop as a langua...   \n",
       "2  20.333333      7.982623  \" we 've already learn what annotation be and ...   \n",
       "3  21.156863      5.029935  \" * head * you often hear people speak about t...   \n",
       "4  30.142857      8.795577  \" * head * when you have already learn the bas...   \n",
       "\n",
       "                                       lemm_wo_punct  \n",
       "0    head  so far you have learn quite a lot abou...  \n",
       "1   JavaScript be originally develop as a languag...  \n",
       "2   we ve already learn what annotation be and wh...  \n",
       "3    head  you often hear people speak about the ...  \n",
       "4    head  when you have already learn the basic ...  "
      ]
     },
     "execution_count": 18,
     "metadata": {},
     "output_type": "execute_result"
    }
   ],
   "source": [
    "topic_statistics.head()"
   ]
  },
  {
   "cell_type": "code",
   "execution_count": 19,
   "metadata": {},
   "outputs": [],
   "source": [
    "topic_statistics.to_csv('./new_cleaned/topics_all_spacy_lemm.csv', index=False)"
   ]
  },
  {
   "cell_type": "markdown",
   "metadata": {},
   "source": [
    "### Get word frequencies and tf-idfs for each topic"
   ]
  },
  {
   "cell_type": "code",
   "execution_count": 23,
   "metadata": {},
   "outputs": [],
   "source": [
    "import pandas as pd"
   ]
  },
  {
   "cell_type": "code",
   "execution_count": 24,
   "metadata": {},
   "outputs": [],
   "source": [
    "import pickle"
   ]
  },
  {
   "cell_type": "code",
   "execution_count": 25,
   "metadata": {},
   "outputs": [],
   "source": [
    "topic_statistics = pd.read_csv('./new_cleaned/topics_all_spacy_lemm.csv')"
   ]
  },
  {
   "cell_type": "code",
   "execution_count": 26,
   "metadata": {},
   "outputs": [],
   "source": [
    "step_id_topic_id_mapping = pickle.load(open(\"step_id_topic_id_mapping.pkl\", \"rb\"))\n",
    "topic_id_step_id_mapping = pickle.load(open(\"topic_id_step_id_mapping.pkl\", \"rb\"))"
   ]
  },
  {
   "cell_type": "code",
   "execution_count": null,
   "metadata": {},
   "outputs": [],
   "source": [
    "# for each topic's text (lemmatized, w/o punct), get its frequency list"
   ]
  },
  {
   "cell_type": "code",
   "execution_count": 27,
   "metadata": {},
   "outputs": [],
   "source": [
    "from collections import Counter"
   ]
  },
  {
   "cell_type": "code",
   "execution_count": 28,
   "metadata": {},
   "outputs": [],
   "source": [
    "column_text = 'lemm_wo_punct'  # lemmatized_texts\n",
    "\n",
    "counters = dict()\n",
    "\n",
    "for i, row in enumerate(topic_statistics.iterrows()):\n",
    "    lem_text_list = row[1][column_text].split()\n",
    "    counter = Counter(lem_text_list)\n",
    "    counters[row[1].step_id] = counter\n",
    "\n",
    "pickle.dump(counters, open(\"./new_cleaned/step_id_freq_lists_wo_punct.pkl\", \"wb\" ))"
   ]
  },
  {
   "cell_type": "code",
   "execution_count": null,
   "metadata": {},
   "outputs": [],
   "source": [
    "# for all topics, get their tf-idfs for words\n",
    "# we already have term frequencies, now only need their document frequencies"
   ]
  },
  {
   "cell_type": "code",
   "execution_count": 29,
   "metadata": {},
   "outputs": [],
   "source": [
    "# for each word, get the number of docs where it occurs\n",
    "dfs = dict()\n",
    "\n",
    "for step_id in counters:\n",
    "    for word in counters[step_id]:\n",
    "        if word in dfs:\n",
    "            dfs[word] += 1\n",
    "        else:\n",
    "            dfs[word] = 1"
   ]
  },
  {
   "cell_type": "code",
   "execution_count": 30,
   "metadata": {},
   "outputs": [],
   "source": [
    "import math"
   ]
  },
  {
   "cell_type": "code",
   "execution_count": 31,
   "metadata": {},
   "outputs": [],
   "source": [
    "# for each word in a topic's counter, get its tf-idf value\n",
    "n_docs = len(step_id_topic_id_mapping)\n",
    "tf_idfs = dict()\n",
    "\n",
    "for step_id in counters:\n",
    "    topic_tf_idf_dict = dict()\n",
    "    for word in counters[step_id]:\n",
    "        tf = counters[step_id][word]\n",
    "        df = dfs[word]\n",
    "        idf = math.log((1 + n_docs)/(1 + df)) + 1\n",
    "        topic_tf_idf_dict[word] = tf * idf\n",
    "    tf_idfs[step_id] = topic_tf_idf_dict"
   ]
  },
  {
   "cell_type": "code",
   "execution_count": 27,
   "metadata": {
    "scrolled": true
   },
   "outputs": [
    {
     "data": {
      "text/plain": [
       "['annotation',\n",
       " 'the',\n",
       " 'method',\n",
       " 'be',\n",
       " 'class',\n",
       " 'reflection',\n",
       " 'override',\n",
       " 'and',\n",
       " 'deprecated',\n",
       " 'of',\n",
       " 'tostring',\n",
       " 'they',\n",
       " 'getDeclaredAnnotations',\n",
       " 'getmarkup',\n",
       " 'we',\n",
       " 'to',\n",
       " 'Field',\n",
       " 'have',\n",
       " 'field',\n",
       " 'get',\n",
       " 'runtime',\n",
       " 'Method',\n",
       " 'in',\n",
       " 'a',\n",
       " 'code',\n",
       " 'return',\n",
       " 'Class',\n",
       " 'present',\n",
       " 's',\n",
       " 'for',\n",
       " 'that',\n",
       " 'let',\n",
       " 'library',\n",
       " 'actually',\n",
       " 'not',\n",
       " 'you',\n",
       " 'object',\n",
       " 'analyze',\n",
       " 'classThe',\n",
       " 'Annotation',\n",
       " 'annotationtype',\n",
       " 'ItemClass',\n",
       " 'Deprecated',\n",
       " 'withmaxitem',\n",
       " 'Override',\n",
       " 'jdk',\n",
       " 'getdeclaredannotation',\n",
       " 'this',\n",
       " 'compile',\n",
       " 'just',\n",
       " 'there',\n",
       " 'our',\n",
       " 'hypothesis',\n",
       " 'getmethod',\n",
       " 'credibility',\n",
       " 'suggestion',\n",
       " 'useful',\n",
       " 'Constructor',\n",
       " 'tostre',\n",
       " 'unfamiliar',\n",
       " 'reproduce',\n",
       " 'test',\n",
       " 'reason',\n",
       " 'pile',\n",
       " 'array',\n",
       " 'go',\n",
       " 'use',\n",
       " 'program',\n",
       " 'intention',\n",
       " 'erase',\n",
       " 'it',\n",
       " 'no',\n",
       " 'marker',\n",
       " 'when',\n",
       " 'at',\n",
       " 'all',\n",
       " 'name',\n",
       " 'conclude',\n",
       " 'sake',\n",
       " 'Java',\n",
       " 'one',\n",
       " 'time',\n",
       " 'apply',\n",
       " 'still',\n",
       " 'through',\n",
       " 'or',\n",
       " 'follow',\n",
       " 'might',\n",
       " 'six',\n",
       " 'respective',\n",
       " 'nature',\n",
       " 'magic',\n",
       " 'absence',\n",
       " 'with',\n",
       " 'party',\n",
       " 'indeed',\n",
       " 'three',\n",
       " 'output',\n",
       " 'can',\n",
       " 'what',\n",
       " 'run',\n",
       " 'lie',\n",
       " 'now',\n",
       " 'see',\n",
       " 'look',\n",
       " 'line',\n",
       " 'remember',\n",
       " 'Spring',\n",
       " 'protect',\n",
       " 'ourselves',\n",
       " 'hence',\n",
       " 'public',\n",
       " 'above',\n",
       " 'configure',\n",
       " 'us',\n",
       " 'inherit',\n",
       " 'out',\n",
       " 'but',\n",
       " 'retrieve',\n",
       " 'huge',\n",
       " 'try',\n",
       " 'by',\n",
       " 'because',\n",
       " 'provide',\n",
       " 'find',\n",
       " 'contain',\n",
       " 'do',\n",
       " 'internal',\n",
       " 'compiler',\n",
       " 'quickly',\n",
       " 'example',\n",
       " 'if',\n",
       " 'an',\n",
       " 'as',\n",
       " 'snippet',\n",
       " 'link',\n",
       " 'focus',\n",
       " 'head',\n",
       " 'third',\n",
       " 'appear',\n",
       " 'may',\n",
       " 'manage',\n",
       " 'functionality',\n",
       " 'here',\n",
       " 'learn',\n",
       " 'expect',\n",
       " 'four',\n",
       " 'during',\n",
       " 'its',\n",
       " 'source',\n",
       " 'package',\n",
       " 'execution',\n",
       " 'correct',\n",
       " 'which',\n",
       " 'page',\n",
       " 'work',\n",
       " 'probably',\n",
       " 'though',\n",
       " 'other',\n",
       " 'indicate',\n",
       " 'available',\n",
       " 'some',\n",
       " 'itself',\n",
       " 'suppose',\n",
       " 'declare',\n",
       " 'far',\n",
       " 'property',\n",
       " 'how',\n",
       " 'multiple',\n",
       " 'word',\n",
       " 'happen',\n",
       " 'execute',\n",
       " 'something',\n",
       " 'will',\n",
       " 'print',\n",
       " 'instance',\n",
       " 'practice',\n",
       " 'why',\n",
       " 'access',\n",
       " 'lot',\n",
       " 'right',\n",
       " 'represent',\n",
       " 'next',\n",
       " 'single',\n",
       " 'while',\n",
       " 'special',\n",
       " 'include',\n",
       " 'often',\n",
       " 'check',\n",
       " 'element',\n",
       " 'since',\n",
       " 'before',\n",
       " 'note',\n",
       " 'list',\n",
       " 'already',\n",
       " 'many',\n",
       " 'most',\n",
       " 'however',\n",
       " 've',\n",
       " 'help',\n",
       " 'mean',\n",
       " 'their',\n",
       " 'another',\n",
       " 'take',\n",
       " 'these',\n",
       " 'about',\n",
       " 'call',\n",
       " 'way',\n",
       " 'any',\n",
       " 'two',\n",
       " 'first',\n",
       " 'only',\n",
       " 'more',\n",
       " 'need',\n",
       " 'from',\n",
       " 'on']"
      ]
     },
     "execution_count": 27,
     "metadata": {},
     "output_type": "execute_result"
    }
   ],
   "source": [
    "sorted(tf_idfs[8112], key=lambda r: tf_idfs[8112][r], reverse=True)"
   ]
  },
  {
   "cell_type": "code",
   "execution_count": 32,
   "metadata": {},
   "outputs": [],
   "source": [
    "pickle.dump(tf_idfs, open(\"./new_cleaned/step_id_tf_idfs_wo_punct.pkl\", \"wb\" ))"
   ]
  },
  {
   "cell_type": "markdown",
   "metadata": {},
   "source": [
    "## Automatically find the best threshold on the number of words"
   ]
  },
  {
   "cell_type": "code",
   "execution_count": null,
   "metadata": {},
   "outputs": [],
   "source": [
    "# we need to take some words from each topic, let's see what threshold is the best"
   ]
  },
  {
   "cell_type": "markdown",
   "metadata": {},
   "source": [
    "#### Functions for collecting a vocabulary based on the threshold"
   ]
  },
  {
   "cell_type": "code",
   "execution_count": 45,
   "metadata": {},
   "outputs": [],
   "source": [
    "# get a list of n most common words from a counter by step id, for one topic\n",
    "# if tf_idf = True, then take tf-idf words (the counter is a dict, not a Counter)\n",
    "def n_most_common(step_id: int, counters: dict, n, tf_idf: bool):\n",
    "    \n",
    "    try:\n",
    "        this_counter = counters[step_id]\n",
    "    except KeyError:\n",
    "        print(f'text with step id {step_id} is not in the initial table with texts, it must be new')\n",
    "        return []\n",
    "    \n",
    "    if tf_idf:\n",
    "        # results in this_counter are not sorted\n",
    "        sorted_words = sorted(this_counter, key=lambda a: this_counter[a], reverse=True)\n",
    "        result = sorted_words[:n]\n",
    "    \n",
    "    else:\n",
    "        result = [el[0] for el in this_counter.most_common(n)]\n",
    "        \n",
    "    return result\n",
    "\n",
    "\n",
    "# union of most common for a topic and all its prerequisites\n",
    "def get_n_most_freq_words(step_id, step_id_topic_id_mapping, topic_id_step_id_mapping, \n",
    "                          dict_w_topic_prerequisites, counters, n=50, tf_idf=False):\n",
    "    topic_id = step_id_topic_id_mapping[step_id]\n",
    "    all_prereq = dict_w_topic_prerequisites[topic_id]\n",
    "    \n",
    "    set_words = set()\n",
    "    set_words = set_words.union(original_DC_words)\n",
    "    \n",
    "    for t_id in all_prereq:\n",
    "        try:\n",
    "            corr_step_id = topic_id_step_id_mapping[t_id]\n",
    "        except KeyError:\n",
    "            #print(t_id, 'is not in my topic ID - step ID mapping, it must be new')\n",
    "            # 2120 2086 2090 1043 1097 2045 1422\n",
    "            continue\n",
    "        words_for_this = n_most_common(corr_step_id, counters, n, tf_idf)\n",
    "        set_words = set_words.union(words_for_this)\n",
    "        \n",
    "    return set_words"
   ]
  },
  {
   "cell_type": "markdown",
   "metadata": {},
   "source": [
    "#### Functions for getting new scores based on the vocabulary"
   ]
  },
  {
   "cell_type": "code",
   "execution_count": 41,
   "metadata": {},
   "outputs": [],
   "source": [
    "def num_difficult_words(lemm_text_list, DC_easy_words, return_num_words=False):\n",
    "    # DC_easy_words is a set of words considered easy for a topic (from its prerequisites)\n",
    "\n",
    "    diff_words_in_text = 0\n",
    "    all_words = 0\n",
    "    \n",
    "    for word in lemm_text_list:\n",
    "        all_words += 1\n",
    "        \n",
    "        if word not in DC_easy_words:\n",
    "            diff_words_in_text += 1\n",
    "        \n",
    "    if return_num_words:\n",
    "        return all_words, diff_words_in_text\n",
    "    return diff_words_in_text\n",
    "\n",
    "\n",
    "def DC_score(step_id, row, DC_easy_words, lemm_text_column, asl_column):\n",
    "    #print(row)\n",
    "    all_words, num_diff_words = num_difficult_words(row[lemm_text_column], DC_easy_words, return_num_words=True)\n",
    "\n",
    "    diff_words_percent = num_diff_words / all_words\n",
    "    raw_score = (0.1579 * diff_words_percent) + (0.0496 * row[asl_column])\n",
    "\n",
    "    if diff_words_percent > 0.05:      \n",
    "        raw_score += 3.6365\n",
    "\n",
    "    return round(raw_score, 2)    \n",
    "\n",
    "\n",
    "def get_all_DC_scores(topics_df, DC_words_dict, lemm_text_column='lemmatized_texts', asl_column='avg_sentence_length'):\n",
    "    scores = []\n",
    "    \n",
    "    for i, row in topics_df.iterrows():\n",
    "        step_id = row.step_id\n",
    "        easy_words = DC_words_dict[step_id]\n",
    "        score = DC_score(step_id, row, easy_words, lemm_text_column, asl_column)\n",
    "        scores.append(score)\n",
    "        \n",
    "    return scores"
   ]
  },
  {
   "cell_type": "markdown",
   "metadata": {},
   "source": [
    "#### Correlation functions"
   ]
  },
  {
   "cell_type": "code",
   "execution_count": 42,
   "metadata": {},
   "outputs": [],
   "source": [
    "from scipy.stats import spearmanr\n",
    "\n",
    "def correlate_two(values_list_1, values_list_2):\n",
    "    score, pvalue = spearmanr(a=values_list_1, b=values_list_2, nan_policy='raise')\n",
    "    return score, pvalue"
   ]
  },
  {
   "cell_type": "markdown",
   "metadata": {},
   "source": [
    "#### Preparation steps"
   ]
  },
  {
   "cell_type": "code",
   "execution_count": 33,
   "metadata": {},
   "outputs": [],
   "source": [
    "import pickle"
   ]
  },
  {
   "cell_type": "code",
   "execution_count": 34,
   "metadata": {},
   "outputs": [],
   "source": [
    "import pandas as pd"
   ]
  },
  {
   "cell_type": "code",
   "execution_count": 35,
   "metadata": {},
   "outputs": [],
   "source": [
    "# counter\n",
    "step_id_freq_lists = pickle.load(open(\"./new_cleaned/step_id_freq_lists_wo_punct.pkl\", \"rb\"))\n",
    "\n",
    "# tf-idfs\n",
    "step_id_tf_idfs = pickle.load(open(\"./new_cleaned/step_id_tf_idfs_wo_punct.pkl\", \"rb\"))"
   ]
  },
  {
   "cell_type": "code",
   "execution_count": 36,
   "metadata": {},
   "outputs": [],
   "source": [
    "step_id_topic_id_mapping = pickle.load(open(\"step_id_topic_id_mapping.pkl\", \"rb\"))\n",
    "topic_id_step_id_mapping = pickle.load(open(\"topic_id_step_id_mapping.pkl\", \"rb\"))"
   ]
  },
  {
   "cell_type": "code",
   "execution_count": 37,
   "metadata": {},
   "outputs": [],
   "source": [
    "dict_w_topic_prerequisites = pickle.load(open(\"topic_id_all_prereq_mapping.pkl\", \"rb\"))"
   ]
  },
  {
   "cell_type": "code",
   "execution_count": 38,
   "metadata": {},
   "outputs": [],
   "source": [
    "DC_original_list = './Daniil_readability/DC_wordlist.txt'\n",
    "with open(DC_original_list) as f:\n",
    "    original_DC_words = set(f.read().split('\\n'))"
   ]
  },
  {
   "cell_type": "code",
   "execution_count": 39,
   "metadata": {},
   "outputs": [],
   "source": [
    "topics_df = pd.read_csv('./new_cleaned/topics_all_spacy_lemm.csv') "
   ]
  },
  {
   "cell_type": "code",
   "execution_count": 40,
   "metadata": {},
   "outputs": [
    {
     "data": {
      "text/html": [
       "<div>\n",
       "<style scoped>\n",
       "    .dataframe tbody tr th:only-of-type {\n",
       "        vertical-align: middle;\n",
       "    }\n",
       "\n",
       "    .dataframe tbody tr th {\n",
       "        vertical-align: top;\n",
       "    }\n",
       "\n",
       "    .dataframe thead th {\n",
       "        text-align: right;\n",
       "    }\n",
       "</style>\n",
       "<table border=\"1\" class=\"dataframe\">\n",
       "  <thead>\n",
       "    <tr style=\"text-align: right;\">\n",
       "      <th></th>\n",
       "      <th>step_id</th>\n",
       "      <th>cleaned_texts</th>\n",
       "      <th>num_words</th>\n",
       "      <th>ASL</th>\n",
       "      <th>norm_seconds</th>\n",
       "      <th>lemmatized_texts</th>\n",
       "      <th>lemm_wo_punct</th>\n",
       "    </tr>\n",
       "  </thead>\n",
       "  <tbody>\n",
       "    <tr>\n",
       "      <th>0</th>\n",
       "      <td>12357</td>\n",
       "      <td>\" *heading* So far you have learned quite a lo...</td>\n",
       "      <td>618</td>\n",
       "      <td>25.750000</td>\n",
       "      <td>9.764563</td>\n",
       "      <td>\" * head * so far you have learn quite a lot a...</td>\n",
       "      <td>head  so far you have learn quite a lot abou...</td>\n",
       "    </tr>\n",
       "    <tr>\n",
       "      <th>1</th>\n",
       "      <td>12691</td>\n",
       "      <td>\"JavaScript was originally developed as a lang...</td>\n",
       "      <td>605</td>\n",
       "      <td>17.285714</td>\n",
       "      <td>4.185289</td>\n",
       "      <td>\" JavaScript be originally develop as a langua...</td>\n",
       "      <td>JavaScript be originally develop as a languag...</td>\n",
       "    </tr>\n",
       "    <tr>\n",
       "      <th>2</th>\n",
       "      <td>8112</td>\n",
       "      <td>\"We've already learned what annotations are an...</td>\n",
       "      <td>610</td>\n",
       "      <td>20.333333</td>\n",
       "      <td>7.982623</td>\n",
       "      <td>\" we 've already learn what annotation be and ...</td>\n",
       "      <td>we ve already learn what annotation be and wh...</td>\n",
       "    </tr>\n",
       "    <tr>\n",
       "      <th>3</th>\n",
       "      <td>7892</td>\n",
       "      <td>\" *heading* You often hear people speak about ...</td>\n",
       "      <td>1079</td>\n",
       "      <td>21.156863</td>\n",
       "      <td>5.029935</td>\n",
       "      <td>\" * head * you often hear people speak about t...</td>\n",
       "      <td>head  you often hear people speak about the ...</td>\n",
       "    </tr>\n",
       "    <tr>\n",
       "      <th>4</th>\n",
       "      <td>15809</td>\n",
       "      <td>\" *heading* When you have already learned the ...</td>\n",
       "      <td>633</td>\n",
       "      <td>30.142857</td>\n",
       "      <td>8.795577</td>\n",
       "      <td>\" * head * when you have already learn the bas...</td>\n",
       "      <td>head  when you have already learn the basic ...</td>\n",
       "    </tr>\n",
       "  </tbody>\n",
       "</table>\n",
       "</div>"
      ],
      "text/plain": [
       "   step_id                                      cleaned_texts  num_words  \\\n",
       "0    12357  \" *heading* So far you have learned quite a lo...        618   \n",
       "1    12691  \"JavaScript was originally developed as a lang...        605   \n",
       "2     8112  \"We've already learned what annotations are an...        610   \n",
       "3     7892  \" *heading* You often hear people speak about ...       1079   \n",
       "4    15809  \" *heading* When you have already learned the ...        633   \n",
       "\n",
       "         ASL  norm_seconds                                   lemmatized_texts  \\\n",
       "0  25.750000      9.764563  \" * head * so far you have learn quite a lot a...   \n",
       "1  17.285714      4.185289  \" JavaScript be originally develop as a langua...   \n",
       "2  20.333333      7.982623  \" we 've already learn what annotation be and ...   \n",
       "3  21.156863      5.029935  \" * head * you often hear people speak about t...   \n",
       "4  30.142857      8.795577  \" * head * when you have already learn the bas...   \n",
       "\n",
       "                                       lemm_wo_punct  \n",
       "0    head  so far you have learn quite a lot abou...  \n",
       "1   JavaScript be originally develop as a languag...  \n",
       "2   we ve already learn what annotation be and wh...  \n",
       "3    head  you often hear people speak about the ...  \n",
       "4    head  when you have already learn the basic ...  "
      ]
     },
     "execution_count": 40,
     "metadata": {},
     "output_type": "execute_result"
    }
   ],
   "source": [
    "topics_df.head()"
   ]
  },
  {
   "cell_type": "code",
   "execution_count": 43,
   "metadata": {},
   "outputs": [],
   "source": [
    "def get_correlation_from_beginning(N, counters, step_id_topic_id_mapping, topic_id_step_id_mapping, \n",
    "                                   dict_w_topic_prerequisites, topics_df, tfidf=False, return_DC_scores=False):\n",
    "    # 1 - collect the vocabulary with this threshold\n",
    "    print('vocabulary')\n",
    "    easy_vocab = dict()\n",
    "    \n",
    "    for i, step_id in enumerate(counters):\n",
    "        try:\n",
    "            easy_vocab[step_id] = get_n_most_freq_words(step_id, step_id_topic_id_mapping, topic_id_step_id_mapping,\n",
    "                                                         dict_w_topic_prerequisites, counters, N, tf_idf=tfidf)\n",
    "        except:\n",
    "            print(i, step_id)\n",
    "            raise\n",
    "            \n",
    "    # 2 - get scores according to the vocabulary\n",
    "    print('scores')\n",
    "    scores = get_all_DC_scores(topics_df, easy_vocab, lemm_text_column='lemm_wo_punct', asl_column='ASL')\n",
    "    norm_times = topics_df['norm_seconds'].values\n",
    "    assert len(norm_times) == len(scores)\n",
    "    \n",
    "    # 3 - correlate the scores with the normalized seconds to complete and save the results\n",
    "    print('correlation')\n",
    "    \n",
    "    score, pvalue = correlate_two(scores, norm_times)\n",
    "    \n",
    "    if return_DC_scores:\n",
    "        return score, pvalue, scores\n",
    "    \n",
    "    return score, pvalue"
   ]
  },
  {
   "cell_type": "markdown",
   "metadata": {},
   "source": [
    "#### Run threshold tuning"
   ]
  },
  {
   "cell_type": "code",
   "execution_count": 47,
   "metadata": {},
   "outputs": [],
   "source": [
    "import matplotlib.pyplot as plt"
   ]
  },
  {
   "cell_type": "code",
   "execution_count": 48,
   "metadata": {},
   "outputs": [
    {
     "name": "stdout",
     "output_type": "stream",
     "text": [
      "10\n",
      "vocabulary\n",
      "text with step id 19087 is not in the initial table with texts, it must be new\n",
      "text with step id 19087 is not in the initial table with texts, it must be new\n",
      "text with step id 19086 is not in the initial table with texts, it must be new\n",
      "text with step id 19087 is not in the initial table with texts, it must be new\n",
      "text with step id 16324 is not in the initial table with texts, it must be new\n",
      "text with step id 19087 is not in the initial table with texts, it must be new\n",
      "text with step id 19087 is not in the initial table with texts, it must be new\n",
      "scores\n",
      "correlation\n",
      "15\n",
      "vocabulary\n",
      "text with step id 19087 is not in the initial table with texts, it must be new\n",
      "text with step id 19087 is not in the initial table with texts, it must be new\n",
      "text with step id 19086 is not in the initial table with texts, it must be new\n",
      "text with step id 19087 is not in the initial table with texts, it must be new\n",
      "text with step id 16324 is not in the initial table with texts, it must be new\n",
      "text with step id 19087 is not in the initial table with texts, it must be new\n",
      "text with step id 19087 is not in the initial table with texts, it must be new\n",
      "scores\n",
      "correlation\n",
      "20\n",
      "vocabulary\n",
      "text with step id 19087 is not in the initial table with texts, it must be new\n",
      "text with step id 19087 is not in the initial table with texts, it must be new\n",
      "text with step id 19086 is not in the initial table with texts, it must be new\n",
      "text with step id 19087 is not in the initial table with texts, it must be new\n",
      "text with step id 16324 is not in the initial table with texts, it must be new\n",
      "text with step id 19087 is not in the initial table with texts, it must be new\n",
      "text with step id 19087 is not in the initial table with texts, it must be new\n",
      "scores\n",
      "correlation\n",
      "25\n",
      "vocabulary\n",
      "text with step id 19087 is not in the initial table with texts, it must be new\n",
      "text with step id 19087 is not in the initial table with texts, it must be new\n",
      "text with step id 19086 is not in the initial table with texts, it must be new\n",
      "text with step id 19087 is not in the initial table with texts, it must be new\n",
      "text with step id 16324 is not in the initial table with texts, it must be new\n",
      "text with step id 19087 is not in the initial table with texts, it must be new\n",
      "text with step id 19087 is not in the initial table with texts, it must be new\n",
      "scores\n",
      "correlation\n",
      "30\n",
      "vocabulary\n",
      "text with step id 19087 is not in the initial table with texts, it must be new\n",
      "text with step id 19087 is not in the initial table with texts, it must be new\n",
      "text with step id 19086 is not in the initial table with texts, it must be new\n",
      "text with step id 19087 is not in the initial table with texts, it must be new\n",
      "text with step id 16324 is not in the initial table with texts, it must be new\n",
      "text with step id 19087 is not in the initial table with texts, it must be new\n",
      "text with step id 19087 is not in the initial table with texts, it must be new\n",
      "scores\n",
      "correlation\n",
      "35\n",
      "vocabulary\n",
      "text with step id 19087 is not in the initial table with texts, it must be new\n",
      "text with step id 19087 is not in the initial table with texts, it must be new\n",
      "text with step id 19086 is not in the initial table with texts, it must be new\n",
      "text with step id 19087 is not in the initial table with texts, it must be new\n",
      "text with step id 16324 is not in the initial table with texts, it must be new\n",
      "text with step id 19087 is not in the initial table with texts, it must be new\n",
      "text with step id 19087 is not in the initial table with texts, it must be new\n",
      "scores\n",
      "correlation\n",
      "40\n",
      "vocabulary\n",
      "text with step id 19087 is not in the initial table with texts, it must be new\n",
      "text with step id 19087 is not in the initial table with texts, it must be new\n",
      "text with step id 19086 is not in the initial table with texts, it must be new\n",
      "text with step id 19087 is not in the initial table with texts, it must be new\n",
      "text with step id 16324 is not in the initial table with texts, it must be new\n",
      "text with step id 19087 is not in the initial table with texts, it must be new\n",
      "text with step id 19087 is not in the initial table with texts, it must be new\n",
      "scores\n",
      "correlation\n",
      "45\n",
      "vocabulary\n",
      "text with step id 19087 is not in the initial table with texts, it must be new\n",
      "text with step id 19087 is not in the initial table with texts, it must be new\n",
      "text with step id 19086 is not in the initial table with texts, it must be new\n",
      "text with step id 19087 is not in the initial table with texts, it must be new\n",
      "text with step id 16324 is not in the initial table with texts, it must be new\n",
      "text with step id 19087 is not in the initial table with texts, it must be new\n",
      "text with step id 19087 is not in the initial table with texts, it must be new\n",
      "scores\n",
      "correlation\n",
      "50\n",
      "vocabulary\n",
      "text with step id 19087 is not in the initial table with texts, it must be new\n",
      "text with step id 19087 is not in the initial table with texts, it must be new\n",
      "text with step id 19086 is not in the initial table with texts, it must be new\n",
      "text with step id 19087 is not in the initial table with texts, it must be new\n",
      "text with step id 16324 is not in the initial table with texts, it must be new\n",
      "text with step id 19087 is not in the initial table with texts, it must be new\n",
      "text with step id 19087 is not in the initial table with texts, it must be new\n",
      "scores\n",
      "correlation\n",
      "55\n",
      "vocabulary\n",
      "text with step id 19087 is not in the initial table with texts, it must be new\n",
      "text with step id 19087 is not in the initial table with texts, it must be new\n",
      "text with step id 19086 is not in the initial table with texts, it must be new\n",
      "text with step id 19087 is not in the initial table with texts, it must be new\n",
      "text with step id 16324 is not in the initial table with texts, it must be new\n",
      "text with step id 19087 is not in the initial table with texts, it must be new\n",
      "text with step id 19087 is not in the initial table with texts, it must be new\n",
      "scores\n",
      "correlation\n",
      "60\n",
      "vocabulary\n",
      "text with step id 19087 is not in the initial table with texts, it must be new\n",
      "text with step id 19087 is not in the initial table with texts, it must be new\n",
      "text with step id 19086 is not in the initial table with texts, it must be new\n",
      "text with step id 19087 is not in the initial table with texts, it must be new\n",
      "text with step id 16324 is not in the initial table with texts, it must be new\n",
      "text with step id 19087 is not in the initial table with texts, it must be new\n",
      "text with step id 19087 is not in the initial table with texts, it must be new\n",
      "scores\n",
      "correlation\n",
      "{10: (0.06848355733322554, 0.012889548598824525), 15: (0.06773611228306321, 0.013909113849432587), 20: (0.05928996522444492, 0.03137136025217346), 25: (0.05908543478279663, 0.03196145740696664), 30: (0.05441295902846519, 0.04826682427225333), 35: (0.0529106849535932, 0.0548065792702397), 40: (0.05194434251946179, 0.059391377951484144), 45: (0.050054121750098324, 0.0692794722162786), 50: (0.04776774529706192, 0.08300376924084968), 55: (0.047502071734466925, 0.08473223304070635), 60: (0.047336070027620844, 0.08582691920314849)}\n"
     ]
    }
   ],
   "source": [
    "# N Frequent words\n",
    "coorelation_results_N_frequent = dict()  # where we'll store results\n",
    "\n",
    "for N in [10, 15, 20, 25, 30, 35, 40, 45, 50, 55, 60]:\n",
    "    print(N)\n",
    "    \n",
    "    coorelation_results_N_frequent[N] = get_correlation_from_beginning(N, step_id_freq_lists, \n",
    "                                                                       step_id_topic_id_mapping, \n",
    "                                                                       topic_id_step_id_mapping, \n",
    "                                                                       dict_w_topic_prerequisites, \n",
    "                                                                       topics_df)\n",
    "    \n",
    "print(coorelation_results_N_frequent)"
   ]
  },
  {
   "cell_type": "code",
   "execution_count": 49,
   "metadata": {},
   "outputs": [
    {
     "data": {
      "text/plain": [
       "Text(0.5, 1.0, 'Correlation: new DC scores and normalized seconds_to_complete (freq values)')"
      ]
     },
     "execution_count": 49,
     "metadata": {},
     "output_type": "execute_result"
    },
    {
     "data": {
      "image/png": "[encoded data removed]",
      "text/plain": [
       "<Figure size 432x288 with 1 Axes>"
      ]
     },
     "metadata": {
      "needs_background": "light"
     },
     "output_type": "display_data"
    }
   ],
   "source": [
    "# plot the results \n",
    "thresholds = []\n",
    "correlations = []\n",
    "\n",
    "for threshold in coorelation_results_N_frequent:\n",
    "    score, p = coorelation_results_N_frequent[threshold]\n",
    "    if p < 0.05:\n",
    "        thresholds.append(threshold)\n",
    "        correlations.append(score)\n",
    "\n",
    "plt.plot(thresholds, correlations)\n",
    "plt.xlabel('threshold')\n",
    "plt.ylabel('correlation')\n",
    "plt.title('Correlation: new DC scores and normalized seconds_to_complete (freq values)')"
   ]
  },
  {
   "cell_type": "code",
   "execution_count": 50,
   "metadata": {},
   "outputs": [
    {
     "name": "stdout",
     "output_type": "stream",
     "text": [
      "10\n",
      "vocabulary\n",
      "text with step id 19087 is not in the initial table with texts, it must be new\n",
      "text with step id 19087 is not in the initial table with texts, it must be new\n",
      "text with step id 19086 is not in the initial table with texts, it must be new\n",
      "text with step id 19087 is not in the initial table with texts, it must be new\n",
      "text with step id 16324 is not in the initial table with texts, it must be new\n",
      "text with step id 19087 is not in the initial table with texts, it must be new\n",
      "text with step id 19087 is not in the initial table with texts, it must be new\n",
      "scores\n",
      "correlation\n",
      "15\n",
      "vocabulary\n",
      "text with step id 19087 is not in the initial table with texts, it must be new\n",
      "text with step id 19087 is not in the initial table with texts, it must be new\n",
      "text with step id 19086 is not in the initial table with texts, it must be new\n",
      "text with step id 19087 is not in the initial table with texts, it must be new\n",
      "text with step id 16324 is not in the initial table with texts, it must be new\n",
      "text with step id 19087 is not in the initial table with texts, it must be new\n",
      "text with step id 19087 is not in the initial table with texts, it must be new\n",
      "scores\n",
      "correlation\n",
      "20\n",
      "vocabulary\n",
      "text with step id 19087 is not in the initial table with texts, it must be new\n",
      "text with step id 19087 is not in the initial table with texts, it must be new\n",
      "text with step id 19086 is not in the initial table with texts, it must be new\n",
      "text with step id 19087 is not in the initial table with texts, it must be new\n",
      "text with step id 16324 is not in the initial table with texts, it must be new\n",
      "text with step id 19087 is not in the initial table with texts, it must be new\n",
      "text with step id 19087 is not in the initial table with texts, it must be new\n",
      "scores\n",
      "correlation\n",
      "25\n",
      "vocabulary\n",
      "text with step id 19087 is not in the initial table with texts, it must be new\n",
      "text with step id 19087 is not in the initial table with texts, it must be new\n",
      "text with step id 19086 is not in the initial table with texts, it must be new\n",
      "text with step id 19087 is not in the initial table with texts, it must be new\n",
      "text with step id 16324 is not in the initial table with texts, it must be new\n",
      "text with step id 19087 is not in the initial table with texts, it must be new\n",
      "text with step id 19087 is not in the initial table with texts, it must be new\n",
      "scores\n",
      "correlation\n",
      "30\n",
      "vocabulary\n",
      "text with step id 19087 is not in the initial table with texts, it must be new\n",
      "text with step id 19087 is not in the initial table with texts, it must be new\n",
      "text with step id 19086 is not in the initial table with texts, it must be new\n",
      "text with step id 19087 is not in the initial table with texts, it must be new\n",
      "text with step id 16324 is not in the initial table with texts, it must be new\n",
      "text with step id 19087 is not in the initial table with texts, it must be new\n",
      "text with step id 19087 is not in the initial table with texts, it must be new\n",
      "scores\n",
      "correlation\n",
      "35\n",
      "vocabulary\n",
      "text with step id 19087 is not in the initial table with texts, it must be new\n",
      "text with step id 19087 is not in the initial table with texts, it must be new\n",
      "text with step id 19086 is not in the initial table with texts, it must be new\n",
      "text with step id 19087 is not in the initial table with texts, it must be new\n",
      "text with step id 16324 is not in the initial table with texts, it must be new\n",
      "text with step id 19087 is not in the initial table with texts, it must be new\n",
      "text with step id 19087 is not in the initial table with texts, it must be new\n",
      "scores\n",
      "correlation\n",
      "40\n",
      "vocabulary\n",
      "text with step id 19087 is not in the initial table with texts, it must be new\n",
      "text with step id 19087 is not in the initial table with texts, it must be new\n",
      "text with step id 19086 is not in the initial table with texts, it must be new\n",
      "text with step id 19087 is not in the initial table with texts, it must be new\n",
      "text with step id 16324 is not in the initial table with texts, it must be new\n",
      "text with step id 19087 is not in the initial table with texts, it must be new\n",
      "text with step id 19087 is not in the initial table with texts, it must be new\n",
      "scores\n",
      "correlation\n",
      "45\n",
      "vocabulary\n",
      "text with step id 19087 is not in the initial table with texts, it must be new\n",
      "text with step id 19087 is not in the initial table with texts, it must be new\n",
      "text with step id 19086 is not in the initial table with texts, it must be new\n",
      "text with step id 19087 is not in the initial table with texts, it must be new\n",
      "text with step id 16324 is not in the initial table with texts, it must be new\n",
      "text with step id 19087 is not in the initial table with texts, it must be new\n",
      "text with step id 19087 is not in the initial table with texts, it must be new\n",
      "scores\n",
      "correlation\n",
      "50\n",
      "vocabulary\n",
      "text with step id 19087 is not in the initial table with texts, it must be new\n",
      "text with step id 19087 is not in the initial table with texts, it must be new\n",
      "text with step id 19086 is not in the initial table with texts, it must be new\n",
      "text with step id 19087 is not in the initial table with texts, it must be new\n",
      "text with step id 16324 is not in the initial table with texts, it must be new\n",
      "text with step id 19087 is not in the initial table with texts, it must be new\n",
      "text with step id 19087 is not in the initial table with texts, it must be new\n",
      "scores\n",
      "correlation\n",
      "55\n",
      "vocabulary\n",
      "text with step id 19087 is not in the initial table with texts, it must be new\n",
      "text with step id 19087 is not in the initial table with texts, it must be new\n",
      "text with step id 19086 is not in the initial table with texts, it must be new\n",
      "text with step id 19087 is not in the initial table with texts, it must be new\n",
      "text with step id 16324 is not in the initial table with texts, it must be new\n",
      "text with step id 19087 is not in the initial table with texts, it must be new\n",
      "text with step id 19087 is not in the initial table with texts, it must be new\n",
      "scores\n",
      "correlation\n",
      "60\n",
      "vocabulary\n",
      "text with step id 19087 is not in the initial table with texts, it must be new\n",
      "text with step id 19087 is not in the initial table with texts, it must be new\n",
      "text with step id 19086 is not in the initial table with texts, it must be new\n",
      "text with step id 19087 is not in the initial table with texts, it must be new\n",
      "text with step id 16324 is not in the initial table with texts, it must be new\n",
      "text with step id 19087 is not in the initial table with texts, it must be new\n",
      "text with step id 19087 is not in the initial table with texts, it must be new\n",
      "scores\n",
      "correlation\n",
      "{10: (0.05662931529316032, 0.03982254247447445), 15: (0.055309969432043735, 0.04468371725394645), 20: (0.05441111499906231, 0.04827443152864265), 25: (0.050413895506732566, 0.06729981123263018), 30: (0.04031654260988486, 0.14350332415507214), 35: (0.03206591011535506, 0.24469805264337313), 40: (0.028110621820717052, 0.3078381198855252), 45: (0.02586382589601119, 0.3481245055933043), 50: (0.023941573298118517, 0.38513100405840484), 55: (0.019070814819496247, 0.4890893195304683), 60: (0.018170971151609053, 0.5098236373096351)}\n"
     ]
    }
   ],
   "source": [
    "# tf-idf values\n",
    "coorelation_results_N_frequent = dict()  # where we'll store results\n",
    "\n",
    "for N in [10, 15, 20, 25, 30, 35, 40, 45, 50, 55, 60]:\n",
    "    print(N)\n",
    "    \n",
    "    coorelation_results_N_frequent[N] = get_correlation_from_beginning(N, step_id_tf_idfs, \n",
    "                                                                       step_id_topic_id_mapping, \n",
    "                                                                       topic_id_step_id_mapping, \n",
    "                                                                       dict_w_topic_prerequisites, \n",
    "                                                                       topics_df, tfidf=True)\n",
    "    \n",
    "print(coorelation_results_N_frequent)"
   ]
  },
  {
   "cell_type": "code",
   "execution_count": 51,
   "metadata": {},
   "outputs": [
    {
     "data": {
      "text/plain": [
       "Text(0.5, 1.0, 'Correlation: new DC scores and normalized seconds_to_complete (tf-idf values)')"
      ]
     },
     "execution_count": 51,
     "metadata": {},
     "output_type": "execute_result"
    },
    {
     "data": {
      "image/png": "[encoded data removed]",
      "text/plain": [
       "<Figure size 432x288 with 1 Axes>"
      ]
     },
     "metadata": {
      "needs_background": "light"
     },
     "output_type": "display_data"
    }
   ],
   "source": [
    "# plot the results \n",
    "thresholds = []\n",
    "correlations = []\n",
    "\n",
    "for threshold in coorelation_results_N_frequent:\n",
    "    score, p = coorelation_results_N_frequent[threshold]\n",
    "    if p < 0.05:\n",
    "        thresholds.append(threshold)\n",
    "        correlations.append(score)\n",
    "\n",
    "plt.plot(thresholds, correlations)\n",
    "plt.xlabel('threshold')\n",
    "plt.ylabel('correlation')\n",
    "plt.title('Correlation: new DC scores and normalized seconds_to_complete (tf-idf values)')"
   ]
  },
  {
   "cell_type": "markdown",
   "metadata": {},
   "source": [
    "#### See the correlation of the 'best' scores with the number of prereqs"
   ]
  },
  {
   "cell_type": "code",
   "execution_count": 52,
   "metadata": {},
   "outputs": [],
   "source": [
    "best_threshold = 30"
   ]
  },
  {
   "cell_type": "code",
   "execution_count": 54,
   "metadata": {},
   "outputs": [
    {
     "name": "stdout",
     "output_type": "stream",
     "text": [
      "vocabulary\n",
      "text with step id 19087 is not in the initial table with texts, it must be new\n",
      "text with step id 19087 is not in the initial table with texts, it must be new\n",
      "text with step id 19086 is not in the initial table with texts, it must be new\n",
      "text with step id 19087 is not in the initial table with texts, it must be new\n",
      "text with step id 16324 is not in the initial table with texts, it must be new\n",
      "text with step id 19087 is not in the initial table with texts, it must be new\n",
      "text with step id 19087 is not in the initial table with texts, it must be new\n",
      "scores\n",
      "correlation\n"
     ]
    }
   ],
   "source": [
    "cor_score, p_val, DC_scores = get_correlation_from_beginning(best_threshold, step_id_freq_lists, \n",
    "                                                             step_id_topic_id_mapping, \n",
    "                                                             topic_id_step_id_mapping,\n",
    "                                                             dict_w_topic_prerequisites, \n",
    "                                                             topics_df, tfidf=False, return_DC_scores=True)"
   ]
  },
  {
   "cell_type": "code",
   "execution_count": 55,
   "metadata": {},
   "outputs": [
    {
     "data": {
      "text/plain": [
       "(0.05441295902846519, 0.04826682427225333)"
      ]
     },
     "execution_count": 55,
     "metadata": {},
     "output_type": "execute_result"
    }
   ],
   "source": [
    "cor_score, p_val"
   ]
  },
  {
   "cell_type": "code",
   "execution_count": 56,
   "metadata": {},
   "outputs": [],
   "source": [
    "prereq_numbers = []\n",
    "\n",
    "for i, row in topics_df.iterrows():\n",
    "    step_id = row.step_id\n",
    "    topic_id = step_id_topic_id_mapping[step_id]\n",
    "    all_prereqs = dict_w_topic_prerequisites[topic_id]\n",
    "    prereq_numbers.append(len(all_prereqs))"
   ]
  },
  {
   "cell_type": "code",
   "execution_count": 57,
   "metadata": {},
   "outputs": [
    {
     "data": {
      "text/plain": [
       "(0.009258657249396172, 0.7370088233920568)"
      ]
     },
     "execution_count": 57,
     "metadata": {},
     "output_type": "execute_result"
    }
   ],
   "source": [
    "correlate_two(DC_scores, prereq_numbers)"
   ]
  },
  {
   "cell_type": "code",
   "execution_count": null,
   "metadata": {},
   "outputs": [],
   "source": []
  },
  {
   "cell_type": "code",
   "execution_count": null,
   "metadata": {},
   "outputs": [],
   "source": []
  }
 ],
 "metadata": {
  "kernelspec": {
   "display_name": "Python 3",
   "language": "python",
   "name": "python3"
  },
  "language_info": {
   "codemirror_mode": {
    "name": "ipython",
    "version": 3
   },
   "file_extension": ".py",
   "mimetype": "text/x-python",
   "name": "python",
   "nbconvert_exporter": "python",
   "pygments_lexer": "ipython3",
   "version": "3.6.9"
  }
 },
 "nbformat": 4,
 "nbformat_minor": 4
}
