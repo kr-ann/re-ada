{
 "cells": [
  {
   "cell_type": "code",
   "execution_count": 1,
   "metadata": {},
   "outputs": [],
   "source": [
    "import pandas as pd"
   ]
  },
  {
   "cell_type": "code",
   "execution_count": 2,
   "metadata": {},
   "outputs": [],
   "source": [
    "path = './new_cleaned'\n",
    "topics_dataset = f'{path}/cleaned_topics_all.csv'"
   ]
  },
  {
   "cell_type": "code",
   "execution_count": 3,
   "metadata": {},
   "outputs": [],
   "source": [
    "df_topics = pd.read_csv(topics_dataset)"
   ]
  },
  {
   "cell_type": "code",
   "execution_count": 4,
   "metadata": {},
   "outputs": [
    {
     "data": {
      "text/plain": [
       "(1064, 15)"
      ]
     },
     "execution_count": 4,
     "metadata": {},
     "output_type": "execute_result"
    }
   ],
   "source": [
    "topics_20_completions = df_topics.drop(df_topics[df_topics.last_3_month_completed_step_users_count < 20].index)\n",
    "topics_20_completions.shape"
   ]
  },
  {
   "cell_type": "markdown",
   "metadata": {},
   "source": [
    "## Get text statistics"
   ]
  },
  {
   "cell_type": "code",
   "execution_count": null,
   "metadata": {},
   "outputs": [],
   "source": [
    "# !pip3 install py-readability-metrics"
   ]
  },
  {
   "cell_type": "code",
   "execution_count": null,
   "metadata": {},
   "outputs": [],
   "source": [
    "# !python3 -m nltk.downloader punkt"
   ]
  },
  {
   "cell_type": "code",
   "execution_count": 4,
   "metadata": {},
   "outputs": [],
   "source": [
    "from readability import Readability"
   ]
  },
  {
   "cell_type": "code",
   "execution_count": 5,
   "metadata": {},
   "outputs": [],
   "source": [
    "def statistics_readability(text):\n",
    "    stat = Readability(text)\n",
    "    stat_values = stat.statistics()  \n",
    "    # this library uses TweetTokenizer from nltk.tokenizers to tokenize words\n",
    "    # and sent_tokenizer (also from nltk) to tokenize sentences \n",
    "    \n",
    "    return stat_values['num_words'], stat_values['num_sentences'], stat_values['num_syllables']"
   ]
  },
  {
   "cell_type": "code",
   "execution_count": 6,
   "metadata": {
    "collapsed": true
   },
   "outputs": [
    {
     "name": "stdout",
     "output_type": "stream",
     "text": [
      "0\n",
      "50\n",
      "100\n",
      "150\n",
      "200\n",
      "250\n",
      "300\n",
      "350\n",
      "400\n",
      "450\n",
      "500\n",
      "550\n",
      "600\n",
      "650\n",
      "700\n",
      "750\n",
      "800\n",
      "850\n",
      "900\n",
      "950\n",
      "1000\n",
      "1050\n",
      "1100\n",
      "1150\n",
      "1200\n",
      "1250\n",
      "1300\n"
     ]
    }
   ],
   "source": [
    "words_list, sentences_list, syllables_list = [], [], [] \n",
    "\n",
    "for i, text in enumerate(df_topics.cleaned_texts):\n",
    "    if i % 50 == 0:\n",
    "        print(i)\n",
    "    try:\n",
    "        words, sentences, syllables = statistics_readability(text)\n",
    "    except:\n",
    "        raise\n",
    "    words_list.append(words)\n",
    "    sentences_list.append(sentences)\n",
    "    syllables_list.append(syllables)"
   ]
  },
  {
   "cell_type": "code",
   "execution_count": 7,
   "metadata": {},
   "outputs": [],
   "source": [
    "df_topics['num_words'] = words_list\n",
    "df_topics['num_sentences'] = sentences_list\n",
    "df_topics['num_syllables'] = syllables_list"
   ]
  },
  {
   "cell_type": "code",
   "execution_count": 8,
   "metadata": {},
   "outputs": [
    {
     "data": {
      "text/html": [
       "<div>\n",
       "<style scoped>\n",
       "    .dataframe tbody tr th:only-of-type {\n",
       "        vertical-align: middle;\n",
       "    }\n",
       "\n",
       "    .dataframe tbody tr th {\n",
       "        vertical-align: top;\n",
       "    }\n",
       "\n",
       "    .dataframe thead th {\n",
       "        text-align: right;\n",
       "    }\n",
       "</style>\n",
       "<table border=\"1\" class=\"dataframe\">\n",
       "  <thead>\n",
       "    <tr style=\"text-align: right;\">\n",
       "      <th></th>\n",
       "      <th>step_id</th>\n",
       "      <th>is_theory</th>\n",
       "      <th>text</th>\n",
       "      <th>seconds_to_complete</th>\n",
       "      <th>last_3_month_completion_rate</th>\n",
       "      <th>last_3_month_completed_step_users_count</th>\n",
       "      <th>last_3_month_avg_like</th>\n",
       "      <th>last_3_month_likes_count</th>\n",
       "      <th>last_3_month_topic_completion_rate</th>\n",
       "      <th>last_3_month_completed_topic_users_count</th>\n",
       "      <th>back_to_theory_times_per_user_session_avg_last_3_month</th>\n",
       "      <th>back_to_theory_users_%_last_3_month</th>\n",
       "      <th>cleaned_texts</th>\n",
       "      <th>num_headings</th>\n",
       "      <th>symbols_in_snippets</th>\n",
       "      <th>num_words</th>\n",
       "      <th>num_sentences</th>\n",
       "      <th>num_syllables</th>\n",
       "    </tr>\n",
       "  </thead>\n",
       "  <tbody>\n",
       "    <tr>\n",
       "      <th>0</th>\n",
       "      <td>12357</td>\n",
       "      <td>1</td>\n",
       "      <td>\"&lt;h5 id=\\\"introduction\\\"&gt; Introduction&lt;/h5&gt;\\n\\...</td>\n",
       "      <td>603.45</td>\n",
       "      <td>0.56</td>\n",
       "      <td>40.0</td>\n",
       "      <td>2.00</td>\n",
       "      <td>10.0</td>\n",
       "      <td>0.90</td>\n",
       "      <td>35.0</td>\n",
       "      <td>1.43</td>\n",
       "      <td>67.21</td>\n",
       "      <td>\" *heading* So far you have learned quite a lo...</td>\n",
       "      <td>6</td>\n",
       "      <td>790</td>\n",
       "      <td>618</td>\n",
       "      <td>24</td>\n",
       "      <td>995</td>\n",
       "    </tr>\n",
       "    <tr>\n",
       "      <th>1</th>\n",
       "      <td>12691</td>\n",
       "      <td>1</td>\n",
       "      <td>\"&lt;p&gt;JavaScript was originally developed as a l...</td>\n",
       "      <td>253.21</td>\n",
       "      <td>0.87</td>\n",
       "      <td>884.0</td>\n",
       "      <td>1.72</td>\n",
       "      <td>79.0</td>\n",
       "      <td>0.96</td>\n",
       "      <td>844.0</td>\n",
       "      <td>0.34</td>\n",
       "      <td>24.43</td>\n",
       "      <td>\"JavaScript was originally developed as a lang...</td>\n",
       "      <td>5</td>\n",
       "      <td>35</td>\n",
       "      <td>605</td>\n",
       "      <td>35</td>\n",
       "      <td>962</td>\n",
       "    </tr>\n",
       "    <tr>\n",
       "      <th>2</th>\n",
       "      <td>8112</td>\n",
       "      <td>1</td>\n",
       "      <td>\"&lt;p&gt;We've already learned what annotations are...</td>\n",
       "      <td>486.94</td>\n",
       "      <td>0.45</td>\n",
       "      <td>50.0</td>\n",
       "      <td>1.57</td>\n",
       "      <td>7.0</td>\n",
       "      <td>0.89</td>\n",
       "      <td>49.0</td>\n",
       "      <td>1.00</td>\n",
       "      <td>69.41</td>\n",
       "      <td>\"We've already learned what annotations are an...</td>\n",
       "      <td>3</td>\n",
       "      <td>1506</td>\n",
       "      <td>610</td>\n",
       "      <td>30</td>\n",
       "      <td>990</td>\n",
       "    </tr>\n",
       "    <tr>\n",
       "      <th>3</th>\n",
       "      <td>7892</td>\n",
       "      <td>1</td>\n",
       "      <td>\"&lt;h5&gt;Introduction&lt;/h5&gt;\\n\\n&lt;p&gt;You often hear pe...</td>\n",
       "      <td>542.73</td>\n",
       "      <td>0.72</td>\n",
       "      <td>60.0</td>\n",
       "      <td>2.00</td>\n",
       "      <td>5.0</td>\n",
       "      <td>0.91</td>\n",
       "      <td>58.0</td>\n",
       "      <td>0.33</td>\n",
       "      <td>26.39</td>\n",
       "      <td>\" *heading* You often hear people speak about ...</td>\n",
       "      <td>5</td>\n",
       "      <td>0</td>\n",
       "      <td>1079</td>\n",
       "      <td>51</td>\n",
       "      <td>1652</td>\n",
       "    </tr>\n",
       "    <tr>\n",
       "      <th>4</th>\n",
       "      <td>15809</td>\n",
       "      <td>1</td>\n",
       "      <td>\"&lt;h5&gt;Introduction&lt;/h5&gt;\\n\\n&lt;p&gt;When you have alr...</td>\n",
       "      <td>556.76</td>\n",
       "      <td>0.43</td>\n",
       "      <td>43.0</td>\n",
       "      <td>1.40</td>\n",
       "      <td>10.0</td>\n",
       "      <td>0.91</td>\n",
       "      <td>53.0</td>\n",
       "      <td>0.93</td>\n",
       "      <td>50.88</td>\n",
       "      <td>\" *heading* When you have already learned the ...</td>\n",
       "      <td>5</td>\n",
       "      <td>409</td>\n",
       "      <td>633</td>\n",
       "      <td>21</td>\n",
       "      <td>995</td>\n",
       "    </tr>\n",
       "  </tbody>\n",
       "</table>\n",
       "</div>"
      ],
      "text/plain": [
       "   step_id  is_theory                                               text  \\\n",
       "0    12357          1  \"<h5 id=\\\"introduction\\\"> Introduction</h5>\\n\\...   \n",
       "1    12691          1  \"<p>JavaScript was originally developed as a l...   \n",
       "2     8112          1  \"<p>We've already learned what annotations are...   \n",
       "3     7892          1  \"<h5>Introduction</h5>\\n\\n<p>You often hear pe...   \n",
       "4    15809          1  \"<h5>Introduction</h5>\\n\\n<p>When you have alr...   \n",
       "\n",
       "   seconds_to_complete  last_3_month_completion_rate  \\\n",
       "0               603.45                          0.56   \n",
       "1               253.21                          0.87   \n",
       "2               486.94                          0.45   \n",
       "3               542.73                          0.72   \n",
       "4               556.76                          0.43   \n",
       "\n",
       "   last_3_month_completed_step_users_count  last_3_month_avg_like  \\\n",
       "0                                     40.0                   2.00   \n",
       "1                                    884.0                   1.72   \n",
       "2                                     50.0                   1.57   \n",
       "3                                     60.0                   2.00   \n",
       "4                                     43.0                   1.40   \n",
       "\n",
       "   last_3_month_likes_count  last_3_month_topic_completion_rate  \\\n",
       "0                      10.0                                0.90   \n",
       "1                      79.0                                0.96   \n",
       "2                       7.0                                0.89   \n",
       "3                       5.0                                0.91   \n",
       "4                      10.0                                0.91   \n",
       "\n",
       "   last_3_month_completed_topic_users_count  \\\n",
       "0                                      35.0   \n",
       "1                                     844.0   \n",
       "2                                      49.0   \n",
       "3                                      58.0   \n",
       "4                                      53.0   \n",
       "\n",
       "   back_to_theory_times_per_user_session_avg_last_3_month  \\\n",
       "0                                               1.43        \n",
       "1                                               0.34        \n",
       "2                                               1.00        \n",
       "3                                               0.33        \n",
       "4                                               0.93        \n",
       "\n",
       "   back_to_theory_users_%_last_3_month  \\\n",
       "0                                67.21   \n",
       "1                                24.43   \n",
       "2                                69.41   \n",
       "3                                26.39   \n",
       "4                                50.88   \n",
       "\n",
       "                                       cleaned_texts  num_headings  \\\n",
       "0  \" *heading* So far you have learned quite a lo...             6   \n",
       "1  \"JavaScript was originally developed as a lang...             5   \n",
       "2  \"We've already learned what annotations are an...             3   \n",
       "3  \" *heading* You often hear people speak about ...             5   \n",
       "4  \" *heading* When you have already learned the ...             5   \n",
       "\n",
       "   symbols_in_snippets  num_words  num_sentences  num_syllables  \n",
       "0                  790        618             24            995  \n",
       "1                   35        605             35            962  \n",
       "2                 1506        610             30            990  \n",
       "3                    0       1079             51           1652  \n",
       "4                  409        633             21            995  "
      ]
     },
     "execution_count": 8,
     "metadata": {},
     "output_type": "execute_result"
    }
   ],
   "source": [
    "df_topics.head()"
   ]
  },
  {
   "cell_type": "code",
   "execution_count": 9,
   "metadata": {},
   "outputs": [],
   "source": [
    "# normalized seconds_to_complete\n",
    "norm_seconds_list = []\n",
    "\n",
    "for i, row in df_topics.iterrows():\n",
    "    norm_seconds = (row.seconds_to_complete / row.num_words) * 10\n",
    "    norm_seconds_list.append(norm_seconds)\n",
    "    \n",
    "df_topics['norm_seconds'] = norm_seconds_list"
   ]
  },
  {
   "cell_type": "code",
   "execution_count": 10,
   "metadata": {},
   "outputs": [],
   "source": [
    "# average sentence length\n",
    "asl_list = []\n",
    "\n",
    "for i, row in df_topics.iterrows():\n",
    "    asl = row.num_words / row.num_sentences\n",
    "    asl_list.append(asl)\n",
    "    \n",
    "df_topics['ASL'] = asl_list"
   ]
  },
  {
   "cell_type": "markdown",
   "metadata": {},
   "source": [
    "## Get readability scores"
   ]
  },
  {
   "cell_type": "code",
   "execution_count": 11,
   "metadata": {},
   "outputs": [],
   "source": [
    "def get_two_scores(text):\n",
    "    r = Readability(text)\n",
    "    dc = r.dale_chall()\n",
    "    fl = r.flesch()\n",
    "    return dc.score, fl.score"
   ]
  },
  {
   "cell_type": "code",
   "execution_count": 12,
   "metadata": {
    "collapsed": true
   },
   "outputs": [
    {
     "name": "stdout",
     "output_type": "stream",
     "text": [
      "0\n",
      "50\n",
      "100\n",
      "150\n",
      "200\n",
      "250\n",
      "300\n",
      "350\n",
      "400\n",
      "450\n",
      "500\n",
      "550\n",
      "600\n",
      "650\n",
      "700\n",
      "750\n",
      "800\n",
      "850\n",
      "900\n",
      "950\n",
      "1000\n",
      "1050\n",
      "1100\n",
      "1150\n",
      "1200\n",
      "1250\n",
      "1300\n"
     ]
    }
   ],
   "source": [
    "dc_scores, fl_scores = [], [] \n",
    "\n",
    "for i, text in enumerate(df_topics.cleaned_texts):\n",
    "    if i % 50 == 0:\n",
    "        print(i)\n",
    "    try:\n",
    "        dc, fl = get_two_scores(text)\n",
    "    except:\n",
    "        print('###', i)\n",
    "        raise\n",
    "    dc_scores.append(dc)\n",
    "    fl_scores.append(fl)"
   ]
  },
  {
   "cell_type": "code",
   "execution_count": 13,
   "metadata": {},
   "outputs": [],
   "source": [
    "df_topics['flesch_score'] = fl_scores\n",
    "df_topics['dale_chall_score'] = dc_scores"
   ]
  },
  {
   "cell_type": "code",
   "execution_count": 14,
   "metadata": {
    "scrolled": true
   },
   "outputs": [
    {
     "data": {
      "text/html": [
       "<div>\n",
       "<style scoped>\n",
       "    .dataframe tbody tr th:only-of-type {\n",
       "        vertical-align: middle;\n",
       "    }\n",
       "\n",
       "    .dataframe tbody tr th {\n",
       "        vertical-align: top;\n",
       "    }\n",
       "\n",
       "    .dataframe thead th {\n",
       "        text-align: right;\n",
       "    }\n",
       "</style>\n",
       "<table border=\"1\" class=\"dataframe\">\n",
       "  <thead>\n",
       "    <tr style=\"text-align: right;\">\n",
       "      <th></th>\n",
       "      <th>step_id</th>\n",
       "      <th>is_theory</th>\n",
       "      <th>text</th>\n",
       "      <th>seconds_to_complete</th>\n",
       "      <th>last_3_month_completion_rate</th>\n",
       "      <th>last_3_month_completed_step_users_count</th>\n",
       "      <th>last_3_month_avg_like</th>\n",
       "      <th>last_3_month_likes_count</th>\n",
       "      <th>last_3_month_topic_completion_rate</th>\n",
       "      <th>last_3_month_completed_topic_users_count</th>\n",
       "      <th>...</th>\n",
       "      <th>cleaned_texts</th>\n",
       "      <th>num_headings</th>\n",
       "      <th>symbols_in_snippets</th>\n",
       "      <th>num_words</th>\n",
       "      <th>num_sentences</th>\n",
       "      <th>num_syllables</th>\n",
       "      <th>norm_seconds</th>\n",
       "      <th>ASL</th>\n",
       "      <th>flesch_score</th>\n",
       "      <th>dale_chall_score</th>\n",
       "    </tr>\n",
       "  </thead>\n",
       "  <tbody>\n",
       "    <tr>\n",
       "      <th>0</th>\n",
       "      <td>12357</td>\n",
       "      <td>1</td>\n",
       "      <td>\"&lt;h5 id=\\\"introduction\\\"&gt; Introduction&lt;/h5&gt;\\n\\...</td>\n",
       "      <td>603.45</td>\n",
       "      <td>0.56</td>\n",
       "      <td>40.0</td>\n",
       "      <td>2.00</td>\n",
       "      <td>10.0</td>\n",
       "      <td>0.90</td>\n",
       "      <td>35.0</td>\n",
       "      <td>...</td>\n",
       "      <td>\" *heading* So far you have learned quite a lo...</td>\n",
       "      <td>6</td>\n",
       "      <td>790</td>\n",
       "      <td>618</td>\n",
       "      <td>24</td>\n",
       "      <td>995</td>\n",
       "      <td>9.764563</td>\n",
       "      <td>25.750000</td>\n",
       "      <td>44.490012</td>\n",
       "      <td>9.180577</td>\n",
       "    </tr>\n",
       "    <tr>\n",
       "      <th>1</th>\n",
       "      <td>12691</td>\n",
       "      <td>1</td>\n",
       "      <td>\"&lt;p&gt;JavaScript was originally developed as a l...</td>\n",
       "      <td>253.21</td>\n",
       "      <td>0.87</td>\n",
       "      <td>884.0</td>\n",
       "      <td>1.72</td>\n",
       "      <td>79.0</td>\n",
       "      <td>0.96</td>\n",
       "      <td>844.0</td>\n",
       "      <td>...</td>\n",
       "      <td>\"JavaScript was originally developed as a lang...</td>\n",
       "      <td>5</td>\n",
       "      <td>35</td>\n",
       "      <td>605</td>\n",
       "      <td>35</td>\n",
       "      <td>962</td>\n",
       "      <td>4.185289</td>\n",
       "      <td>17.285714</td>\n",
       "      <td>54.769008</td>\n",
       "      <td>9.896400</td>\n",
       "    </tr>\n",
       "    <tr>\n",
       "      <th>2</th>\n",
       "      <td>8112</td>\n",
       "      <td>1</td>\n",
       "      <td>\"&lt;p&gt;We've already learned what annotations are...</td>\n",
       "      <td>486.94</td>\n",
       "      <td>0.45</td>\n",
       "      <td>50.0</td>\n",
       "      <td>1.57</td>\n",
       "      <td>7.0</td>\n",
       "      <td>0.89</td>\n",
       "      <td>49.0</td>\n",
       "      <td>...</td>\n",
       "      <td>\"We've already learned what annotations are an...</td>\n",
       "      <td>3</td>\n",
       "      <td>1506</td>\n",
       "      <td>610</td>\n",
       "      <td>30</td>\n",
       "      <td>990</td>\n",
       "      <td>7.982623</td>\n",
       "      <td>20.333333</td>\n",
       "      <td>48.895027</td>\n",
       "      <td>9.097296</td>\n",
       "    </tr>\n",
       "    <tr>\n",
       "      <th>3</th>\n",
       "      <td>7892</td>\n",
       "      <td>1</td>\n",
       "      <td>\"&lt;h5&gt;Introduction&lt;/h5&gt;\\n\\n&lt;p&gt;You often hear pe...</td>\n",
       "      <td>542.73</td>\n",
       "      <td>0.72</td>\n",
       "      <td>60.0</td>\n",
       "      <td>2.00</td>\n",
       "      <td>5.0</td>\n",
       "      <td>0.91</td>\n",
       "      <td>58.0</td>\n",
       "      <td>...</td>\n",
       "      <td>\" *heading* You often hear people speak about ...</td>\n",
       "      <td>5</td>\n",
       "      <td>0</td>\n",
       "      <td>1079</td>\n",
       "      <td>51</td>\n",
       "      <td>1652</td>\n",
       "      <td>5.029935</td>\n",
       "      <td>21.156863</td>\n",
       "      <td>55.834186</td>\n",
       "      <td>9.207762</td>\n",
       "    </tr>\n",
       "    <tr>\n",
       "      <th>4</th>\n",
       "      <td>15809</td>\n",
       "      <td>1</td>\n",
       "      <td>\"&lt;h5&gt;Introduction&lt;/h5&gt;\\n\\n&lt;p&gt;When you have alr...</td>\n",
       "      <td>556.76</td>\n",
       "      <td>0.43</td>\n",
       "      <td>43.0</td>\n",
       "      <td>1.40</td>\n",
       "      <td>10.0</td>\n",
       "      <td>0.91</td>\n",
       "      <td>53.0</td>\n",
       "      <td>...</td>\n",
       "      <td>\" *heading* When you have already learned the ...</td>\n",
       "      <td>5</td>\n",
       "      <td>409</td>\n",
       "      <td>633</td>\n",
       "      <td>21</td>\n",
       "      <td>995</td>\n",
       "      <td>8.795577</td>\n",
       "      <td>30.142857</td>\n",
       "      <td>43.258957</td>\n",
       "      <td>9.721412</td>\n",
       "    </tr>\n",
       "  </tbody>\n",
       "</table>\n",
       "<p>5 rows × 22 columns</p>\n",
       "</div>"
      ],
      "text/plain": [
       "   step_id  is_theory                                               text  \\\n",
       "0    12357          1  \"<h5 id=\\\"introduction\\\"> Introduction</h5>\\n\\...   \n",
       "1    12691          1  \"<p>JavaScript was originally developed as a l...   \n",
       "2     8112          1  \"<p>We've already learned what annotations are...   \n",
       "3     7892          1  \"<h5>Introduction</h5>\\n\\n<p>You often hear pe...   \n",
       "4    15809          1  \"<h5>Introduction</h5>\\n\\n<p>When you have alr...   \n",
       "\n",
       "   seconds_to_complete  last_3_month_completion_rate  \\\n",
       "0               603.45                          0.56   \n",
       "1               253.21                          0.87   \n",
       "2               486.94                          0.45   \n",
       "3               542.73                          0.72   \n",
       "4               556.76                          0.43   \n",
       "\n",
       "   last_3_month_completed_step_users_count  last_3_month_avg_like  \\\n",
       "0                                     40.0                   2.00   \n",
       "1                                    884.0                   1.72   \n",
       "2                                     50.0                   1.57   \n",
       "3                                     60.0                   2.00   \n",
       "4                                     43.0                   1.40   \n",
       "\n",
       "   last_3_month_likes_count  last_3_month_topic_completion_rate  \\\n",
       "0                      10.0                                0.90   \n",
       "1                      79.0                                0.96   \n",
       "2                       7.0                                0.89   \n",
       "3                       5.0                                0.91   \n",
       "4                      10.0                                0.91   \n",
       "\n",
       "   last_3_month_completed_topic_users_count  ...  \\\n",
       "0                                      35.0  ...   \n",
       "1                                     844.0  ...   \n",
       "2                                      49.0  ...   \n",
       "3                                      58.0  ...   \n",
       "4                                      53.0  ...   \n",
       "\n",
       "                                       cleaned_texts  num_headings  \\\n",
       "0  \" *heading* So far you have learned quite a lo...             6   \n",
       "1  \"JavaScript was originally developed as a lang...             5   \n",
       "2  \"We've already learned what annotations are an...             3   \n",
       "3  \" *heading* You often hear people speak about ...             5   \n",
       "4  \" *heading* When you have already learned the ...             5   \n",
       "\n",
       "  symbols_in_snippets  num_words  num_sentences  num_syllables  norm_seconds  \\\n",
       "0                 790        618             24            995      9.764563   \n",
       "1                  35        605             35            962      4.185289   \n",
       "2                1506        610             30            990      7.982623   \n",
       "3                   0       1079             51           1652      5.029935   \n",
       "4                 409        633             21            995      8.795577   \n",
       "\n",
       "         ASL  flesch_score  dale_chall_score  \n",
       "0  25.750000     44.490012          9.180577  \n",
       "1  17.285714     54.769008          9.896400  \n",
       "2  20.333333     48.895027          9.097296  \n",
       "3  21.156863     55.834186          9.207762  \n",
       "4  30.142857     43.258957          9.721412  \n",
       "\n",
       "[5 rows x 22 columns]"
      ]
     },
     "execution_count": 14,
     "metadata": {},
     "output_type": "execute_result"
    }
   ],
   "source": [
    "df_topics.head()"
   ]
  },
  {
   "cell_type": "code",
   "execution_count": 15,
   "metadata": {},
   "outputs": [
    {
     "name": "stdout",
     "output_type": "stream",
     "text": [
      "(1318, 22)\n"
     ]
    },
    {
     "data": {
      "text/plain": [
       "(1318, 22)"
      ]
     },
     "execution_count": 15,
     "metadata": {},
     "output_type": "execute_result"
    }
   ],
   "source": [
    "print(df_topics.shape)\n",
    "df_topics = df_topics.dropna()\n",
    "df_topics.shape"
   ]
  },
  {
   "cell_type": "code",
   "execution_count": 16,
   "metadata": {},
   "outputs": [],
   "source": [
    "df_topics.to_csv(f'{path}/topics_all_statistics_and_scores.csv', index=False)"
   ]
  },
  {
   "cell_type": "markdown",
   "metadata": {},
   "source": [
    "## Look at distribution"
   ]
  },
  {
   "cell_type": "code",
   "execution_count": 19,
   "metadata": {},
   "outputs": [],
   "source": [
    "import matplotlib.pyplot as plt"
   ]
  },
  {
   "cell_type": "code",
   "execution_count": 24,
   "metadata": {},
   "outputs": [],
   "source": [
    "import numpy as np"
   ]
  },
  {
   "cell_type": "code",
   "execution_count": 20,
   "metadata": {},
   "outputs": [],
   "source": [
    "plt.rcParams[\"figure.figsize\"] = (20, 3)"
   ]
  },
  {
   "cell_type": "code",
   "execution_count": 21,
   "metadata": {},
   "outputs": [],
   "source": [
    "def plot_parameter(df, column_name, ticks, bins=300):\n",
    "    plt.hist(df[column_name], bins)\n",
    "    start_range = min(0, round(min(df[column_name]), int(ticks*10)))\n",
    "    end_range = max(df[column_name])+ticks\n",
    "    plt.xticks(np.arange(start_range, end_range, ticks))\n",
    "    plt.title(column_name)\n",
    "    plt.show()"
   ]
  },
  {
   "cell_type": "code",
   "execution_count": 17,
   "metadata": {},
   "outputs": [
    {
     "data": {
      "text/plain": [
       "Index(['step_id', 'is_theory', 'text', 'seconds_to_complete',\n",
       "       'last_3_month_completion_rate',\n",
       "       'last_3_month_completed_step_users_count', 'last_3_month_avg_like',\n",
       "       'last_3_month_likes_count', 'last_3_month_topic_completion_rate',\n",
       "       'last_3_month_completed_topic_users_count',\n",
       "       'back_to_theory_times_per_user_session_avg_last_3_month',\n",
       "       'back_to_theory_users_%_last_3_month', 'cleaned_texts', 'num_headings',\n",
       "       'symbols_in_snippets', 'num_words', 'num_sentences', 'num_syllables',\n",
       "       'norm_seconds', 'ASL', 'flesch_score', 'dale_chall_score'],\n",
       "      dtype='object')"
      ]
     },
     "execution_count": 17,
     "metadata": {},
     "output_type": "execute_result"
    }
   ],
   "source": [
    "df_topics.columns\n",
    "# num_headings\n",
    "# symbols_in_snippets\n",
    "# num_words\n",
    "# num_sentences\n",
    "# num_syllables\n",
    "# norm_seconds\n",
    "# flesch_score\n",
    "# dale_chall_score"
   ]
  },
  {
   "cell_type": "code",
   "execution_count": 18,
   "metadata": {},
   "outputs": [
    {
     "data": {
      "text/plain": [
       "(1064, 22)"
      ]
     },
     "execution_count": 18,
     "metadata": {},
     "output_type": "execute_result"
    }
   ],
   "source": [
    "topics_20_completions = df_topics.drop(df_topics[df_topics.last_3_month_completed_step_users_count < 20].index)\n",
    "topics_20_completions.shape"
   ]
  },
  {
   "cell_type": "code",
   "execution_count": 26,
   "metadata": {},
   "outputs": [
    {
     "data": {
      "image/png": "[encoded data removed]",
      "text/plain": [
       "<Figure size 1440x216 with 1 Axes>"
      ]
     },
     "metadata": {
      "needs_background": "light"
     },
     "output_type": "display_data"
    }
   ],
   "source": [
    "plot_parameter(topics_20_completions, 'num_headings', ticks=1, bins=20)"
   ]
  },
  {
   "cell_type": "code",
   "execution_count": 30,
   "metadata": {},
   "outputs": [
    {
     "data": {
      "image/png": "[encoded data removed]",
      "text/plain": [
       "<Figure size 1440x216 with 1 Axes>"
      ]
     },
     "metadata": {
      "needs_background": "light"
     },
     "output_type": "display_data"
    }
   ],
   "source": [
    "plot_parameter(topics_20_completions, 'symbols_in_snippets', ticks=200, bins=40)"
   ]
  },
  {
   "cell_type": "code",
   "execution_count": 32,
   "metadata": {},
   "outputs": [
    {
     "data": {
      "image/png": "[encoded data removed]",
      "text/plain": [
       "<Figure size 1440x216 with 1 Axes>"
      ]
     },
     "metadata": {
      "needs_background": "light"
     },
     "output_type": "display_data"
    }
   ],
   "source": [
    "plot_parameter(topics_20_completions, 'num_words', ticks=50, bins=60)"
   ]
  },
  {
   "cell_type": "code",
   "execution_count": 36,
   "metadata": {},
   "outputs": [
    {
     "data": {
      "image/png": "[encoded data removed]",
      "text/plain": [
       "<Figure size 1440x216 with 1 Axes>"
      ]
     },
     "metadata": {
      "needs_background": "light"
     },
     "output_type": "display_data"
    }
   ],
   "source": [
    "plot_parameter(topics_20_completions, 'num_sentences', ticks=5, bins=80)"
   ]
  },
  {
   "cell_type": "code",
   "execution_count": 38,
   "metadata": {},
   "outputs": [
    {
     "data": {
      "image/png": "[encoded data removed]",
      "text/plain": [
       "<Figure size 1440x216 with 1 Axes>"
      ]
     },
     "metadata": {
      "needs_background": "light"
     },
     "output_type": "display_data"
    }
   ],
   "source": [
    "plot_parameter(topics_20_completions, 'num_syllables', ticks=100, bins=80)"
   ]
  },
  {
   "cell_type": "code",
   "execution_count": 41,
   "metadata": {},
   "outputs": [
    {
     "data": {
      "image/png": "[encoded data removed]",
      "text/plain": [
       "<Figure size 1440x216 with 1 Axes>"
      ]
     },
     "metadata": {
      "needs_background": "light"
     },
     "output_type": "display_data"
    }
   ],
   "source": [
    "plot_parameter(topics_20_completions, 'norm_seconds', ticks=1, bins=80)"
   ]
  },
  {
   "cell_type": "code",
   "execution_count": 43,
   "metadata": {},
   "outputs": [
    {
     "data": {
      "image/png": "[encoded data removed]",
      "text/plain": [
       "<Figure size 1440x216 with 1 Axes>"
      ]
     },
     "metadata": {
      "needs_background": "light"
     },
     "output_type": "display_data"
    }
   ],
   "source": [
    "plot_parameter(topics_20_completions, 'flesch_score', ticks=5, bins=80)"
   ]
  },
  {
   "cell_type": "code",
   "execution_count": 46,
   "metadata": {},
   "outputs": [
    {
     "data": {
      "image/png": "[encoded data removed]",
      "text/plain": [
       "<Figure size 1440x216 with 1 Axes>"
      ]
     },
     "metadata": {
      "needs_background": "light"
     },
     "output_type": "display_data"
    }
   ],
   "source": [
    "plot_parameter(topics_20_completions, 'dale_chall_score', ticks=1, bins=50)"
   ]
  },
  {
   "cell_type": "markdown",
   "metadata": {},
   "source": [
    "## Compute other readability scores"
   ]
  },
  {
   "cell_type": "code",
   "execution_count": 19,
   "metadata": {},
   "outputs": [],
   "source": [
    "def get_all_scores(text):\n",
    "    r = Readability(text)\n",
    "    \n",
    "    try:\n",
    "        fk = r.flesch_kincaid().score\n",
    "    except:  # readability.ReadabilityException:\n",
    "        fk = 0\n",
    "    \n",
    "    try:\n",
    "        gf = r.gunning_fog().score\n",
    "    except:\n",
    "        gf = 0\n",
    "        \n",
    "    try:\n",
    "        cl = r.coleman_liau().score\n",
    "    except:\n",
    "        cl = 0\n",
    "        \n",
    "    try:\n",
    "        ari = r.ari().score\n",
    "    except:\n",
    "        ari = 0\n",
    "        \n",
    "    try:\n",
    "        lw = r.linsear_write().score\n",
    "    except:\n",
    "        lw = 0\n",
    "        \n",
    "    try:\n",
    "        smog = r.smog().score\n",
    "    except:\n",
    "        smog = 0\n",
    "        \n",
    "    try:\n",
    "        spache = r.spache().score\n",
    "    except:\n",
    "        spache = 0\n",
    "        \n",
    "    return fk, gf, cl, ari, lw, smog, spache"
   ]
  },
  {
   "cell_type": "code",
   "execution_count": 20,
   "metadata": {},
   "outputs": [],
   "source": [
    "scores = ['flesch_kincaid', 'gunning_fog', 'coleman_liau', 'ari', 'linsear_write', 'smog', 'spache']\n",
    "\n",
    "dict_scores = {}\n",
    "for score in scores:\n",
    "    dict_scores[score] = []"
   ]
  },
  {
   "cell_type": "code",
   "execution_count": 21,
   "metadata": {},
   "outputs": [
    {
     "name": "stdout",
     "output_type": "stream",
     "text": [
      "0\n",
      "100\n",
      "200\n",
      "300\n",
      "400\n",
      "500\n",
      "600\n",
      "700\n",
      "800\n",
      "900\n",
      "1000\n",
      "1100\n",
      "1200\n",
      "1300\n"
     ]
    }
   ],
   "source": [
    "for i, text in enumerate(df_topics.cleaned_texts):\n",
    "    if i % 100 == 0:\n",
    "        print(i)\n",
    "    try:\n",
    "        fk, gf, cl, ari, lw, smog, spache = get_all_scores(text)\n",
    "    except:\n",
    "        print('###', i)\n",
    "        raise\n",
    "        \n",
    "    dict_scores['flesch_kincaid'].append(fk)\n",
    "    dict_scores['gunning_fog'].append(gf)\n",
    "    dict_scores['coleman_liau'].append(cl)\n",
    "    dict_scores['ari'].append(ari)\n",
    "    dict_scores['linsear_write'].append(lw)\n",
    "    dict_scores['smog'].append(smog)\n",
    "    dict_scores['spache'].append(spache)"
   ]
  },
  {
   "cell_type": "code",
   "execution_count": 22,
   "metadata": {},
   "outputs": [],
   "source": [
    "df_topics['flesch_kincaid_score'] = dict_scores['flesch_kincaid']\n",
    "df_topics['gunning_fog_score'] = dict_scores['gunning_fog']\n",
    "df_topics['coleman_liau_score'] = dict_scores['coleman_liau']\n",
    "df_topics['ari_score'] = dict_scores['ari']\n",
    "df_topics['linsear_write_score'] = dict_scores['linsear_write']\n",
    "df_topics['smog_score'] = dict_scores['smog']\n",
    "df_topics['spache_score'] = dict_scores['spache']"
   ]
  },
  {
   "cell_type": "code",
   "execution_count": 23,
   "metadata": {},
   "outputs": [],
   "source": [
    "path = '/home/anna/Documents/Diploma/code/new_cleaned'"
   ]
  },
  {
   "cell_type": "code",
   "execution_count": 24,
   "metadata": {},
   "outputs": [],
   "source": [
    "df_topics.to_csv(f'{path}/topics_all_statistics_and_MORE_scores.csv', index=False)"
   ]
  },
  {
   "cell_type": "code",
   "execution_count": 25,
   "metadata": {},
   "outputs": [
    {
     "name": "stdout",
     "output_type": "stream",
     "text": [
      "flesch_kincaid\n",
      "0\n",
      "gunning_fog\n",
      "0\n",
      "coleman_liau\n",
      "0\n",
      "ari\n",
      "0\n",
      "linsear_write\n",
      "0\n",
      "smog\n",
      "570\n",
      "spache\n",
      "0\n"
     ]
    }
   ],
   "source": [
    "# how many topics have a zero score (it was not computed)\n",
    "for score in scores:\n",
    "    print(score)\n",
    "    print(df_topics[df_topics[f'{score}_score'] == 0].shape[0])"
   ]
  },
  {
   "cell_type": "code",
   "execution_count": null,
   "metadata": {},
   "outputs": [],
   "source": [
    "# for smog the text should be at least 30 sents long"
   ]
  },
  {
   "cell_type": "code",
   "execution_count": 26,
   "metadata": {},
   "outputs": [
    {
     "data": {
      "text/html": [
       "<div>\n",
       "<style scoped>\n",
       "    .dataframe tbody tr th:only-of-type {\n",
       "        vertical-align: middle;\n",
       "    }\n",
       "\n",
       "    .dataframe tbody tr th {\n",
       "        vertical-align: top;\n",
       "    }\n",
       "\n",
       "    .dataframe thead th {\n",
       "        text-align: right;\n",
       "    }\n",
       "</style>\n",
       "<table border=\"1\" class=\"dataframe\">\n",
       "  <thead>\n",
       "    <tr style=\"text-align: right;\">\n",
       "      <th></th>\n",
       "      <th>step_id</th>\n",
       "      <th>cleaned_texts</th>\n",
       "      <th>num_words</th>\n",
       "      <th>num_sentences</th>\n",
       "      <th>smog_score</th>\n",
       "    </tr>\n",
       "  </thead>\n",
       "  <tbody>\n",
       "    <tr>\n",
       "      <th>0</th>\n",
       "      <td>12357</td>\n",
       "      <td>\" *heading* So far you have learned quite a lo...</td>\n",
       "      <td>618</td>\n",
       "      <td>24</td>\n",
       "      <td>0.0</td>\n",
       "    </tr>\n",
       "    <tr>\n",
       "      <th>4</th>\n",
       "      <td>15809</td>\n",
       "      <td>\" *heading* When you have already learned the ...</td>\n",
       "      <td>633</td>\n",
       "      <td>21</td>\n",
       "      <td>0.0</td>\n",
       "    </tr>\n",
       "    <tr>\n",
       "      <th>7</th>\n",
       "      <td>8754</td>\n",
       "      <td>\"Making a site, we want to isolate the process...</td>\n",
       "      <td>585</td>\n",
       "      <td>24</td>\n",
       "      <td>0.0</td>\n",
       "    </tr>\n",
       "    <tr>\n",
       "      <th>11</th>\n",
       "      <td>11290</td>\n",
       "      <td>\"You already have a basic idea of collections,...</td>\n",
       "      <td>537</td>\n",
       "      <td>17</td>\n",
       "      <td>0.0</td>\n",
       "    </tr>\n",
       "    <tr>\n",
       "      <th>14</th>\n",
       "      <td>16308</td>\n",
       "      <td>\"You are already familiar with the main collec...</td>\n",
       "      <td>489</td>\n",
       "      <td>18</td>\n",
       "      <td>0.0</td>\n",
       "    </tr>\n",
       "  </tbody>\n",
       "</table>\n",
       "</div>"
      ],
      "text/plain": [
       "    step_id                                      cleaned_texts  num_words  \\\n",
       "0     12357  \" *heading* So far you have learned quite a lo...        618   \n",
       "4     15809  \" *heading* When you have already learned the ...        633   \n",
       "7      8754  \"Making a site, we want to isolate the process...        585   \n",
       "11    11290  \"You already have a basic idea of collections,...        537   \n",
       "14    16308  \"You are already familiar with the main collec...        489   \n",
       "\n",
       "    num_sentences  smog_score  \n",
       "0              24         0.0  \n",
       "4              21         0.0  \n",
       "7              24         0.0  \n",
       "11             17         0.0  \n",
       "14             18         0.0  "
      ]
     },
     "execution_count": 26,
     "metadata": {},
     "output_type": "execute_result"
    }
   ],
   "source": [
    "smog_zero = df_topics[df_topics['smog_score'] == 0]\n",
    "smog_zero = smog_zero[['step_id', 'cleaned_texts', 'num_words', 'num_sentences', 'smog_score']]\n",
    "smog_zero.head()"
   ]
  },
  {
   "cell_type": "code",
   "execution_count": null,
   "metadata": {},
   "outputs": [],
   "source": []
  }
 ],
 "metadata": {
  "kernelspec": {
   "display_name": "Python 3",
   "language": "python",
   "name": "python3"
  },
  "language_info": {
   "codemirror_mode": {
    "name": "ipython",
    "version": 3
   },
   "file_extension": ".py",
   "mimetype": "text/x-python",
   "name": "python",
   "nbconvert_exporter": "python",
   "pygments_lexer": "ipython3",
   "version": "3.6.9"
  }
 },
 "nbformat": 4,
 "nbformat_minor": 4
}
