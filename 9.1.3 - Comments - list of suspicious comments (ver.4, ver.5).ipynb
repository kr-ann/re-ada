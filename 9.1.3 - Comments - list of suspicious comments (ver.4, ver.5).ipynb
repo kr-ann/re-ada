{
 "cells": [
  {
   "cell_type": "markdown",
   "metadata": {},
   "source": [
    "## Search only for words that are connected to understanding, reading, writing"
   ]
  },
  {
   "cell_type": "code",
   "execution_count": 1,
   "metadata": {},
   "outputs": [],
   "source": [
    "import pandas as pd"
   ]
  },
  {
   "cell_type": "code",
   "execution_count": 2,
   "metadata": {},
   "outputs": [],
   "source": [
    "path = '../other_dumps/comments'"
   ]
  },
  {
   "cell_type": "code",
   "execution_count": 8,
   "metadata": {},
   "outputs": [],
   "source": [
    "all_texts_comments = pd.read_csv(f'{path}/all_comments_to_theories.csv')"
   ]
  },
  {
   "cell_type": "code",
   "execution_count": 4,
   "metadata": {},
   "outputs": [
    {
     "data": {
      "text/plain": [
       "['comprehension',\n",
       " 'apprehension',\n",
       " 'grasp',\n",
       " 'wording',\n",
       " 'language',\n",
       " 'phrasing',\n",
       " 'word',\n",
       " 'text',\n",
       " 'english',\n",
       " 'language']"
      ]
     },
     "execution_count": 4,
     "metadata": {},
     "output_type": "execute_result"
    }
   ],
   "source": [
    "file = './synonyms_writing.txt'\n",
    "with open(file, 'r') as f:\n",
    "    list_words = f.read().split('\\n')\n",
    "list_words = [el for el in list_words if el]\n",
    "list_words[:10]"
   ]
  },
  {
   "cell_type": "code",
   "execution_count": 5,
   "metadata": {},
   "outputs": [],
   "source": [
    "overall_set = set(list_words)"
   ]
  },
  {
   "cell_type": "code",
   "execution_count": 6,
   "metadata": {},
   "outputs": [],
   "source": [
    "def words_occur(lem_text, list_words):\n",
    "    try:\n",
    "        lem_set = set(lem_text.split())\n",
    "    except:\n",
    "        print(lem_text)\n",
    "        raise\n",
    "    count = 0\n",
    "    for word in list_words:\n",
    "        if word in lem_set:\n",
    "            count += 1\n",
    "    return count"
   ]
  },
  {
   "cell_type": "code",
   "execution_count": 9,
   "metadata": {},
   "outputs": [],
   "source": [
    "counts_bad = []\n",
    "\n",
    "for i, row in all_texts_comments.iterrows():\n",
    "    text = row.lemmatized_comments\n",
    "    if isinstance(text, float):\n",
    "        text = ''\n",
    "    count_bad_all = words_occur(text, overall_set)\n",
    "    counts_bad.append(count_bad_all)"
   ]
  },
  {
   "cell_type": "code",
   "execution_count": 10,
   "metadata": {},
   "outputs": [],
   "source": [
    "all_texts_comments['count_bad'] = counts_bad"
   ]
  },
  {
   "cell_type": "code",
   "execution_count": 11,
   "metadata": {},
   "outputs": [
    {
     "data": {
      "text/html": [
       "<div>\n",
       "<style scoped>\n",
       "    .dataframe tbody tr th:only-of-type {\n",
       "        vertical-align: middle;\n",
       "    }\n",
       "\n",
       "    .dataframe tbody tr th {\n",
       "        vertical-align: top;\n",
       "    }\n",
       "\n",
       "    .dataframe thead th {\n",
       "        text-align: right;\n",
       "    }\n",
       "</style>\n",
       "<table border=\"1\" class=\"dataframe\">\n",
       "  <thead>\n",
       "    <tr style=\"text-align: right;\">\n",
       "      <th></th>\n",
       "      <th>id</th>\n",
       "      <th>status</th>\n",
       "      <th>thread</th>\n",
       "      <th>text</th>\n",
       "      <th>time</th>\n",
       "      <th>content_link</th>\n",
       "      <th>block_name</th>\n",
       "      <th>enabled</th>\n",
       "      <th>abuses</th>\n",
       "      <th>likes</th>\n",
       "      <th>replies</th>\n",
       "      <th>anon_user_id</th>\n",
       "      <th>area</th>\n",
       "      <th>step_id</th>\n",
       "      <th>topic_id</th>\n",
       "      <th>lemmatized_comments</th>\n",
       "      <th>count_bad</th>\n",
       "    </tr>\n",
       "  </thead>\n",
       "  <tbody>\n",
       "    <tr>\n",
       "      <th>0</th>\n",
       "      <td>9403</td>\n",
       "      <td>fixed</td>\n",
       "      <td>comment</td>\n",
       "      <td>\"...to divide between two your friends\"\\r\\nI t...</td>\n",
       "      <td>2019-06-08 20:14:45</td>\n",
       "      <td>https://hyperskill.org/learn/step/5614</td>\n",
       "      <td>text</td>\n",
       "      <td>0</td>\n",
       "      <td>0</td>\n",
       "      <td>0</td>\n",
       "      <td>0</td>\n",
       "      <td>45</td>\n",
       "      <td>math</td>\n",
       "      <td>5614</td>\n",
       "      <td>370.0</td>\n",
       "      <td>\" ... to divide between two your friend \" \\r\\n...</td>\n",
       "      <td>0</td>\n",
       "    </tr>\n",
       "    <tr>\n",
       "      <th>1</th>\n",
       "      <td>9408</td>\n",
       "      <td>won't fix</td>\n",
       "      <td>comment</td>\n",
       "      <td>It was not completely clear for me, how to con...</td>\n",
       "      <td>2019-06-08 20:32:26</td>\n",
       "      <td>https://hyperskill.org/learn/step/5614</td>\n",
       "      <td>text</td>\n",
       "      <td>1</td>\n",
       "      <td>0</td>\n",
       "      <td>3</td>\n",
       "      <td>2</td>\n",
       "      <td>45</td>\n",
       "      <td>math</td>\n",
       "      <td>5614</td>\n",
       "      <td>370.0</td>\n",
       "      <td>it be not completely clear for I , how to conv...</td>\n",
       "      <td>1</td>\n",
       "    </tr>\n",
       "    <tr>\n",
       "      <th>2</th>\n",
       "      <td>15054</td>\n",
       "      <td>fixed</td>\n",
       "      <td>feedback</td>\n",
       "      <td>completly not understood</td>\n",
       "      <td>2019-07-09 11:11:43</td>\n",
       "      <td>https://hyperskill.org/learn/step/5753</td>\n",
       "      <td>text</td>\n",
       "      <td>1</td>\n",
       "      <td>0</td>\n",
       "      <td>0</td>\n",
       "      <td>0</td>\n",
       "      <td>105</td>\n",
       "      <td>math</td>\n",
       "      <td>5753</td>\n",
       "      <td>385.0</td>\n",
       "      <td>completly not understand</td>\n",
       "      <td>1</td>\n",
       "    </tr>\n",
       "    <tr>\n",
       "      <th>3</th>\n",
       "      <td>15115</td>\n",
       "      <td>fixed</td>\n",
       "      <td>feedback</td>\n",
       "      <td>A better explanation is needed with clear defi...</td>\n",
       "      <td>2019-07-09 17:34:21</td>\n",
       "      <td>https://hyperskill.org/learn/step/5753</td>\n",
       "      <td>text</td>\n",
       "      <td>1</td>\n",
       "      <td>0</td>\n",
       "      <td>0</td>\n",
       "      <td>0</td>\n",
       "      <td>109</td>\n",
       "      <td>math</td>\n",
       "      <td>5753</td>\n",
       "      <td>385.0</td>\n",
       "      <td>a well explanation be need with clear definiti...</td>\n",
       "      <td>2</td>\n",
       "    </tr>\n",
       "    <tr>\n",
       "      <th>4</th>\n",
       "      <td>15268</td>\n",
       "      <td>fixed</td>\n",
       "      <td>comment</td>\n",
       "      <td>&gt;remember that 2^8 in decimal is 1000 0000 in ...</td>\n",
       "      <td>2019-07-10 16:03:41</td>\n",
       "      <td>https://hyperskill.org/learn/step/5753</td>\n",
       "      <td>text</td>\n",
       "      <td>0</td>\n",
       "      <td>0</td>\n",
       "      <td>1</td>\n",
       "      <td>0</td>\n",
       "      <td>122</td>\n",
       "      <td>math</td>\n",
       "      <td>5753</td>\n",
       "      <td>385.0</td>\n",
       "      <td>&gt; remember that 2 ^ 8 in decimal be 1000 0000 ...</td>\n",
       "      <td>0</td>\n",
       "    </tr>\n",
       "  </tbody>\n",
       "</table>\n",
       "</div>"
      ],
      "text/plain": [
       "      id     status    thread  \\\n",
       "0   9403      fixed   comment   \n",
       "1   9408  won't fix   comment   \n",
       "2  15054      fixed  feedback   \n",
       "3  15115      fixed  feedback   \n",
       "4  15268      fixed   comment   \n",
       "\n",
       "                                                text                 time  \\\n",
       "0  \"...to divide between two your friends\"\\r\\nI t...  2019-06-08 20:14:45   \n",
       "1  It was not completely clear for me, how to con...  2019-06-08 20:32:26   \n",
       "2                           completly not understood  2019-07-09 11:11:43   \n",
       "3  A better explanation is needed with clear defi...  2019-07-09 17:34:21   \n",
       "4  >remember that 2^8 in decimal is 1000 0000 in ...  2019-07-10 16:03:41   \n",
       "\n",
       "                             content_link block_name  enabled  abuses  likes  \\\n",
       "0  https://hyperskill.org/learn/step/5614       text        0       0      0   \n",
       "1  https://hyperskill.org/learn/step/5614       text        1       0      3   \n",
       "2  https://hyperskill.org/learn/step/5753       text        1       0      0   \n",
       "3  https://hyperskill.org/learn/step/5753       text        1       0      0   \n",
       "4  https://hyperskill.org/learn/step/5753       text        0       0      1   \n",
       "\n",
       "   replies  anon_user_id  area  step_id  topic_id  \\\n",
       "0        0            45  math     5614     370.0   \n",
       "1        2            45  math     5614     370.0   \n",
       "2        0           105  math     5753     385.0   \n",
       "3        0           109  math     5753     385.0   \n",
       "4        0           122  math     5753     385.0   \n",
       "\n",
       "                                 lemmatized_comments  count_bad  \n",
       "0  \" ... to divide between two your friend \" \\r\\n...          0  \n",
       "1  it be not completely clear for I , how to conv...          1  \n",
       "2                           completly not understand          1  \n",
       "3  a well explanation be need with clear definiti...          2  \n",
       "4  > remember that 2 ^ 8 in decimal be 1000 0000 ...          0  "
      ]
     },
     "execution_count": 11,
     "metadata": {},
     "output_type": "execute_result"
    }
   ],
   "source": [
    "all_texts_comments.head()"
   ]
  },
  {
   "cell_type": "code",
   "execution_count": 12,
   "metadata": {},
   "outputs": [],
   "source": [
    "all_texts_comments.to_csv(f'{path}/VER4_all_comments_to_theories_with_scores.csv', index=False)"
   ]
  },
  {
   "cell_type": "markdown",
   "metadata": {},
   "source": [
    "## Now, for VER5: count number of words about unclearness "
   ]
  },
  {
   "cell_type": "code",
   "execution_count": 13,
   "metadata": {},
   "outputs": [],
   "source": [
    "all_texts_comments = all_texts_comments.drop(columns=['count_bad'])\n",
    "all_texts_comments['count_writing'] = counts_bad"
   ]
  },
  {
   "cell_type": "code",
   "execution_count": 14,
   "metadata": {},
   "outputs": [
    {
     "data": {
      "text/plain": [
       "['ADD ALSO ALL ADJ',\n",
       " 'confuse',\n",
       " 'baffle',\n",
       " 'confound',\n",
       " 'disconcert',\n",
       " 'frustrate',\n",
       " 'obscure',\n",
       " 'perplex',\n",
       " 'puzzle',\n",
       " 'trouble']"
      ]
     },
     "execution_count": 14,
     "metadata": {},
     "output_type": "execute_result"
    }
   ],
   "source": [
    "file = './synonyms_unclearness.txt'\n",
    "with open(file, 'r') as f:\n",
    "    list_words = f.read().split('\\n')\n",
    "list_words = [el for el in list_words if el]\n",
    "list_words[:10]"
   ]
  },
  {
   "cell_type": "code",
   "execution_count": 16,
   "metadata": {},
   "outputs": [],
   "source": [
    "list_words = list_words[1:]"
   ]
  },
  {
   "cell_type": "code",
   "execution_count": 15,
   "metadata": {},
   "outputs": [
    {
     "data": {
      "text/plain": [
       "['confusing',\n",
       " 'baffling',\n",
       " 'bewildering',\n",
       " 'complex',\n",
       " 'complicated',\n",
       " 'confounding',\n",
       " 'difficult',\n",
       " 'disconcerting',\n",
       " 'perplexing',\n",
       " 'upsetting']"
      ]
     },
     "execution_count": 15,
     "metadata": {},
     "output_type": "execute_result"
    }
   ],
   "source": [
    "# adding adjectives\n",
    "file = './synonyms_adj.txt'\n",
    "with open(file, 'r') as f:\n",
    "    list_adj = f.read().split('\\n')\n",
    "    \n",
    "list_adj = [el for el in list_adj if (el and not el.startswith('https'))]\n",
    "list_adj[:10]"
   ]
  },
  {
   "cell_type": "code",
   "execution_count": 17,
   "metadata": {},
   "outputs": [
    {
     "data": {
      "text/plain": [
       "['confusingly',\n",
       " 'bafflingly',\n",
       " 'bewilderingly',\n",
       " 'complexly',\n",
       " 'complicatedly',\n",
       " 'confoundingly',\n",
       " 'difficultly',\n",
       " 'disconcertingly',\n",
       " 'perplexingly',\n",
       " 'upsettingly']"
      ]
     },
     "execution_count": 17,
     "metadata": {},
     "output_type": "execute_result"
    }
   ],
   "source": [
    "# adding adverbs\n",
    "list_adv = [el + 'ly' for el in list_adj]\n",
    "list_adv[:10]"
   ]
  },
  {
   "cell_type": "code",
   "execution_count": 18,
   "metadata": {},
   "outputs": [],
   "source": [
    "overall_list = list_adj + list_adv + list_words\n",
    "overall_set = set(overall_list)"
   ]
  },
  {
   "cell_type": "code",
   "execution_count": 19,
   "metadata": {},
   "outputs": [],
   "source": [
    "counts_bad = []\n",
    "\n",
    "for i, row in all_texts_comments.iterrows():\n",
    "    text = row.lemmatized_comments\n",
    "    if isinstance(text, float):\n",
    "        text = ''\n",
    "    count_bad_all = words_occur(text, overall_set)\n",
    "    counts_bad.append(count_bad_all)"
   ]
  },
  {
   "cell_type": "code",
   "execution_count": 20,
   "metadata": {},
   "outputs": [],
   "source": [
    "all_texts_comments['count_unclearness'] = counts_bad"
   ]
  },
  {
   "cell_type": "code",
   "execution_count": 21,
   "metadata": {},
   "outputs": [
    {
     "data": {
      "text/html": [
       "<div>\n",
       "<style scoped>\n",
       "    .dataframe tbody tr th:only-of-type {\n",
       "        vertical-align: middle;\n",
       "    }\n",
       "\n",
       "    .dataframe tbody tr th {\n",
       "        vertical-align: top;\n",
       "    }\n",
       "\n",
       "    .dataframe thead th {\n",
       "        text-align: right;\n",
       "    }\n",
       "</style>\n",
       "<table border=\"1\" class=\"dataframe\">\n",
       "  <thead>\n",
       "    <tr style=\"text-align: right;\">\n",
       "      <th></th>\n",
       "      <th>id</th>\n",
       "      <th>status</th>\n",
       "      <th>thread</th>\n",
       "      <th>text</th>\n",
       "      <th>time</th>\n",
       "      <th>content_link</th>\n",
       "      <th>block_name</th>\n",
       "      <th>enabled</th>\n",
       "      <th>abuses</th>\n",
       "      <th>likes</th>\n",
       "      <th>replies</th>\n",
       "      <th>anon_user_id</th>\n",
       "      <th>area</th>\n",
       "      <th>step_id</th>\n",
       "      <th>topic_id</th>\n",
       "      <th>lemmatized_comments</th>\n",
       "      <th>count_writing</th>\n",
       "      <th>count_unclearness</th>\n",
       "    </tr>\n",
       "  </thead>\n",
       "  <tbody>\n",
       "    <tr>\n",
       "      <th>0</th>\n",
       "      <td>9403</td>\n",
       "      <td>fixed</td>\n",
       "      <td>comment</td>\n",
       "      <td>\"...to divide between two your friends\"\\r\\nI t...</td>\n",
       "      <td>2019-06-08 20:14:45</td>\n",
       "      <td>https://hyperskill.org/learn/step/5614</td>\n",
       "      <td>text</td>\n",
       "      <td>0</td>\n",
       "      <td>0</td>\n",
       "      <td>0</td>\n",
       "      <td>0</td>\n",
       "      <td>45</td>\n",
       "      <td>math</td>\n",
       "      <td>5614</td>\n",
       "      <td>370.0</td>\n",
       "      <td>\" ... to divide between two your friend \" \\r\\n...</td>\n",
       "      <td>0</td>\n",
       "      <td>0</td>\n",
       "    </tr>\n",
       "    <tr>\n",
       "      <th>1</th>\n",
       "      <td>9408</td>\n",
       "      <td>won't fix</td>\n",
       "      <td>comment</td>\n",
       "      <td>It was not completely clear for me, how to con...</td>\n",
       "      <td>2019-06-08 20:32:26</td>\n",
       "      <td>https://hyperskill.org/learn/step/5614</td>\n",
       "      <td>text</td>\n",
       "      <td>1</td>\n",
       "      <td>0</td>\n",
       "      <td>3</td>\n",
       "      <td>2</td>\n",
       "      <td>45</td>\n",
       "      <td>math</td>\n",
       "      <td>5614</td>\n",
       "      <td>370.0</td>\n",
       "      <td>it be not completely clear for I , how to conv...</td>\n",
       "      <td>1</td>\n",
       "      <td>1</td>\n",
       "    </tr>\n",
       "    <tr>\n",
       "      <th>2</th>\n",
       "      <td>15054</td>\n",
       "      <td>fixed</td>\n",
       "      <td>feedback</td>\n",
       "      <td>completly not understood</td>\n",
       "      <td>2019-07-09 11:11:43</td>\n",
       "      <td>https://hyperskill.org/learn/step/5753</td>\n",
       "      <td>text</td>\n",
       "      <td>1</td>\n",
       "      <td>0</td>\n",
       "      <td>0</td>\n",
       "      <td>0</td>\n",
       "      <td>105</td>\n",
       "      <td>math</td>\n",
       "      <td>5753</td>\n",
       "      <td>385.0</td>\n",
       "      <td>completly not understand</td>\n",
       "      <td>1</td>\n",
       "      <td>0</td>\n",
       "    </tr>\n",
       "    <tr>\n",
       "      <th>3</th>\n",
       "      <td>15115</td>\n",
       "      <td>fixed</td>\n",
       "      <td>feedback</td>\n",
       "      <td>A better explanation is needed with clear defi...</td>\n",
       "      <td>2019-07-09 17:34:21</td>\n",
       "      <td>https://hyperskill.org/learn/step/5753</td>\n",
       "      <td>text</td>\n",
       "      <td>1</td>\n",
       "      <td>0</td>\n",
       "      <td>0</td>\n",
       "      <td>0</td>\n",
       "      <td>109</td>\n",
       "      <td>math</td>\n",
       "      <td>5753</td>\n",
       "      <td>385.0</td>\n",
       "      <td>a well explanation be need with clear definiti...</td>\n",
       "      <td>2</td>\n",
       "      <td>0</td>\n",
       "    </tr>\n",
       "    <tr>\n",
       "      <th>4</th>\n",
       "      <td>15268</td>\n",
       "      <td>fixed</td>\n",
       "      <td>comment</td>\n",
       "      <td>&gt;remember that 2^8 in decimal is 1000 0000 in ...</td>\n",
       "      <td>2019-07-10 16:03:41</td>\n",
       "      <td>https://hyperskill.org/learn/step/5753</td>\n",
       "      <td>text</td>\n",
       "      <td>0</td>\n",
       "      <td>0</td>\n",
       "      <td>1</td>\n",
       "      <td>0</td>\n",
       "      <td>122</td>\n",
       "      <td>math</td>\n",
       "      <td>5753</td>\n",
       "      <td>385.0</td>\n",
       "      <td>&gt; remember that 2 ^ 8 in decimal be 1000 0000 ...</td>\n",
       "      <td>0</td>\n",
       "      <td>0</td>\n",
       "    </tr>\n",
       "  </tbody>\n",
       "</table>\n",
       "</div>"
      ],
      "text/plain": [
       "      id     status    thread  \\\n",
       "0   9403      fixed   comment   \n",
       "1   9408  won't fix   comment   \n",
       "2  15054      fixed  feedback   \n",
       "3  15115      fixed  feedback   \n",
       "4  15268      fixed   comment   \n",
       "\n",
       "                                                text                 time  \\\n",
       "0  \"...to divide between two your friends\"\\r\\nI t...  2019-06-08 20:14:45   \n",
       "1  It was not completely clear for me, how to con...  2019-06-08 20:32:26   \n",
       "2                           completly not understood  2019-07-09 11:11:43   \n",
       "3  A better explanation is needed with clear defi...  2019-07-09 17:34:21   \n",
       "4  >remember that 2^8 in decimal is 1000 0000 in ...  2019-07-10 16:03:41   \n",
       "\n",
       "                             content_link block_name  enabled  abuses  likes  \\\n",
       "0  https://hyperskill.org/learn/step/5614       text        0       0      0   \n",
       "1  https://hyperskill.org/learn/step/5614       text        1       0      3   \n",
       "2  https://hyperskill.org/learn/step/5753       text        1       0      0   \n",
       "3  https://hyperskill.org/learn/step/5753       text        1       0      0   \n",
       "4  https://hyperskill.org/learn/step/5753       text        0       0      1   \n",
       "\n",
       "   replies  anon_user_id  area  step_id  topic_id  \\\n",
       "0        0            45  math     5614     370.0   \n",
       "1        2            45  math     5614     370.0   \n",
       "2        0           105  math     5753     385.0   \n",
       "3        0           109  math     5753     385.0   \n",
       "4        0           122  math     5753     385.0   \n",
       "\n",
       "                                 lemmatized_comments  count_writing  \\\n",
       "0  \" ... to divide between two your friend \" \\r\\n...              0   \n",
       "1  it be not completely clear for I , how to conv...              1   \n",
       "2                           completly not understand              1   \n",
       "3  a well explanation be need with clear definiti...              2   \n",
       "4  > remember that 2 ^ 8 in decimal be 1000 0000 ...              0   \n",
       "\n",
       "   count_unclearness  \n",
       "0                  0  \n",
       "1                  1  \n",
       "2                  0  \n",
       "3                  0  \n",
       "4                  0  "
      ]
     },
     "execution_count": 21,
     "metadata": {},
     "output_type": "execute_result"
    }
   ],
   "source": [
    "all_texts_comments.head()"
   ]
  },
  {
   "cell_type": "code",
   "execution_count": 22,
   "metadata": {},
   "outputs": [],
   "source": [
    "all_texts_comments.to_csv(f'{path}/VER5_all_comments_to_theories_with_scores.csv', index=False)"
   ]
  },
  {
   "cell_type": "code",
   "execution_count": 24,
   "metadata": {},
   "outputs": [
    {
     "name": "stdout",
     "output_type": "stream",
     "text": [
      "overall 23905\n",
      "words writing 8419\n",
      "words unclear 3812\n",
      "writing+unclear 1958\n"
     ]
    },
    {
     "name": "stderr",
     "output_type": "stream",
     "text": [
      "/home/anna/.local/lib/python3.6/site-packages/ipykernel_launcher.py:4: UserWarning: Boolean Series key will be reindexed to match DataFrame index.\n",
      "  after removing the cwd from sys.path.\n"
     ]
    }
   ],
   "source": [
    "print('overall', all_texts_comments.shape[0])\n",
    "print('words writing', all_texts_comments[all_texts_comments.count_writing > 0].shape[0])\n",
    "print('words unclear', all_texts_comments[all_texts_comments.count_unclearness > 0].shape[0])\n",
    "print('writing+unclear', all_texts_comments[all_texts_comments.count_unclearness > 0][all_texts_comments.count_writing > 0].shape[0])"
   ]
  },
  {
   "cell_type": "code",
   "execution_count": null,
   "metadata": {},
   "outputs": [],
   "source": []
  }
 ],
 "metadata": {
  "kernelspec": {
   "display_name": "Python 3",
   "language": "python",
   "name": "python3"
  },
  "language_info": {
   "codemirror_mode": {
    "name": "ipython",
    "version": 3
   },
   "file_extension": ".py",
   "mimetype": "text/x-python",
   "name": "python",
   "nbconvert_exporter": "python",
   "pygments_lexer": "ipython3",
   "version": "3.6.9"
  }
 },
 "nbformat": 4,
 "nbformat_minor": 4
}
