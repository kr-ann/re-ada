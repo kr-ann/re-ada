{
 "cells": [
  {
   "cell_type": "code",
   "execution_count": 1,
   "metadata": {},
   "outputs": [],
   "source": [
    "path = '/home/anna/Documents/Diploma/other_dumps/comments'"
   ]
  },
  {
   "cell_type": "code",
   "execution_count": 2,
   "metadata": {},
   "outputs": [],
   "source": [
    "import pandas as pd"
   ]
  },
  {
   "cell_type": "code",
   "execution_count": 3,
   "metadata": {},
   "outputs": [],
   "source": [
    "all_texts_comments = pd.read_csv(f'{path}/VER1_all_comments_to_theories_with_scores.csv')"
   ]
  },
  {
   "cell_type": "code",
   "execution_count": 4,
   "metadata": {
    "scrolled": true
   },
   "outputs": [
    {
     "data": {
      "text/html": [
       "<div>\n",
       "<style scoped>\n",
       "    .dataframe tbody tr th:only-of-type {\n",
       "        vertical-align: middle;\n",
       "    }\n",
       "\n",
       "    .dataframe tbody tr th {\n",
       "        vertical-align: top;\n",
       "    }\n",
       "\n",
       "    .dataframe thead th {\n",
       "        text-align: right;\n",
       "    }\n",
       "</style>\n",
       "<table border=\"1\" class=\"dataframe\">\n",
       "  <thead>\n",
       "    <tr style=\"text-align: right;\">\n",
       "      <th></th>\n",
       "      <th>id</th>\n",
       "      <th>status</th>\n",
       "      <th>thread</th>\n",
       "      <th>text</th>\n",
       "      <th>time</th>\n",
       "      <th>content_link</th>\n",
       "      <th>block_name</th>\n",
       "      <th>enabled</th>\n",
       "      <th>abuses</th>\n",
       "      <th>likes</th>\n",
       "      <th>replies</th>\n",
       "      <th>anon_user_id</th>\n",
       "      <th>area</th>\n",
       "      <th>step_id</th>\n",
       "      <th>topic_id</th>\n",
       "      <th>lemmatized_comments</th>\n",
       "      <th>count_bad</th>\n",
       "      <th>TextBlobPolarity</th>\n",
       "      <th>FlairPolarity</th>\n",
       "      <th>comment_grades</th>\n",
       "    </tr>\n",
       "  </thead>\n",
       "  <tbody>\n",
       "    <tr>\n",
       "      <th>0</th>\n",
       "      <td>9403</td>\n",
       "      <td>fixed</td>\n",
       "      <td>comment</td>\n",
       "      <td>\"...to divide between two your friends\"\\r\\nI t...</td>\n",
       "      <td>2019-06-08 20:14:45</td>\n",
       "      <td>https://hyperskill.org/learn/step/5614</td>\n",
       "      <td>text</td>\n",
       "      <td>0</td>\n",
       "      <td>0</td>\n",
       "      <td>0</td>\n",
       "      <td>0</td>\n",
       "      <td>45</td>\n",
       "      <td>math</td>\n",
       "      <td>5614</td>\n",
       "      <td>370.0</td>\n",
       "      <td>\" ... to divide between two your friend \" \\r\\n...</td>\n",
       "      <td>0</td>\n",
       "      <td>0.000000</td>\n",
       "      <td>0.817580</td>\n",
       "      <td>1</td>\n",
       "    </tr>\n",
       "    <tr>\n",
       "      <th>1</th>\n",
       "      <td>9408</td>\n",
       "      <td>won't fix</td>\n",
       "      <td>comment</td>\n",
       "      <td>It was not completely clear for me, how to con...</td>\n",
       "      <td>2019-06-08 20:32:26</td>\n",
       "      <td>https://hyperskill.org/learn/step/5614</td>\n",
       "      <td>text</td>\n",
       "      <td>1</td>\n",
       "      <td>0</td>\n",
       "      <td>3</td>\n",
       "      <td>2</td>\n",
       "      <td>45</td>\n",
       "      <td>math</td>\n",
       "      <td>5614</td>\n",
       "      <td>370.0</td>\n",
       "      <td>it be not completely clear for I , how to conv...</td>\n",
       "      <td>3</td>\n",
       "      <td>0.065278</td>\n",
       "      <td>-0.999997</td>\n",
       "      <td>0</td>\n",
       "    </tr>\n",
       "    <tr>\n",
       "      <th>2</th>\n",
       "      <td>15054</td>\n",
       "      <td>fixed</td>\n",
       "      <td>feedback</td>\n",
       "      <td>completly not understood</td>\n",
       "      <td>2019-07-09 11:11:43</td>\n",
       "      <td>https://hyperskill.org/learn/step/5753</td>\n",
       "      <td>text</td>\n",
       "      <td>1</td>\n",
       "      <td>0</td>\n",
       "      <td>0</td>\n",
       "      <td>0</td>\n",
       "      <td>105</td>\n",
       "      <td>math</td>\n",
       "      <td>5753</td>\n",
       "      <td>385.0</td>\n",
       "      <td>completly not understand</td>\n",
       "      <td>1</td>\n",
       "      <td>0.000000</td>\n",
       "      <td>-0.999818</td>\n",
       "      <td>0</td>\n",
       "    </tr>\n",
       "    <tr>\n",
       "      <th>3</th>\n",
       "      <td>15115</td>\n",
       "      <td>fixed</td>\n",
       "      <td>feedback</td>\n",
       "      <td>A better explanation is needed with clear defi...</td>\n",
       "      <td>2019-07-09 17:34:21</td>\n",
       "      <td>https://hyperskill.org/learn/step/5753</td>\n",
       "      <td>text</td>\n",
       "      <td>1</td>\n",
       "      <td>0</td>\n",
       "      <td>0</td>\n",
       "      <td>0</td>\n",
       "      <td>109</td>\n",
       "      <td>math</td>\n",
       "      <td>5753</td>\n",
       "      <td>385.0</td>\n",
       "      <td>a well explanation be need with clear definiti...</td>\n",
       "      <td>4</td>\n",
       "      <td>0.300000</td>\n",
       "      <td>0.765204</td>\n",
       "      <td>1</td>\n",
       "    </tr>\n",
       "    <tr>\n",
       "      <th>4</th>\n",
       "      <td>15268</td>\n",
       "      <td>fixed</td>\n",
       "      <td>comment</td>\n",
       "      <td>&gt;remember that 2^8 in decimal is 1000 0000 in ...</td>\n",
       "      <td>2019-07-10 16:03:41</td>\n",
       "      <td>https://hyperskill.org/learn/step/5753</td>\n",
       "      <td>text</td>\n",
       "      <td>0</td>\n",
       "      <td>0</td>\n",
       "      <td>1</td>\n",
       "      <td>0</td>\n",
       "      <td>122</td>\n",
       "      <td>math</td>\n",
       "      <td>5753</td>\n",
       "      <td>385.0</td>\n",
       "      <td>&gt; remember that 2 ^ 8 in decimal be 1000 0000 ...</td>\n",
       "      <td>0</td>\n",
       "      <td>0.000000</td>\n",
       "      <td>-0.999927</td>\n",
       "      <td>1</td>\n",
       "    </tr>\n",
       "  </tbody>\n",
       "</table>\n",
       "</div>"
      ],
      "text/plain": [
       "      id     status    thread  \\\n",
       "0   9403      fixed   comment   \n",
       "1   9408  won't fix   comment   \n",
       "2  15054      fixed  feedback   \n",
       "3  15115      fixed  feedback   \n",
       "4  15268      fixed   comment   \n",
       "\n",
       "                                                text                 time  \\\n",
       "0  \"...to divide between two your friends\"\\r\\nI t...  2019-06-08 20:14:45   \n",
       "1  It was not completely clear for me, how to con...  2019-06-08 20:32:26   \n",
       "2                           completly not understood  2019-07-09 11:11:43   \n",
       "3  A better explanation is needed with clear defi...  2019-07-09 17:34:21   \n",
       "4  >remember that 2^8 in decimal is 1000 0000 in ...  2019-07-10 16:03:41   \n",
       "\n",
       "                             content_link block_name  enabled  abuses  likes  \\\n",
       "0  https://hyperskill.org/learn/step/5614       text        0       0      0   \n",
       "1  https://hyperskill.org/learn/step/5614       text        1       0      3   \n",
       "2  https://hyperskill.org/learn/step/5753       text        1       0      0   \n",
       "3  https://hyperskill.org/learn/step/5753       text        1       0      0   \n",
       "4  https://hyperskill.org/learn/step/5753       text        0       0      1   \n",
       "\n",
       "   replies  anon_user_id  area  step_id  topic_id  \\\n",
       "0        0            45  math     5614     370.0   \n",
       "1        2            45  math     5614     370.0   \n",
       "2        0           105  math     5753     385.0   \n",
       "3        0           109  math     5753     385.0   \n",
       "4        0           122  math     5753     385.0   \n",
       "\n",
       "                                 lemmatized_comments  count_bad  \\\n",
       "0  \" ... to divide between two your friend \" \\r\\n...          0   \n",
       "1  it be not completely clear for I , how to conv...          3   \n",
       "2                           completly not understand          1   \n",
       "3  a well explanation be need with clear definiti...          4   \n",
       "4  > remember that 2 ^ 8 in decimal be 1000 0000 ...          0   \n",
       "\n",
       "   TextBlobPolarity  FlairPolarity  comment_grades  \n",
       "0          0.000000       0.817580               1  \n",
       "1          0.065278      -0.999997               0  \n",
       "2          0.000000      -0.999818               0  \n",
       "3          0.300000       0.765204               1  \n",
       "4          0.000000      -0.999927               1  "
      ]
     },
     "execution_count": 4,
     "metadata": {},
     "output_type": "execute_result"
    }
   ],
   "source": [
    "all_texts_comments.head()"
   ]
  },
  {
   "cell_type": "code",
   "execution_count": null,
   "metadata": {},
   "outputs": [],
   "source": [
    "df_with_polarities = pd.read_csv(f'{path}/all_comments_to_theories_with_3_polarities.csv')"
   ]
  },
  {
   "cell_type": "code",
   "execution_count": null,
   "metadata": {},
   "outputs": [],
   "source": [
    "# add polarities to the file with counts of bad words\n",
    "all_texts_comments['TextBlobPolarity'] = df_with_polarities.TextBlobPolarity\n",
    "all_texts_comments['FlairPolarity'] = df_with_polarities.FlairPolarity\n",
    "all_texts_comments['VaderPolarity'] = df_with_polarities.VaderPolarity\n",
    "all_texts_comments.head()"
   ]
  },
  {
   "cell_type": "markdown",
   "metadata": {},
   "source": [
    "## Add final decision about the comment: is it good or bad"
   ]
  },
  {
   "cell_type": "markdown",
   "metadata": {},
   "source": [
    "What we already did: \n",
    "    \n",
    "- Search for ANY of the mentioned words, count their number\n",
    "\n",
    "- Perform sentiment analysis\n",
    "\n",
    "Now: for those comments where there's at least 1 word from the lists:\n",
    "\n",
    "    - If both flair and textblob are negative -- take as negative\n",
    "    - If both are positive, consider positive\n",
    "    - If they differ or around 0 -- consider vague\n",
    "\n",
    "All comments that did not contain words from these lists are also positive"
   ]
  },
  {
   "cell_type": "code",
   "execution_count": 5,
   "metadata": {},
   "outputs": [],
   "source": [
    "comment_grades = []  # 1 if comment says that the topic readable, 0 if it's not clear, -1 is for non-readable\n",
    "\n",
    "for i, row in all_texts_comments.iterrows():\n",
    "    count_words = row['count_bad']\n",
    "    text_blob = row['TextBlobPolarity']\n",
    "    flair = row['FlairPolarity']\n",
    "    \n",
    "    if count_words == 0:\n",
    "        comment_grades.append(0.5)  # there were no trigger words in the comment\n",
    "    else:\n",
    "        if text_blob > 0.25 and flair > 0.5:\n",
    "            comment_grades.append(1)  # the comment is positive\n",
    "        elif text_blob < -0.25 and flair < -0.5:\n",
    "            comment_grades.append(-1)\n",
    "        else:\n",
    "            comment_grades.append(0)"
   ]
  },
  {
   "cell_type": "code",
   "execution_count": 6,
   "metadata": {},
   "outputs": [],
   "source": [
    "all_texts_comments['comment_grades'] = comment_grades"
   ]
  },
  {
   "cell_type": "code",
   "execution_count": 7,
   "metadata": {},
   "outputs": [
    {
     "data": {
      "text/html": [
       "<div>\n",
       "<style scoped>\n",
       "    .dataframe tbody tr th:only-of-type {\n",
       "        vertical-align: middle;\n",
       "    }\n",
       "\n",
       "    .dataframe tbody tr th {\n",
       "        vertical-align: top;\n",
       "    }\n",
       "\n",
       "    .dataframe thead th {\n",
       "        text-align: right;\n",
       "    }\n",
       "</style>\n",
       "<table border=\"1\" class=\"dataframe\">\n",
       "  <thead>\n",
       "    <tr style=\"text-align: right;\">\n",
       "      <th></th>\n",
       "      <th>id</th>\n",
       "      <th>status</th>\n",
       "      <th>thread</th>\n",
       "      <th>text</th>\n",
       "      <th>time</th>\n",
       "      <th>content_link</th>\n",
       "      <th>block_name</th>\n",
       "      <th>enabled</th>\n",
       "      <th>abuses</th>\n",
       "      <th>likes</th>\n",
       "      <th>replies</th>\n",
       "      <th>anon_user_id</th>\n",
       "      <th>area</th>\n",
       "      <th>step_id</th>\n",
       "      <th>topic_id</th>\n",
       "      <th>lemmatized_comments</th>\n",
       "      <th>count_bad</th>\n",
       "      <th>TextBlobPolarity</th>\n",
       "      <th>FlairPolarity</th>\n",
       "      <th>comment_grades</th>\n",
       "    </tr>\n",
       "  </thead>\n",
       "  <tbody>\n",
       "    <tr>\n",
       "      <th>0</th>\n",
       "      <td>9403</td>\n",
       "      <td>fixed</td>\n",
       "      <td>comment</td>\n",
       "      <td>\"...to divide between two your friends\"\\r\\nI t...</td>\n",
       "      <td>2019-06-08 20:14:45</td>\n",
       "      <td>https://hyperskill.org/learn/step/5614</td>\n",
       "      <td>text</td>\n",
       "      <td>0</td>\n",
       "      <td>0</td>\n",
       "      <td>0</td>\n",
       "      <td>0</td>\n",
       "      <td>45</td>\n",
       "      <td>math</td>\n",
       "      <td>5614</td>\n",
       "      <td>370.0</td>\n",
       "      <td>\" ... to divide between two your friend \" \\r\\n...</td>\n",
       "      <td>0</td>\n",
       "      <td>0.000000</td>\n",
       "      <td>0.817580</td>\n",
       "      <td>0.5</td>\n",
       "    </tr>\n",
       "    <tr>\n",
       "      <th>1</th>\n",
       "      <td>9408</td>\n",
       "      <td>won't fix</td>\n",
       "      <td>comment</td>\n",
       "      <td>It was not completely clear for me, how to con...</td>\n",
       "      <td>2019-06-08 20:32:26</td>\n",
       "      <td>https://hyperskill.org/learn/step/5614</td>\n",
       "      <td>text</td>\n",
       "      <td>1</td>\n",
       "      <td>0</td>\n",
       "      <td>3</td>\n",
       "      <td>2</td>\n",
       "      <td>45</td>\n",
       "      <td>math</td>\n",
       "      <td>5614</td>\n",
       "      <td>370.0</td>\n",
       "      <td>it be not completely clear for I , how to conv...</td>\n",
       "      <td>3</td>\n",
       "      <td>0.065278</td>\n",
       "      <td>-0.999997</td>\n",
       "      <td>0.0</td>\n",
       "    </tr>\n",
       "    <tr>\n",
       "      <th>2</th>\n",
       "      <td>15054</td>\n",
       "      <td>fixed</td>\n",
       "      <td>feedback</td>\n",
       "      <td>completly not understood</td>\n",
       "      <td>2019-07-09 11:11:43</td>\n",
       "      <td>https://hyperskill.org/learn/step/5753</td>\n",
       "      <td>text</td>\n",
       "      <td>1</td>\n",
       "      <td>0</td>\n",
       "      <td>0</td>\n",
       "      <td>0</td>\n",
       "      <td>105</td>\n",
       "      <td>math</td>\n",
       "      <td>5753</td>\n",
       "      <td>385.0</td>\n",
       "      <td>completly not understand</td>\n",
       "      <td>1</td>\n",
       "      <td>0.000000</td>\n",
       "      <td>-0.999818</td>\n",
       "      <td>0.0</td>\n",
       "    </tr>\n",
       "    <tr>\n",
       "      <th>3</th>\n",
       "      <td>15115</td>\n",
       "      <td>fixed</td>\n",
       "      <td>feedback</td>\n",
       "      <td>A better explanation is needed with clear defi...</td>\n",
       "      <td>2019-07-09 17:34:21</td>\n",
       "      <td>https://hyperskill.org/learn/step/5753</td>\n",
       "      <td>text</td>\n",
       "      <td>1</td>\n",
       "      <td>0</td>\n",
       "      <td>0</td>\n",
       "      <td>0</td>\n",
       "      <td>109</td>\n",
       "      <td>math</td>\n",
       "      <td>5753</td>\n",
       "      <td>385.0</td>\n",
       "      <td>a well explanation be need with clear definiti...</td>\n",
       "      <td>4</td>\n",
       "      <td>0.300000</td>\n",
       "      <td>0.765204</td>\n",
       "      <td>1.0</td>\n",
       "    </tr>\n",
       "    <tr>\n",
       "      <th>4</th>\n",
       "      <td>15268</td>\n",
       "      <td>fixed</td>\n",
       "      <td>comment</td>\n",
       "      <td>&gt;remember that 2^8 in decimal is 1000 0000 in ...</td>\n",
       "      <td>2019-07-10 16:03:41</td>\n",
       "      <td>https://hyperskill.org/learn/step/5753</td>\n",
       "      <td>text</td>\n",
       "      <td>0</td>\n",
       "      <td>0</td>\n",
       "      <td>1</td>\n",
       "      <td>0</td>\n",
       "      <td>122</td>\n",
       "      <td>math</td>\n",
       "      <td>5753</td>\n",
       "      <td>385.0</td>\n",
       "      <td>&gt; remember that 2 ^ 8 in decimal be 1000 0000 ...</td>\n",
       "      <td>0</td>\n",
       "      <td>0.000000</td>\n",
       "      <td>-0.999927</td>\n",
       "      <td>0.5</td>\n",
       "    </tr>\n",
       "  </tbody>\n",
       "</table>\n",
       "</div>"
      ],
      "text/plain": [
       "      id     status    thread  \\\n",
       "0   9403      fixed   comment   \n",
       "1   9408  won't fix   comment   \n",
       "2  15054      fixed  feedback   \n",
       "3  15115      fixed  feedback   \n",
       "4  15268      fixed   comment   \n",
       "\n",
       "                                                text                 time  \\\n",
       "0  \"...to divide between two your friends\"\\r\\nI t...  2019-06-08 20:14:45   \n",
       "1  It was not completely clear for me, how to con...  2019-06-08 20:32:26   \n",
       "2                           completly not understood  2019-07-09 11:11:43   \n",
       "3  A better explanation is needed with clear defi...  2019-07-09 17:34:21   \n",
       "4  >remember that 2^8 in decimal is 1000 0000 in ...  2019-07-10 16:03:41   \n",
       "\n",
       "                             content_link block_name  enabled  abuses  likes  \\\n",
       "0  https://hyperskill.org/learn/step/5614       text        0       0      0   \n",
       "1  https://hyperskill.org/learn/step/5614       text        1       0      3   \n",
       "2  https://hyperskill.org/learn/step/5753       text        1       0      0   \n",
       "3  https://hyperskill.org/learn/step/5753       text        1       0      0   \n",
       "4  https://hyperskill.org/learn/step/5753       text        0       0      1   \n",
       "\n",
       "   replies  anon_user_id  area  step_id  topic_id  \\\n",
       "0        0            45  math     5614     370.0   \n",
       "1        2            45  math     5614     370.0   \n",
       "2        0           105  math     5753     385.0   \n",
       "3        0           109  math     5753     385.0   \n",
       "4        0           122  math     5753     385.0   \n",
       "\n",
       "                                 lemmatized_comments  count_bad  \\\n",
       "0  \" ... to divide between two your friend \" \\r\\n...          0   \n",
       "1  it be not completely clear for I , how to conv...          3   \n",
       "2                           completly not understand          1   \n",
       "3  a well explanation be need with clear definiti...          4   \n",
       "4  > remember that 2 ^ 8 in decimal be 1000 0000 ...          0   \n",
       "\n",
       "   TextBlobPolarity  FlairPolarity  comment_grades  \n",
       "0          0.000000       0.817580             0.5  \n",
       "1          0.065278      -0.999997             0.0  \n",
       "2          0.000000      -0.999818             0.0  \n",
       "3          0.300000       0.765204             1.0  \n",
       "4          0.000000      -0.999927             0.5  "
      ]
     },
     "execution_count": 7,
     "metadata": {},
     "output_type": "execute_result"
    }
   ],
   "source": [
    "all_texts_comments.head()"
   ]
  },
  {
   "cell_type": "code",
   "execution_count": 8,
   "metadata": {},
   "outputs": [
    {
     "data": {
      "text/plain": [
       "<AxesSubplot:>"
      ]
     },
     "execution_count": 8,
     "metadata": {},
     "output_type": "execute_result"
    },
    {
     "data": {
      "image/png": "[encoded data removed]",
      "text/plain": [
       "<Figure size 432x288 with 1 Axes>"
      ]
     },
     "metadata": {
      "needs_background": "light"
     },
     "output_type": "display_data"
    }
   ],
   "source": [
    "all_texts_comments.comment_grades.hist()  # 1 is good, -1 is bad, 0 is vague, 0.5 is no trigger words"
   ]
  },
  {
   "cell_type": "code",
   "execution_count": null,
   "metadata": {},
   "outputs": [],
   "source": [
    "all_texts_comments.to_csv(f'{path}/VER1_all_comments_to_theories_with_scores.csv', index=False)"
   ]
  },
  {
   "cell_type": "code",
   "execution_count": 9,
   "metadata": {},
   "outputs": [],
   "source": [
    "bad_read_comments = all_texts_comments[all_texts_comments.comment_grades == -1]\n",
    "vague_read_comments = all_texts_comments[all_texts_comments.comment_grades == 0]\n",
    "good_read_comments = all_texts_comments[all_texts_comments.comment_grades == 1]\n",
    "no_triggers_comments = all_texts_comments[all_texts_comments.comment_grades == 0.5]"
   ]
  },
  {
   "cell_type": "code",
   "execution_count": 10,
   "metadata": {},
   "outputs": [
    {
     "name": "stdout",
     "output_type": "stream",
     "text": [
      "bad readability, 1172,       5.0%\n",
      "not clear readability, 9129,       38.0%\n",
      "good readability, 1738,       7.000000000000001%\n",
      "no triggers readability, 11866,       50.0%\n"
     ]
    }
   ],
   "source": [
    "print(f'bad readability, {bad_read_comments.shape[0]}, \\\n",
    "      {round(bad_read_comments.shape[0]/all_texts_comments.shape[0], 2) * 100}%')\n",
    "print(f'not clear readability, {vague_read_comments.shape[0]}, \\\n",
    "      {round(vague_read_comments.shape[0]/all_texts_comments.shape[0], 2) * 100}%')\n",
    "print(f'good readability, {good_read_comments.shape[0]}, \\\n",
    "      {round(good_read_comments.shape[0]/all_texts_comments.shape[0], 2) * 100}%')\n",
    "print(f'no triggers readability, {no_triggers_comments.shape[0]}, \\\n",
    "      {round(no_triggers_comments.shape[0]/all_texts_comments.shape[0], 2) * 100}%')"
   ]
  },
  {
   "cell_type": "code",
   "execution_count": 11,
   "metadata": {},
   "outputs": [],
   "source": [
    "# let's look at the bad comments and vague comments\n",
    "needed_columns = ['id', 'text', 'area', 'step_id', 'topic_id', 'count_bad', 'TextBlobPolarity', 'FlairPolarity']\n",
    "\n",
    "bad_read_comments[needed_columns].to_csv(f'{path}/VER1_all_bad_comments.csv', index=False)\n",
    "vague_read_comments[needed_columns].to_csv(f'{path}/VER1_all_vague_comments.csv', index=False)"
   ]
  },
  {
   "cell_type": "markdown",
   "metadata": {},
   "source": [
    "## From comments' grades, get the division of topics into 'good' and 'bad' ones"
   ]
  },
  {
   "cell_type": "code",
   "execution_count": 12,
   "metadata": {},
   "outputs": [
    {
     "data": {
      "text/plain": [
       "Index(['id', 'status', 'thread', 'text', 'time', 'content_link', 'block_name',\n",
       "       'enabled', 'abuses', 'likes', 'replies', 'anon_user_id', 'area',\n",
       "       'step_id', 'topic_id', 'lemmatized_comments', 'count_bad',\n",
       "       'TextBlobPolarity', 'FlairPolarity', 'comment_grades'],\n",
       "      dtype='object')"
      ]
     },
     "execution_count": 12,
     "metadata": {},
     "output_type": "execute_result"
    }
   ],
   "source": [
    "all_texts_comments.columns"
   ]
  },
  {
   "cell_type": "code",
   "execution_count": 13,
   "metadata": {},
   "outputs": [
    {
     "data": {
      "text/plain": [
       "1117"
      ]
     },
     "execution_count": 13,
     "metadata": {},
     "output_type": "execute_result"
    }
   ],
   "source": [
    "bad_read_comments_non_fixed = bad_read_comments.drop(bad_read_comments[bad_read_comments.status == 'fixed'].index)\n",
    "bad_read_comments_non_fixed.shape[0]  # delete those that were fixed (55 were deleted)"
   ]
  },
  {
   "cell_type": "code",
   "execution_count": 14,
   "metadata": {},
   "outputs": [
    {
     "name": "stdout",
     "output_type": "stream",
     "text": [
      "overall topics: 1120\n",
      "bad topics: 411\n",
      "good topics: 510\n",
      "not clear topics: 976\n"
     ]
    }
   ],
   "source": [
    "distinct_topics_general = set([el[1].topic_id for el in all_texts_comments.iterrows()])\n",
    "distinct_topics_bad = set([el[1].topic_id for el in bad_read_comments_non_fixed.iterrows()])\n",
    "distinct_topics_good = set([el[1].topic_id for el in good_read_comments.iterrows()])\n",
    "distinct_topics_vague = set([el[1].topic_id for el in vague_read_comments.iterrows()])\n",
    "\n",
    "print(f'overall topics: {len(distinct_topics_general)}')\n",
    "print(f'bad topics: {len(distinct_topics_bad)}')\n",
    "print(f'good topics: {len(distinct_topics_good)}')\n",
    "print(f'not clear topics: {len(distinct_topics_vague)}')\n"
   ]
  },
  {
   "cell_type": "code",
   "execution_count": 15,
   "metadata": {},
   "outputs": [
    {
     "data": {
      "text/plain": [
       "264"
      ]
     },
     "execution_count": 15,
     "metadata": {},
     "output_type": "execute_result"
    }
   ],
   "source": [
    "# there are intersections between 'bad' and 'good'\n",
    "intersect_bad_good = distinct_topics_bad.intersection(distinct_topics_good)\n",
    "len(intersect_bad_good)"
   ]
  },
  {
   "cell_type": "code",
   "execution_count": 16,
   "metadata": {},
   "outputs": [],
   "source": [
    "# what if we take as 'bad' those that have >= 2 'bad' comments\n",
    "# and as 'good' those that have >= 2 'good' comments \n",
    "# will there still be intersections?"
   ]
  },
  {
   "cell_type": "code",
   "execution_count": null,
   "metadata": {},
   "outputs": [],
   "source": [
    "def count_good_and_bad_comments_per_each_topic(df):\n",
    "    bad_comments_count_for_topics = dict()\n",
    "    good_comments_count_for_topics = dict()\n",
    "\n",
    "    for i, row in df.iterrows():\n",
    "        status = row['status']\n",
    "        comment_grade = row['comment_grades']\n",
    "        topic_id = row['topic_id']\n",
    "\n",
    "        # add the bad comments count\n",
    "        if topic_id in bad_comments_count_for_topics:\n",
    "            if comment_grade == -1 and status != 'fixed':\n",
    "                bad_comments_count_for_topics[topic_id] += 1\n",
    "            else:\n",
    "                pass  # topic is in the dict but this comment is not bad so we don't change the count\n",
    "\n",
    "        else:\n",
    "            if comment_grade == -1 and status != 'fixed':\n",
    "                bad_comments_count_for_topics[topic_id] = 1  # this is the first comment for topic and it's bad\n",
    "            else:\n",
    "                bad_comments_count_for_topics[topic_id] = 0  # this is the first comment for topic and it's not bad\n",
    "\n",
    "        # now add the good comments count\n",
    "        if topic_id in good_comments_count_for_topics:\n",
    "            if comment_grade == 1:\n",
    "                good_comments_count_for_topics[topic_id] += 1\n",
    "            else:\n",
    "                pass \n",
    "        else:\n",
    "            if comment_grade == 1:\n",
    "                good_comments_count_for_topics[topic_id] = 1  \n",
    "            else:\n",
    "                good_comments_count_for_topics[topic_id] = 0 \n",
    "                \n",
    "    return bad_comments_count_for_topics, good_comments_count_for_topics"
   ]
  },
  {
   "cell_type": "code",
   "execution_count": 17,
   "metadata": {},
   "outputs": [],
   "source": [
    "bad_comments_count_for_topics, good_comments_count_for_topics = count_good_and_bad_comments_per_each_topic(all_texts_comments)"
   ]
  },
  {
   "cell_type": "code",
   "execution_count": 18,
   "metadata": {},
   "outputs": [
    {
     "name": "stdout",
     "output_type": "stream",
     "text": [
      "topics overall 1120\n",
      "bad topics 211\n",
      "good topics 260\n",
      "\n",
      "intersection 117\n",
      "[2, 4, 5, 1033, 524, 12, 14, 15, 529, 20, 537, 25, 27, 28, 32, 38, 550, 40, 1074, 59, 577, 1093, 585, 1105, 87, 89, 90, 607, 608, 97, 624, 113, 625, 117, 1147, 124, 128, 652, 147, 148, 149, 1692, 673, 166, 167, 172, 173, 1724, 192, 193, 711, 712, 1230, 211, 724, 217, 218, 230, 751, 259, 260, 270, 273, 286, 1314, 1315, 812, 307, 309, 315, 317, 323, 333, 336, 849, 872, 362, 876, 391, 394, 395, 396, 397, 398, 399, 402, 403, 404, 405, 918, 408, 410, 412, 415, 417, 418, 429, 431, 432, 435, 438, 441, 443, 444, 448, 449, 452, 455, 466, 485, 486, 488, 491, 501, 502, 1015, 509]\n"
     ]
    }
   ],
   "source": [
    "print('topics overall', len(bad_comments_count_for_topics))\n",
    "\n",
    "bad_topic_ids = set([el for el in bad_comments_count_for_topics if bad_comments_count_for_topics[el] >= 2])\n",
    "good_topic_ids = set([el for el in good_comments_count_for_topics if good_comments_count_for_topics[el] >= 2])\n",
    "print('bad topics', len(bad_topic_ids))\n",
    "print('good topics', len(good_topic_ids))\n",
    "\n",
    "print()\n",
    "inter = good_topic_ids.intersection(bad_topic_ids)\n",
    "print('intersection', len(inter))\n",
    "if len(inter) > 0:\n",
    "    print([int(el) for el in inter])"
   ]
  },
  {
   "cell_type": "code",
   "execution_count": 19,
   "metadata": {},
   "outputs": [],
   "source": [
    "# there are a lot of intersections still"
   ]
  },
  {
   "cell_type": "code",
   "execution_count": 20,
   "metadata": {},
   "outputs": [
    {
     "name": "stdout",
     "output_type": "stream",
     "text": [
      "94\n"
     ]
    }
   ],
   "source": [
    "# how many topics have only comments that contain no trigger words and therefore are neither good nor bad?\n",
    "distinct_topics_no_triggers = set([el[1].topic_id for el in \n",
    "                                   all_texts_comments[all_texts_comments.comment_grades == 0.5].iterrows()])\n",
    "distinct_topics_triggers = set([el[1].topic_id for el in \n",
    "                                all_texts_comments[all_texts_comments.comment_grades != 0.5].iterrows()])\n",
    "\n",
    "res = distinct_topics_no_triggers - distinct_topics_triggers\n",
    "print(len(res))  # these topics will be added to the 'good' part"
   ]
  },
  {
   "cell_type": "markdown",
   "metadata": {},
   "source": [
    "What we'll do:\n",
    "\n",
    "* topics that have >= THRESHOLD 'good' comments and no 'bad' comments: GOOD\n",
    "* vice versa: BAD \n",
    "* topics that have no trigger words in comments: GOOD\n",
    "\n",
    "As a result, many topics will end up in the 'vague' part but at least we'll be sure."
   ]
  },
  {
   "cell_type": "code",
   "execution_count": null,
   "metadata": {},
   "outputs": [],
   "source": [
    "def divide_into_good_vague_bad(bad_comments_count_for_topics, good_comments_count_for_topics, threshold):\n",
    "    final_good_topics = []\n",
    "    final_bad_topics = []\n",
    "    final_vague_topics = []\n",
    "\n",
    "    for topic_id in bad_comments_count_for_topics:\n",
    "        bad_num = bad_comments_count_for_topics[topic_id]\n",
    "        good_num = good_comments_count_for_topics[topic_id]\n",
    "\n",
    "        if bad_num >= threshold and good_num == 0:\n",
    "            final_bad_topics.append(topic_id)\n",
    "        elif good_num >= threshold and bad_num == 0:\n",
    "            final_good_topics.append(topic_id)\n",
    "        else:\n",
    "            final_vague_topics.append(topic_id)\n",
    "            \n",
    "    return final_good_topics, final_vague_topics, final_bad_topics"
   ]
  },
  {
   "cell_type": "code",
   "execution_count": null,
   "metadata": {},
   "outputs": [],
   "source": [
    "final_good_topics, final_vague_topics, final_bad_topics = divide_into_good_vague_bad(bad_comments_count_for_topics, \n",
    "                                                                                     good_comments_count_for_topics, \n",
    "                                                                                     threshold=2)"
   ]
  },
  {
   "cell_type": "code",
   "execution_count": 22,
   "metadata": {},
   "outputs": [
    {
     "name": "stdout",
     "output_type": "stream",
     "text": [
      "good dataset 86\n",
      "bad dataset 52\n",
      "vague dataset 982\n"
     ]
    }
   ],
   "source": [
    "print('good dataset', len(final_good_topics))\n",
    "print('bad dataset', len(final_bad_topics))\n",
    "print('vague dataset', len(final_vague_topics))"
   ]
  },
  {
   "cell_type": "code",
   "execution_count": 23,
   "metadata": {},
   "outputs": [],
   "source": [
    "final_good_topics, final_vague_topics, final_bad_topics = divide_into_good_vague_bad(bad_comments_count_for_topics, \n",
    "                                                                                     good_comments_count_for_topics, \n",
    "                                                                                     threshold=1)"
   ]
  },
  {
   "cell_type": "code",
   "execution_count": 24,
   "metadata": {},
   "outputs": [
    {
     "name": "stdout",
     "output_type": "stream",
     "text": [
      "good dataset 246\n",
      "bad dataset 147\n",
      "vague dataset 727\n"
     ]
    }
   ],
   "source": [
    "print('good dataset', len(final_good_topics))\n",
    "print('bad dataset', len(final_bad_topics))\n",
    "print('vague dataset', len(final_vague_topics))"
   ]
  },
  {
   "cell_type": "code",
   "execution_count": 25,
   "metadata": {},
   "outputs": [],
   "source": [
    "df_with_features = pd.DataFrame({'topic_id': list([int(el) for el in final_good_topics]) + list([int(el) for el in final_bad_topics]), \n",
    "                                'target': [0] * len(final_good_topics) + [1] * len(final_bad_topics)})"
   ]
  },
  {
   "cell_type": "markdown",
   "metadata": {},
   "source": [
    "## Extend the corpus by adding topics with high and low average like"
   ]
  },
  {
   "cell_type": "code",
   "execution_count": 26,
   "metadata": {},
   "outputs": [],
   "source": [
    "file = '/home/anna/Documents/Diploma/topics_with_statistics/topics_3_months_with_statistics_and_scores.csv'"
   ]
  },
  {
   "cell_type": "code",
   "execution_count": 27,
   "metadata": {},
   "outputs": [],
   "source": [
    "topic_statistics = pd.read_csv(file)"
   ]
  },
  {
   "cell_type": "code",
   "execution_count": 28,
   "metadata": {},
   "outputs": [
    {
     "data": {
      "text/html": [
       "<div>\n",
       "<style scoped>\n",
       "    .dataframe tbody tr th:only-of-type {\n",
       "        vertical-align: middle;\n",
       "    }\n",
       "\n",
       "    .dataframe tbody tr th {\n",
       "        vertical-align: top;\n",
       "    }\n",
       "\n",
       "    .dataframe thead th {\n",
       "        text-align: right;\n",
       "    }\n",
       "</style>\n",
       "<table border=\"1\" class=\"dataframe\">\n",
       "  <thead>\n",
       "    <tr style=\"text-align: right;\">\n",
       "      <th></th>\n",
       "      <th>step_id</th>\n",
       "      <th>is_theory</th>\n",
       "      <th>text</th>\n",
       "      <th>seconds_to_complete</th>\n",
       "      <th>last_3_month_completion_rate</th>\n",
       "      <th>last_3_month_avg_like</th>\n",
       "      <th>last_3_month_completed_step_users_count</th>\n",
       "      <th>last_3_month_likes_count</th>\n",
       "      <th>last_3_month_topic_completion_rate</th>\n",
       "      <th>last_3_month_completed_topic_users_count</th>\n",
       "      <th>back_to_theory_times_per_user_session_avg_last_3_month</th>\n",
       "      <th>back_to_theory_users_%_last_3_month</th>\n",
       "      <th>cleaned_texts</th>\n",
       "      <th>num_words</th>\n",
       "      <th>num_sentences</th>\n",
       "      <th>num_syllables</th>\n",
       "      <th>flesch_score</th>\n",
       "      <th>dale_chall_score</th>\n",
       "    </tr>\n",
       "  </thead>\n",
       "  <tbody>\n",
       "    <tr>\n",
       "      <th>0</th>\n",
       "      <td>12357</td>\n",
       "      <td>1</td>\n",
       "      <td>\"&lt;h5 id=\\\"introduction\\\"&gt; Introduction&lt;/h5&gt;\\n\\...</td>\n",
       "      <td>603.45</td>\n",
       "      <td>0.56</td>\n",
       "      <td>2.00</td>\n",
       "      <td>40.0</td>\n",
       "      <td>10.0</td>\n",
       "      <td>0.90</td>\n",
       "      <td>35.0</td>\n",
       "      <td>1.43</td>\n",
       "      <td>67.21</td>\n",
       "      <td>So far you have learned quite a lot about quer...</td>\n",
       "      <td>629</td>\n",
       "      <td>36</td>\n",
       "      <td>988</td>\n",
       "      <td>56.215480</td>\n",
       "      <td>8.946413</td>\n",
       "    </tr>\n",
       "    <tr>\n",
       "      <th>1</th>\n",
       "      <td>12691</td>\n",
       "      <td>1</td>\n",
       "      <td>\"&lt;p&gt;JavaScript was originally developed as a l...</td>\n",
       "      <td>253.21</td>\n",
       "      <td>0.87</td>\n",
       "      <td>1.72</td>\n",
       "      <td>884.0</td>\n",
       "      <td>79.0</td>\n",
       "      <td>0.96</td>\n",
       "      <td>844.0</td>\n",
       "      <td>0.34</td>\n",
       "      <td>24.43</td>\n",
       "      <td>JavaScript was originally developed as a langu...</td>\n",
       "      <td>602</td>\n",
       "      <td>41</td>\n",
       "      <td>946</td>\n",
       "      <td>58.988972</td>\n",
       "      <td>9.689308</td>\n",
       "    </tr>\n",
       "    <tr>\n",
       "      <th>2</th>\n",
       "      <td>8112</td>\n",
       "      <td>1</td>\n",
       "      <td>\"&lt;p&gt;We've already learned what annotations are...</td>\n",
       "      <td>486.94</td>\n",
       "      <td>0.45</td>\n",
       "      <td>1.57</td>\n",
       "      <td>50.0</td>\n",
       "      <td>7.0</td>\n",
       "      <td>0.89</td>\n",
       "      <td>49.0</td>\n",
       "      <td>1.00</td>\n",
       "      <td>69.41</td>\n",
       "      <td>We've already learned what annotations are and...</td>\n",
       "      <td>607</td>\n",
       "      <td>34</td>\n",
       "      <td>981</td>\n",
       "      <td>51.988400</td>\n",
       "      <td>8.918233</td>\n",
       "    </tr>\n",
       "    <tr>\n",
       "      <th>3</th>\n",
       "      <td>7892</td>\n",
       "      <td>1</td>\n",
       "      <td>\"&lt;h5&gt;Introduction&lt;/h5&gt;\\n\\n&lt;p&gt;You often hear pe...</td>\n",
       "      <td>542.73</td>\n",
       "      <td>0.72</td>\n",
       "      <td>2.00</td>\n",
       "      <td>60.0</td>\n",
       "      <td>5.0</td>\n",
       "      <td>0.91</td>\n",
       "      <td>58.0</td>\n",
       "      <td>0.33</td>\n",
       "      <td>26.39</td>\n",
       "      <td>You often hear people speak about the probabil...</td>\n",
       "      <td>1123</td>\n",
       "      <td>59</td>\n",
       "      <td>1682</td>\n",
       "      <td>60.803928</td>\n",
       "      <td>9.501775</td>\n",
       "    </tr>\n",
       "    <tr>\n",
       "      <th>4</th>\n",
       "      <td>15809</td>\n",
       "      <td>1</td>\n",
       "      <td>\"&lt;h5&gt;Introduction&lt;/h5&gt;\\n\\n&lt;p&gt;When you have alr...</td>\n",
       "      <td>556.76</td>\n",
       "      <td>0.43</td>\n",
       "      <td>1.40</td>\n",
       "      <td>43.0</td>\n",
       "      <td>10.0</td>\n",
       "      <td>0.91</td>\n",
       "      <td>53.0</td>\n",
       "      <td>0.93</td>\n",
       "      <td>50.88</td>\n",
       "      <td>When you have already learned the basics of pr...</td>\n",
       "      <td>631</td>\n",
       "      <td>29</td>\n",
       "      <td>985</td>\n",
       "      <td>52.688193</td>\n",
       "      <td>9.220007</td>\n",
       "    </tr>\n",
       "  </tbody>\n",
       "</table>\n",
       "</div>"
      ],
      "text/plain": [
       "   step_id  is_theory                                               text  \\\n",
       "0    12357          1  \"<h5 id=\\\"introduction\\\"> Introduction</h5>\\n\\...   \n",
       "1    12691          1  \"<p>JavaScript was originally developed as a l...   \n",
       "2     8112          1  \"<p>We've already learned what annotations are...   \n",
       "3     7892          1  \"<h5>Introduction</h5>\\n\\n<p>You often hear pe...   \n",
       "4    15809          1  \"<h5>Introduction</h5>\\n\\n<p>When you have alr...   \n",
       "\n",
       "   seconds_to_complete  last_3_month_completion_rate  last_3_month_avg_like  \\\n",
       "0               603.45                          0.56                   2.00   \n",
       "1               253.21                          0.87                   1.72   \n",
       "2               486.94                          0.45                   1.57   \n",
       "3               542.73                          0.72                   2.00   \n",
       "4               556.76                          0.43                   1.40   \n",
       "\n",
       "   last_3_month_completed_step_users_count  last_3_month_likes_count  \\\n",
       "0                                     40.0                      10.0   \n",
       "1                                    884.0                      79.0   \n",
       "2                                     50.0                       7.0   \n",
       "3                                     60.0                       5.0   \n",
       "4                                     43.0                      10.0   \n",
       "\n",
       "   last_3_month_topic_completion_rate  \\\n",
       "0                                0.90   \n",
       "1                                0.96   \n",
       "2                                0.89   \n",
       "3                                0.91   \n",
       "4                                0.91   \n",
       "\n",
       "   last_3_month_completed_topic_users_count  \\\n",
       "0                                      35.0   \n",
       "1                                     844.0   \n",
       "2                                      49.0   \n",
       "3                                      58.0   \n",
       "4                                      53.0   \n",
       "\n",
       "   back_to_theory_times_per_user_session_avg_last_3_month  \\\n",
       "0                                               1.43        \n",
       "1                                               0.34        \n",
       "2                                               1.00        \n",
       "3                                               0.33        \n",
       "4                                               0.93        \n",
       "\n",
       "   back_to_theory_users_%_last_3_month  \\\n",
       "0                                67.21   \n",
       "1                                24.43   \n",
       "2                                69.41   \n",
       "3                                26.39   \n",
       "4                                50.88   \n",
       "\n",
       "                                       cleaned_texts  num_words  \\\n",
       "0  So far you have learned quite a lot about quer...        629   \n",
       "1  JavaScript was originally developed as a langu...        602   \n",
       "2  We've already learned what annotations are and...        607   \n",
       "3  You often hear people speak about the probabil...       1123   \n",
       "4  When you have already learned the basics of pr...        631   \n",
       "\n",
       "   num_sentences  num_syllables  flesch_score  dale_chall_score  \n",
       "0             36            988     56.215480          8.946413  \n",
       "1             41            946     58.988972          9.689308  \n",
       "2             34            981     51.988400          8.918233  \n",
       "3             59           1682     60.803928          9.501775  \n",
       "4             29            985     52.688193          9.220007  "
      ]
     },
     "execution_count": 28,
     "metadata": {},
     "output_type": "execute_result"
    }
   ],
   "source": [
    "topic_statistics.head()"
   ]
  },
  {
   "cell_type": "code",
   "execution_count": 29,
   "metadata": {},
   "outputs": [
    {
     "data": {
      "text/plain": [
       "<AxesSubplot:>"
      ]
     },
     "execution_count": 29,
     "metadata": {},
     "output_type": "execute_result"
    },
    {
     "data": {
      "image/png": "[encoded data removed]",
      "text/plain": [
       "<Figure size 432x288 with 1 Axes>"
      ]
     },
     "metadata": {
      "needs_background": "light"
     },
     "output_type": "display_data"
    }
   ],
   "source": [
    "topic_statistics.last_3_month_avg_like.hist()"
   ]
  },
  {
   "cell_type": "code",
   "execution_count": 30,
   "metadata": {},
   "outputs": [
    {
     "data": {
      "text/plain": [
       "591"
      ]
     },
     "execution_count": 30,
     "metadata": {},
     "output_type": "execute_result"
    }
   ],
   "source": [
    "more_likes = topic_statistics[topic_statistics.last_3_month_likes_count > 20]\n",
    "more_likes.shape[0]"
   ]
  },
  {
   "cell_type": "code",
   "execution_count": 31,
   "metadata": {},
   "outputs": [
    {
     "name": "stdout",
     "output_type": "stream",
     "text": [
      "128 0\n"
     ]
    }
   ],
   "source": [
    "very_good_topics = more_likes[more_likes.last_3_month_avg_like > 1.85]\n",
    "very_bad_topics = more_likes[more_likes.last_3_month_avg_like < 0]\n",
    "\n",
    "print(very_good_topics.shape[0], very_bad_topics.shape[0])  # there are no topics with very bad likes"
   ]
  },
  {
   "cell_type": "markdown",
   "metadata": {},
   "source": [
    "#### Intersection between good likes and comments"
   ]
  },
  {
   "cell_type": "code",
   "execution_count": 32,
   "metadata": {},
   "outputs": [],
   "source": [
    "# intersection between topics that are very good according to the av like and identified as good by our algorithm\n",
    "good_like_steps = [row['step_id'] for i, row in very_good_topics.iterrows()]"
   ]
  },
  {
   "cell_type": "code",
   "execution_count": 33,
   "metadata": {},
   "outputs": [],
   "source": [
    "import pickle\n",
    "step_id_topic_id_mapping = pickle.load(open('step_id_topic_id_mapping.pkl', 'br'))"
   ]
  },
  {
   "cell_type": "code",
   "execution_count": 34,
   "metadata": {},
   "outputs": [],
   "source": [
    "good_like_topics = set([step_id_topic_id_mapping[step_id] for step_id in good_like_steps])"
   ]
  },
  {
   "cell_type": "code",
   "execution_count": 35,
   "metadata": {},
   "outputs": [
    {
     "name": "stdout",
     "output_type": "stream",
     "text": [
      "39\n"
     ]
    }
   ],
   "source": [
    "print(len(good_like_topics.intersection(final_good_topics)))  # 39 are interescted, but 89 are new!"
   ]
  },
  {
   "cell_type": "markdown",
   "metadata": {},
   "source": [
    "#### Intersection between good likes and BAD comments"
   ]
  },
  {
   "cell_type": "code",
   "execution_count": 36,
   "metadata": {},
   "outputs": [
    {
     "name": "stdout",
     "output_type": "stream",
     "text": [
      "15\n"
     ]
    }
   ],
   "source": [
    "# let's also check that the bad topics according to comments are not in good_like_topics\n",
    "print(len(good_like_topics.intersection(final_bad_topics)))\n",
    "\n",
    "# they are, it means that these 15 topics will now end up with both positive and negative label"
   ]
  },
  {
   "cell_type": "code",
   "execution_count": 37,
   "metadata": {},
   "outputs": [],
   "source": [
    "# let's look at these topics\n",
    "intersected_good_like_bad_comments = good_like_topics.intersection(final_bad_topics)"
   ]
  },
  {
   "cell_type": "code",
   "execution_count": 38,
   "metadata": {
    "scrolled": true
   },
   "outputs": [
    {
     "data": {
      "text/plain": [
       "{434.0,\n",
       " 530.0,\n",
       " 555.0,\n",
       " 557.0,\n",
       " 634.0,\n",
       " 662.0,\n",
       " 706.0,\n",
       " 853.0,\n",
       " 949.0,\n",
       " 985.0,\n",
       " 1071.0,\n",
       " 1125.0,\n",
       " 1342.0,\n",
       " 1600.0,\n",
       " 1849.0}"
      ]
     },
     "execution_count": 38,
     "metadata": {},
     "output_type": "execute_result"
    }
   ],
   "source": [
    "intersected_good_like_bad_comments"
   ]
  },
  {
   "cell_type": "code",
   "execution_count": 39,
   "metadata": {},
   "outputs": [],
   "source": [
    "topic_id_step_id_mapping = pickle.load(open('topic_id_step_id_mapping.pkl', 'br'))"
   ]
  },
  {
   "cell_type": "code",
   "execution_count": 40,
   "metadata": {
    "scrolled": true
   },
   "outputs": [
    {
     "data": {
      "text/plain": [
       "[15412,\n",
       " 8731,\n",
       " 11834,\n",
       " 7510,\n",
       " 7400,\n",
       " 11354,\n",
       " 7139,\n",
       " 6177,\n",
       " 9544,\n",
       " 8364,\n",
       " 17197,\n",
       " 10295,\n",
       " 10570,\n",
       " 8122,\n",
       " 12886]"
      ]
     },
     "execution_count": 40,
     "metadata": {},
     "output_type": "execute_result"
    }
   ],
   "source": [
    "step_ids = [topic_id_step_id_mapping[topic_id] for topic_id in intersected_good_like_bad_comments]\n",
    "step_ids"
   ]
  },
  {
   "cell_type": "code",
   "execution_count": 41,
   "metadata": {},
   "outputs": [
    {
     "data": {
      "text/html": [
       "<div>\n",
       "<style scoped>\n",
       "    .dataframe tbody tr th:only-of-type {\n",
       "        vertical-align: middle;\n",
       "    }\n",
       "\n",
       "    .dataframe tbody tr th {\n",
       "        vertical-align: top;\n",
       "    }\n",
       "\n",
       "    .dataframe thead th {\n",
       "        text-align: right;\n",
       "    }\n",
       "</style>\n",
       "<table border=\"1\" class=\"dataframe\">\n",
       "  <thead>\n",
       "    <tr style=\"text-align: right;\">\n",
       "      <th></th>\n",
       "      <th>step_id</th>\n",
       "      <th>is_theory</th>\n",
       "      <th>text</th>\n",
       "      <th>seconds_to_complete</th>\n",
       "      <th>last_3_month_completion_rate</th>\n",
       "      <th>last_3_month_avg_like</th>\n",
       "      <th>last_3_month_completed_step_users_count</th>\n",
       "      <th>last_3_month_likes_count</th>\n",
       "      <th>last_3_month_topic_completion_rate</th>\n",
       "      <th>last_3_month_completed_topic_users_count</th>\n",
       "      <th>back_to_theory_times_per_user_session_avg_last_3_month</th>\n",
       "      <th>back_to_theory_users_%_last_3_month</th>\n",
       "      <th>cleaned_texts</th>\n",
       "      <th>num_words</th>\n",
       "      <th>num_sentences</th>\n",
       "      <th>num_syllables</th>\n",
       "      <th>flesch_score</th>\n",
       "      <th>dale_chall_score</th>\n",
       "    </tr>\n",
       "  </thead>\n",
       "  <tbody>\n",
       "    <tr>\n",
       "      <th>938</th>\n",
       "      <td>15412</td>\n",
       "      <td>1</td>\n",
       "      <td>\"&lt;p&gt;Like in many other programming languages, ...</td>\n",
       "      <td>278.03</td>\n",
       "      <td>0.77</td>\n",
       "      <td>1.86</td>\n",
       "      <td>280.0</td>\n",
       "      <td>28.0</td>\n",
       "      <td>0.91</td>\n",
       "      <td>282.0</td>\n",
       "      <td>0.42</td>\n",
       "      <td>25.14</td>\n",
       "      <td>Like in many other programming languages, stri...</td>\n",
       "      <td>403</td>\n",
       "      <td>19</td>\n",
       "      <td>580</td>\n",
       "      <td>63.549492</td>\n",
       "      <td>10.056358</td>\n",
       "    </tr>\n",
       "  </tbody>\n",
       "</table>\n",
       "</div>"
      ],
      "text/plain": [
       "     step_id  is_theory                                               text  \\\n",
       "938    15412          1  \"<p>Like in many other programming languages, ...   \n",
       "\n",
       "     seconds_to_complete  last_3_month_completion_rate  last_3_month_avg_like  \\\n",
       "938               278.03                          0.77                   1.86   \n",
       "\n",
       "     last_3_month_completed_step_users_count  last_3_month_likes_count  \\\n",
       "938                                    280.0                      28.0   \n",
       "\n",
       "     last_3_month_topic_completion_rate  \\\n",
       "938                                0.91   \n",
       "\n",
       "     last_3_month_completed_topic_users_count  \\\n",
       "938                                     282.0   \n",
       "\n",
       "     back_to_theory_times_per_user_session_avg_last_3_month  \\\n",
       "938                                               0.42        \n",
       "\n",
       "     back_to_theory_users_%_last_3_month  \\\n",
       "938                                25.14   \n",
       "\n",
       "                                         cleaned_texts  num_words  \\\n",
       "938  Like in many other programming languages, stri...        403   \n",
       "\n",
       "     num_sentences  num_syllables  flesch_score  dale_chall_score  \n",
       "938             19            580     63.549492         10.056358  "
      ]
     },
     "execution_count": 41,
     "metadata": {},
     "output_type": "execute_result"
    }
   ],
   "source": [
    "topic_statistics[topic_statistics.step_id == 15412]"
   ]
  },
  {
   "cell_type": "code",
   "execution_count": 42,
   "metadata": {},
   "outputs": [
    {
     "data": {
      "text/html": [
       "<div>\n",
       "<style scoped>\n",
       "    .dataframe tbody tr th:only-of-type {\n",
       "        vertical-align: middle;\n",
       "    }\n",
       "\n",
       "    .dataframe tbody tr th {\n",
       "        vertical-align: top;\n",
       "    }\n",
       "\n",
       "    .dataframe thead th {\n",
       "        text-align: right;\n",
       "    }\n",
       "</style>\n",
       "<table border=\"1\" class=\"dataframe\">\n",
       "  <thead>\n",
       "    <tr style=\"text-align: right;\">\n",
       "      <th></th>\n",
       "      <th>id</th>\n",
       "      <th>status</th>\n",
       "      <th>thread</th>\n",
       "      <th>text</th>\n",
       "      <th>time</th>\n",
       "      <th>content_link</th>\n",
       "      <th>block_name</th>\n",
       "      <th>enabled</th>\n",
       "      <th>abuses</th>\n",
       "      <th>likes</th>\n",
       "      <th>replies</th>\n",
       "      <th>anon_user_id</th>\n",
       "      <th>area</th>\n",
       "      <th>step_id</th>\n",
       "      <th>topic_id</th>\n",
       "      <th>lemmatized_comments</th>\n",
       "      <th>count_bad</th>\n",
       "      <th>TextBlobPolarity</th>\n",
       "      <th>FlairPolarity</th>\n",
       "      <th>comment_grades</th>\n",
       "    </tr>\n",
       "  </thead>\n",
       "  <tbody>\n",
       "    <tr>\n",
       "      <th>18243</th>\n",
       "      <td>1190852</td>\n",
       "      <td>new</td>\n",
       "      <td>comment</td>\n",
       "      <td>there's a statement at the end of section #1: ...</td>\n",
       "      <td>2021-10-25 20:25:43</td>\n",
       "      <td>https://hyperskill.org/learn/step/15412</td>\n",
       "      <td>text</td>\n",
       "      <td>1</td>\n",
       "      <td>0</td>\n",
       "      <td>0</td>\n",
       "      <td>1</td>\n",
       "      <td>18</td>\n",
       "      <td>golangᵝ</td>\n",
       "      <td>15412</td>\n",
       "      <td>1600.0</td>\n",
       "      <td>there be a statement at the end of section # 1...</td>\n",
       "      <td>1</td>\n",
       "      <td>-0.312500</td>\n",
       "      <td>-0.999510</td>\n",
       "      <td>-1.0</td>\n",
       "    </tr>\n",
       "    <tr>\n",
       "      <th>18249</th>\n",
       "      <td>1239394</td>\n",
       "      <td>new</td>\n",
       "      <td>comment</td>\n",
       "      <td>you can also get the length of the string by c...</td>\n",
       "      <td>2021-11-20 20:20:31</td>\n",
       "      <td>https://hyperskill.org/learn/step/15412</td>\n",
       "      <td>text</td>\n",
       "      <td>1</td>\n",
       "      <td>0</td>\n",
       "      <td>1</td>\n",
       "      <td>0</td>\n",
       "      <td>68</td>\n",
       "      <td>golangᵝ</td>\n",
       "      <td>15412</td>\n",
       "      <td>1600.0</td>\n",
       "      <td>you can also get the length of the string by c...</td>\n",
       "      <td>1</td>\n",
       "      <td>-0.500000</td>\n",
       "      <td>-0.999114</td>\n",
       "      <td>-1.0</td>\n",
       "    </tr>\n",
       "    <tr>\n",
       "      <th>18259</th>\n",
       "      <td>1271100</td>\n",
       "      <td>new</td>\n",
       "      <td>comment</td>\n",
       "      <td>Not exactly.\\nWe want to say that the concaten...</td>\n",
       "      <td>2021-12-09 13:19:09</td>\n",
       "      <td>https://hyperskill.org/learn/step/15412</td>\n",
       "      <td>text</td>\n",
       "      <td>1</td>\n",
       "      <td>0</td>\n",
       "      <td>0</td>\n",
       "      <td>0</td>\n",
       "      <td>0</td>\n",
       "      <td>golangᵝ</td>\n",
       "      <td>15412</td>\n",
       "      <td>1600.0</td>\n",
       "      <td>not exactly . \\n we want to say that the conca...</td>\n",
       "      <td>2</td>\n",
       "      <td>0.005682</td>\n",
       "      <td>-0.999065</td>\n",
       "      <td>0.0</td>\n",
       "    </tr>\n",
       "    <tr>\n",
       "      <th>18276</th>\n",
       "      <td>1302891</td>\n",
       "      <td>new</td>\n",
       "      <td>feedback</td>\n",
       "      <td>\"consits\"</td>\n",
       "      <td>2021-12-28 17:37:20</td>\n",
       "      <td>https://hyperskill.org/learn/step/15412</td>\n",
       "      <td>text</td>\n",
       "      <td>1</td>\n",
       "      <td>0</td>\n",
       "      <td>0</td>\n",
       "      <td>0</td>\n",
       "      <td>127</td>\n",
       "      <td>golangᵝ</td>\n",
       "      <td>15412</td>\n",
       "      <td>1600.0</td>\n",
       "      <td>\" consit \"</td>\n",
       "      <td>0</td>\n",
       "      <td>0.000000</td>\n",
       "      <td>0.956184</td>\n",
       "      <td>0.5</td>\n",
       "    </tr>\n",
       "  </tbody>\n",
       "</table>\n",
       "</div>"
      ],
      "text/plain": [
       "            id status    thread  \\\n",
       "18243  1190852    new   comment   \n",
       "18249  1239394    new   comment   \n",
       "18259  1271100    new   comment   \n",
       "18276  1302891    new  feedback   \n",
       "\n",
       "                                                    text                 time  \\\n",
       "18243  there's a statement at the end of section #1: ...  2021-10-25 20:25:43   \n",
       "18249  you can also get the length of the string by c...  2021-11-20 20:20:31   \n",
       "18259  Not exactly.\\nWe want to say that the concaten...  2021-12-09 13:19:09   \n",
       "18276                                          \"consits\"  2021-12-28 17:37:20   \n",
       "\n",
       "                                  content_link block_name  enabled  abuses  \\\n",
       "18243  https://hyperskill.org/learn/step/15412       text        1       0   \n",
       "18249  https://hyperskill.org/learn/step/15412       text        1       0   \n",
       "18259  https://hyperskill.org/learn/step/15412       text        1       0   \n",
       "18276  https://hyperskill.org/learn/step/15412       text        1       0   \n",
       "\n",
       "       likes  replies  anon_user_id     area  step_id  topic_id  \\\n",
       "18243      0        1            18  golangᵝ    15412    1600.0   \n",
       "18249      1        0            68  golangᵝ    15412    1600.0   \n",
       "18259      0        0             0  golangᵝ    15412    1600.0   \n",
       "18276      0        0           127  golangᵝ    15412    1600.0   \n",
       "\n",
       "                                     lemmatized_comments  count_bad  \\\n",
       "18243  there be a statement at the end of section # 1...          1   \n",
       "18249  you can also get the length of the string by c...          1   \n",
       "18259  not exactly . \\n we want to say that the conca...          2   \n",
       "18276                                         \" consit \"          0   \n",
       "\n",
       "       TextBlobPolarity  FlairPolarity  comment_grades  \n",
       "18243         -0.312500      -0.999510            -1.0  \n",
       "18249         -0.500000      -0.999114            -1.0  \n",
       "18259          0.005682      -0.999065             0.0  \n",
       "18276          0.000000       0.956184             0.5  "
      ]
     },
     "execution_count": 42,
     "metadata": {},
     "output_type": "execute_result"
    }
   ],
   "source": [
    "all_texts_comments[all_texts_comments.step_id == 15412]"
   ]
  },
  {
   "cell_type": "code",
   "execution_count": 43,
   "metadata": {
    "scrolled": true
   },
   "outputs": [
    {
     "name": "stdout",
     "output_type": "stream",
     "text": [
      "['there\\'s a statement at the end of section #1: \\n\"However, it still means that the string \"hello\" exists somewhere in memory, and Go will not change the contents of that memory location.\"\\ndoes it mean that GoLang doesn\\'t have any garbage collector?'\n",
      " 'you can also get the length of the string by converting it to a rune slice and get its length:\\nlen([]rune(\"some weird string\"))'\n",
      " 'Not exactly.\\nWe want to say that the concatenation always creates a new string allocation because the string type is immutable in Go. Do you find the statement unclear?'\n",
      " '\"consits\"']\n"
     ]
    }
   ],
   "source": [
    "print(all_texts_comments[all_texts_comments.step_id == 15412].text.values)"
   ]
  },
  {
   "cell_type": "markdown",
   "metadata": {},
   "source": [
    "The comments here are not really negative even though they are identified as such. What can we do with this? \n",
    "Exclude from 'bad' topics those that have good likes, for example."
   ]
  },
  {
   "cell_type": "markdown",
   "metadata": {},
   "source": [
    "#### Compose the dataset"
   ]
  },
  {
   "cell_type": "code",
   "execution_count": 44,
   "metadata": {},
   "outputs": [],
   "source": [
    "# delete from 'bad' those that received good like\n",
    "final_bad_topics = set(final_bad_topics) - intersected_good_like_bad_comments\n",
    "\n",
    "# add to 'good' those that received good like\n",
    "expanded_good_topics = good_like_topics.union(final_good_topics)"
   ]
  },
  {
   "cell_type": "code",
   "execution_count": 45,
   "metadata": {},
   "outputs": [
    {
     "name": "stdout",
     "output_type": "stream",
     "text": [
      "132 335\n"
     ]
    }
   ],
   "source": [
    "print(len(final_bad_topics), len(expanded_good_topics))"
   ]
  },
  {
   "cell_type": "code",
   "execution_count": 46,
   "metadata": {},
   "outputs": [],
   "source": [
    "df_with_features = pd.DataFrame({'topic_id': list([int(el) for el in expanded_good_topics]) + list([int(el) for el in final_bad_topics]), \n",
    "                                'target': [0] * len(expanded_good_topics) + [1] * len(final_bad_topics)})"
   ]
  },
  {
   "cell_type": "code",
   "execution_count": 47,
   "metadata": {},
   "outputs": [],
   "source": [
    "path = './new_cleaned/train_corpus'\n",
    "df_with_features.to_csv(f'{path}/topic_ids_with_target_features.csv', index=False)"
   ]
  },
  {
   "cell_type": "code",
   "execution_count": null,
   "metadata": {},
   "outputs": [],
   "source": []
  }
 ],
 "metadata": {
  "kernelspec": {
   "display_name": "Python 3",
   "language": "python",
   "name": "python3"
  },
  "language_info": {
   "codemirror_mode": {
    "name": "ipython",
    "version": 3
   },
   "file_extension": ".py",
   "mimetype": "text/x-python",
   "name": "python",
   "nbconvert_exporter": "python",
   "pygments_lexer": "ipython3",
   "version": "3.6.9"
  }
 },
 "nbformat": 4,
 "nbformat_minor": 4
}
