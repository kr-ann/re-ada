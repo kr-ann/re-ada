{
 "cells": [
  {
   "cell_type": "markdown",
   "metadata": {},
   "source": [
    "### Open and take a look at the data"
   ]
  },
  {
   "cell_type": "code",
   "execution_count": 1,
   "metadata": {},
   "outputs": [],
   "source": [
    "import pandas as pd"
   ]
  },
  {
   "cell_type": "code",
   "execution_count": 2,
   "metadata": {},
   "outputs": [],
   "source": [
    "# dataframe where rows are anonymyzed users, columns are topics\n",
    "# and the values say how much time the user spend on the correponding topic \n",
    "user_topic_time_file = '../topics_with_statistics/AN-1103-users-seconds-to-complete-theory-steps.csv'"
   ]
  },
  {
   "cell_type": "code",
   "execution_count": 3,
   "metadata": {},
   "outputs": [],
   "source": [
    "user_topic_time_df = pd.read_csv(user_topic_time_file) "
   ]
  },
  {
   "cell_type": "code",
   "execution_count": 4,
   "metadata": {},
   "outputs": [
    {
     "data": {
      "text/html": [
       "<div>\n",
       "<style scoped>\n",
       "    .dataframe tbody tr th:only-of-type {\n",
       "        vertical-align: middle;\n",
       "    }\n",
       "\n",
       "    .dataframe tbody tr th {\n",
       "        vertical-align: top;\n",
       "    }\n",
       "\n",
       "    .dataframe thead th {\n",
       "        text-align: right;\n",
       "    }\n",
       "</style>\n",
       "<table border=\"1\" class=\"dataframe\">\n",
       "  <thead>\n",
       "    <tr style=\"text-align: right;\">\n",
       "      <th></th>\n",
       "      <th>anon_user_id</th>\n",
       "      <th>1933</th>\n",
       "      <th>1940</th>\n",
       "      <th>1945</th>\n",
       "      <th>3489</th>\n",
       "      <th>3492</th>\n",
       "      <th>3493</th>\n",
       "      <th>3494</th>\n",
       "      <th>3495</th>\n",
       "      <th>3497</th>\n",
       "      <th>...</th>\n",
       "      <th>19331</th>\n",
       "      <th>19339</th>\n",
       "      <th>19347</th>\n",
       "      <th>19355</th>\n",
       "      <th>19365</th>\n",
       "      <th>19377</th>\n",
       "      <th>19398</th>\n",
       "      <th>19407</th>\n",
       "      <th>19415</th>\n",
       "      <th>19445</th>\n",
       "    </tr>\n",
       "  </thead>\n",
       "  <tbody>\n",
       "    <tr>\n",
       "      <th>0</th>\n",
       "      <td>0</td>\n",
       "      <td>NaN</td>\n",
       "      <td>NaN</td>\n",
       "      <td>NaN</td>\n",
       "      <td>NaN</td>\n",
       "      <td>NaN</td>\n",
       "      <td>NaN</td>\n",
       "      <td>NaN</td>\n",
       "      <td>NaN</td>\n",
       "      <td>NaN</td>\n",
       "      <td>...</td>\n",
       "      <td>NaN</td>\n",
       "      <td>NaN</td>\n",
       "      <td>NaN</td>\n",
       "      <td>NaN</td>\n",
       "      <td>NaN</td>\n",
       "      <td>NaN</td>\n",
       "      <td>NaN</td>\n",
       "      <td>NaN</td>\n",
       "      <td>NaN</td>\n",
       "      <td>NaN</td>\n",
       "    </tr>\n",
       "    <tr>\n",
       "      <th>1</th>\n",
       "      <td>1</td>\n",
       "      <td>NaN</td>\n",
       "      <td>NaN</td>\n",
       "      <td>NaN</td>\n",
       "      <td>NaN</td>\n",
       "      <td>NaN</td>\n",
       "      <td>NaN</td>\n",
       "      <td>NaN</td>\n",
       "      <td>NaN</td>\n",
       "      <td>NaN</td>\n",
       "      <td>...</td>\n",
       "      <td>NaN</td>\n",
       "      <td>NaN</td>\n",
       "      <td>NaN</td>\n",
       "      <td>NaN</td>\n",
       "      <td>NaN</td>\n",
       "      <td>NaN</td>\n",
       "      <td>NaN</td>\n",
       "      <td>NaN</td>\n",
       "      <td>NaN</td>\n",
       "      <td>NaN</td>\n",
       "    </tr>\n",
       "    <tr>\n",
       "      <th>2</th>\n",
       "      <td>2</td>\n",
       "      <td>NaN</td>\n",
       "      <td>NaN</td>\n",
       "      <td>NaN</td>\n",
       "      <td>NaN</td>\n",
       "      <td>NaN</td>\n",
       "      <td>NaN</td>\n",
       "      <td>NaN</td>\n",
       "      <td>NaN</td>\n",
       "      <td>NaN</td>\n",
       "      <td>...</td>\n",
       "      <td>NaN</td>\n",
       "      <td>NaN</td>\n",
       "      <td>NaN</td>\n",
       "      <td>NaN</td>\n",
       "      <td>NaN</td>\n",
       "      <td>NaN</td>\n",
       "      <td>NaN</td>\n",
       "      <td>NaN</td>\n",
       "      <td>NaN</td>\n",
       "      <td>NaN</td>\n",
       "    </tr>\n",
       "    <tr>\n",
       "      <th>3</th>\n",
       "      <td>3</td>\n",
       "      <td>NaN</td>\n",
       "      <td>NaN</td>\n",
       "      <td>NaN</td>\n",
       "      <td>NaN</td>\n",
       "      <td>NaN</td>\n",
       "      <td>NaN</td>\n",
       "      <td>NaN</td>\n",
       "      <td>NaN</td>\n",
       "      <td>NaN</td>\n",
       "      <td>...</td>\n",
       "      <td>NaN</td>\n",
       "      <td>NaN</td>\n",
       "      <td>NaN</td>\n",
       "      <td>NaN</td>\n",
       "      <td>NaN</td>\n",
       "      <td>NaN</td>\n",
       "      <td>NaN</td>\n",
       "      <td>NaN</td>\n",
       "      <td>NaN</td>\n",
       "      <td>NaN</td>\n",
       "    </tr>\n",
       "    <tr>\n",
       "      <th>4</th>\n",
       "      <td>4</td>\n",
       "      <td>NaN</td>\n",
       "      <td>NaN</td>\n",
       "      <td>NaN</td>\n",
       "      <td>NaN</td>\n",
       "      <td>NaN</td>\n",
       "      <td>NaN</td>\n",
       "      <td>NaN</td>\n",
       "      <td>NaN</td>\n",
       "      <td>NaN</td>\n",
       "      <td>...</td>\n",
       "      <td>NaN</td>\n",
       "      <td>NaN</td>\n",
       "      <td>NaN</td>\n",
       "      <td>NaN</td>\n",
       "      <td>NaN</td>\n",
       "      <td>NaN</td>\n",
       "      <td>NaN</td>\n",
       "      <td>NaN</td>\n",
       "      <td>NaN</td>\n",
       "      <td>NaN</td>\n",
       "    </tr>\n",
       "  </tbody>\n",
       "</table>\n",
       "<p>5 rows × 1392 columns</p>\n",
       "</div>"
      ],
      "text/plain": [
       "   anon_user_id  1933  1940  1945  3489  3492  3493  3494  3495  3497  ...  \\\n",
       "0             0   NaN   NaN   NaN   NaN   NaN   NaN   NaN   NaN   NaN  ...   \n",
       "1             1   NaN   NaN   NaN   NaN   NaN   NaN   NaN   NaN   NaN  ...   \n",
       "2             2   NaN   NaN   NaN   NaN   NaN   NaN   NaN   NaN   NaN  ...   \n",
       "3             3   NaN   NaN   NaN   NaN   NaN   NaN   NaN   NaN   NaN  ...   \n",
       "4             4   NaN   NaN   NaN   NaN   NaN   NaN   NaN   NaN   NaN  ...   \n",
       "\n",
       "   19331  19339  19347  19355  19365  19377  19398  19407  19415  19445  \n",
       "0    NaN    NaN    NaN    NaN    NaN    NaN    NaN    NaN    NaN    NaN  \n",
       "1    NaN    NaN    NaN    NaN    NaN    NaN    NaN    NaN    NaN    NaN  \n",
       "2    NaN    NaN    NaN    NaN    NaN    NaN    NaN    NaN    NaN    NaN  \n",
       "3    NaN    NaN    NaN    NaN    NaN    NaN    NaN    NaN    NaN    NaN  \n",
       "4    NaN    NaN    NaN    NaN    NaN    NaN    NaN    NaN    NaN    NaN  \n",
       "\n",
       "[5 rows x 1392 columns]"
      ]
     },
     "execution_count": 4,
     "metadata": {},
     "output_type": "execute_result"
    }
   ],
   "source": [
    "user_topic_time_df.head()"
   ]
  },
  {
   "cell_type": "code",
   "execution_count": 5,
   "metadata": {},
   "outputs": [
    {
     "data": {
      "text/plain": [
       "1391"
      ]
     },
     "execution_count": 5,
     "metadata": {},
     "output_type": "execute_result"
    }
   ],
   "source": [
    "len(user_topic_time_df.columns[1:])"
   ]
  },
  {
   "cell_type": "code",
   "execution_count": 6,
   "metadata": {},
   "outputs": [
    {
     "data": {
      "text/html": [
       "<div>\n",
       "<style scoped>\n",
       "    .dataframe tbody tr th:only-of-type {\n",
       "        vertical-align: middle;\n",
       "    }\n",
       "\n",
       "    .dataframe tbody tr th {\n",
       "        vertical-align: top;\n",
       "    }\n",
       "\n",
       "    .dataframe thead th {\n",
       "        text-align: right;\n",
       "    }\n",
       "</style>\n",
       "<table border=\"1\" class=\"dataframe\">\n",
       "  <thead>\n",
       "    <tr style=\"text-align: right;\">\n",
       "      <th></th>\n",
       "      <th>anon_user_id</th>\n",
       "      <th>1933</th>\n",
       "      <th>1940</th>\n",
       "      <th>1945</th>\n",
       "      <th>3489</th>\n",
       "      <th>3492</th>\n",
       "      <th>3493</th>\n",
       "      <th>3494</th>\n",
       "      <th>3495</th>\n",
       "      <th>3497</th>\n",
       "      <th>...</th>\n",
       "      <th>19331</th>\n",
       "      <th>19339</th>\n",
       "      <th>19347</th>\n",
       "      <th>19355</th>\n",
       "      <th>19365</th>\n",
       "      <th>19377</th>\n",
       "      <th>19398</th>\n",
       "      <th>19407</th>\n",
       "      <th>19415</th>\n",
       "      <th>19445</th>\n",
       "    </tr>\n",
       "  </thead>\n",
       "  <tbody>\n",
       "    <tr>\n",
       "      <th>count</th>\n",
       "      <td>34886.000000</td>\n",
       "      <td>1243.000000</td>\n",
       "      <td>649.000000</td>\n",
       "      <td>1360.000000</td>\n",
       "      <td>1220.000000</td>\n",
       "      <td>1071.000000</td>\n",
       "      <td>897.000000</td>\n",
       "      <td>45.000000</td>\n",
       "      <td>1219.000000</td>\n",
       "      <td>1353.000000</td>\n",
       "      <td>...</td>\n",
       "      <td>2.0</td>\n",
       "      <td>3.000000</td>\n",
       "      <td>2.000000</td>\n",
       "      <td>1.0</td>\n",
       "      <td>29.000000</td>\n",
       "      <td>13.000000</td>\n",
       "      <td>8.000000</td>\n",
       "      <td>21.000000</td>\n",
       "      <td>4.000000</td>\n",
       "      <td>1.000000</td>\n",
       "    </tr>\n",
       "    <tr>\n",
       "      <th>mean</th>\n",
       "      <td>17442.500000</td>\n",
       "      <td>3531.235903</td>\n",
       "      <td>659.231229</td>\n",
       "      <td>988.456561</td>\n",
       "      <td>807.981872</td>\n",
       "      <td>1874.985312</td>\n",
       "      <td>1259.526797</td>\n",
       "      <td>211.105010</td>\n",
       "      <td>1746.529363</td>\n",
       "      <td>1059.107513</td>\n",
       "      <td>...</td>\n",
       "      <td>0.0</td>\n",
       "      <td>27.995900</td>\n",
       "      <td>6.059766</td>\n",
       "      <td>0.0</td>\n",
       "      <td>774.410467</td>\n",
       "      <td>431.327547</td>\n",
       "      <td>113.616768</td>\n",
       "      <td>597.826428</td>\n",
       "      <td>139.955578</td>\n",
       "      <td>68.181106</td>\n",
       "    </tr>\n",
       "    <tr>\n",
       "      <th>std</th>\n",
       "      <td>10070.865082</td>\n",
       "      <td>24302.450657</td>\n",
       "      <td>3130.318061</td>\n",
       "      <td>4248.217210</td>\n",
       "      <td>6720.455440</td>\n",
       "      <td>5565.778134</td>\n",
       "      <td>7824.430136</td>\n",
       "      <td>202.306824</td>\n",
       "      <td>22232.948036</td>\n",
       "      <td>8165.479893</td>\n",
       "      <td>...</td>\n",
       "      <td>0.0</td>\n",
       "      <td>24.813356</td>\n",
       "      <td>8.569803</td>\n",
       "      <td>NaN</td>\n",
       "      <td>932.819024</td>\n",
       "      <td>946.058428</td>\n",
       "      <td>174.880540</td>\n",
       "      <td>476.903378</td>\n",
       "      <td>141.778824</td>\n",
       "      <td>NaN</td>\n",
       "    </tr>\n",
       "    <tr>\n",
       "      <th>min</th>\n",
       "      <td>0.000000</td>\n",
       "      <td>0.000000</td>\n",
       "      <td>0.000000</td>\n",
       "      <td>0.000000</td>\n",
       "      <td>0.000000</td>\n",
       "      <td>0.000000</td>\n",
       "      <td>0.000000</td>\n",
       "      <td>2.983900</td>\n",
       "      <td>0.000000</td>\n",
       "      <td>0.000000</td>\n",
       "      <td>...</td>\n",
       "      <td>0.0</td>\n",
       "      <td>0.515600</td>\n",
       "      <td>0.000000</td>\n",
       "      <td>0.0</td>\n",
       "      <td>7.303000</td>\n",
       "      <td>5.035200</td>\n",
       "      <td>0.000000</td>\n",
       "      <td>12.241000</td>\n",
       "      <td>3.943000</td>\n",
       "      <td>68.181106</td>\n",
       "    </tr>\n",
       "    <tr>\n",
       "      <th>25%</th>\n",
       "      <td>8721.250000</td>\n",
       "      <td>152.731847</td>\n",
       "      <td>109.337358</td>\n",
       "      <td>171.375218</td>\n",
       "      <td>86.479681</td>\n",
       "      <td>310.744006</td>\n",
       "      <td>163.402400</td>\n",
       "      <td>77.304337</td>\n",
       "      <td>148.854417</td>\n",
       "      <td>123.743926</td>\n",
       "      <td>...</td>\n",
       "      <td>0.0</td>\n",
       "      <td>17.614150</td>\n",
       "      <td>3.029883</td>\n",
       "      <td>0.0</td>\n",
       "      <td>89.475760</td>\n",
       "      <td>28.651700</td>\n",
       "      <td>18.407603</td>\n",
       "      <td>307.009557</td>\n",
       "      <td>54.270260</td>\n",
       "      <td>68.181106</td>\n",
       "    </tr>\n",
       "    <tr>\n",
       "      <th>50%</th>\n",
       "      <td>17442.500000</td>\n",
       "      <td>646.792866</td>\n",
       "      <td>246.697719</td>\n",
       "      <td>386.508354</td>\n",
       "      <td>211.548522</td>\n",
       "      <td>703.453929</td>\n",
       "      <td>361.801959</td>\n",
       "      <td>171.663210</td>\n",
       "      <td>350.905809</td>\n",
       "      <td>305.008211</td>\n",
       "      <td>...</td>\n",
       "      <td>0.0</td>\n",
       "      <td>34.712700</td>\n",
       "      <td>6.059766</td>\n",
       "      <td>0.0</td>\n",
       "      <td>449.907203</td>\n",
       "      <td>86.742133</td>\n",
       "      <td>49.885405</td>\n",
       "      <td>463.576910</td>\n",
       "      <td>111.927297</td>\n",
       "      <td>68.181106</td>\n",
       "    </tr>\n",
       "    <tr>\n",
       "      <th>75%</th>\n",
       "      <td>26163.750000</td>\n",
       "      <td>1655.981486</td>\n",
       "      <td>532.503307</td>\n",
       "      <td>782.189658</td>\n",
       "      <td>448.338929</td>\n",
       "      <td>1575.815238</td>\n",
       "      <td>774.409908</td>\n",
       "      <td>287.613108</td>\n",
       "      <td>728.122249</td>\n",
       "      <td>626.607337</td>\n",
       "      <td>...</td>\n",
       "      <td>0.0</td>\n",
       "      <td>41.736050</td>\n",
       "      <td>9.089648</td>\n",
       "      <td>0.0</td>\n",
       "      <td>928.681728</td>\n",
       "      <td>461.246886</td>\n",
       "      <td>125.012713</td>\n",
       "      <td>672.528737</td>\n",
       "      <td>197.612615</td>\n",
       "      <td>68.181106</td>\n",
       "    </tr>\n",
       "    <tr>\n",
       "      <th>max</th>\n",
       "      <td>34885.000000</td>\n",
       "      <td>572801.478811</td>\n",
       "      <td>70899.461228</td>\n",
       "      <td>119130.254078</td>\n",
       "      <td>201474.357048</td>\n",
       "      <td>91093.436342</td>\n",
       "      <td>192503.910059</td>\n",
       "      <td>947.028647</td>\n",
       "      <td>714869.045809</td>\n",
       "      <td>181521.807404</td>\n",
       "      <td>...</td>\n",
       "      <td>0.0</td>\n",
       "      <td>48.759400</td>\n",
       "      <td>12.119531</td>\n",
       "      <td>0.0</td>\n",
       "      <td>3442.817684</td>\n",
       "      <td>3514.031981</td>\n",
       "      <td>527.671476</td>\n",
       "      <td>1818.222580</td>\n",
       "      <td>332.024720</td>\n",
       "      <td>68.181106</td>\n",
       "    </tr>\n",
       "  </tbody>\n",
       "</table>\n",
       "<p>8 rows × 1392 columns</p>\n",
       "</div>"
      ],
      "text/plain": [
       "       anon_user_id           1933          1940           1945  \\\n",
       "count  34886.000000    1243.000000    649.000000    1360.000000   \n",
       "mean   17442.500000    3531.235903    659.231229     988.456561   \n",
       "std    10070.865082   24302.450657   3130.318061    4248.217210   \n",
       "min        0.000000       0.000000      0.000000       0.000000   \n",
       "25%     8721.250000     152.731847    109.337358     171.375218   \n",
       "50%    17442.500000     646.792866    246.697719     386.508354   \n",
       "75%    26163.750000    1655.981486    532.503307     782.189658   \n",
       "max    34885.000000  572801.478811  70899.461228  119130.254078   \n",
       "\n",
       "                3489          3492           3493        3494           3495  \\\n",
       "count    1220.000000   1071.000000     897.000000   45.000000    1219.000000   \n",
       "mean      807.981872   1874.985312    1259.526797  211.105010    1746.529363   \n",
       "std      6720.455440   5565.778134    7824.430136  202.306824   22232.948036   \n",
       "min         0.000000      0.000000       0.000000    2.983900       0.000000   \n",
       "25%        86.479681    310.744006     163.402400   77.304337     148.854417   \n",
       "50%       211.548522    703.453929     361.801959  171.663210     350.905809   \n",
       "75%       448.338929   1575.815238     774.409908  287.613108     728.122249   \n",
       "max    201474.357048  91093.436342  192503.910059  947.028647  714869.045809   \n",
       "\n",
       "                3497  ...  19331      19339      19347  19355        19365  \\\n",
       "count    1353.000000  ...    2.0   3.000000   2.000000    1.0    29.000000   \n",
       "mean     1059.107513  ...    0.0  27.995900   6.059766    0.0   774.410467   \n",
       "std      8165.479893  ...    0.0  24.813356   8.569803    NaN   932.819024   \n",
       "min         0.000000  ...    0.0   0.515600   0.000000    0.0     7.303000   \n",
       "25%       123.743926  ...    0.0  17.614150   3.029883    0.0    89.475760   \n",
       "50%       305.008211  ...    0.0  34.712700   6.059766    0.0   449.907203   \n",
       "75%       626.607337  ...    0.0  41.736050   9.089648    0.0   928.681728   \n",
       "max    181521.807404  ...    0.0  48.759400  12.119531    0.0  3442.817684   \n",
       "\n",
       "             19377       19398        19407       19415      19445  \n",
       "count    13.000000    8.000000    21.000000    4.000000   1.000000  \n",
       "mean    431.327547  113.616768   597.826428  139.955578  68.181106  \n",
       "std     946.058428  174.880540   476.903378  141.778824        NaN  \n",
       "min       5.035200    0.000000    12.241000    3.943000  68.181106  \n",
       "25%      28.651700   18.407603   307.009557   54.270260  68.181106  \n",
       "50%      86.742133   49.885405   463.576910  111.927297  68.181106  \n",
       "75%     461.246886  125.012713   672.528737  197.612615  68.181106  \n",
       "max    3514.031981  527.671476  1818.222580  332.024720  68.181106  \n",
       "\n",
       "[8 rows x 1392 columns]"
      ]
     },
     "execution_count": 6,
     "metadata": {},
     "output_type": "execute_result"
    }
   ],
   "source": [
    "user_topic_time_df.describe()"
   ]
  },
  {
   "cell_type": "code",
   "execution_count": 7,
   "metadata": {},
   "outputs": [],
   "source": [
    "# dataframe with statistics about topics, step_id are theory steps IDs \n",
    "# and seconds_to_complete is the average parameter for this topic from all users\n",
    "topic_statistics = '../topics_with_statistics/topics_with_statistics_and_scores.csv'"
   ]
  },
  {
   "cell_type": "code",
   "execution_count": 8,
   "metadata": {},
   "outputs": [],
   "source": [
    "one_year_statistics_df = pd.read_csv(topic_statistics)"
   ]
  },
  {
   "cell_type": "code",
   "execution_count": 9,
   "metadata": {},
   "outputs": [
    {
     "data": {
      "text/html": [
       "<div>\n",
       "<style scoped>\n",
       "    .dataframe tbody tr th:only-of-type {\n",
       "        vertical-align: middle;\n",
       "    }\n",
       "\n",
       "    .dataframe tbody tr th {\n",
       "        vertical-align: top;\n",
       "    }\n",
       "\n",
       "    .dataframe thead th {\n",
       "        text-align: right;\n",
       "    }\n",
       "</style>\n",
       "<table border=\"1\" class=\"dataframe\">\n",
       "  <thead>\n",
       "    <tr style=\"text-align: right;\">\n",
       "      <th></th>\n",
       "      <th>step_id</th>\n",
       "      <th>is_theory</th>\n",
       "      <th>text</th>\n",
       "      <th>seconds_to_complete</th>\n",
       "      <th>last_year_completion_rate</th>\n",
       "      <th>last_year_avg_like</th>\n",
       "      <th>last_year_completed_step_users_count</th>\n",
       "      <th>last_year_likes_count</th>\n",
       "      <th>last_year_topic_completion_rate</th>\n",
       "      <th>last_year_completed_topic_users_count</th>\n",
       "      <th>back_to_theory_times_per_user_session_avg_last_year</th>\n",
       "      <th>back_to_theory_users_%_last_year</th>\n",
       "      <th>cleaned_texts</th>\n",
       "      <th>num_words</th>\n",
       "      <th>num_sentences</th>\n",
       "      <th>num_syllables</th>\n",
       "      <th>flesch_score</th>\n",
       "      <th>dale_chall_score</th>\n",
       "    </tr>\n",
       "  </thead>\n",
       "  <tbody>\n",
       "    <tr>\n",
       "      <th>0</th>\n",
       "      <td>12357</td>\n",
       "      <td>1</td>\n",
       "      <td>\"&lt;h5 id=\\\"introduction\\\"&gt; Introduction&lt;/h5&gt;\\n\\...</td>\n",
       "      <td>603.45</td>\n",
       "      <td>0.40</td>\n",
       "      <td>1.88</td>\n",
       "      <td>63.0</td>\n",
       "      <td>17.0</td>\n",
       "      <td>0.86</td>\n",
       "      <td>59.0</td>\n",
       "      <td>1.35</td>\n",
       "      <td>64.21</td>\n",
       "      <td>So far you have learned quite a lot about quer...</td>\n",
       "      <td>629</td>\n",
       "      <td>36</td>\n",
       "      <td>988</td>\n",
       "      <td>56.215480</td>\n",
       "      <td>8.946413</td>\n",
       "    </tr>\n",
       "    <tr>\n",
       "      <th>1</th>\n",
       "      <td>12691</td>\n",
       "      <td>1</td>\n",
       "      <td>\"&lt;p&gt;JavaScript was originally developed as a l...</td>\n",
       "      <td>253.21</td>\n",
       "      <td>0.82</td>\n",
       "      <td>1.72</td>\n",
       "      <td>1454.0</td>\n",
       "      <td>152.0</td>\n",
       "      <td>0.96</td>\n",
       "      <td>1443.0</td>\n",
       "      <td>0.36</td>\n",
       "      <td>26.23</td>\n",
       "      <td>JavaScript was originally developed as a langu...</td>\n",
       "      <td>602</td>\n",
       "      <td>41</td>\n",
       "      <td>946</td>\n",
       "      <td>58.988972</td>\n",
       "      <td>9.689308</td>\n",
       "    </tr>\n",
       "    <tr>\n",
       "      <th>2</th>\n",
       "      <td>8112</td>\n",
       "      <td>1</td>\n",
       "      <td>\"&lt;p&gt;We've already learned what annotations are...</td>\n",
       "      <td>486.94</td>\n",
       "      <td>0.40</td>\n",
       "      <td>1.45</td>\n",
       "      <td>135.0</td>\n",
       "      <td>20.0</td>\n",
       "      <td>0.74</td>\n",
       "      <td>125.0</td>\n",
       "      <td>1.10</td>\n",
       "      <td>65.93</td>\n",
       "      <td>We've already learned what annotations are and...</td>\n",
       "      <td>607</td>\n",
       "      <td>34</td>\n",
       "      <td>981</td>\n",
       "      <td>51.988400</td>\n",
       "      <td>8.918233</td>\n",
       "    </tr>\n",
       "    <tr>\n",
       "      <th>3</th>\n",
       "      <td>7892</td>\n",
       "      <td>1</td>\n",
       "      <td>\"&lt;h5&gt;Introduction&lt;/h5&gt;\\n\\n&lt;p&gt;You often hear pe...</td>\n",
       "      <td>542.73</td>\n",
       "      <td>0.75</td>\n",
       "      <td>1.76</td>\n",
       "      <td>383.0</td>\n",
       "      <td>50.0</td>\n",
       "      <td>0.90</td>\n",
       "      <td>434.0</td>\n",
       "      <td>0.35</td>\n",
       "      <td>26.85</td>\n",
       "      <td>You often hear people speak about the probabil...</td>\n",
       "      <td>1123</td>\n",
       "      <td>59</td>\n",
       "      <td>1682</td>\n",
       "      <td>60.803928</td>\n",
       "      <td>9.501775</td>\n",
       "    </tr>\n",
       "    <tr>\n",
       "      <th>4</th>\n",
       "      <td>15809</td>\n",
       "      <td>1</td>\n",
       "      <td>\"&lt;h5&gt;Introduction&lt;/h5&gt;\\n\\n&lt;p&gt;When you have alr...</td>\n",
       "      <td>556.76</td>\n",
       "      <td>0.41</td>\n",
       "      <td>1.50</td>\n",
       "      <td>73.0</td>\n",
       "      <td>12.0</td>\n",
       "      <td>0.94</td>\n",
       "      <td>97.0</td>\n",
       "      <td>0.90</td>\n",
       "      <td>54.81</td>\n",
       "      <td>When you have already learned the basics of pr...</td>\n",
       "      <td>631</td>\n",
       "      <td>29</td>\n",
       "      <td>985</td>\n",
       "      <td>52.688193</td>\n",
       "      <td>9.220007</td>\n",
       "    </tr>\n",
       "  </tbody>\n",
       "</table>\n",
       "</div>"
      ],
      "text/plain": [
       "   step_id  is_theory                                               text  \\\n",
       "0    12357          1  \"<h5 id=\\\"introduction\\\"> Introduction</h5>\\n\\...   \n",
       "1    12691          1  \"<p>JavaScript was originally developed as a l...   \n",
       "2     8112          1  \"<p>We've already learned what annotations are...   \n",
       "3     7892          1  \"<h5>Introduction</h5>\\n\\n<p>You often hear pe...   \n",
       "4    15809          1  \"<h5>Introduction</h5>\\n\\n<p>When you have alr...   \n",
       "\n",
       "   seconds_to_complete  last_year_completion_rate  last_year_avg_like  \\\n",
       "0               603.45                       0.40                1.88   \n",
       "1               253.21                       0.82                1.72   \n",
       "2               486.94                       0.40                1.45   \n",
       "3               542.73                       0.75                1.76   \n",
       "4               556.76                       0.41                1.50   \n",
       "\n",
       "   last_year_completed_step_users_count  last_year_likes_count  \\\n",
       "0                                  63.0                   17.0   \n",
       "1                                1454.0                  152.0   \n",
       "2                                 135.0                   20.0   \n",
       "3                                 383.0                   50.0   \n",
       "4                                  73.0                   12.0   \n",
       "\n",
       "   last_year_topic_completion_rate  last_year_completed_topic_users_count  \\\n",
       "0                             0.86                                   59.0   \n",
       "1                             0.96                                 1443.0   \n",
       "2                             0.74                                  125.0   \n",
       "3                             0.90                                  434.0   \n",
       "4                             0.94                                   97.0   \n",
       "\n",
       "   back_to_theory_times_per_user_session_avg_last_year  \\\n",
       "0                                               1.35     \n",
       "1                                               0.36     \n",
       "2                                               1.10     \n",
       "3                                               0.35     \n",
       "4                                               0.90     \n",
       "\n",
       "   back_to_theory_users_%_last_year  \\\n",
       "0                             64.21   \n",
       "1                             26.23   \n",
       "2                             65.93   \n",
       "3                             26.85   \n",
       "4                             54.81   \n",
       "\n",
       "                                       cleaned_texts  num_words  \\\n",
       "0  So far you have learned quite a lot about quer...        629   \n",
       "1  JavaScript was originally developed as a langu...        602   \n",
       "2  We've already learned what annotations are and...        607   \n",
       "3  You often hear people speak about the probabil...       1123   \n",
       "4  When you have already learned the basics of pr...        631   \n",
       "\n",
       "   num_sentences  num_syllables  flesch_score  dale_chall_score  \n",
       "0             36            988     56.215480          8.946413  \n",
       "1             41            946     58.988972          9.689308  \n",
       "2             34            981     51.988400          8.918233  \n",
       "3             59           1682     60.803928          9.501775  \n",
       "4             29            985     52.688193          9.220007  "
      ]
     },
     "execution_count": 9,
     "metadata": {},
     "output_type": "execute_result"
    }
   ],
   "source": [
    "one_year_statistics_df.head()"
   ]
  },
  {
   "cell_type": "code",
   "execution_count": null,
   "metadata": {},
   "outputs": [],
   "source": []
  },
  {
   "cell_type": "code",
   "execution_count": 10,
   "metadata": {},
   "outputs": [
    {
     "data": {
      "text/plain": [
       "613.85"
      ]
     },
     "execution_count": 10,
     "metadata": {},
     "output_type": "execute_result"
    }
   ],
   "source": [
    "one_year_statistics_df[one_year_statistics_df.step_id==1933].seconds_to_complete.values[0]"
   ]
  },
  {
   "cell_type": "code",
   "execution_count": 11,
   "metadata": {},
   "outputs": [
    {
     "data": {
      "text/plain": [
       "count     1063.000000\n",
       "mean      1614.554092\n",
       "std       2723.797430\n",
       "min         50.000000\n",
       "25%        219.000000\n",
       "50%        567.000000\n",
       "75%       1866.500000\n",
       "max      26037.000000\n",
       "Name: last_year_completed_step_users_count, dtype: float64"
      ]
     },
     "execution_count": 11,
     "metadata": {},
     "output_type": "execute_result"
    }
   ],
   "source": [
    "# it is already cleaned in terms of 50 completions\n",
    "one_year_statistics_df['last_year_completed_step_users_count'].describe()"
   ]
  },
  {
   "cell_type": "markdown",
   "metadata": {},
   "source": [
    "### Clean the user-topic dataframe"
   ]
  },
  {
   "cell_type": "code",
   "execution_count": 12,
   "metadata": {},
   "outputs": [],
   "source": [
    "# in the topics' statistics df, we have the seconds_to_complete parameter only for topics that were completed\n",
    "# by min 50 users last year; all other topics are not there\n",
    "# so, we firstly need to leave in the user-topic df only columns, for which we have the value in statistics"
   ]
  },
  {
   "cell_type": "code",
   "execution_count": 12,
   "metadata": {},
   "outputs": [],
   "source": [
    "set_existing_ids = set(one_year_statistics_df.step_id.values)"
   ]
  },
  {
   "cell_type": "code",
   "execution_count": 13,
   "metadata": {},
   "outputs": [
    {
     "data": {
      "text/plain": [
       "1065"
      ]
     },
     "execution_count": 13,
     "metadata": {},
     "output_type": "execute_result"
    }
   ],
   "source": [
    "len(set_existing_ids)"
   ]
  },
  {
   "cell_type": "code",
   "execution_count": 14,
   "metadata": {},
   "outputs": [
    {
     "name": "stdout",
     "output_type": "stream",
     "text": [
      "14336 <class 'numpy.int64'>\n"
     ]
    }
   ],
   "source": [
    "# in set_existing_ids the values are integers\n",
    "for el in set_existing_ids:\n",
    "    print(el, type(el))\n",
    "    break"
   ]
  },
  {
   "cell_type": "code",
   "execution_count": 15,
   "metadata": {},
   "outputs": [
    {
     "name": "stdout",
     "output_type": "stream",
     "text": [
      "1933 <class 'str'>\n"
     ]
    }
   ],
   "source": [
    "# in columns in the user-topic df the values are strings\n",
    "for topic_id in user_topic_time_df.columns[1:]:\n",
    "    print(topic_id, type(topic_id))\n",
    "    break"
   ]
  },
  {
   "cell_type": "code",
   "execution_count": 16,
   "metadata": {},
   "outputs": [],
   "source": [
    "ids_to_delete = []\n",
    "for topic_id in user_topic_time_df.columns[1:]:\n",
    "    if int(topic_id) not in set_existing_ids:\n",
    "        ids_to_delete.append(topic_id)"
   ]
  },
  {
   "cell_type": "code",
   "execution_count": 17,
   "metadata": {},
   "outputs": [
    {
     "data": {
      "text/plain": [
       "326"
      ]
     },
     "execution_count": 17,
     "metadata": {},
     "output_type": "execute_result"
    }
   ],
   "source": [
    "len(ids_to_delete)"
   ]
  },
  {
   "cell_type": "code",
   "execution_count": 18,
   "metadata": {},
   "outputs": [],
   "source": [
    "# this cleaned df will be used for topics' distributions\n",
    "cleaned_user_topic_df = user_topic_time_df.drop(columns=ids_to_delete)"
   ]
  },
  {
   "cell_type": "code",
   "execution_count": 19,
   "metadata": {},
   "outputs": [
    {
     "data": {
      "text/plain": [
       "1066"
      ]
     },
     "execution_count": 19,
     "metadata": {},
     "output_type": "execute_result"
    }
   ],
   "source": [
    "len(cleaned_user_topic_df.columns)  # now there are 1065 topics as columns instead of 1391"
   ]
  },
  {
   "cell_type": "code",
   "execution_count": 21,
   "metadata": {},
   "outputs": [],
   "source": [
    "# but for users' distribution, we need to clean further\n",
    "# we want to leave only users who have values for 20 or more topics, \n",
    "# otherwise their mean will not be meaningful"
   ]
  },
  {
   "cell_type": "code",
   "execution_count": 20,
   "metadata": {},
   "outputs": [],
   "source": [
    "cleaned_for_users = cleaned_user_topic_df.copy()"
   ]
  },
  {
   "cell_type": "code",
   "execution_count": 21,
   "metadata": {},
   "outputs": [],
   "source": [
    "cleaned_for_users['full_count'] = cleaned_for_users.apply(lambda x: x.count(), axis=1)"
   ]
  },
  {
   "cell_type": "code",
   "execution_count": 22,
   "metadata": {},
   "outputs": [
    {
     "data": {
      "text/html": [
       "<div>\n",
       "<style scoped>\n",
       "    .dataframe tbody tr th:only-of-type {\n",
       "        vertical-align: middle;\n",
       "    }\n",
       "\n",
       "    .dataframe tbody tr th {\n",
       "        vertical-align: top;\n",
       "    }\n",
       "\n",
       "    .dataframe thead th {\n",
       "        text-align: right;\n",
       "    }\n",
       "</style>\n",
       "<table border=\"1\" class=\"dataframe\">\n",
       "  <thead>\n",
       "    <tr style=\"text-align: right;\">\n",
       "      <th></th>\n",
       "      <th>anon_user_id</th>\n",
       "      <th>1933</th>\n",
       "      <th>1940</th>\n",
       "      <th>1945</th>\n",
       "      <th>3489</th>\n",
       "      <th>3492</th>\n",
       "      <th>3493</th>\n",
       "      <th>3494</th>\n",
       "      <th>3495</th>\n",
       "      <th>3497</th>\n",
       "      <th>...</th>\n",
       "      <th>18057</th>\n",
       "      <th>18135</th>\n",
       "      <th>18139</th>\n",
       "      <th>18287</th>\n",
       "      <th>18303</th>\n",
       "      <th>18635</th>\n",
       "      <th>18859</th>\n",
       "      <th>19086</th>\n",
       "      <th>19087</th>\n",
       "      <th>full_count</th>\n",
       "    </tr>\n",
       "  </thead>\n",
       "  <tbody>\n",
       "    <tr>\n",
       "      <th>0</th>\n",
       "      <td>0</td>\n",
       "      <td>NaN</td>\n",
       "      <td>NaN</td>\n",
       "      <td>NaN</td>\n",
       "      <td>NaN</td>\n",
       "      <td>NaN</td>\n",
       "      <td>NaN</td>\n",
       "      <td>NaN</td>\n",
       "      <td>NaN</td>\n",
       "      <td>NaN</td>\n",
       "      <td>...</td>\n",
       "      <td>NaN</td>\n",
       "      <td>NaN</td>\n",
       "      <td>NaN</td>\n",
       "      <td>NaN</td>\n",
       "      <td>NaN</td>\n",
       "      <td>NaN</td>\n",
       "      <td>NaN</td>\n",
       "      <td>NaN</td>\n",
       "      <td>NaN</td>\n",
       "      <td>5</td>\n",
       "    </tr>\n",
       "    <tr>\n",
       "      <th>1</th>\n",
       "      <td>1</td>\n",
       "      <td>NaN</td>\n",
       "      <td>NaN</td>\n",
       "      <td>NaN</td>\n",
       "      <td>NaN</td>\n",
       "      <td>NaN</td>\n",
       "      <td>NaN</td>\n",
       "      <td>NaN</td>\n",
       "      <td>NaN</td>\n",
       "      <td>NaN</td>\n",
       "      <td>...</td>\n",
       "      <td>NaN</td>\n",
       "      <td>NaN</td>\n",
       "      <td>NaN</td>\n",
       "      <td>NaN</td>\n",
       "      <td>NaN</td>\n",
       "      <td>NaN</td>\n",
       "      <td>NaN</td>\n",
       "      <td>NaN</td>\n",
       "      <td>NaN</td>\n",
       "      <td>26</td>\n",
       "    </tr>\n",
       "    <tr>\n",
       "      <th>2</th>\n",
       "      <td>2</td>\n",
       "      <td>NaN</td>\n",
       "      <td>NaN</td>\n",
       "      <td>NaN</td>\n",
       "      <td>NaN</td>\n",
       "      <td>NaN</td>\n",
       "      <td>NaN</td>\n",
       "      <td>NaN</td>\n",
       "      <td>NaN</td>\n",
       "      <td>NaN</td>\n",
       "      <td>...</td>\n",
       "      <td>NaN</td>\n",
       "      <td>NaN</td>\n",
       "      <td>NaN</td>\n",
       "      <td>NaN</td>\n",
       "      <td>NaN</td>\n",
       "      <td>NaN</td>\n",
       "      <td>NaN</td>\n",
       "      <td>NaN</td>\n",
       "      <td>NaN</td>\n",
       "      <td>19</td>\n",
       "    </tr>\n",
       "    <tr>\n",
       "      <th>3</th>\n",
       "      <td>3</td>\n",
       "      <td>NaN</td>\n",
       "      <td>NaN</td>\n",
       "      <td>NaN</td>\n",
       "      <td>NaN</td>\n",
       "      <td>NaN</td>\n",
       "      <td>NaN</td>\n",
       "      <td>NaN</td>\n",
       "      <td>NaN</td>\n",
       "      <td>NaN</td>\n",
       "      <td>...</td>\n",
       "      <td>NaN</td>\n",
       "      <td>NaN</td>\n",
       "      <td>NaN</td>\n",
       "      <td>NaN</td>\n",
       "      <td>NaN</td>\n",
       "      <td>NaN</td>\n",
       "      <td>NaN</td>\n",
       "      <td>NaN</td>\n",
       "      <td>NaN</td>\n",
       "      <td>3</td>\n",
       "    </tr>\n",
       "    <tr>\n",
       "      <th>4</th>\n",
       "      <td>4</td>\n",
       "      <td>NaN</td>\n",
       "      <td>NaN</td>\n",
       "      <td>NaN</td>\n",
       "      <td>NaN</td>\n",
       "      <td>NaN</td>\n",
       "      <td>NaN</td>\n",
       "      <td>NaN</td>\n",
       "      <td>NaN</td>\n",
       "      <td>NaN</td>\n",
       "      <td>...</td>\n",
       "      <td>NaN</td>\n",
       "      <td>NaN</td>\n",
       "      <td>NaN</td>\n",
       "      <td>NaN</td>\n",
       "      <td>NaN</td>\n",
       "      <td>NaN</td>\n",
       "      <td>NaN</td>\n",
       "      <td>NaN</td>\n",
       "      <td>NaN</td>\n",
       "      <td>52</td>\n",
       "    </tr>\n",
       "  </tbody>\n",
       "</table>\n",
       "<p>5 rows × 1067 columns</p>\n",
       "</div>"
      ],
      "text/plain": [
       "   anon_user_id  1933  1940  1945  3489  3492  3493  3494  3495  3497  ...  \\\n",
       "0             0   NaN   NaN   NaN   NaN   NaN   NaN   NaN   NaN   NaN  ...   \n",
       "1             1   NaN   NaN   NaN   NaN   NaN   NaN   NaN   NaN   NaN  ...   \n",
       "2             2   NaN   NaN   NaN   NaN   NaN   NaN   NaN   NaN   NaN  ...   \n",
       "3             3   NaN   NaN   NaN   NaN   NaN   NaN   NaN   NaN   NaN  ...   \n",
       "4             4   NaN   NaN   NaN   NaN   NaN   NaN   NaN   NaN   NaN  ...   \n",
       "\n",
       "   18057  18135  18139  18287  18303  18635  18859  19086  19087  full_count  \n",
       "0    NaN    NaN    NaN    NaN    NaN    NaN    NaN    NaN    NaN           5  \n",
       "1    NaN    NaN    NaN    NaN    NaN    NaN    NaN    NaN    NaN          26  \n",
       "2    NaN    NaN    NaN    NaN    NaN    NaN    NaN    NaN    NaN          19  \n",
       "3    NaN    NaN    NaN    NaN    NaN    NaN    NaN    NaN    NaN           3  \n",
       "4    NaN    NaN    NaN    NaN    NaN    NaN    NaN    NaN    NaN          52  \n",
       "\n",
       "[5 rows x 1067 columns]"
      ]
     },
     "execution_count": 22,
     "metadata": {},
     "output_type": "execute_result"
    }
   ],
   "source": [
    "cleaned_for_users.head()"
   ]
  },
  {
   "cell_type": "code",
   "execution_count": 23,
   "metadata": {},
   "outputs": [],
   "source": [
    "cleaned_for_users = cleaned_for_users.drop(cleaned_for_users[cleaned_for_users.full_count < 20].index)"
   ]
  },
  {
   "cell_type": "code",
   "execution_count": 24,
   "metadata": {},
   "outputs": [
    {
     "data": {
      "text/html": [
       "<div>\n",
       "<style scoped>\n",
       "    .dataframe tbody tr th:only-of-type {\n",
       "        vertical-align: middle;\n",
       "    }\n",
       "\n",
       "    .dataframe tbody tr th {\n",
       "        vertical-align: top;\n",
       "    }\n",
       "\n",
       "    .dataframe thead th {\n",
       "        text-align: right;\n",
       "    }\n",
       "</style>\n",
       "<table border=\"1\" class=\"dataframe\">\n",
       "  <thead>\n",
       "    <tr style=\"text-align: right;\">\n",
       "      <th></th>\n",
       "      <th>anon_user_id</th>\n",
       "      <th>1933</th>\n",
       "      <th>1940</th>\n",
       "      <th>1945</th>\n",
       "      <th>3489</th>\n",
       "      <th>3492</th>\n",
       "      <th>3493</th>\n",
       "      <th>3494</th>\n",
       "      <th>3495</th>\n",
       "      <th>3497</th>\n",
       "      <th>...</th>\n",
       "      <th>18057</th>\n",
       "      <th>18135</th>\n",
       "      <th>18139</th>\n",
       "      <th>18287</th>\n",
       "      <th>18303</th>\n",
       "      <th>18635</th>\n",
       "      <th>18859</th>\n",
       "      <th>19086</th>\n",
       "      <th>19087</th>\n",
       "      <th>full_count</th>\n",
       "    </tr>\n",
       "  </thead>\n",
       "  <tbody>\n",
       "    <tr>\n",
       "      <th>1</th>\n",
       "      <td>1</td>\n",
       "      <td>NaN</td>\n",
       "      <td>NaN</td>\n",
       "      <td>NaN</td>\n",
       "      <td>NaN</td>\n",
       "      <td>NaN</td>\n",
       "      <td>NaN</td>\n",
       "      <td>NaN</td>\n",
       "      <td>NaN</td>\n",
       "      <td>NaN</td>\n",
       "      <td>...</td>\n",
       "      <td>NaN</td>\n",
       "      <td>NaN</td>\n",
       "      <td>NaN</td>\n",
       "      <td>NaN</td>\n",
       "      <td>NaN</td>\n",
       "      <td>NaN</td>\n",
       "      <td>NaN</td>\n",
       "      <td>NaN</td>\n",
       "      <td>NaN</td>\n",
       "      <td>26</td>\n",
       "    </tr>\n",
       "    <tr>\n",
       "      <th>4</th>\n",
       "      <td>4</td>\n",
       "      <td>NaN</td>\n",
       "      <td>NaN</td>\n",
       "      <td>NaN</td>\n",
       "      <td>NaN</td>\n",
       "      <td>NaN</td>\n",
       "      <td>NaN</td>\n",
       "      <td>NaN</td>\n",
       "      <td>NaN</td>\n",
       "      <td>NaN</td>\n",
       "      <td>...</td>\n",
       "      <td>NaN</td>\n",
       "      <td>NaN</td>\n",
       "      <td>NaN</td>\n",
       "      <td>NaN</td>\n",
       "      <td>NaN</td>\n",
       "      <td>NaN</td>\n",
       "      <td>NaN</td>\n",
       "      <td>NaN</td>\n",
       "      <td>NaN</td>\n",
       "      <td>52</td>\n",
       "    </tr>\n",
       "    <tr>\n",
       "      <th>7</th>\n",
       "      <td>7</td>\n",
       "      <td>NaN</td>\n",
       "      <td>NaN</td>\n",
       "      <td>NaN</td>\n",
       "      <td>NaN</td>\n",
       "      <td>NaN</td>\n",
       "      <td>NaN</td>\n",
       "      <td>NaN</td>\n",
       "      <td>NaN</td>\n",
       "      <td>NaN</td>\n",
       "      <td>...</td>\n",
       "      <td>NaN</td>\n",
       "      <td>NaN</td>\n",
       "      <td>NaN</td>\n",
       "      <td>NaN</td>\n",
       "      <td>NaN</td>\n",
       "      <td>NaN</td>\n",
       "      <td>NaN</td>\n",
       "      <td>NaN</td>\n",
       "      <td>NaN</td>\n",
       "      <td>21</td>\n",
       "    </tr>\n",
       "    <tr>\n",
       "      <th>9</th>\n",
       "      <td>9</td>\n",
       "      <td>NaN</td>\n",
       "      <td>NaN</td>\n",
       "      <td>NaN</td>\n",
       "      <td>NaN</td>\n",
       "      <td>NaN</td>\n",
       "      <td>NaN</td>\n",
       "      <td>NaN</td>\n",
       "      <td>NaN</td>\n",
       "      <td>NaN</td>\n",
       "      <td>...</td>\n",
       "      <td>NaN</td>\n",
       "      <td>NaN</td>\n",
       "      <td>NaN</td>\n",
       "      <td>NaN</td>\n",
       "      <td>NaN</td>\n",
       "      <td>NaN</td>\n",
       "      <td>NaN</td>\n",
       "      <td>NaN</td>\n",
       "      <td>NaN</td>\n",
       "      <td>22</td>\n",
       "    </tr>\n",
       "    <tr>\n",
       "      <th>11</th>\n",
       "      <td>11</td>\n",
       "      <td>NaN</td>\n",
       "      <td>NaN</td>\n",
       "      <td>NaN</td>\n",
       "      <td>NaN</td>\n",
       "      <td>NaN</td>\n",
       "      <td>NaN</td>\n",
       "      <td>NaN</td>\n",
       "      <td>NaN</td>\n",
       "      <td>NaN</td>\n",
       "      <td>...</td>\n",
       "      <td>NaN</td>\n",
       "      <td>NaN</td>\n",
       "      <td>NaN</td>\n",
       "      <td>NaN</td>\n",
       "      <td>NaN</td>\n",
       "      <td>NaN</td>\n",
       "      <td>NaN</td>\n",
       "      <td>NaN</td>\n",
       "      <td>NaN</td>\n",
       "      <td>86</td>\n",
       "    </tr>\n",
       "  </tbody>\n",
       "</table>\n",
       "<p>5 rows × 1067 columns</p>\n",
       "</div>"
      ],
      "text/plain": [
       "    anon_user_id  1933  1940  1945  3489  3492  3493  3494  3495  3497  ...  \\\n",
       "1              1   NaN   NaN   NaN   NaN   NaN   NaN   NaN   NaN   NaN  ...   \n",
       "4              4   NaN   NaN   NaN   NaN   NaN   NaN   NaN   NaN   NaN  ...   \n",
       "7              7   NaN   NaN   NaN   NaN   NaN   NaN   NaN   NaN   NaN  ...   \n",
       "9              9   NaN   NaN   NaN   NaN   NaN   NaN   NaN   NaN   NaN  ...   \n",
       "11            11   NaN   NaN   NaN   NaN   NaN   NaN   NaN   NaN   NaN  ...   \n",
       "\n",
       "    18057  18135  18139  18287  18303  18635  18859  19086  19087  full_count  \n",
       "1     NaN    NaN    NaN    NaN    NaN    NaN    NaN    NaN    NaN          26  \n",
       "4     NaN    NaN    NaN    NaN    NaN    NaN    NaN    NaN    NaN          52  \n",
       "7     NaN    NaN    NaN    NaN    NaN    NaN    NaN    NaN    NaN          21  \n",
       "9     NaN    NaN    NaN    NaN    NaN    NaN    NaN    NaN    NaN          22  \n",
       "11    NaN    NaN    NaN    NaN    NaN    NaN    NaN    NaN    NaN          86  \n",
       "\n",
       "[5 rows x 1067 columns]"
      ]
     },
     "execution_count": 24,
     "metadata": {},
     "output_type": "execute_result"
    }
   ],
   "source": [
    "cleaned_for_users.head()"
   ]
  },
  {
   "cell_type": "code",
   "execution_count": 25,
   "metadata": {},
   "outputs": [
    {
     "data": {
      "text/html": [
       "<div>\n",
       "<style scoped>\n",
       "    .dataframe tbody tr th:only-of-type {\n",
       "        vertical-align: middle;\n",
       "    }\n",
       "\n",
       "    .dataframe tbody tr th {\n",
       "        vertical-align: top;\n",
       "    }\n",
       "\n",
       "    .dataframe thead th {\n",
       "        text-align: right;\n",
       "    }\n",
       "</style>\n",
       "<table border=\"1\" class=\"dataframe\">\n",
       "  <thead>\n",
       "    <tr style=\"text-align: right;\">\n",
       "      <th></th>\n",
       "      <th>anon_user_id</th>\n",
       "      <th>1933</th>\n",
       "      <th>1940</th>\n",
       "      <th>1945</th>\n",
       "      <th>3489</th>\n",
       "      <th>3492</th>\n",
       "      <th>3493</th>\n",
       "      <th>3494</th>\n",
       "      <th>3495</th>\n",
       "      <th>3497</th>\n",
       "      <th>...</th>\n",
       "      <th>18057</th>\n",
       "      <th>18135</th>\n",
       "      <th>18139</th>\n",
       "      <th>18287</th>\n",
       "      <th>18303</th>\n",
       "      <th>18635</th>\n",
       "      <th>18859</th>\n",
       "      <th>19086</th>\n",
       "      <th>19087</th>\n",
       "      <th>full_count</th>\n",
       "    </tr>\n",
       "  </thead>\n",
       "  <tbody>\n",
       "    <tr>\n",
       "      <th>count</th>\n",
       "      <td>8114.000000</td>\n",
       "      <td>1090.000000</td>\n",
       "      <td>609.000000</td>\n",
       "      <td>1225.000000</td>\n",
       "      <td>1128.000000</td>\n",
       "      <td>968.000000</td>\n",
       "      <td>832.000000</td>\n",
       "      <td>42.000000</td>\n",
       "      <td>1134.000000</td>\n",
       "      <td>1206.000000</td>\n",
       "      <td>...</td>\n",
       "      <td>184.000000</td>\n",
       "      <td>288.000000</td>\n",
       "      <td>238.000000</td>\n",
       "      <td>128.000000</td>\n",
       "      <td>122.000000</td>\n",
       "      <td>229.000000</td>\n",
       "      <td>230.000000</td>\n",
       "      <td>32.000000</td>\n",
       "      <td>86.000000</td>\n",
       "      <td>8114.000000</td>\n",
       "    </tr>\n",
       "    <tr>\n",
       "      <th>mean</th>\n",
       "      <td>14683.298989</td>\n",
       "      <td>3734.810501</td>\n",
       "      <td>628.494196</td>\n",
       "      <td>993.119169</td>\n",
       "      <td>842.514211</td>\n",
       "      <td>1884.740941</td>\n",
       "      <td>1315.827948</td>\n",
       "      <td>213.395902</td>\n",
       "      <td>1810.454125</td>\n",
       "      <td>1132.381676</td>\n",
       "      <td>...</td>\n",
       "      <td>1562.441599</td>\n",
       "      <td>1584.188675</td>\n",
       "      <td>2626.169563</td>\n",
       "      <td>1004.189733</td>\n",
       "      <td>566.993330</td>\n",
       "      <td>592.231494</td>\n",
       "      <td>1063.128602</td>\n",
       "      <td>446.639413</td>\n",
       "      <td>458.720773</td>\n",
       "      <td>55.996303</td>\n",
       "    </tr>\n",
       "    <tr>\n",
       "      <th>std</th>\n",
       "      <td>9659.393370</td>\n",
       "      <td>25845.423370</td>\n",
       "      <td>3169.365708</td>\n",
       "      <td>4362.615326</td>\n",
       "      <td>6981.128902</td>\n",
       "      <td>5705.491386</td>\n",
       "      <td>8119.177957</td>\n",
       "      <td>208.023604</td>\n",
       "      <td>23040.378550</td>\n",
       "      <td>8640.068176</td>\n",
       "      <td>...</td>\n",
       "      <td>3305.901393</td>\n",
       "      <td>2494.703228</td>\n",
       "      <td>22263.556296</td>\n",
       "      <td>1574.606939</td>\n",
       "      <td>1961.432152</td>\n",
       "      <td>990.144778</td>\n",
       "      <td>1054.382088</td>\n",
       "      <td>592.723189</td>\n",
       "      <td>455.548966</td>\n",
       "      <td>46.835361</td>\n",
       "    </tr>\n",
       "    <tr>\n",
       "      <th>min</th>\n",
       "      <td>1.000000</td>\n",
       "      <td>0.000000</td>\n",
       "      <td>0.000000</td>\n",
       "      <td>1.297000</td>\n",
       "      <td>0.108700</td>\n",
       "      <td>0.421500</td>\n",
       "      <td>1.274700</td>\n",
       "      <td>2.983900</td>\n",
       "      <td>0.000000</td>\n",
       "      <td>1.358300</td>\n",
       "      <td>...</td>\n",
       "      <td>0.000000</td>\n",
       "      <td>0.000000</td>\n",
       "      <td>0.000000</td>\n",
       "      <td>3.763200</td>\n",
       "      <td>4.423875</td>\n",
       "      <td>0.954000</td>\n",
       "      <td>0.263000</td>\n",
       "      <td>2.183600</td>\n",
       "      <td>0.735000</td>\n",
       "      <td>20.000000</td>\n",
       "    </tr>\n",
       "    <tr>\n",
       "      <th>25%</th>\n",
       "      <td>6295.750000</td>\n",
       "      <td>159.002170</td>\n",
       "      <td>108.458858</td>\n",
       "      <td>184.199784</td>\n",
       "      <td>88.326689</td>\n",
       "      <td>332.755726</td>\n",
       "      <td>172.405538</td>\n",
       "      <td>76.074147</td>\n",
       "      <td>153.790434</td>\n",
       "      <td>141.676419</td>\n",
       "      <td>...</td>\n",
       "      <td>223.700310</td>\n",
       "      <td>323.288581</td>\n",
       "      <td>85.504425</td>\n",
       "      <td>204.270926</td>\n",
       "      <td>61.350752</td>\n",
       "      <td>156.155883</td>\n",
       "      <td>381.854691</td>\n",
       "      <td>25.450175</td>\n",
       "      <td>73.969911</td>\n",
       "      <td>27.000000</td>\n",
       "    </tr>\n",
       "    <tr>\n",
       "      <th>50%</th>\n",
       "      <td>13058.500000</td>\n",
       "      <td>666.773241</td>\n",
       "      <td>241.645827</td>\n",
       "      <td>397.740203</td>\n",
       "      <td>219.749750</td>\n",
       "      <td>734.201023</td>\n",
       "      <td>364.808414</td>\n",
       "      <td>171.678127</td>\n",
       "      <td>361.101525</td>\n",
       "      <td>316.270169</td>\n",
       "      <td>...</td>\n",
       "      <td>686.433142</td>\n",
       "      <td>927.109821</td>\n",
       "      <td>472.291395</td>\n",
       "      <td>487.153657</td>\n",
       "      <td>164.298908</td>\n",
       "      <td>385.027975</td>\n",
       "      <td>819.195857</td>\n",
       "      <td>247.361894</td>\n",
       "      <td>286.414111</td>\n",
       "      <td>40.000000</td>\n",
       "    </tr>\n",
       "    <tr>\n",
       "      <th>75%</th>\n",
       "      <td>23021.000000</td>\n",
       "      <td>1646.948968</td>\n",
       "      <td>514.404213</td>\n",
       "      <td>789.084890</td>\n",
       "      <td>454.568028</td>\n",
       "      <td>1571.049406</td>\n",
       "      <td>780.521611</td>\n",
       "      <td>283.130553</td>\n",
       "      <td>729.402435</td>\n",
       "      <td>636.743742</td>\n",
       "      <td>...</td>\n",
       "      <td>1625.184680</td>\n",
       "      <td>1826.334587</td>\n",
       "      <td>1038.848664</td>\n",
       "      <td>1080.224356</td>\n",
       "      <td>442.945613</td>\n",
       "      <td>670.219536</td>\n",
       "      <td>1401.939680</td>\n",
       "      <td>680.118393</td>\n",
       "      <td>747.171033</td>\n",
       "      <td>67.000000</td>\n",
       "    </tr>\n",
       "    <tr>\n",
       "      <th>max</th>\n",
       "      <td>34803.000000</td>\n",
       "      <td>572801.478811</td>\n",
       "      <td>70899.461228</td>\n",
       "      <td>119130.254078</td>\n",
       "      <td>201474.357048</td>\n",
       "      <td>91093.436342</td>\n",
       "      <td>192503.910059</td>\n",
       "      <td>947.028647</td>\n",
       "      <td>714869.045809</td>\n",
       "      <td>181521.807404</td>\n",
       "      <td>...</td>\n",
       "      <td>29391.070864</td>\n",
       "      <td>22335.279900</td>\n",
       "      <td>336498.587924</td>\n",
       "      <td>9759.425829</td>\n",
       "      <td>20798.989366</td>\n",
       "      <td>12459.301344</td>\n",
       "      <td>7261.347412</td>\n",
       "      <td>2413.665781</td>\n",
       "      <td>1901.603514</td>\n",
       "      <td>938.000000</td>\n",
       "    </tr>\n",
       "  </tbody>\n",
       "</table>\n",
       "<p>8 rows × 1067 columns</p>\n",
       "</div>"
      ],
      "text/plain": [
       "       anon_user_id           1933          1940           1945  \\\n",
       "count   8114.000000    1090.000000    609.000000    1225.000000   \n",
       "mean   14683.298989    3734.810501    628.494196     993.119169   \n",
       "std     9659.393370   25845.423370   3169.365708    4362.615326   \n",
       "min        1.000000       0.000000      0.000000       1.297000   \n",
       "25%     6295.750000     159.002170    108.458858     184.199784   \n",
       "50%    13058.500000     666.773241    241.645827     397.740203   \n",
       "75%    23021.000000    1646.948968    514.404213     789.084890   \n",
       "max    34803.000000  572801.478811  70899.461228  119130.254078   \n",
       "\n",
       "                3489          3492           3493        3494           3495  \\\n",
       "count    1128.000000    968.000000     832.000000   42.000000    1134.000000   \n",
       "mean      842.514211   1884.740941    1315.827948  213.395902    1810.454125   \n",
       "std      6981.128902   5705.491386    8119.177957  208.023604   23040.378550   \n",
       "min         0.108700      0.421500       1.274700    2.983900       0.000000   \n",
       "25%        88.326689    332.755726     172.405538   76.074147     153.790434   \n",
       "50%       219.749750    734.201023     364.808414  171.678127     361.101525   \n",
       "75%       454.568028   1571.049406     780.521611  283.130553     729.402435   \n",
       "max    201474.357048  91093.436342  192503.910059  947.028647  714869.045809   \n",
       "\n",
       "                3497  ...         18057         18135          18139  \\\n",
       "count    1206.000000  ...    184.000000    288.000000     238.000000   \n",
       "mean     1132.381676  ...   1562.441599   1584.188675    2626.169563   \n",
       "std      8640.068176  ...   3305.901393   2494.703228   22263.556296   \n",
       "min         1.358300  ...      0.000000      0.000000       0.000000   \n",
       "25%       141.676419  ...    223.700310    323.288581      85.504425   \n",
       "50%       316.270169  ...    686.433142    927.109821     472.291395   \n",
       "75%       636.743742  ...   1625.184680   1826.334587    1038.848664   \n",
       "max    181521.807404  ...  29391.070864  22335.279900  336498.587924   \n",
       "\n",
       "             18287         18303         18635        18859        19086  \\\n",
       "count   128.000000    122.000000    229.000000   230.000000    32.000000   \n",
       "mean   1004.189733    566.993330    592.231494  1063.128602   446.639413   \n",
       "std    1574.606939   1961.432152    990.144778  1054.382088   592.723189   \n",
       "min       3.763200      4.423875      0.954000     0.263000     2.183600   \n",
       "25%     204.270926     61.350752    156.155883   381.854691    25.450175   \n",
       "50%     487.153657    164.298908    385.027975   819.195857   247.361894   \n",
       "75%    1080.224356    442.945613    670.219536  1401.939680   680.118393   \n",
       "max    9759.425829  20798.989366  12459.301344  7261.347412  2413.665781   \n",
       "\n",
       "             19087   full_count  \n",
       "count    86.000000  8114.000000  \n",
       "mean    458.720773    55.996303  \n",
       "std     455.548966    46.835361  \n",
       "min       0.735000    20.000000  \n",
       "25%      73.969911    27.000000  \n",
       "50%     286.414111    40.000000  \n",
       "75%     747.171033    67.000000  \n",
       "max    1901.603514   938.000000  \n",
       "\n",
       "[8 rows x 1067 columns]"
      ]
     },
     "execution_count": 25,
     "metadata": {},
     "output_type": "execute_result"
    }
   ],
   "source": [
    "cleaned_for_users.describe()  # we have 8114 such users that completed >= 20 topics (instead of 34886)"
   ]
  },
  {
   "cell_type": "markdown",
   "metadata": {},
   "source": [
    "### For one topic, look at the distribution of users' individual seconds_to_complete"
   ]
  },
  {
   "cell_type": "code",
   "execution_count": 26,
   "metadata": {},
   "outputs": [
    {
     "name": "stdout",
     "output_type": "stream",
     "text": [
      "count      1243.000000\n",
      "mean       3531.235903\n",
      "std       24302.450657\n",
      "min           0.000000\n",
      "25%         152.731847\n",
      "50%         646.792866\n",
      "75%        1655.981486\n",
      "max      572801.478811\n",
      "Name: 1933, dtype: float64\n"
     ]
    }
   ],
   "source": [
    "topic = '1933'\n",
    "topic_values = cleaned_user_topic_df[topic].dropna()  # drop nan values\n",
    "# also need to drop values less than at least 1 sec cause it's a mistake\n",
    "# topic_values = topic_values[topic_values > 1]\n",
    "print(topic_values.describe())"
   ]
  },
  {
   "cell_type": "code",
   "execution_count": 34,
   "metadata": {},
   "outputs": [],
   "source": [
    "import matplotlib.pyplot as plt"
   ]
  },
  {
   "cell_type": "code",
   "execution_count": 47,
   "metadata": {},
   "outputs": [],
   "source": [
    "import numpy as np"
   ]
  },
  {
   "cell_type": "code",
   "execution_count": 54,
   "metadata": {},
   "outputs": [
    {
     "data": {
      "image/png": "[encoded data removed]",
      "text/plain": [
       "<Figure size 1440x216 with 1 Axes>"
      ]
     },
     "metadata": {
      "needs_background": "light"
     },
     "output_type": "display_data"
    }
   ],
   "source": [
    "plt.rcParams[\"figure.figsize\"] = (20,3)\n",
    "plt.hist(topic_values, bins=1000, color='red', )\n",
    "plt.xlabel('Seconds to complete')\n",
    "plt.ylabel('Number of users')\n",
    "plt.xticks(np.arange(0, max(topic_values)+25000, 25000))\n",
    "plt.show()"
   ]
  },
  {
   "cell_type": "code",
   "execution_count": 63,
   "metadata": {},
   "outputs": [
    {
     "data": {
      "image/png": "[encoded data removed]",
      "text/plain": [
       "<Figure size 1440x216 with 1 Axes>"
      ]
     },
     "metadata": {
      "needs_background": "light"
     },
     "output_type": "display_data"
    }
   ],
   "source": [
    "plt.hist(topic_values, bins=500, range=(0,2000))\n",
    "plt.show()"
   ]
  },
  {
   "cell_type": "code",
   "execution_count": 64,
   "metadata": {},
   "outputs": [
    {
     "name": "stdout",
     "output_type": "stream",
     "text": [
      "24302.45\n"
     ]
    }
   ],
   "source": [
    "a = cleaned_user_topic_df['1933'].dropna()\n",
    "print(round(a.std(), 2))"
   ]
  },
  {
   "cell_type": "code",
   "execution_count": 30,
   "metadata": {},
   "outputs": [],
   "source": [
    "# by the value of std we can see that we really cannot count on mean\n",
    "# the median, however, is a more stable parameter"
   ]
  },
  {
   "cell_type": "code",
   "execution_count": 31,
   "metadata": {},
   "outputs": [
    {
     "data": {
      "text/html": [
       "<div>\n",
       "<style scoped>\n",
       "    .dataframe tbody tr th:only-of-type {\n",
       "        vertical-align: middle;\n",
       "    }\n",
       "\n",
       "    .dataframe tbody tr th {\n",
       "        vertical-align: top;\n",
       "    }\n",
       "\n",
       "    .dataframe thead th {\n",
       "        text-align: right;\n",
       "    }\n",
       "</style>\n",
       "<table border=\"1\" class=\"dataframe\">\n",
       "  <thead>\n",
       "    <tr style=\"text-align: right;\">\n",
       "      <th></th>\n",
       "      <th>step_id</th>\n",
       "      <th>is_theory</th>\n",
       "      <th>text</th>\n",
       "      <th>seconds_to_complete</th>\n",
       "      <th>last_year_completion_rate</th>\n",
       "      <th>last_year_avg_like</th>\n",
       "      <th>last_year_completed_step_users_count</th>\n",
       "      <th>last_year_likes_count</th>\n",
       "      <th>last_year_topic_completion_rate</th>\n",
       "      <th>last_year_completed_topic_users_count</th>\n",
       "      <th>back_to_theory_times_per_user_session_avg_last_year</th>\n",
       "      <th>back_to_theory_users_%_last_year</th>\n",
       "      <th>cleaned_texts</th>\n",
       "      <th>num_words</th>\n",
       "      <th>num_sentences</th>\n",
       "      <th>num_syllables</th>\n",
       "      <th>flesch_score</th>\n",
       "      <th>dale_chall_score</th>\n",
       "    </tr>\n",
       "  </thead>\n",
       "  <tbody>\n",
       "    <tr>\n",
       "      <th>579</th>\n",
       "      <td>1933</td>\n",
       "      <td>1</td>\n",
       "      <td>\"&lt;p&gt;You are already familiar with a structure ...</td>\n",
       "      <td>613.85</td>\n",
       "      <td>0.87</td>\n",
       "      <td>1.59</td>\n",
       "      <td>3631.0</td>\n",
       "      <td>317.0</td>\n",
       "      <td>0.62</td>\n",
       "      <td>1962.0</td>\n",
       "      <td>0.92</td>\n",
       "      <td>43.47</td>\n",
       "      <td>You are already familiar with a structure call...</td>\n",
       "      <td>1092</td>\n",
       "      <td>54</td>\n",
       "      <td>1671</td>\n",
       "      <td>56.852851</td>\n",
       "      <td>9.035273</td>\n",
       "    </tr>\n",
       "  </tbody>\n",
       "</table>\n",
       "</div>"
      ],
      "text/plain": [
       "     step_id  is_theory                                               text  \\\n",
       "579     1933          1  \"<p>You are already familiar with a structure ...   \n",
       "\n",
       "     seconds_to_complete  last_year_completion_rate  last_year_avg_like  \\\n",
       "579               613.85                       0.87                1.59   \n",
       "\n",
       "     last_year_completed_step_users_count  last_year_likes_count  \\\n",
       "579                                3631.0                  317.0   \n",
       "\n",
       "     last_year_topic_completion_rate  last_year_completed_topic_users_count  \\\n",
       "579                             0.62                                 1962.0   \n",
       "\n",
       "     back_to_theory_times_per_user_session_avg_last_year  \\\n",
       "579                                               0.92     \n",
       "\n",
       "     back_to_theory_users_%_last_year  \\\n",
       "579                             43.47   \n",
       "\n",
       "                                         cleaned_texts  num_words  \\\n",
       "579  You are already familiar with a structure call...       1092   \n",
       "\n",
       "     num_sentences  num_syllables  flesch_score  dale_chall_score  \n",
       "579             54           1671     56.852851          9.035273  "
      ]
     },
     "execution_count": 31,
     "metadata": {},
     "output_type": "execute_result"
    }
   ],
   "source": [
    "one_year_statistics_df[one_year_statistics_df.step_id==1933]"
   ]
  },
  {
   "cell_type": "code",
   "execution_count": null,
   "metadata": {},
   "outputs": [],
   "source": [
    "# in the df above we see that for this topic the seconds_to_complete parameter is 613 sec -- it is its median value\n",
    "# and in our topic-user df, the median is 646 (possibly it's larger cause we disregarded values < 1 sec) \n",
    "# and the mean in the topic-user df is 3531 because of some outliers"
   ]
  },
  {
   "cell_type": "code",
   "execution_count": 65,
   "metadata": {},
   "outputs": [],
   "source": [
    "topic_statistics_dict = dict()\n",
    "\n",
    "for topic in cleaned_user_topic_df.columns[1:]:\n",
    "    values = cleaned_user_topic_df[topic].dropna()\n",
    "    topic_statistics_dict[topic] = {'mean': round(values.mean(), 2),\n",
    "                                    'std': round(values.std(), 2),\n",
    "                                    'median': round(values.median(), 2)}"
   ]
  },
  {
   "cell_type": "code",
   "execution_count": 66,
   "metadata": {},
   "outputs": [
    {
     "data": {
      "text/plain": [
       "3531.24"
      ]
     },
     "execution_count": 66,
     "metadata": {},
     "output_type": "execute_result"
    }
   ],
   "source": [
    "# this dict contains mean, median, and standard deviation for all topics' parameters seconds_to_complete\n",
    "topic_statistics_dict['1933']['mean']"
   ]
  },
  {
   "cell_type": "code",
   "execution_count": 67,
   "metadata": {},
   "outputs": [],
   "source": [
    "# sort topics in accordance with their standard deviations\n",
    "topic_ids = list(cleaned_user_topic_df.columns[1:].values)\n",
    "topic_ids.sort(key=lambda a: topic_statistics_dict[a]['std'])"
   ]
  },
  {
   "cell_type": "code",
   "execution_count": 68,
   "metadata": {},
   "outputs": [
    {
     "name": "stdout",
     "output_type": "stream",
     "text": [
      "3494 202.31\n",
      "11169 274.39\n",
      "11274 282.08\n",
      "8364 320.47\n",
      "10161 337.67\n",
      "13256 394.79\n",
      "4961 413.1\n",
      "11817 423.93\n",
      "8050 432.57\n",
      "5335 432.82\n",
      "\n",
      "3579 193622.64\n",
      "11636 194042.33\n",
      "10721 196552.5\n",
      "12659 225249.57\n",
      "12536 225579.58\n",
      "3635 258203.98\n",
      "11389 312327.08\n",
      "3534 353729.49\n",
      "7665 1011133.03\n",
      "15957 1564353.98\n"
     ]
    }
   ],
   "source": [
    "# take a look at the smallest and largest stds\n",
    "for el in topic_ids[:10]:\n",
    "    print(el, topic_statistics_dict[el]['std'])\n",
    "    \n",
    "print()\n",
    "for el in topic_ids[-10:]:\n",
    "    print(el, topic_statistics_dict[el]['std'])"
   ]
  },
  {
   "cell_type": "markdown",
   "metadata": {},
   "source": [
    "What I did here was: \n",
    "For each topic we have values from all users how much time it took them to finish the topic. Sometimes there are extreme values such as 0 or 572801. For each topic, I computed statistics about its values and saved the mean, median, and stadard deviation in a dictionary. Then I sorted topics in accordance with their standard deviation.\n",
    "\n",
    "In the sorted list, we see that standard deviation for topics' seconds_to_complete varies from 200 to 1.564.353 \n",
    "However, on the plots below we see that there are only few such large values and most of them are less than 20.000 (which is still a large value though)."
   ]
  },
  {
   "cell_type": "code",
   "execution_count": 29,
   "metadata": {},
   "outputs": [],
   "source": [
    "import matplotlib.pyplot as plt"
   ]
  },
  {
   "cell_type": "code",
   "execution_count": 69,
   "metadata": {},
   "outputs": [],
   "source": [
    "data = [topic_statistics_dict[el]['std'] for el in topic_ids]"
   ]
  },
  {
   "cell_type": "code",
   "execution_count": 74,
   "metadata": {},
   "outputs": [
    {
     "data": {
      "image/png": "[encoded data removed]",
      "text/plain": [
       "<Figure size 1440x360 with 1 Axes>"
      ]
     },
     "metadata": {
      "needs_background": "light"
     },
     "output_type": "display_data"
    }
   ],
   "source": [
    "plt.rcParams[\"figure.figsize\"] = (20, 5)\n",
    "plt.hist(data, bins=800, color='red')\n",
    "plt.xticks(np.arange(0, max(data)+50000, 50000))\n",
    "plt.title('Histogram of standard deviations of individual topics')\n",
    "plt.show()"
   ]
  },
  {
   "cell_type": "code",
   "execution_count": 77,
   "metadata": {},
   "outputs": [
    {
     "data": {
      "image/png": "[encoded data removed]",
      "text/plain": [
       "<Figure size 1440x360 with 1 Axes>"
      ]
     },
     "metadata": {
      "needs_background": "light"
     },
     "output_type": "display_data"
    }
   ],
   "source": [
    "plt.hist(data, bins=300, range=(min(data), 50000), color='red')\n",
    "plt.xticks(np.arange(0, 50000, 2500))\n",
    "plt.title('Histogram of stds of individual topics that are smaller that 50.000')\n",
    "plt.show()"
   ]
  },
  {
   "cell_type": "markdown",
   "metadata": {},
   "source": [
    "#### Compute median absolute deviation for each topic, plot it"
   ]
  },
  {
   "cell_type": "code",
   "execution_count": 78,
   "metadata": {},
   "outputs": [],
   "source": [
    "from statistics import median"
   ]
  },
  {
   "cell_type": "code",
   "execution_count": 79,
   "metadata": {},
   "outputs": [],
   "source": [
    "topics_mad = dict()\n",
    "\n",
    "for topic in cleaned_user_topic_df.columns[1:]:\n",
    "    values = cleaned_user_topic_df[topic].dropna()\n",
    "    \n",
    "    this_median = topic_statistics_dict[topic]['median']\n",
    "    differences = [abs(this_median-value) for value in values]\n",
    "    \n",
    "    topics_mad[topic] = median(differences)"
   ]
  },
  {
   "cell_type": "code",
   "execution_count": 80,
   "metadata": {},
   "outputs": [],
   "source": [
    "data = [topics_mad[el] for el in topic_ids]"
   ]
  },
  {
   "cell_type": "code",
   "execution_count": 81,
   "metadata": {},
   "outputs": [
    {
     "data": {
      "image/png": "[encoded data removed]",
      "text/plain": [
       "<Figure size 1440x360 with 1 Axes>"
      ]
     },
     "metadata": {
      "needs_background": "light"
     },
     "output_type": "display_data"
    }
   ],
   "source": [
    "plt.hist(data, bins=200, color='red')\n",
    "plt.title('Histogram of median absolute deviations of individual topics')\n",
    "plt.show()"
   ]
  },
  {
   "cell_type": "code",
   "execution_count": null,
   "metadata": {},
   "outputs": [],
   "source": []
  },
  {
   "cell_type": "code",
   "execution_count": null,
   "metadata": {},
   "outputs": [],
   "source": []
  },
  {
   "cell_type": "markdown",
   "metadata": {},
   "source": [
    "### For individual users, see their differences with median values"
   ]
  },
  {
   "cell_type": "code",
   "execution_count": 86,
   "metadata": {},
   "outputs": [],
   "source": [
    "topic_ids = list(cleaned_for_users.columns[1:-1])  \n",
    "# the first column is anon_user_id, and the last one is full_count (# of not-Nan values in the row)"
   ]
  },
  {
   "cell_type": "code",
   "execution_count": 87,
   "metadata": {},
   "outputs": [
    {
     "data": {
      "text/plain": [
       "'1933'"
      ]
     },
     "execution_count": 87,
     "metadata": {},
     "output_type": "execute_result"
    }
   ],
   "source": [
    "# they are strings here\n",
    "topic_ids[0]"
   ]
  },
  {
   "cell_type": "code",
   "execution_count": 88,
   "metadata": {},
   "outputs": [],
   "source": [
    "dict_with_topic_ids = dict()\n",
    "\n",
    "# get the dict from topic_ids to the median seconds_to_complete from the big statistics table\n",
    "for t_id in topic_ids:\n",
    "    dict_with_topic_ids[t_id] = one_year_statistics_df[one_year_statistics_df.step_id==int(t_id)].seconds_to_complete.values[0]"
   ]
  },
  {
   "cell_type": "code",
   "execution_count": 89,
   "metadata": {},
   "outputs": [],
   "source": [
    "# for each user, see their average deviation from the median value. Is it bigger? or smaller? \n",
    "user_dev_dict = dict()\n",
    "\n",
    "for user_tuple in cleaned_for_users.iterrows():\n",
    "    overall_diff = 0\n",
    "    overall_number = 0\n",
    "    for i, topic_value in enumerate(user_tuple[1][1:-1]):  # for each topic's value\n",
    "        if topic_value > 0:  # if it's not None\n",
    "            overall_number += 1\n",
    "            corresponding_topic_id = topic_ids[i]\n",
    "            # take the median value corresponding_topic_id for this topic from the statistics df\n",
    "            median = dict_with_topic_ids[corresponding_topic_id]\n",
    "            diff = median - topic_value\n",
    "            overall_diff += diff  # if the difference is positive, topic_values are in general smaller that median\n",
    "            \n",
    "    # for the current user, divide the overall difference by the number of topics\n",
    "    try:\n",
    "        av_dev_from_mean = round(overall_diff / overall_number, 2)\n",
    "        user_dev_dict[user_tuple[0]] = av_dev_from_mean\n",
    "    except ZeroDivisionError:  # in the table there are still some users who don't have any values\n",
    "        assert overall_diff == 0  # but then the difference should also be 0\n",
    "        continue"
   ]
  },
  {
   "cell_type": "code",
   "execution_count": 90,
   "metadata": {},
   "outputs": [
    {
     "data": {
      "text/plain": [
       "8114"
      ]
     },
     "execution_count": 90,
     "metadata": {},
     "output_type": "execute_result"
    }
   ],
   "source": [
    "len(user_dev_dict)"
   ]
  },
  {
   "cell_type": "code",
   "execution_count": 91,
   "metadata": {},
   "outputs": [
    {
     "data": {
      "text/plain": [
       "[1, 4, 7, 9, 11, 20, 24, 26, 29, 33]"
      ]
     },
     "execution_count": 91,
     "metadata": {},
     "output_type": "execute_result"
    }
   ],
   "source": [
    "list(user_dev_dict.keys())[:10]"
   ]
  },
  {
   "cell_type": "code",
   "execution_count": 92,
   "metadata": {},
   "outputs": [
    {
     "data": {
      "text/plain": [
       "-482.67"
      ]
     },
     "execution_count": 92,
     "metadata": {},
     "output_type": "execute_result"
    }
   ],
   "source": [
    "user_dev_dict[1]"
   ]
  },
  {
   "cell_type": "code",
   "execution_count": 93,
   "metadata": {},
   "outputs": [],
   "source": [
    "# average difference between each users' values and median values (from the statistics table)\n",
    "data = [user_dev_dict[el] for el in user_dev_dict]"
   ]
  },
  {
   "cell_type": "code",
   "execution_count": 94,
   "metadata": {},
   "outputs": [
    {
     "data": {
      "image/png": "[encoded data removed]",
      "text/plain": [
       "<Figure size 1440x360 with 1 Axes>"
      ]
     },
     "metadata": {
      "needs_background": "light"
     },
     "output_type": "display_data"
    }
   ],
   "source": [
    "plt.hist(data, bins=200)\n",
    "plt.title('For various users, their average difference from their individual seconds_to_complete and the median one')\n",
    "plt.show()"
   ]
  },
  {
   "cell_type": "markdown",
   "metadata": {},
   "source": [
    "Why don't we compute median absolute deviation for each user? The thing is, it doesn't make sense. In median absolute deviation, we are supposed to have the same median for all the values and see their differences with this median. Here, for each topic we have its own median time.\n",
    "\n",
    "So, instead,  we compute MAD for each topic.\n",
    "MAD = median(|Y_i - median(Y_i)|)\n",
    "\n"
   ]
  },
  {
   "cell_type": "code",
   "execution_count": 95,
   "metadata": {},
   "outputs": [
    {
     "data": {
      "image/png": "[encoded data removed]",
      "text/plain": [
       "<Figure size 1440x360 with 1 Axes>"
      ]
     },
     "metadata": {
      "needs_background": "light"
     },
     "output_type": "display_data"
    }
   ],
   "source": [
    "plt.hist(data, bins=200, range=(-10000, max(data)))\n",
    "plt.title(\"Average difference between users' individual seconds_to_complete and the median topic values; on the smaller range\")\n",
    "plt.show()"
   ]
  },
  {
   "cell_type": "markdown",
   "metadata": {},
   "source": [
    "This is the distribution of users' average differences with topics' median values. As we can see, the differences are mostly negative, meaning that the actual users' values are usually larger than the median. "
   ]
  },
  {
   "cell_type": "markdown",
   "metadata": {},
   "source": [
    "One of the ideas was that with the help of this data we can clean the dataset from \"too fast\" and \"too slow\" users. As we can see, there are almost no \"too fast\" ones but many those that in general complete a topic slower than the corresponding median value. Does it make sense to disregard these users though?..."
   ]
  },
  {
   "cell_type": "code",
   "execution_count": null,
   "metadata": {},
   "outputs": [],
   "source": []
  },
  {
   "cell_type": "markdown",
   "metadata": {},
   "source": [
    "#### Another idea -- compute each user's correlation between his/her seconds_to_complete and the average topic seconds_to_complete"
   ]
  },
  {
   "cell_type": "code",
   "execution_count": 96,
   "metadata": {},
   "outputs": [],
   "source": [
    "# for each user, get their seconds_to_complete for those topics that they've completed\n",
    "# create the corresponding list of average values\n",
    "# compute and store their correlation"
   ]
  },
  {
   "cell_type": "code",
   "execution_count": 97,
   "metadata": {},
   "outputs": [],
   "source": [
    "# dict_with_topic_ids -- dict with a mapping from topic ids to the median topic time"
   ]
  },
  {
   "cell_type": "code",
   "execution_count": 98,
   "metadata": {},
   "outputs": [
    {
     "name": "stdout",
     "output_type": "stream",
     "text": [
      "topic average value is none for 19087\n",
      "topic average value is none for 19086\n",
      "topic average value is none for 19087\n",
      "topic average value is none for 19087\n",
      "topic average value is none for 19087\n",
      "topic average value is none for 19086\n",
      "topic average value is none for 19087\n",
      "topic average value is none for 19087\n",
      "topic average value is none for 19087\n",
      "topic average value is none for 19086\n",
      "topic average value is none for 19087\n",
      "topic average value is none for 19087\n",
      "topic average value is none for 19087\n",
      "topic average value is none for 19087\n",
      "topic average value is none for 19087\n",
      "topic average value is none for 19087\n",
      "topic average value is none for 19086\n",
      "topic average value is none for 19087\n",
      "topic average value is none for 19086\n",
      "topic average value is none for 19087\n",
      "topic average value is none for 19087\n",
      "topic average value is none for 19086\n",
      "topic average value is none for 19087\n",
      "topic average value is none for 19086\n",
      "topic average value is none for 19087\n",
      "topic average value is none for 19087\n",
      "topic average value is none for 19086\n",
      "topic average value is none for 19087\n",
      "topic average value is none for 19087\n",
      "topic average value is none for 19087\n",
      "topic average value is none for 19086\n",
      "topic average value is none for 19087\n",
      "topic average value is none for 19086\n",
      "topic average value is none for 19087\n",
      "topic average value is none for 19086\n",
      "topic average value is none for 19087\n",
      "topic average value is none for 19087\n",
      "topic average value is none for 19087\n",
      "topic average value is none for 19087\n",
      "topic average value is none for 19086\n",
      "topic average value is none for 19087\n",
      "topic average value is none for 19086\n",
      "topic average value is none for 19087\n",
      "topic average value is none for 19086\n",
      "topic average value is none for 19087\n",
      "topic average value is none for 19087\n",
      "topic average value is none for 19086\n",
      "topic average value is none for 19087\n",
      "topic average value is none for 19087\n",
      "topic average value is none for 19087\n",
      "topic average value is none for 19087\n",
      "topic average value is none for 19087\n",
      "topic average value is none for 19087\n",
      "topic average value is none for 19087\n",
      "topic average value is none for 19087\n",
      "topic average value is none for 19086\n",
      "topic average value is none for 19087\n",
      "topic average value is none for 19087\n",
      "topic average value is none for 19087\n",
      "topic average value is none for 19087\n",
      "topic average value is none for 19087\n",
      "topic average value is none for 19086\n",
      "topic average value is none for 19086\n",
      "topic average value is none for 19087\n",
      "topic average value is none for 19087\n",
      "topic average value is none for 19087\n",
      "topic average value is none for 19087\n",
      "topic average value is none for 19086\n",
      "topic average value is none for 19087\n",
      "topic average value is none for 19087\n",
      "topic average value is none for 19087\n",
      "topic average value is none for 19087\n",
      "topic average value is none for 19087\n",
      "topic average value is none for 19087\n",
      "topic average value is none for 19087\n",
      "topic average value is none for 19086\n",
      "topic average value is none for 19087\n",
      "topic average value is none for 19087\n",
      "topic average value is none for 19087\n",
      "topic average value is none for 19086\n",
      "topic average value is none for 19086\n",
      "topic average value is none for 19087\n",
      "topic average value is none for 19087\n",
      "topic average value is none for 19086\n",
      "topic average value is none for 19086\n",
      "topic average value is none for 19087\n",
      "topic average value is none for 19086\n",
      "topic average value is none for 19087\n",
      "topic average value is none for 19087\n",
      "topic average value is none for 19087\n",
      "topic average value is none for 19086\n",
      "topic average value is none for 19087\n",
      "topic average value is none for 19086\n",
      "topic average value is none for 19087\n",
      "topic average value is none for 19086\n",
      "topic average value is none for 19087\n",
      "topic average value is none for 19086\n",
      "topic average value is none for 19087\n",
      "topic average value is none for 19087\n",
      "topic average value is none for 19087\n",
      "topic average value is none for 19087\n",
      "topic average value is none for 19087\n",
      "topic average value is none for 19087\n",
      "topic average value is none for 19087\n",
      "topic average value is none for 19087\n",
      "topic average value is none for 19087\n",
      "topic average value is none for 19087\n",
      "topic average value is none for 19087\n",
      "topic average value is none for 19086\n",
      "topic average value is none for 19087\n",
      "topic average value is none for 19087\n",
      "topic average value is none for 19086\n",
      "topic average value is none for 19087\n",
      "topic average value is none for 19087\n",
      "topic average value is none for 19087\n",
      "topic average value is none for 19086\n",
      "topic average value is none for 19087\n",
      "topic average value is none for 19087\n"
     ]
    }
   ],
   "source": [
    "dict_w_individual_times_for_users = dict()\n",
    "\n",
    "for row in cleaned_for_users.iterrows():\n",
    "    user_id = int(row[1][0])\n",
    "    topic_values = list(row[1][1:-1])\n",
    "\n",
    "    this_user_time_values = []\n",
    "    corresponding_median_values = []\n",
    "    \n",
    "    for i, value in enumerate(topic_values):\n",
    "        if value > 0:\n",
    "            corresponding_topic_id = topic_ids[i]\n",
    "            \n",
    "            av_time = dict_with_topic_ids[corresponding_topic_id]\n",
    "            \n",
    "            if av_time > 0:\n",
    "                this_user_time_values.append(value)\n",
    "                corresponding_median_values.append(av_time)\n",
    "            else:\n",
    "                print(f'topic average value is none for {corresponding_topic_id}')  # some topics may have had nan\n",
    "                continue\n",
    "    \n",
    "    if not len(this_user_time_values) >= 20:\n",
    "        #print(f'for user {user_id} the number of values is less than 20: {len(this_user_time_values)}')\n",
    "        continue\n",
    "    \n",
    "    dict_w_individual_times_for_users[user_id] = {'time_values': this_user_time_values, \n",
    "                                                  'median_values': corresponding_median_values}"
   ]
  },
  {
   "cell_type": "code",
   "execution_count": 99,
   "metadata": {},
   "outputs": [],
   "source": [
    "users_time_correlations = []\n",
    "\n",
    "for user in dict_w_individual_times_for_users:\n",
    "    user_data = dict_w_individual_times_for_users[user]\n",
    "    time_correlation, _ = correlate_two_lists(user_data['time_values'], user_data['median_values'])\n",
    "    users_time_correlations.append(time_correlation)"
   ]
  },
  {
   "cell_type": "code",
   "execution_count": 100,
   "metadata": {},
   "outputs": [
    {
     "data": {
      "image/png": "[encoded data removed]",
      "text/plain": [
       "<Figure size 1440x360 with 1 Axes>"
      ]
     },
     "metadata": {
      "needs_background": "light"
     },
     "output_type": "display_data"
    }
   ],
   "source": [
    "plt.hist(users_time_correlations, bins=200)\n",
    "plt.title(\"Histogram of users' correlations between their individual seconds_to_complete for topics and the median ones\")\n",
    "plt.show()"
   ]
  },
  {
   "cell_type": "code",
   "execution_count": 101,
   "metadata": {},
   "outputs": [
    {
     "name": "stdout",
     "output_type": "stream",
     "text": [
      "Statistics for these individual correlations\n"
     ]
    },
    {
     "ename": "NameError",
     "evalue": "name 'mean' is not defined",
     "output_type": "error",
     "traceback": [
      "\u001b[0;31m---------------------------------------------------------------------------\u001b[0m",
      "\u001b[0;31mNameError\u001b[0m                                 Traceback (most recent call last)",
      "\u001b[0;32m<ipython-input-101-b591d7be26b7>\u001b[0m in \u001b[0;36m<module>\u001b[0;34m\u001b[0m\n\u001b[1;32m      1\u001b[0m \u001b[0mprint\u001b[0m\u001b[0;34m(\u001b[0m\u001b[0;34m'Statistics for these individual correlations'\u001b[0m\u001b[0;34m)\u001b[0m\u001b[0;34m\u001b[0m\u001b[0;34m\u001b[0m\u001b[0m\n\u001b[1;32m      2\u001b[0m print(round(max(users_time_correlations), 2), \n\u001b[0;32m----> 3\u001b[0;31m       \u001b[0mround\u001b[0m\u001b[0;34m(\u001b[0m\u001b[0mmean\u001b[0m\u001b[0;34m(\u001b[0m\u001b[0musers_time_correlations\u001b[0m\u001b[0;34m)\u001b[0m\u001b[0;34m,\u001b[0m \u001b[0;36m2\u001b[0m\u001b[0;34m)\u001b[0m\u001b[0;34m,\u001b[0m\u001b[0;34m\u001b[0m\u001b[0;34m\u001b[0m\u001b[0m\n\u001b[0m\u001b[1;32m      4\u001b[0m       round(min(users_time_correlations), 2))\n",
      "\u001b[0;31mNameError\u001b[0m: name 'mean' is not defined"
     ]
    }
   ],
   "source": [
    "print('Statistics for these individual correlations')\n",
    "print(round(max(users_time_correlations), 2), \n",
    "      round(mean(users_time_correlations), 2), \n",
    "      round(min(users_time_correlations), 2))"
   ]
  },
  {
   "cell_type": "code",
   "execution_count": 102,
   "metadata": {},
   "outputs": [],
   "source": [
    "# what if we store and plot only significant correlations?\n",
    "users_time_significant_correlations = []\n",
    "\n",
    "for user in dict_w_individual_times_for_users:\n",
    "    user_data = dict_w_individual_times_for_users[user]\n",
    "    time_correlation, p_value = correlate_two_lists(user_data['time_values'], user_data['median_values'])\n",
    "    if p_value <= 0.05:\n",
    "        users_time_significant_correlations.append(time_correlation)"
   ]
  },
  {
   "cell_type": "code",
   "execution_count": 103,
   "metadata": {},
   "outputs": [
    {
     "data": {
      "image/png": "[encoded data removed]",
      "text/plain": [
       "<Figure size 1440x360 with 1 Axes>"
      ]
     },
     "metadata": {
      "needs_background": "light"
     },
     "output_type": "display_data"
    }
   ],
   "source": [
    "plt.hist(users_time_significant_correlations, bins=200)\n",
    "plt.title(\"Histogram of users' *significant* correlations between their individual seconds_to_complete for topics and the median ones\")\n",
    "plt.show()"
   ]
  },
  {
   "cell_type": "code",
   "execution_count": 104,
   "metadata": {},
   "outputs": [
    {
     "name": "stdout",
     "output_type": "stream",
     "text": [
      "Statistics for these individual correlations\n"
     ]
    },
    {
     "ename": "NameError",
     "evalue": "name 'mean' is not defined",
     "output_type": "error",
     "traceback": [
      "\u001b[0;31m---------------------------------------------------------------------------\u001b[0m",
      "\u001b[0;31mNameError\u001b[0m                                 Traceback (most recent call last)",
      "\u001b[0;32m<ipython-input-104-f5e534f69894>\u001b[0m in \u001b[0;36m<module>\u001b[0;34m\u001b[0m\n\u001b[1;32m      1\u001b[0m \u001b[0mprint\u001b[0m\u001b[0;34m(\u001b[0m\u001b[0;34m'Statistics for these individual correlations'\u001b[0m\u001b[0;34m)\u001b[0m\u001b[0;34m\u001b[0m\u001b[0;34m\u001b[0m\u001b[0m\n\u001b[1;32m      2\u001b[0m print(round(max(users_time_significant_correlations), 2), \n\u001b[0;32m----> 3\u001b[0;31m       \u001b[0mround\u001b[0m\u001b[0;34m(\u001b[0m\u001b[0mmean\u001b[0m\u001b[0;34m(\u001b[0m\u001b[0musers_time_significant_correlations\u001b[0m\u001b[0;34m)\u001b[0m\u001b[0;34m,\u001b[0m \u001b[0;36m2\u001b[0m\u001b[0;34m)\u001b[0m\u001b[0;34m,\u001b[0m\u001b[0;34m\u001b[0m\u001b[0;34m\u001b[0m\u001b[0m\n\u001b[0m\u001b[1;32m      4\u001b[0m       round(min(users_time_significant_correlations), 2))\n",
      "\u001b[0;31mNameError\u001b[0m: name 'mean' is not defined"
     ]
    }
   ],
   "source": [
    "print('Statistics for these individual correlations')\n",
    "print(round(max(users_time_significant_correlations), 2), \n",
    "      round(mean(users_time_significant_correlations), 2), \n",
    "      round(min(users_time_significant_correlations), 2))"
   ]
  },
  {
   "cell_type": "markdown",
   "metadata": {},
   "source": [
    "The question was: do individual seconds to complete correlate with the average one? \n",
    "And we can see that yes, they do correlate. Even though there are some negative correlations as well, the average correlation is 0.53 (so it's not completely useless to look at the average cseconds_to_complete)"
   ]
  },
  {
   "cell_type": "markdown",
   "metadata": {},
   "source": [
    "##### And now with the normalized seconds_to_complete"
   ]
  },
  {
   "cell_type": "code",
   "execution_count": 105,
   "metadata": {},
   "outputs": [],
   "source": [
    "# get a mapping from topic ids to the number of words\n",
    "topic_ids_num_words = dict()\n",
    "\n",
    "for t_id in topic_ids:\n",
    "    topic_ids_num_words[t_id] = one_year_statistics_df[one_year_statistics_df.step_id==int(t_id)].num_words.values[0]"
   ]
  },
  {
   "cell_type": "code",
   "execution_count": 106,
   "metadata": {},
   "outputs": [],
   "source": [
    "dict_w_individual_normalized_times_for_users = dict()\n",
    "\n",
    "for row in cleaned_for_users.iterrows():\n",
    "    user_id = int(row[1][0])\n",
    "    topic_values = list(row[1][1:-1])\n",
    "\n",
    "    this_user_time_values = []\n",
    "    corresponding_median_values = []\n",
    "    \n",
    "    for i, value in enumerate(topic_values):\n",
    "        if value > 0:\n",
    "            corresponding_topic_id = topic_ids[i]\n",
    "            \n",
    "            av_time = dict_with_topic_ids[corresponding_topic_id]\n",
    "            \n",
    "            if av_time > 0:\n",
    "                num_words = topic_ids_num_words[corresponding_topic_id]\n",
    "                \n",
    "                this_user_time_values.append(value / num_words * 10)\n",
    "                corresponding_median_values.append(av_time / num_words * 10)\n",
    "            else:\n",
    "                #print(f'topic average value is none for {corresponding_topic_id}')  # some topics may have had nan\n",
    "                continue\n",
    "    \n",
    "    if not len(this_user_time_values) >= 20:\n",
    "        #print(f'for user {user_id} the number of values is less than 20: {len(this_user_time_values)}')\n",
    "        continue\n",
    "    \n",
    "    dict_w_individual_normalized_times_for_users[user_id] = {'time_values': this_user_time_values, \n",
    "                                                             'median_values': corresponding_median_values}"
   ]
  },
  {
   "cell_type": "code",
   "execution_count": 107,
   "metadata": {},
   "outputs": [],
   "source": [
    "users_time_correlations = []\n",
    "\n",
    "for user in dict_w_individual_normalized_times_for_users:\n",
    "    user_data = dict_w_individual_normalized_times_for_users[user]\n",
    "    time_correlation, _ = correlate_two_lists(user_data['time_values'], user_data['median_values'])\n",
    "    users_time_correlations.append(time_correlation)"
   ]
  },
  {
   "cell_type": "code",
   "execution_count": 111,
   "metadata": {},
   "outputs": [
    {
     "data": {
      "image/png": "[encoded data removed]",
      "text/plain": [
       "<Figure size 1440x360 with 1 Axes>"
      ]
     },
     "metadata": {
      "needs_background": "light"
     },
     "output_type": "display_data"
    }
   ],
   "source": [
    "plt.hist(users_time_correlations, bins=200)\n",
    "plt.title(\"Histogram of users' correlations between their individual seconds_to_complete for topics and the median ones, NORMALIZED\")\n",
    "plt.show()"
   ]
  },
  {
   "cell_type": "code",
   "execution_count": 120,
   "metadata": {},
   "outputs": [
    {
     "name": "stdout",
     "output_type": "stream",
     "text": [
      "Statistics for these individual correlations\n",
      "0.88 0.36 -0.61\n"
     ]
    }
   ],
   "source": [
    "print('Statistics for these individual correlations')\n",
    "print(round(max(users_time_correlations), 2), \n",
    "      round(mean(users_time_correlations), 2), \n",
    "      round(min(users_time_correlations), 2))"
   ]
  },
  {
   "cell_type": "code",
   "execution_count": 121,
   "metadata": {},
   "outputs": [],
   "source": [
    "# what if we store and plot only significant correlations?\n",
    "users_time_significant_correlations = []\n",
    "\n",
    "for user in dict_w_individual_normalized_times_for_users:\n",
    "    user_data = dict_w_individual_normalized_times_for_users[user]\n",
    "    time_correlation, p_value = correlate_two_lists(user_data['time_values'], user_data['median_values'])\n",
    "    if p_value <= 0.05:\n",
    "        users_time_significant_correlations.append(time_correlation)"
   ]
  },
  {
   "cell_type": "code",
   "execution_count": 113,
   "metadata": {},
   "outputs": [
    {
     "data": {
      "image/png": "[encoded data removed]",
      "text/plain": [
       "<Figure size 1440x360 with 1 Axes>"
      ]
     },
     "metadata": {
      "needs_background": "light"
     },
     "output_type": "display_data"
    }
   ],
   "source": [
    "plt.hist(users_time_significant_correlations, bins=200)\n",
    "plt.title(\"Histogram of users' *significant* correlations between their individual seconds_to_complete for topics and the median ones, NORMALIZED\")\n",
    "plt.show()"
   ]
  },
  {
   "cell_type": "code",
   "execution_count": 122,
   "metadata": {},
   "outputs": [
    {
     "name": "stdout",
     "output_type": "stream",
     "text": [
      "Statistics for these individual correlations\n",
      "0.88 0.48 -0.61\n"
     ]
    }
   ],
   "source": [
    "print('Statistics for these individual correlations')\n",
    "print(round(max(users_time_significant_correlations), 2), \n",
    "      round(mean(users_time_significant_correlations), 2), \n",
    "      round(min(users_time_significant_correlations), 2))"
   ]
  },
  {
   "cell_type": "markdown",
   "metadata": {},
   "source": [
    "With the normalized seconds_to_complete, the correlations (for some reason) are worse than with the not-normalized ones. But they are still existing."
   ]
  },
  {
   "cell_type": "markdown",
   "metadata": {},
   "source": [
    "### For individual users, see their correlations with the scores"
   ]
  },
  {
   "cell_type": "markdown",
   "metadata": {},
   "source": [
    "For each user:\n",
    "    1) take the topic ids for each they have a value (seconds_to_complete), \n",
    "    2) create a list with the corresponding readability scores\n",
    "    3) compute and store the correlation result\n",
    "    4) make a histogram of correlation results' of all users\n",
    "    5) compare the average of all users' correlations to the correlation coefficient from the previous experiments"
   ]
  },
  {
   "cell_type": "code",
   "execution_count": 108,
   "metadata": {},
   "outputs": [
    {
     "data": {
      "text/html": [
       "<div>\n",
       "<style scoped>\n",
       "    .dataframe tbody tr th:only-of-type {\n",
       "        vertical-align: middle;\n",
       "    }\n",
       "\n",
       "    .dataframe tbody tr th {\n",
       "        vertical-align: top;\n",
       "    }\n",
       "\n",
       "    .dataframe thead th {\n",
       "        text-align: right;\n",
       "    }\n",
       "</style>\n",
       "<table border=\"1\" class=\"dataframe\">\n",
       "  <thead>\n",
       "    <tr style=\"text-align: right;\">\n",
       "      <th></th>\n",
       "      <th>anon_user_id</th>\n",
       "      <th>1933</th>\n",
       "      <th>1940</th>\n",
       "      <th>1945</th>\n",
       "      <th>3489</th>\n",
       "      <th>3492</th>\n",
       "      <th>3493</th>\n",
       "      <th>3494</th>\n",
       "      <th>3495</th>\n",
       "      <th>3497</th>\n",
       "      <th>...</th>\n",
       "      <th>18057</th>\n",
       "      <th>18135</th>\n",
       "      <th>18139</th>\n",
       "      <th>18287</th>\n",
       "      <th>18303</th>\n",
       "      <th>18635</th>\n",
       "      <th>18859</th>\n",
       "      <th>19086</th>\n",
       "      <th>19087</th>\n",
       "      <th>full_count</th>\n",
       "    </tr>\n",
       "  </thead>\n",
       "  <tbody>\n",
       "    <tr>\n",
       "      <th>1</th>\n",
       "      <td>1</td>\n",
       "      <td>NaN</td>\n",
       "      <td>NaN</td>\n",
       "      <td>NaN</td>\n",
       "      <td>NaN</td>\n",
       "      <td>NaN</td>\n",
       "      <td>NaN</td>\n",
       "      <td>NaN</td>\n",
       "      <td>NaN</td>\n",
       "      <td>NaN</td>\n",
       "      <td>...</td>\n",
       "      <td>NaN</td>\n",
       "      <td>NaN</td>\n",
       "      <td>NaN</td>\n",
       "      <td>NaN</td>\n",
       "      <td>NaN</td>\n",
       "      <td>NaN</td>\n",
       "      <td>NaN</td>\n",
       "      <td>NaN</td>\n",
       "      <td>NaN</td>\n",
       "      <td>26</td>\n",
       "    </tr>\n",
       "    <tr>\n",
       "      <th>4</th>\n",
       "      <td>4</td>\n",
       "      <td>NaN</td>\n",
       "      <td>NaN</td>\n",
       "      <td>NaN</td>\n",
       "      <td>NaN</td>\n",
       "      <td>NaN</td>\n",
       "      <td>NaN</td>\n",
       "      <td>NaN</td>\n",
       "      <td>NaN</td>\n",
       "      <td>NaN</td>\n",
       "      <td>...</td>\n",
       "      <td>NaN</td>\n",
       "      <td>NaN</td>\n",
       "      <td>NaN</td>\n",
       "      <td>NaN</td>\n",
       "      <td>NaN</td>\n",
       "      <td>NaN</td>\n",
       "      <td>NaN</td>\n",
       "      <td>NaN</td>\n",
       "      <td>NaN</td>\n",
       "      <td>52</td>\n",
       "    </tr>\n",
       "    <tr>\n",
       "      <th>7</th>\n",
       "      <td>7</td>\n",
       "      <td>NaN</td>\n",
       "      <td>NaN</td>\n",
       "      <td>NaN</td>\n",
       "      <td>NaN</td>\n",
       "      <td>NaN</td>\n",
       "      <td>NaN</td>\n",
       "      <td>NaN</td>\n",
       "      <td>NaN</td>\n",
       "      <td>NaN</td>\n",
       "      <td>...</td>\n",
       "      <td>NaN</td>\n",
       "      <td>NaN</td>\n",
       "      <td>NaN</td>\n",
       "      <td>NaN</td>\n",
       "      <td>NaN</td>\n",
       "      <td>NaN</td>\n",
       "      <td>NaN</td>\n",
       "      <td>NaN</td>\n",
       "      <td>NaN</td>\n",
       "      <td>21</td>\n",
       "    </tr>\n",
       "    <tr>\n",
       "      <th>9</th>\n",
       "      <td>9</td>\n",
       "      <td>NaN</td>\n",
       "      <td>NaN</td>\n",
       "      <td>NaN</td>\n",
       "      <td>NaN</td>\n",
       "      <td>NaN</td>\n",
       "      <td>NaN</td>\n",
       "      <td>NaN</td>\n",
       "      <td>NaN</td>\n",
       "      <td>NaN</td>\n",
       "      <td>...</td>\n",
       "      <td>NaN</td>\n",
       "      <td>NaN</td>\n",
       "      <td>NaN</td>\n",
       "      <td>NaN</td>\n",
       "      <td>NaN</td>\n",
       "      <td>NaN</td>\n",
       "      <td>NaN</td>\n",
       "      <td>NaN</td>\n",
       "      <td>NaN</td>\n",
       "      <td>22</td>\n",
       "    </tr>\n",
       "    <tr>\n",
       "      <th>11</th>\n",
       "      <td>11</td>\n",
       "      <td>NaN</td>\n",
       "      <td>NaN</td>\n",
       "      <td>NaN</td>\n",
       "      <td>NaN</td>\n",
       "      <td>NaN</td>\n",
       "      <td>NaN</td>\n",
       "      <td>NaN</td>\n",
       "      <td>NaN</td>\n",
       "      <td>NaN</td>\n",
       "      <td>...</td>\n",
       "      <td>NaN</td>\n",
       "      <td>NaN</td>\n",
       "      <td>NaN</td>\n",
       "      <td>NaN</td>\n",
       "      <td>NaN</td>\n",
       "      <td>NaN</td>\n",
       "      <td>NaN</td>\n",
       "      <td>NaN</td>\n",
       "      <td>NaN</td>\n",
       "      <td>86</td>\n",
       "    </tr>\n",
       "  </tbody>\n",
       "</table>\n",
       "<p>5 rows × 1067 columns</p>\n",
       "</div>"
      ],
      "text/plain": [
       "    anon_user_id  1933  1940  1945  3489  3492  3493  3494  3495  3497  ...  \\\n",
       "1              1   NaN   NaN   NaN   NaN   NaN   NaN   NaN   NaN   NaN  ...   \n",
       "4              4   NaN   NaN   NaN   NaN   NaN   NaN   NaN   NaN   NaN  ...   \n",
       "7              7   NaN   NaN   NaN   NaN   NaN   NaN   NaN   NaN   NaN  ...   \n",
       "9              9   NaN   NaN   NaN   NaN   NaN   NaN   NaN   NaN   NaN  ...   \n",
       "11            11   NaN   NaN   NaN   NaN   NaN   NaN   NaN   NaN   NaN  ...   \n",
       "\n",
       "    18057  18135  18139  18287  18303  18635  18859  19086  19087  full_count  \n",
       "1     NaN    NaN    NaN    NaN    NaN    NaN    NaN    NaN    NaN          26  \n",
       "4     NaN    NaN    NaN    NaN    NaN    NaN    NaN    NaN    NaN          52  \n",
       "7     NaN    NaN    NaN    NaN    NaN    NaN    NaN    NaN    NaN          21  \n",
       "9     NaN    NaN    NaN    NaN    NaN    NaN    NaN    NaN    NaN          22  \n",
       "11    NaN    NaN    NaN    NaN    NaN    NaN    NaN    NaN    NaN          86  \n",
       "\n",
       "[5 rows x 1067 columns]"
      ]
     },
     "execution_count": 108,
     "metadata": {},
     "output_type": "execute_result"
    }
   ],
   "source": [
    "# df with anonymised user IDs in the first column and the number of non-Nan values in the last column\n",
    "cleaned_for_users.head()"
   ]
  },
  {
   "cell_type": "code",
   "execution_count": 109,
   "metadata": {},
   "outputs": [
    {
     "name": "stdout",
     "output_type": "stream",
     "text": [
      "[1933, 1940, 1945, 3489, 3492]\n"
     ]
    }
   ],
   "source": [
    "topic_ids = list(cleaned_for_users.columns[1:-1]) \n",
    "topic_ids = [int(el) for el in topic_ids]\n",
    "print(topic_ids[:5])"
   ]
  },
  {
   "cell_type": "code",
   "execution_count": 110,
   "metadata": {},
   "outputs": [
    {
     "data": {
      "text/html": [
       "<div>\n",
       "<style scoped>\n",
       "    .dataframe tbody tr th:only-of-type {\n",
       "        vertical-align: middle;\n",
       "    }\n",
       "\n",
       "    .dataframe tbody tr th {\n",
       "        vertical-align: top;\n",
       "    }\n",
       "\n",
       "    .dataframe thead th {\n",
       "        text-align: right;\n",
       "    }\n",
       "</style>\n",
       "<table border=\"1\" class=\"dataframe\">\n",
       "  <thead>\n",
       "    <tr style=\"text-align: right;\">\n",
       "      <th></th>\n",
       "      <th>step_id</th>\n",
       "      <th>is_theory</th>\n",
       "      <th>text</th>\n",
       "      <th>seconds_to_complete</th>\n",
       "      <th>last_year_completion_rate</th>\n",
       "      <th>last_year_avg_like</th>\n",
       "      <th>last_year_completed_step_users_count</th>\n",
       "      <th>last_year_likes_count</th>\n",
       "      <th>last_year_topic_completion_rate</th>\n",
       "      <th>last_year_completed_topic_users_count</th>\n",
       "      <th>back_to_theory_times_per_user_session_avg_last_year</th>\n",
       "      <th>back_to_theory_users_%_last_year</th>\n",
       "      <th>cleaned_texts</th>\n",
       "      <th>num_words</th>\n",
       "      <th>num_sentences</th>\n",
       "      <th>num_syllables</th>\n",
       "      <th>flesch_score</th>\n",
       "      <th>dale_chall_score</th>\n",
       "    </tr>\n",
       "  </thead>\n",
       "  <tbody>\n",
       "    <tr>\n",
       "      <th>0</th>\n",
       "      <td>12357</td>\n",
       "      <td>1</td>\n",
       "      <td>\"&lt;h5 id=\\\"introduction\\\"&gt; Introduction&lt;/h5&gt;\\n\\...</td>\n",
       "      <td>603.45</td>\n",
       "      <td>0.40</td>\n",
       "      <td>1.88</td>\n",
       "      <td>63.0</td>\n",
       "      <td>17.0</td>\n",
       "      <td>0.86</td>\n",
       "      <td>59.0</td>\n",
       "      <td>1.35</td>\n",
       "      <td>64.21</td>\n",
       "      <td>So far you have learned quite a lot about quer...</td>\n",
       "      <td>629</td>\n",
       "      <td>36</td>\n",
       "      <td>988</td>\n",
       "      <td>56.215480</td>\n",
       "      <td>8.946413</td>\n",
       "    </tr>\n",
       "    <tr>\n",
       "      <th>1</th>\n",
       "      <td>12691</td>\n",
       "      <td>1</td>\n",
       "      <td>\"&lt;p&gt;JavaScript was originally developed as a l...</td>\n",
       "      <td>253.21</td>\n",
       "      <td>0.82</td>\n",
       "      <td>1.72</td>\n",
       "      <td>1454.0</td>\n",
       "      <td>152.0</td>\n",
       "      <td>0.96</td>\n",
       "      <td>1443.0</td>\n",
       "      <td>0.36</td>\n",
       "      <td>26.23</td>\n",
       "      <td>JavaScript was originally developed as a langu...</td>\n",
       "      <td>602</td>\n",
       "      <td>41</td>\n",
       "      <td>946</td>\n",
       "      <td>58.988972</td>\n",
       "      <td>9.689308</td>\n",
       "    </tr>\n",
       "    <tr>\n",
       "      <th>2</th>\n",
       "      <td>8112</td>\n",
       "      <td>1</td>\n",
       "      <td>\"&lt;p&gt;We've already learned what annotations are...</td>\n",
       "      <td>486.94</td>\n",
       "      <td>0.40</td>\n",
       "      <td>1.45</td>\n",
       "      <td>135.0</td>\n",
       "      <td>20.0</td>\n",
       "      <td>0.74</td>\n",
       "      <td>125.0</td>\n",
       "      <td>1.10</td>\n",
       "      <td>65.93</td>\n",
       "      <td>We've already learned what annotations are and...</td>\n",
       "      <td>607</td>\n",
       "      <td>34</td>\n",
       "      <td>981</td>\n",
       "      <td>51.988400</td>\n",
       "      <td>8.918233</td>\n",
       "    </tr>\n",
       "    <tr>\n",
       "      <th>3</th>\n",
       "      <td>7892</td>\n",
       "      <td>1</td>\n",
       "      <td>\"&lt;h5&gt;Introduction&lt;/h5&gt;\\n\\n&lt;p&gt;You often hear pe...</td>\n",
       "      <td>542.73</td>\n",
       "      <td>0.75</td>\n",
       "      <td>1.76</td>\n",
       "      <td>383.0</td>\n",
       "      <td>50.0</td>\n",
       "      <td>0.90</td>\n",
       "      <td>434.0</td>\n",
       "      <td>0.35</td>\n",
       "      <td>26.85</td>\n",
       "      <td>You often hear people speak about the probabil...</td>\n",
       "      <td>1123</td>\n",
       "      <td>59</td>\n",
       "      <td>1682</td>\n",
       "      <td>60.803928</td>\n",
       "      <td>9.501775</td>\n",
       "    </tr>\n",
       "    <tr>\n",
       "      <th>4</th>\n",
       "      <td>15809</td>\n",
       "      <td>1</td>\n",
       "      <td>\"&lt;h5&gt;Introduction&lt;/h5&gt;\\n\\n&lt;p&gt;When you have alr...</td>\n",
       "      <td>556.76</td>\n",
       "      <td>0.41</td>\n",
       "      <td>1.50</td>\n",
       "      <td>73.0</td>\n",
       "      <td>12.0</td>\n",
       "      <td>0.94</td>\n",
       "      <td>97.0</td>\n",
       "      <td>0.90</td>\n",
       "      <td>54.81</td>\n",
       "      <td>When you have already learned the basics of pr...</td>\n",
       "      <td>631</td>\n",
       "      <td>29</td>\n",
       "      <td>985</td>\n",
       "      <td>52.688193</td>\n",
       "      <td>9.220007</td>\n",
       "    </tr>\n",
       "  </tbody>\n",
       "</table>\n",
       "</div>"
      ],
      "text/plain": [
       "   step_id  is_theory                                               text  \\\n",
       "0    12357          1  \"<h5 id=\\\"introduction\\\"> Introduction</h5>\\n\\...   \n",
       "1    12691          1  \"<p>JavaScript was originally developed as a l...   \n",
       "2     8112          1  \"<p>We've already learned what annotations are...   \n",
       "3     7892          1  \"<h5>Introduction</h5>\\n\\n<p>You often hear pe...   \n",
       "4    15809          1  \"<h5>Introduction</h5>\\n\\n<p>When you have alr...   \n",
       "\n",
       "   seconds_to_complete  last_year_completion_rate  last_year_avg_like  \\\n",
       "0               603.45                       0.40                1.88   \n",
       "1               253.21                       0.82                1.72   \n",
       "2               486.94                       0.40                1.45   \n",
       "3               542.73                       0.75                1.76   \n",
       "4               556.76                       0.41                1.50   \n",
       "\n",
       "   last_year_completed_step_users_count  last_year_likes_count  \\\n",
       "0                                  63.0                   17.0   \n",
       "1                                1454.0                  152.0   \n",
       "2                                 135.0                   20.0   \n",
       "3                                 383.0                   50.0   \n",
       "4                                  73.0                   12.0   \n",
       "\n",
       "   last_year_topic_completion_rate  last_year_completed_topic_users_count  \\\n",
       "0                             0.86                                   59.0   \n",
       "1                             0.96                                 1443.0   \n",
       "2                             0.74                                  125.0   \n",
       "3                             0.90                                  434.0   \n",
       "4                             0.94                                   97.0   \n",
       "\n",
       "   back_to_theory_times_per_user_session_avg_last_year  \\\n",
       "0                                               1.35     \n",
       "1                                               0.36     \n",
       "2                                               1.10     \n",
       "3                                               0.35     \n",
       "4                                               0.90     \n",
       "\n",
       "   back_to_theory_users_%_last_year  \\\n",
       "0                             64.21   \n",
       "1                             26.23   \n",
       "2                             65.93   \n",
       "3                             26.85   \n",
       "4                             54.81   \n",
       "\n",
       "                                       cleaned_texts  num_words  \\\n",
       "0  So far you have learned quite a lot about quer...        629   \n",
       "1  JavaScript was originally developed as a langu...        602   \n",
       "2  We've already learned what annotations are and...        607   \n",
       "3  You often hear people speak about the probabil...       1123   \n",
       "4  When you have already learned the basics of pr...        631   \n",
       "\n",
       "   num_sentences  num_syllables  flesch_score  dale_chall_score  \n",
       "0             36            988     56.215480          8.946413  \n",
       "1             41            946     58.988972          9.689308  \n",
       "2             34            981     51.988400          8.918233  \n",
       "3             59           1682     60.803928          9.501775  \n",
       "4             29            985     52.688193          9.220007  "
      ]
     },
     "execution_count": 110,
     "metadata": {},
     "output_type": "execute_result"
    }
   ],
   "source": [
    "# df with topic ids and computed scores\n",
    "one_year_statistics_df.head()"
   ]
  },
  {
   "cell_type": "code",
   "execution_count": 111,
   "metadata": {},
   "outputs": [
    {
     "data": {
      "text/plain": [
       "59.4882635983264"
      ]
     },
     "execution_count": 111,
     "metadata": {},
     "output_type": "execute_result"
    }
   ],
   "source": [
    "one_year_statistics_df[one_year_statistics_df.step_id == topic_ids[5]].flesch_score.values[0]"
   ]
  },
  {
   "cell_type": "markdown",
   "metadata": {},
   "source": [
    "For each user:\n",
    "    1) take the topic ids for each they have a value (seconds_to_complete), \n",
    "    2) create a list with the corresponding readability scores"
   ]
  },
  {
   "cell_type": "code",
   "execution_count": 112,
   "metadata": {},
   "outputs": [
    {
     "name": "stdout",
     "output_type": "stream",
     "text": [
      "for user 75 the number of values is less than 20: 19\n",
      "for user 188 the number of values is less than 20: 19\n",
      "for user 289 the number of values is less than 20: 19\n",
      "for user 334 the number of values is less than 20: 19\n",
      "for user 361 the number of values is less than 20: 19\n",
      "for user 414 the number of values is less than 20: 19\n",
      "for user 492 the number of values is less than 20: 19\n",
      "for user 520 the number of values is less than 20: 19\n",
      "for user 622 the number of values is less than 20: 19\n",
      "for user 681 the number of values is less than 20: 19\n",
      "for user 706 the number of values is less than 20: 19\n",
      "for user 805 the number of values is less than 20: 19\n",
      "for user 926 the number of values is less than 20: 19\n",
      "for user 1033 the number of values is less than 20: 19\n",
      "for user 1157 the number of values is less than 20: 19\n",
      "for user 1187 the number of values is less than 20: 19\n",
      "for user 1204 the number of values is less than 20: 19\n",
      "for user 1325 the number of values is less than 20: 19\n",
      "for user 1525 the number of values is less than 20: 19\n",
      "for user 1531 the number of values is less than 20: 19\n",
      "for user 1659 the number of values is less than 20: 19\n",
      "for user 1678 the number of values is less than 20: 19\n",
      "for user 1741 the number of values is less than 20: 19\n",
      "for user 1755 the number of values is less than 20: 19\n",
      "for user 1891 the number of values is less than 20: 19\n",
      "for user 1911 the number of values is less than 20: 19\n",
      "for user 1968 the number of values is less than 20: 19\n",
      "for user 2029 the number of values is less than 20: 19\n",
      "for user 2241 the number of values is less than 20: 19\n",
      "for user 2309 the number of values is less than 20: 19\n",
      "for user 2329 the number of values is less than 20: 19\n",
      "for user 2517 the number of values is less than 20: 19\n",
      "for user 2523 the number of values is less than 20: 19\n",
      "for user 2525 the number of values is less than 20: 19\n",
      "for user 2541 the number of values is less than 20: 19\n",
      "for user 2614 the number of values is less than 20: 19\n",
      "for user 2673 the number of values is less than 20: 19\n",
      "for user 2854 the number of values is less than 20: 19\n",
      "for user 3046 the number of values is less than 20: 19\n",
      "for user 3204 the number of values is less than 20: 19\n",
      "for user 3299 the number of values is less than 20: 19\n",
      "for user 3397 the number of values is less than 20: 19\n",
      "for user 3405 the number of values is less than 20: 19\n",
      "for user 3502 the number of values is less than 20: 19\n",
      "for user 3574 the number of values is less than 20: 19\n",
      "for user 3636 the number of values is less than 20: 19\n",
      "for user 3648 the number of values is less than 20: 19\n",
      "for user 3698 the number of values is less than 20: 19\n",
      "for user 3728 the number of values is less than 20: 19\n",
      "for user 3795 the number of values is less than 20: 19\n",
      "for user 3856 the number of values is less than 20: 19\n",
      "for user 4232 the number of values is less than 20: 19\n",
      "for user 4263 the number of values is less than 20: 19\n",
      "for user 4291 the number of values is less than 20: 19\n",
      "for user 4336 the number of values is less than 20: 19\n",
      "for user 4345 the number of values is less than 20: 19\n",
      "for user 4369 the number of values is less than 20: 19\n",
      "for user 4483 the number of values is less than 20: 16\n",
      "for user 4624 the number of values is less than 20: 19\n",
      "for user 4648 the number of values is less than 20: 19\n",
      "for user 4706 the number of values is less than 20: 19\n",
      "for user 4771 the number of values is less than 20: 19\n",
      "for user 4886 the number of values is less than 20: 1\n",
      "for user 5088 the number of values is less than 20: 19\n",
      "for user 5271 the number of values is less than 20: 19\n",
      "for user 5284 the number of values is less than 20: 19\n",
      "for user 5321 the number of values is less than 20: 19\n",
      "for user 5391 the number of values is less than 20: 19\n",
      "for user 5394 the number of values is less than 20: 19\n",
      "for user 5420 the number of values is less than 20: 19\n",
      "for user 5444 the number of values is less than 20: 19\n",
      "for user 5474 the number of values is less than 20: 19\n",
      "for user 5595 the number of values is less than 20: 19\n",
      "for user 5687 the number of values is less than 20: 19\n",
      "for user 6087 the number of values is less than 20: 19\n",
      "for user 6217 the number of values is less than 20: 19\n",
      "for user 6250 the number of values is less than 20: 19\n",
      "for user 6369 the number of values is less than 20: 19\n",
      "for user 6445 the number of values is less than 20: 19\n",
      "for user 6611 the number of values is less than 20: 19\n",
      "for user 6616 the number of values is less than 20: 19\n",
      "for user 6630 the number of values is less than 20: 19\n",
      "for user 6648 the number of values is less than 20: 19\n",
      "for user 6677 the number of values is less than 20: 19\n",
      "for user 6678 the number of values is less than 20: 19\n",
      "for user 6751 the number of values is less than 20: 19\n",
      "for user 6781 the number of values is less than 20: 19\n",
      "for user 6805 the number of values is less than 20: 19\n",
      "for user 6901 the number of values is less than 20: 19\n",
      "for user 6933 the number of values is less than 20: 19\n",
      "for user 7087 the number of values is less than 20: 19\n",
      "for user 7201 the number of values is less than 20: 19\n",
      "for user 7255 the number of values is less than 20: 19\n",
      "for user 7278 the number of values is less than 20: 19\n",
      "for user 7317 the number of values is less than 20: 19\n",
      "for user 7330 the number of values is less than 20: 19\n",
      "for user 7391 the number of values is less than 20: 19\n",
      "for user 7451 the number of values is less than 20: 19\n",
      "for user 7453 the number of values is less than 20: 19\n",
      "for user 7575 the number of values is less than 20: 19\n",
      "for user 7633 the number of values is less than 20: 19\n",
      "for user 7721 the number of values is less than 20: 19\n",
      "for user 7838 the number of values is less than 20: 19\n",
      "for user 7907 the number of values is less than 20: 19\n",
      "for user 7922 the number of values is less than 20: 19\n",
      "for user 7941 the number of values is less than 20: 19\n",
      "for user 8012 the number of values is less than 20: 19\n",
      "for user 8038 the number of values is less than 20: 19\n",
      "for user 8047 the number of values is less than 20: 19\n",
      "for user 8289 the number of values is less than 20: 19\n",
      "for user 8295 the number of values is less than 20: 19\n",
      "for user 8538 the number of values is less than 20: 19\n",
      "for user 8651 the number of values is less than 20: 19\n",
      "for user 8741 the number of values is less than 20: 19\n",
      "for user 8916 the number of values is less than 20: 19\n",
      "for user 9064 the number of values is less than 20: 19\n",
      "for user 9090 the number of values is less than 20: 19\n",
      "for user 9164 the number of values is less than 20: 19\n",
      "for user 9230 the number of values is less than 20: 19\n",
      "for user 9299 the number of values is less than 20: 19\n",
      "for user 9429 the number of values is less than 20: 19\n",
      "for user 9616 the number of values is less than 20: 19\n",
      "for user 9628 the number of values is less than 20: 19\n",
      "for user 9664 the number of values is less than 20: 19\n",
      "for user 9665 the number of values is less than 20: 19\n",
      "for user 9768 the number of values is less than 20: 19\n",
      "for user 9850 the number of values is less than 20: 19\n",
      "for user 9867 the number of values is less than 20: 19\n",
      "for user 9874 the number of values is less than 20: 19\n",
      "for user 9880 the number of values is less than 20: 17\n",
      "for user 9953 the number of values is less than 20: 19\n",
      "for user 10041 the number of values is less than 20: 19\n",
      "for user 10063 the number of values is less than 20: 19\n",
      "for user 10333 the number of values is less than 20: 19\n",
      "for user 10401 the number of values is less than 20: 19\n",
      "for user 10415 the number of values is less than 20: 19\n",
      "for user 10534 the number of values is less than 20: 19\n",
      "for user 10628 the number of values is less than 20: 19\n",
      "for user 10662 the number of values is less than 20: 19\n",
      "for user 10712 the number of values is less than 20: 19\n",
      "for user 10725 the number of values is less than 20: 19\n",
      "for user 11093 the number of values is less than 20: 19\n",
      "for user 11236 the number of values is less than 20: 19\n",
      "for user 11307 the number of values is less than 20: 19\n",
      "for user 11352 the number of values is less than 20: 19\n",
      "for user 11764 the number of values is less than 20: 19\n",
      "for user 11810 the number of values is less than 20: 19\n",
      "for user 11843 the number of values is less than 20: 19\n",
      "for user 11956 the number of values is less than 20: 19\n"
     ]
    },
    {
     "name": "stdout",
     "output_type": "stream",
     "text": [
      "for user 12150 the number of values is less than 20: 19\n",
      "for user 12178 the number of values is less than 20: 19\n",
      "for user 12188 the number of values is less than 20: 19\n",
      "for user 12568 the number of values is less than 20: 19\n",
      "for user 12705 the number of values is less than 20: 19\n",
      "for user 12876 the number of values is less than 20: 19\n",
      "for user 12943 the number of values is less than 20: 19\n",
      "for user 13065 the number of values is less than 20: 19\n",
      "for user 13066 the number of values is less than 20: 19\n",
      "for user 13272 the number of values is less than 20: 19\n",
      "for user 13608 the number of values is less than 20: 19\n",
      "for user 13624 the number of values is less than 20: 19\n",
      "for user 13725 the number of values is less than 20: 19\n",
      "for user 13792 the number of values is less than 20: 19\n",
      "for user 13812 the number of values is less than 20: 19\n",
      "for user 13814 the number of values is less than 20: 19\n",
      "for user 13873 the number of values is less than 20: 19\n",
      "for user 13887 the number of values is less than 20: 19\n",
      "for user 13901 the number of values is less than 20: 19\n",
      "for user 14138 the number of values is less than 20: 19\n",
      "for user 14398 the number of values is less than 20: 17\n",
      "for user 14515 the number of values is less than 20: 19\n",
      "for user 14544 the number of values is less than 20: 19\n",
      "for user 14559 the number of values is less than 20: 19\n",
      "for user 14576 the number of values is less than 20: 19\n",
      "for user 14658 the number of values is less than 20: 19\n",
      "for user 14996 the number of values is less than 20: 19\n",
      "for user 15108 the number of values is less than 20: 19\n",
      "for user 15201 the number of values is less than 20: 19\n",
      "for user 15283 the number of values is less than 20: 19\n",
      "for user 15297 the number of values is less than 20: 19\n",
      "for user 15586 the number of values is less than 20: 19\n",
      "for user 15594 the number of values is less than 20: 19\n",
      "for user 15664 the number of values is less than 20: 18\n",
      "for user 15768 the number of values is less than 20: 19\n",
      "for user 15855 the number of values is less than 20: 19\n",
      "for user 15980 the number of values is less than 20: 19\n",
      "for user 16160 the number of values is less than 20: 19\n",
      "for user 16209 the number of values is less than 20: 19\n",
      "for user 16325 the number of values is less than 20: 19\n",
      "for user 16332 the number of values is less than 20: 19\n",
      "for user 16358 the number of values is less than 20: 19\n",
      "for user 16374 the number of values is less than 20: 19\n",
      "for user 16387 the number of values is less than 20: 19\n",
      "for user 16394 the number of values is less than 20: 18\n",
      "for user 16490 the number of values is less than 20: 19\n",
      "for user 16561 the number of values is less than 20: 19\n",
      "for user 16628 the number of values is less than 20: 19\n",
      "for user 16910 the number of values is less than 20: 19\n",
      "for user 16959 the number of values is less than 20: 19\n",
      "for user 17319 the number of values is less than 20: 19\n",
      "for user 17324 the number of values is less than 20: 19\n",
      "for user 17369 the number of values is less than 20: 19\n",
      "for user 17495 the number of values is less than 20: 19\n",
      "for user 17497 the number of values is less than 20: 19\n",
      "for user 17608 the number of values is less than 20: 19\n",
      "for user 18498 the number of values is less than 20: 19\n",
      "for user 18669 the number of values is less than 20: 19\n",
      "for user 18692 the number of values is less than 20: 19\n",
      "for user 18721 the number of values is less than 20: 19\n",
      "for user 18729 the number of values is less than 20: 19\n",
      "for user 19019 the number of values is less than 20: 19\n",
      "for user 19304 the number of values is less than 20: 19\n",
      "for user 19364 the number of values is less than 20: 19\n",
      "for user 19414 the number of values is less than 20: 19\n",
      "for user 19445 the number of values is less than 20: 19\n",
      "for user 19667 the number of values is less than 20: 19\n",
      "for user 19722 the number of values is less than 20: 19\n",
      "for user 19791 the number of values is less than 20: 19\n",
      "for user 19806 the number of values is less than 20: 19\n",
      "for user 19865 the number of values is less than 20: 19\n",
      "for user 20227 the number of values is less than 20: 19\n",
      "for user 20560 the number of values is less than 20: 19\n",
      "for user 20642 the number of values is less than 20: 19\n",
      "for user 21173 the number of values is less than 20: 19\n",
      "for user 21403 the number of values is less than 20: 19\n",
      "for user 21584 the number of values is less than 20: 19\n",
      "for user 21675 the number of values is less than 20: 19\n",
      "for user 21716 the number of values is less than 20: 19\n",
      "for user 21735 the number of values is less than 20: 19\n",
      "for user 21758 the number of values is less than 20: 19\n",
      "for user 21859 the number of values is less than 20: 19\n",
      "for user 21889 the number of values is less than 20: 19\n",
      "for user 22033 the number of values is less than 20: 19\n",
      "for user 22188 the number of values is less than 20: 19\n",
      "for user 22250 the number of values is less than 20: 19\n",
      "for user 22288 the number of values is less than 20: 19\n",
      "for user 22294 the number of values is less than 20: 19\n",
      "for user 22403 the number of values is less than 20: 19\n",
      "for user 22580 the number of values is less than 20: 19\n",
      "for user 22598 the number of values is less than 20: 19\n",
      "for user 22766 the number of values is less than 20: 19\n",
      "for user 22886 the number of values is less than 20: 19\n",
      "for user 22951 the number of values is less than 20: 19\n",
      "for user 23147 the number of values is less than 20: 19\n",
      "for user 23184 the number of values is less than 20: 19\n",
      "for user 23196 the number of values is less than 20: 19\n",
      "for user 23282 the number of values is less than 20: 19\n",
      "for user 23286 the number of values is less than 20: 19\n",
      "for user 23341 the number of values is less than 20: 19\n",
      "for user 23365 the number of values is less than 20: 19\n",
      "for user 23394 the number of values is less than 20: 19\n",
      "for user 23446 the number of values is less than 20: 19\n",
      "for user 23534 the number of values is less than 20: 19\n",
      "for user 23790 the number of values is less than 20: 19\n",
      "for user 23827 the number of values is less than 20: 19\n",
      "for user 23937 the number of values is less than 20: 19\n",
      "for user 24046 the number of values is less than 20: 19\n",
      "for user 24073 the number of values is less than 20: 19\n",
      "for user 24107 the number of values is less than 20: 19\n",
      "for user 24230 the number of values is less than 20: 19\n",
      "for user 24254 the number of values is less than 20: 19\n",
      "for user 24487 the number of values is less than 20: 19\n",
      "for user 24610 the number of values is less than 20: 19\n",
      "for user 24680 the number of values is less than 20: 19\n",
      "for user 24905 the number of values is less than 20: 19\n",
      "for user 24909 the number of values is less than 20: 19\n",
      "for user 24942 the number of values is less than 20: 19\n",
      "for user 25087 the number of values is less than 20: 19\n",
      "for user 25228 the number of values is less than 20: 19\n",
      "for user 25371 the number of values is less than 20: 19\n",
      "for user 25387 the number of values is less than 20: 19\n",
      "for user 25543 the number of values is less than 20: 19\n",
      "for user 25774 the number of values is less than 20: 19\n",
      "for user 25899 the number of values is less than 20: 19\n",
      "for user 25941 the number of values is less than 20: 19\n",
      "for user 26172 the number of values is less than 20: 19\n",
      "for user 26287 the number of values is less than 20: 19\n",
      "for user 26399 the number of values is less than 20: 19\n",
      "for user 26418 the number of values is less than 20: 19\n",
      "for user 26931 the number of values is less than 20: 19\n",
      "for user 27132 the number of values is less than 20: 19\n",
      "for user 27186 the number of values is less than 20: 19\n",
      "for user 27220 the number of values is less than 20: 19\n",
      "for user 27704 the number of values is less than 20: 19\n",
      "for user 27994 the number of values is less than 20: 19\n",
      "for user 28175 the number of values is less than 20: 19\n",
      "for user 28283 the number of values is less than 20: 19\n",
      "for user 28339 the number of values is less than 20: 19\n",
      "for user 28483 the number of values is less than 20: 19\n",
      "for user 28602 the number of values is less than 20: 19\n",
      "for user 28683 the number of values is less than 20: 19\n",
      "for user 28751 the number of values is less than 20: 19\n",
      "for user 28789 the number of values is less than 20: 19\n",
      "for user 28827 the number of values is less than 20: 19\n",
      "for user 28874 the number of values is less than 20: 19\n",
      "for user 28907 the number of values is less than 20: 19\n"
     ]
    },
    {
     "name": "stdout",
     "output_type": "stream",
     "text": [
      "for user 28946 the number of values is less than 20: 19\n",
      "for user 29216 the number of values is less than 20: 19\n",
      "for user 29286 the number of values is less than 20: 19\n",
      "for user 29389 the number of values is less than 20: 19\n",
      "for user 29446 the number of values is less than 20: 19\n",
      "for user 29509 the number of values is less than 20: 19\n",
      "for user 29607 the number of values is less than 20: 19\n",
      "for user 29628 the number of values is less than 20: 19\n",
      "for user 29734 the number of values is less than 20: 19\n",
      "for user 29778 the number of values is less than 20: 19\n",
      "for user 29792 the number of values is less than 20: 19\n",
      "for user 30015 the number of values is less than 20: 19\n",
      "for user 30140 the number of values is less than 20: 19\n",
      "for user 30302 the number of values is less than 20: 19\n",
      "for user 30343 the number of values is less than 20: 19\n",
      "for user 30415 the number of values is less than 20: 19\n",
      "for user 30453 the number of values is less than 20: 19\n",
      "for user 30571 the number of values is less than 20: 19\n",
      "for user 30887 the number of values is less than 20: 19\n",
      "for user 31012 the number of values is less than 20: 19\n",
      "for user 31063 the number of values is less than 20: 19\n",
      "for user 31075 the number of values is less than 20: 19\n",
      "for user 31282 the number of values is less than 20: 19\n",
      "for user 31382 the number of values is less than 20: 18\n",
      "for user 31427 the number of values is less than 20: 19\n",
      "for user 31508 the number of values is less than 20: 19\n",
      "for user 31665 the number of values is less than 20: 19\n",
      "for user 31723 the number of values is less than 20: 19\n",
      "for user 31762 the number of values is less than 20: 19\n",
      "for user 31886 the number of values is less than 20: 19\n",
      "for user 31923 the number of values is less than 20: 19\n",
      "for user 32171 the number of values is less than 20: 19\n",
      "for user 32283 the number of values is less than 20: 19\n",
      "for user 32369 the number of values is less than 20: 19\n",
      "for user 32533 the number of values is less than 20: 19\n",
      "for user 32664 the number of values is less than 20: 19\n",
      "for user 32845 the number of values is less than 20: 19\n",
      "for user 32864 the number of values is less than 20: 19\n",
      "for user 32952 the number of values is less than 20: 19\n",
      "for user 32979 the number of values is less than 20: 19\n",
      "for user 32981 the number of values is less than 20: 19\n",
      "for user 33021 the number of values is less than 20: 19\n",
      "for user 33057 the number of values is less than 20: 19\n",
      "for user 33092 the number of values is less than 20: 19\n",
      "for user 33236 the number of values is less than 20: 19\n",
      "for user 33264 the number of values is less than 20: 19\n",
      "for user 33295 the number of values is less than 20: 19\n",
      "for user 33435 the number of values is less than 20: 19\n",
      "for user 33504 the number of values is less than 20: 19\n",
      "for user 33557 the number of values is less than 20: 19\n",
      "for user 33660 the number of values is less than 20: 19\n",
      "for user 33961 the number of values is less than 20: 19\n",
      "for user 34031 the number of values is less than 20: 19\n",
      "for user 34042 the number of values is less than 20: 19\n",
      "for user 34065 the number of values is less than 20: 19\n",
      "for user 34359 the number of values is less than 20: 19\n",
      "for user 34590 the number of values is less than 20: 19\n",
      "for user 34637 the number of values is less than 20: 19\n"
     ]
    }
   ],
   "source": [
    "dict_w_all_data_for_users = dict()\n",
    "\n",
    "for row in cleaned_for_users.iterrows():\n",
    "    user_id = int(row[1][0])\n",
    "    topic_values = list(row[1][1:-1])\n",
    "\n",
    "    this_user_time_values = []\n",
    "    corresponding_DC_values = []\n",
    "    corresponfing_flesch_values = []\n",
    "    \n",
    "    for i, value in enumerate(topic_values):\n",
    "        if value > 0:\n",
    "            corresponding_topic_id = topic_ids[i]\n",
    "            this_user_time_values.append(value)\n",
    "            \n",
    "            flesch_score = one_year_statistics_df[one_year_statistics_df.step_id == corresponding_topic_id].flesch_score.values[0]\n",
    "            dc_score = one_year_statistics_df[one_year_statistics_df.step_id == corresponding_topic_id].dale_chall_score.values[0]\n",
    "            corresponding_DC_values.append(dc_score)\n",
    "            corresponfing_flesch_values.append(flesch_score)\n",
    "    \n",
    "    if not len(this_user_time_values) >= 20:\n",
    "        print(f'for user {user_id} the number of values is less than 20: {len(this_user_time_values)}')\n",
    "        continue\n",
    "    \n",
    "    dict_w_all_data_for_users[user_id] = {'time_values': this_user_time_values, \n",
    "                                          'dc_scores': corresponding_DC_values,\n",
    "                                          'flesch_scores': corresponfing_flesch_values}"
   ]
  },
  {
   "cell_type": "markdown",
   "metadata": {},
   "source": [
    "Now we have users' individual seconds_to_complete stored with the corresponding readability scores. The next things to do are: \n",
    " 3) compute and store the correlation result\n",
    " 4) make a histogram of correlation results' of all users\n",
    " 5) compare the average of all users' correlations to the correlation coefficient from the previous experiments"
   ]
  },
  {
   "cell_type": "code",
   "execution_count": 113,
   "metadata": {},
   "outputs": [],
   "source": [
    "from scipy.stats import spearmanr"
   ]
  },
  {
   "cell_type": "code",
   "execution_count": 114,
   "metadata": {},
   "outputs": [],
   "source": [
    "def correlate_two_lists(l1, l2):    \n",
    "    score, pvalue = spearmanr(a=l1, b=l2, nan_policy='raise')\n",
    "    return score, pvalue"
   ]
  },
  {
   "cell_type": "code",
   "execution_count": 116,
   "metadata": {},
   "outputs": [],
   "source": [
    "users_dc_correlations = []\n",
    "users_flesch_correlations = []\n",
    "p_values_dc = []\n",
    "p_values_flesch = []\n",
    "\n",
    "for user in dict_w_all_data_for_users:\n",
    "    user_data = dict_w_all_data_for_users[user]\n",
    "    dc_correlation, p_val = correlate_two_lists(user_data['time_values'], user_data['dc_scores'])\n",
    "    users_dc_correlations.append(dc_correlation)\n",
    "    p_values_dc.append(p_val)\n",
    "    \n",
    "    flesch_correlation, p_val = correlate_two_lists(user_data['time_values'], user_data['flesch_scores'])\n",
    "    users_flesch_correlations.append(flesch_correlation)\n",
    "    p_values_flesch.append(p_val)"
   ]
  },
  {
   "cell_type": "code",
   "execution_count": 83,
   "metadata": {},
   "outputs": [
    {
     "data": {
      "image/png": "[encoded data removed]",
      "text/plain": [
       "<Figure size 1440x360 with 1 Axes>"
      ]
     },
     "metadata": {
      "needs_background": "light"
     },
     "output_type": "display_data"
    }
   ],
   "source": [
    "plt.hist(users_dc_correlations, bins=200)\n",
    "plt.title(\"Histogram of users' DC correlations\")\n",
    "plt.show()"
   ]
  },
  {
   "cell_type": "code",
   "execution_count": 124,
   "metadata": {},
   "outputs": [
    {
     "data": {
      "text/plain": [
       "7760"
      ]
     },
     "execution_count": 124,
     "metadata": {},
     "output_type": "execute_result"
    }
   ],
   "source": [
    "len(users_dc_correlations)"
   ]
  },
  {
   "cell_type": "code",
   "execution_count": 118,
   "metadata": {},
   "outputs": [],
   "source": [
    "dc_signif = []\n",
    "for i, el in enumerate(users_dc_correlations):\n",
    "    if p_values_dc[i] < 0.05:\n",
    "        dc_signif.append(el)"
   ]
  },
  {
   "cell_type": "code",
   "execution_count": 125,
   "metadata": {},
   "outputs": [
    {
     "data": {
      "image/png": "[encoded data removed]",
      "text/plain": [
       "<Figure size 1440x360 with 1 Axes>"
      ]
     },
     "metadata": {
      "needs_background": "light"
     },
     "output_type": "display_data"
    }
   ],
   "source": [
    "plt.hist(dc_signif, bins=100, color='red')\n",
    "plt.title(\"Histogram of users' DC correlations, significant\")\n",
    "plt.show()"
   ]
  },
  {
   "cell_type": "code",
   "execution_count": null,
   "metadata": {},
   "outputs": [],
   "source": []
  },
  {
   "cell_type": "code",
   "execution_count": 89,
   "metadata": {},
   "outputs": [
    {
     "data": {
      "image/png": "[encoded data removed]",
      "text/plain": [
       "<Figure size 1440x360 with 1 Axes>"
      ]
     },
     "metadata": {
      "needs_background": "light"
     },
     "output_type": "display_data"
    }
   ],
   "source": [
    "plt.hist(users_flesch_correlations, bins=200)\n",
    "plt.title(\"Histogram of users' Flesch correlations\")\n",
    "plt.show()"
   ]
  },
  {
   "cell_type": "code",
   "execution_count": 120,
   "metadata": {},
   "outputs": [],
   "source": [
    "flesch_signif = []\n",
    "for i, el in enumerate(users_flesch_correlations):\n",
    "    if p_values_flesch[i] < 0.05:\n",
    "        flesch_signif.append(el)"
   ]
  },
  {
   "cell_type": "code",
   "execution_count": 126,
   "metadata": {},
   "outputs": [
    {
     "data": {
      "image/png": "[encoded data removed]",
      "text/plain": [
       "<Figure size 1440x360 with 1 Axes>"
      ]
     },
     "metadata": {
      "needs_background": "light"
     },
     "output_type": "display_data"
    }
   ],
   "source": [
    "plt.hist(flesch_signif, bins=100, color='red')\n",
    "plt.title(\"Histogram of users' Flesch correlations, significant\")\n",
    "plt.show()"
   ]
  },
  {
   "cell_type": "code",
   "execution_count": null,
   "metadata": {},
   "outputs": [],
   "source": []
  },
  {
   "cell_type": "code",
   "execution_count": 41,
   "metadata": {},
   "outputs": [],
   "source": [
    "from statistics import mean"
   ]
  },
  {
   "cell_type": "code",
   "execution_count": 87,
   "metadata": {},
   "outputs": [
    {
     "name": "stdout",
     "output_type": "stream",
     "text": [
      "Statistics for DC individual correlations\n",
      "0.71 0.02 -0.7\n"
     ]
    }
   ],
   "source": [
    "print('Statistics for DC individual correlations')\n",
    "print(round(max(users_dc_correlations), 2), \n",
    "      round(mean(users_dc_correlations), 2), \n",
    "      round(min(users_dc_correlations), 2))"
   ]
  },
  {
   "cell_type": "code",
   "execution_count": 88,
   "metadata": {},
   "outputs": [
    {
     "name": "stdout",
     "output_type": "stream",
     "text": [
      "Statistics for Flesch individual correlations\n",
      "0.6 -0.05 -0.89\n"
     ]
    }
   ],
   "source": [
    "print('Statistics for Flesch individual correlations')\n",
    "print(round(max(users_flesch_correlations), 2), \n",
    "      round(mean(users_flesch_correlations), 2), \n",
    "      round(min(users_flesch_correlations), 2))"
   ]
  },
  {
   "cell_type": "markdown",
   "metadata": {},
   "source": [
    "When considering users' individual correlations, there are some users whose seconds_to_read correlates quite well with Flesch and DC scores (coefficients -0.89 and 0.71 correspondingly), meaning that the less time it took them to read a topic, the 'easier' it was according to the scores. But on the other hand, there are also users whose completion time correlates negatively with the scores (-0.7 and 0.6 for DC and FLesch correspondingly). On average, users' correlation coefficient with the scores is 0.02 for DC and -0.05 for Flesch. To compare, the correlation of scores with the median seconds_to_complete was 0.101 for DC and -0.157 for Flesch.  "
   ]
  },
  {
   "cell_type": "markdown",
   "metadata": {},
   "source": [
    "#### Now the same with the normalized seconds_to_complete"
   ]
  },
  {
   "cell_type": "code",
   "execution_count": null,
   "metadata": {},
   "outputs": [],
   "source": [
    "# topic_ids_num_words - a mapping from topic ids to the number of words"
   ]
  },
  {
   "cell_type": "code",
   "execution_count": 30,
   "metadata": {},
   "outputs": [
    {
     "data": {
      "text/plain": [
       "count     8114.000000\n",
       "mean     14683.298989\n",
       "std       9659.393370\n",
       "min          1.000000\n",
       "25%       6295.750000\n",
       "50%      13058.500000\n",
       "75%      23021.000000\n",
       "max      34803.000000\n",
       "Name: anon_user_id, dtype: float64"
      ]
     },
     "execution_count": 30,
     "metadata": {},
     "output_type": "execute_result"
    }
   ],
   "source": [
    "cleaned_for_users.anon_user_id.describe()"
   ]
  },
  {
   "cell_type": "code",
   "execution_count": 31,
   "metadata": {
    "scrolled": true
   },
   "outputs": [
    {
     "name": "stdout",
     "output_type": "stream",
     "text": [
      "0\n",
      "100\n",
      "200\n",
      "300\n",
      "400\n",
      "500\n",
      "600\n",
      "700\n",
      "800\n",
      "900\n",
      "1000\n",
      "1100\n",
      "1200\n",
      "1300\n",
      "1400\n",
      "1500\n",
      "1600\n",
      "1700\n",
      "1800\n",
      "1900\n",
      "2000\n",
      "2100\n",
      "2200\n",
      "2300\n",
      "2400\n",
      "2500\n",
      "2600\n",
      "2700\n",
      "2800\n",
      "2900\n",
      "3000\n",
      "3100\n",
      "3200\n",
      "3300\n",
      "3400\n",
      "3500\n",
      "3600\n",
      "3700\n",
      "3800\n",
      "3900\n",
      "4000\n",
      "4100\n",
      "4200\n",
      "4300\n",
      "4400\n",
      "4500\n",
      "4600\n",
      "4700\n",
      "4800\n",
      "4900\n",
      "5000\n",
      "5100\n",
      "5200\n",
      "5300\n",
      "5400\n",
      "5500\n",
      "5600\n",
      "5700\n",
      "5800\n",
      "5900\n",
      "6000\n",
      "6100\n",
      "6200\n",
      "6300\n",
      "6400\n",
      "6500\n",
      "6600\n",
      "6700\n",
      "6800\n",
      "6900\n",
      "7000\n",
      "7100\n",
      "7200\n",
      "7300\n",
      "7400\n",
      "7500\n",
      "7600\n",
      "7700\n",
      "7800\n",
      "7900\n",
      "8000\n",
      "8100\n"
     ]
    }
   ],
   "source": [
    "dict_w_all_data_for_users2 = dict()\n",
    "\n",
    "for j, row in enumerate(cleaned_for_users.iterrows()):\n",
    "    if j % 100 == 0:\n",
    "        print(j)\n",
    "    \n",
    "    user_id = int(row[1][0])\n",
    "    topic_values = list(row[1][1:-1])\n",
    "\n",
    "    this_user_time_values = []\n",
    "    corresponding_DC_values = []\n",
    "    corresponfing_flesch_values = []\n",
    "    \n",
    "    for i, value in enumerate(topic_values):\n",
    "        if value > 0:            \n",
    "            corresponding_topic_id = topic_ids[i]\n",
    "            \n",
    "            num_words = topic_ids_num_words[corresponding_topic_id]\n",
    "            this_user_time_values.append(value / num_words * 10)\n",
    "            \n",
    "            try:\n",
    "                flesch_score = one_year_statistics_df[one_year_statistics_df.step_id == int(corresponding_topic_id)].flesch_score.values[0]\n",
    "                dc_score = one_year_statistics_df[one_year_statistics_df.step_id == int(corresponding_topic_id)].dale_chall_score.values[0]\n",
    "            except:\n",
    "                print(corresponding_topic_id)\n",
    "                print(type(corresponding_topic_id))\n",
    "                print(one_year_statistics_df[one_year_statistics_df.step_id == corresponding_topic_id].flesch_score)\n",
    "                raise\n",
    "            corresponding_DC_values.append(dc_score)\n",
    "            corresponfing_flesch_values.append(flesch_score)\n",
    "    \n",
    "    if not len(this_user_time_values) >= 20:\n",
    "        #print(f'for user {user_id} the number of values is less than 20: {len(this_user_time_values)}')\n",
    "        continue\n",
    "    \n",
    "    dict_w_all_data_for_users2[user_id] = {'time_values': this_user_time_values, \n",
    "                                          'dc_scores': corresponding_DC_values,\n",
    "                                          'flesch_scores': corresponfing_flesch_values}"
   ]
  },
  {
   "cell_type": "code",
   "execution_count": 33,
   "metadata": {},
   "outputs": [],
   "source": [
    "users_dc_normalized_correlations = []\n",
    "users_flesch_normalized_correlations = []\n",
    "\n",
    "for user in dict_w_all_data_for_users2:\n",
    "    user_data = dict_w_all_data_for_users2[user]\n",
    "    dc_correlation, _ = correlate_two_lists(user_data['time_values'], user_data['dc_scores'])\n",
    "    users_dc_normalized_correlations.append(dc_correlation)\n",
    "    \n",
    "    flesch_correlation, _ = correlate_two_lists(user_data['time_values'], user_data['flesch_scores'])\n",
    "    users_flesch_normalized_correlations.append(flesch_correlation)"
   ]
  },
  {
   "cell_type": "code",
   "execution_count": 37,
   "metadata": {},
   "outputs": [],
   "source": [
    "plt.rcParams[\"figure.figsize\"] = (20, 5)"
   ]
  },
  {
   "cell_type": "code",
   "execution_count": 38,
   "metadata": {},
   "outputs": [
    {
     "data": {
      "image/png": "[encoded data removed]",
      "text/plain": [
       "<Figure size 1440x360 with 1 Axes>"
      ]
     },
     "metadata": {
      "needs_background": "light"
     },
     "output_type": "display_data"
    }
   ],
   "source": [
    "plt.hist(users_dc_normalized_correlations, bins=200)\n",
    "plt.title(\"Histogram of users' DC correlations with normalized seconds_to_complete\")\n",
    "plt.show()"
   ]
  },
  {
   "cell_type": "code",
   "execution_count": 42,
   "metadata": {},
   "outputs": [
    {
     "name": "stdout",
     "output_type": "stream",
     "text": [
      "Statistics for DC individual correlations, normalized\n",
      "0.71 0.03 -0.75\n"
     ]
    }
   ],
   "source": [
    "print('Statistics for DC individual correlations, normalized')\n",
    "print(round(max(users_dc_normalized_correlations), 2), \n",
    "      round(mean(users_dc_normalized_correlations), 2), \n",
    "      round(min(users_dc_normalized_correlations), 2))"
   ]
  },
  {
   "cell_type": "code",
   "execution_count": null,
   "metadata": {},
   "outputs": [],
   "source": []
  },
  {
   "cell_type": "code",
   "execution_count": 39,
   "metadata": {},
   "outputs": [
    {
     "data": {
      "image/png": "[encoded data removed]",
      "text/plain": [
       "<Figure size 1440x360 with 1 Axes>"
      ]
     },
     "metadata": {
      "needs_background": "light"
     },
     "output_type": "display_data"
    }
   ],
   "source": [
    "plt.hist(users_flesch_normalized_correlations, bins=200)\n",
    "plt.title(\"Histogram of users' Flesch correlations with normalized seconds_to_complete\")\n",
    "plt.show()"
   ]
  },
  {
   "cell_type": "code",
   "execution_count": 43,
   "metadata": {},
   "outputs": [
    {
     "name": "stdout",
     "output_type": "stream",
     "text": [
      "Statistics for Flesch individual correlations, normalized\n",
      "0.64 -0.05 -0.85\n"
     ]
    }
   ],
   "source": [
    "print('Statistics for Flesch individual correlations, normalized')\n",
    "print(round(max(users_flesch_normalized_correlations), 2), \n",
    "      round(mean(users_flesch_normalized_correlations), 2), \n",
    "      round(min(users_flesch_normalized_correlations), 2))"
   ]
  },
  {
   "cell_type": "markdown",
   "metadata": {},
   "source": [
    "As we can see, the results with the normalized seconds_to_complete are a bit different."
   ]
  }
 ],
 "metadata": {
  "kernelspec": {
   "display_name": "Python 3",
   "language": "python",
   "name": "python3"
  },
  "language_info": {
   "codemirror_mode": {
    "name": "ipython",
    "version": 3
   },
   "file_extension": ".py",
   "mimetype": "text/x-python",
   "name": "python",
   "nbconvert_exporter": "python",
   "pygments_lexer": "ipython3",
   "version": "3.6.9"
  }
 },
 "nbformat": 4,
 "nbformat_minor": 4
}
