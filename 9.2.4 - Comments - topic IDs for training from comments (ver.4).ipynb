{
 "cells": [
  {
   "cell_type": "markdown",
   "metadata": {},
   "source": [
    "## Prepare grades for comments"
   ]
  },
  {
   "cell_type": "code",
   "execution_count": 1,
   "metadata": {},
   "outputs": [],
   "source": [
    "import pandas as pd"
   ]
  },
  {
   "cell_type": "code",
   "execution_count": 2,
   "metadata": {},
   "outputs": [],
   "source": [
    "path = '../other_dumps/comments'"
   ]
  },
  {
   "cell_type": "code",
   "execution_count": 3,
   "metadata": {},
   "outputs": [
    {
     "data": {
      "text/html": [
       "<div>\n",
       "<style scoped>\n",
       "    .dataframe tbody tr th:only-of-type {\n",
       "        vertical-align: middle;\n",
       "    }\n",
       "\n",
       "    .dataframe tbody tr th {\n",
       "        vertical-align: top;\n",
       "    }\n",
       "\n",
       "    .dataframe thead th {\n",
       "        text-align: right;\n",
       "    }\n",
       "</style>\n",
       "<table border=\"1\" class=\"dataframe\">\n",
       "  <thead>\n",
       "    <tr style=\"text-align: right;\">\n",
       "      <th></th>\n",
       "      <th>id</th>\n",
       "      <th>status</th>\n",
       "      <th>thread</th>\n",
       "      <th>text</th>\n",
       "      <th>time</th>\n",
       "      <th>content_link</th>\n",
       "      <th>block_name</th>\n",
       "      <th>enabled</th>\n",
       "      <th>abuses</th>\n",
       "      <th>likes</th>\n",
       "      <th>replies</th>\n",
       "      <th>anon_user_id</th>\n",
       "      <th>area</th>\n",
       "      <th>step_id</th>\n",
       "      <th>topic_id</th>\n",
       "      <th>lemmatized_comments</th>\n",
       "      <th>count_bad</th>\n",
       "    </tr>\n",
       "  </thead>\n",
       "  <tbody>\n",
       "    <tr>\n",
       "      <th>0</th>\n",
       "      <td>9403</td>\n",
       "      <td>fixed</td>\n",
       "      <td>comment</td>\n",
       "      <td>\"...to divide between two your friends\"\\r\\nI t...</td>\n",
       "      <td>2019-06-08 20:14:45</td>\n",
       "      <td>https://hyperskill.org/learn/step/5614</td>\n",
       "      <td>text</td>\n",
       "      <td>0</td>\n",
       "      <td>0</td>\n",
       "      <td>0</td>\n",
       "      <td>0</td>\n",
       "      <td>45</td>\n",
       "      <td>math</td>\n",
       "      <td>5614</td>\n",
       "      <td>370.0</td>\n",
       "      <td>\" ... to divide between two your friend \" \\r\\n...</td>\n",
       "      <td>0</td>\n",
       "    </tr>\n",
       "    <tr>\n",
       "      <th>1</th>\n",
       "      <td>9408</td>\n",
       "      <td>won't fix</td>\n",
       "      <td>comment</td>\n",
       "      <td>It was not completely clear for me, how to con...</td>\n",
       "      <td>2019-06-08 20:32:26</td>\n",
       "      <td>https://hyperskill.org/learn/step/5614</td>\n",
       "      <td>text</td>\n",
       "      <td>1</td>\n",
       "      <td>0</td>\n",
       "      <td>3</td>\n",
       "      <td>2</td>\n",
       "      <td>45</td>\n",
       "      <td>math</td>\n",
       "      <td>5614</td>\n",
       "      <td>370.0</td>\n",
       "      <td>it be not completely clear for I , how to conv...</td>\n",
       "      <td>1</td>\n",
       "    </tr>\n",
       "    <tr>\n",
       "      <th>2</th>\n",
       "      <td>15054</td>\n",
       "      <td>fixed</td>\n",
       "      <td>feedback</td>\n",
       "      <td>completly not understood</td>\n",
       "      <td>2019-07-09 11:11:43</td>\n",
       "      <td>https://hyperskill.org/learn/step/5753</td>\n",
       "      <td>text</td>\n",
       "      <td>1</td>\n",
       "      <td>0</td>\n",
       "      <td>0</td>\n",
       "      <td>0</td>\n",
       "      <td>105</td>\n",
       "      <td>math</td>\n",
       "      <td>5753</td>\n",
       "      <td>385.0</td>\n",
       "      <td>completly not understand</td>\n",
       "      <td>1</td>\n",
       "    </tr>\n",
       "    <tr>\n",
       "      <th>3</th>\n",
       "      <td>15115</td>\n",
       "      <td>fixed</td>\n",
       "      <td>feedback</td>\n",
       "      <td>A better explanation is needed with clear defi...</td>\n",
       "      <td>2019-07-09 17:34:21</td>\n",
       "      <td>https://hyperskill.org/learn/step/5753</td>\n",
       "      <td>text</td>\n",
       "      <td>1</td>\n",
       "      <td>0</td>\n",
       "      <td>0</td>\n",
       "      <td>0</td>\n",
       "      <td>109</td>\n",
       "      <td>math</td>\n",
       "      <td>5753</td>\n",
       "      <td>385.0</td>\n",
       "      <td>a well explanation be need with clear definiti...</td>\n",
       "      <td>2</td>\n",
       "    </tr>\n",
       "    <tr>\n",
       "      <th>4</th>\n",
       "      <td>15268</td>\n",
       "      <td>fixed</td>\n",
       "      <td>comment</td>\n",
       "      <td>&gt;remember that 2^8 in decimal is 1000 0000 in ...</td>\n",
       "      <td>2019-07-10 16:03:41</td>\n",
       "      <td>https://hyperskill.org/learn/step/5753</td>\n",
       "      <td>text</td>\n",
       "      <td>0</td>\n",
       "      <td>0</td>\n",
       "      <td>1</td>\n",
       "      <td>0</td>\n",
       "      <td>122</td>\n",
       "      <td>math</td>\n",
       "      <td>5753</td>\n",
       "      <td>385.0</td>\n",
       "      <td>&gt; remember that 2 ^ 8 in decimal be 1000 0000 ...</td>\n",
       "      <td>0</td>\n",
       "    </tr>\n",
       "  </tbody>\n",
       "</table>\n",
       "</div>"
      ],
      "text/plain": [
       "      id     status    thread  \\\n",
       "0   9403      fixed   comment   \n",
       "1   9408  won't fix   comment   \n",
       "2  15054      fixed  feedback   \n",
       "3  15115      fixed  feedback   \n",
       "4  15268      fixed   comment   \n",
       "\n",
       "                                                text                 time  \\\n",
       "0  \"...to divide between two your friends\"\\r\\nI t...  2019-06-08 20:14:45   \n",
       "1  It was not completely clear for me, how to con...  2019-06-08 20:32:26   \n",
       "2                           completly not understood  2019-07-09 11:11:43   \n",
       "3  A better explanation is needed with clear defi...  2019-07-09 17:34:21   \n",
       "4  >remember that 2^8 in decimal is 1000 0000 in ...  2019-07-10 16:03:41   \n",
       "\n",
       "                             content_link block_name  enabled  abuses  likes  \\\n",
       "0  https://hyperskill.org/learn/step/5614       text        0       0      0   \n",
       "1  https://hyperskill.org/learn/step/5614       text        1       0      3   \n",
       "2  https://hyperskill.org/learn/step/5753       text        1       0      0   \n",
       "3  https://hyperskill.org/learn/step/5753       text        1       0      0   \n",
       "4  https://hyperskill.org/learn/step/5753       text        0       0      1   \n",
       "\n",
       "   replies  anon_user_id  area  step_id  topic_id  \\\n",
       "0        0            45  math     5614     370.0   \n",
       "1        2            45  math     5614     370.0   \n",
       "2        0           105  math     5753     385.0   \n",
       "3        0           109  math     5753     385.0   \n",
       "4        0           122  math     5753     385.0   \n",
       "\n",
       "                                 lemmatized_comments  count_bad  \n",
       "0  \" ... to divide between two your friend \" \\r\\n...          0  \n",
       "1  it be not completely clear for I , how to conv...          1  \n",
       "2                           completly not understand          1  \n",
       "3  a well explanation be need with clear definiti...          2  \n",
       "4  > remember that 2 ^ 8 in decimal be 1000 0000 ...          0  "
      ]
     },
     "execution_count": 3,
     "metadata": {},
     "output_type": "execute_result"
    }
   ],
   "source": [
    "# open the file where we'll add the final decision about comments\n",
    "df_with_comments = pd.read_csv(f'{path}/VER4_all_comments_to_theories_with_scores.csv')\n",
    "df_with_comments.head()"
   ]
  },
  {
   "cell_type": "code",
   "execution_count": 4,
   "metadata": {},
   "outputs": [
    {
     "name": "stdout",
     "output_type": "stream",
     "text": [
      "23905\n",
      "8419\n"
     ]
    }
   ],
   "source": [
    "print(df_with_comments.shape[0])\n",
    "print(df_with_comments[df_with_comments.count_bad > 0].shape[0])"
   ]
  },
  {
   "cell_type": "code",
   "execution_count": 5,
   "metadata": {},
   "outputs": [],
   "source": [
    "df_with_polarities = pd.read_csv(f'{path}/all_comments_to_theories_with_3_polarities.csv')"
   ]
  },
  {
   "cell_type": "code",
   "execution_count": 6,
   "metadata": {},
   "outputs": [
    {
     "data": {
      "text/html": [
       "<div>\n",
       "<style scoped>\n",
       "    .dataframe tbody tr th:only-of-type {\n",
       "        vertical-align: middle;\n",
       "    }\n",
       "\n",
       "    .dataframe tbody tr th {\n",
       "        vertical-align: top;\n",
       "    }\n",
       "\n",
       "    .dataframe thead th {\n",
       "        text-align: right;\n",
       "    }\n",
       "</style>\n",
       "<table border=\"1\" class=\"dataframe\">\n",
       "  <thead>\n",
       "    <tr style=\"text-align: right;\">\n",
       "      <th></th>\n",
       "      <th>id</th>\n",
       "      <th>status</th>\n",
       "      <th>thread</th>\n",
       "      <th>text</th>\n",
       "      <th>time</th>\n",
       "      <th>content_link</th>\n",
       "      <th>block_name</th>\n",
       "      <th>enabled</th>\n",
       "      <th>abuses</th>\n",
       "      <th>likes</th>\n",
       "      <th>replies</th>\n",
       "      <th>anon_user_id</th>\n",
       "      <th>area</th>\n",
       "      <th>step_id</th>\n",
       "      <th>topic_id</th>\n",
       "      <th>lemmatized_comments</th>\n",
       "      <th>count_bad</th>\n",
       "      <th>TextBlobPolarity</th>\n",
       "      <th>FlairPolarity</th>\n",
       "      <th>VaderPolarity</th>\n",
       "    </tr>\n",
       "  </thead>\n",
       "  <tbody>\n",
       "    <tr>\n",
       "      <th>0</th>\n",
       "      <td>9403</td>\n",
       "      <td>fixed</td>\n",
       "      <td>comment</td>\n",
       "      <td>\"...to divide between two your friends\"\\r\\nI t...</td>\n",
       "      <td>2019-06-08 20:14:45</td>\n",
       "      <td>https://hyperskill.org/learn/step/5614</td>\n",
       "      <td>text</td>\n",
       "      <td>0</td>\n",
       "      <td>0</td>\n",
       "      <td>0</td>\n",
       "      <td>0</td>\n",
       "      <td>45</td>\n",
       "      <td>math</td>\n",
       "      <td>5614</td>\n",
       "      <td>370.0</td>\n",
       "      <td>\" ... to divide between two your friend \" \\r\\n...</td>\n",
       "      <td>0</td>\n",
       "      <td>0.000000</td>\n",
       "      <td>0.817580</td>\n",
       "      <td>0.7351</td>\n",
       "    </tr>\n",
       "    <tr>\n",
       "      <th>1</th>\n",
       "      <td>9408</td>\n",
       "      <td>won't fix</td>\n",
       "      <td>comment</td>\n",
       "      <td>It was not completely clear for me, how to con...</td>\n",
       "      <td>2019-06-08 20:32:26</td>\n",
       "      <td>https://hyperskill.org/learn/step/5614</td>\n",
       "      <td>text</td>\n",
       "      <td>1</td>\n",
       "      <td>0</td>\n",
       "      <td>3</td>\n",
       "      <td>2</td>\n",
       "      <td>45</td>\n",
       "      <td>math</td>\n",
       "      <td>5614</td>\n",
       "      <td>370.0</td>\n",
       "      <td>it be not completely clear for I , how to conv...</td>\n",
       "      <td>1</td>\n",
       "      <td>0.065278</td>\n",
       "      <td>-0.999997</td>\n",
       "      <td>0.6766</td>\n",
       "    </tr>\n",
       "    <tr>\n",
       "      <th>2</th>\n",
       "      <td>15054</td>\n",
       "      <td>fixed</td>\n",
       "      <td>feedback</td>\n",
       "      <td>completly not understood</td>\n",
       "      <td>2019-07-09 11:11:43</td>\n",
       "      <td>https://hyperskill.org/learn/step/5753</td>\n",
       "      <td>text</td>\n",
       "      <td>1</td>\n",
       "      <td>0</td>\n",
       "      <td>0</td>\n",
       "      <td>0</td>\n",
       "      <td>105</td>\n",
       "      <td>math</td>\n",
       "      <td>5753</td>\n",
       "      <td>385.0</td>\n",
       "      <td>completly not understand</td>\n",
       "      <td>1</td>\n",
       "      <td>0.000000</td>\n",
       "      <td>-0.999818</td>\n",
       "      <td>0.0000</td>\n",
       "    </tr>\n",
       "    <tr>\n",
       "      <th>3</th>\n",
       "      <td>15115</td>\n",
       "      <td>fixed</td>\n",
       "      <td>feedback</td>\n",
       "      <td>A better explanation is needed with clear defi...</td>\n",
       "      <td>2019-07-09 17:34:21</td>\n",
       "      <td>https://hyperskill.org/learn/step/5753</td>\n",
       "      <td>text</td>\n",
       "      <td>1</td>\n",
       "      <td>0</td>\n",
       "      <td>0</td>\n",
       "      <td>0</td>\n",
       "      <td>109</td>\n",
       "      <td>math</td>\n",
       "      <td>5753</td>\n",
       "      <td>385.0</td>\n",
       "      <td>a well explanation be need with clear definiti...</td>\n",
       "      <td>2</td>\n",
       "      <td>0.300000</td>\n",
       "      <td>0.765204</td>\n",
       "      <td>0.6705</td>\n",
       "    </tr>\n",
       "    <tr>\n",
       "      <th>4</th>\n",
       "      <td>15268</td>\n",
       "      <td>fixed</td>\n",
       "      <td>comment</td>\n",
       "      <td>&gt;remember that 2^8 in decimal is 1000 0000 in ...</td>\n",
       "      <td>2019-07-10 16:03:41</td>\n",
       "      <td>https://hyperskill.org/learn/step/5753</td>\n",
       "      <td>text</td>\n",
       "      <td>0</td>\n",
       "      <td>0</td>\n",
       "      <td>1</td>\n",
       "      <td>0</td>\n",
       "      <td>122</td>\n",
       "      <td>math</td>\n",
       "      <td>5753</td>\n",
       "      <td>385.0</td>\n",
       "      <td>&gt; remember that 2 ^ 8 in decimal be 1000 0000 ...</td>\n",
       "      <td>0</td>\n",
       "      <td>0.000000</td>\n",
       "      <td>-0.999927</td>\n",
       "      <td>0.0258</td>\n",
       "    </tr>\n",
       "  </tbody>\n",
       "</table>\n",
       "</div>"
      ],
      "text/plain": [
       "      id     status    thread  \\\n",
       "0   9403      fixed   comment   \n",
       "1   9408  won't fix   comment   \n",
       "2  15054      fixed  feedback   \n",
       "3  15115      fixed  feedback   \n",
       "4  15268      fixed   comment   \n",
       "\n",
       "                                                text                 time  \\\n",
       "0  \"...to divide between two your friends\"\\r\\nI t...  2019-06-08 20:14:45   \n",
       "1  It was not completely clear for me, how to con...  2019-06-08 20:32:26   \n",
       "2                           completly not understood  2019-07-09 11:11:43   \n",
       "3  A better explanation is needed with clear defi...  2019-07-09 17:34:21   \n",
       "4  >remember that 2^8 in decimal is 1000 0000 in ...  2019-07-10 16:03:41   \n",
       "\n",
       "                             content_link block_name  enabled  abuses  likes  \\\n",
       "0  https://hyperskill.org/learn/step/5614       text        0       0      0   \n",
       "1  https://hyperskill.org/learn/step/5614       text        1       0      3   \n",
       "2  https://hyperskill.org/learn/step/5753       text        1       0      0   \n",
       "3  https://hyperskill.org/learn/step/5753       text        1       0      0   \n",
       "4  https://hyperskill.org/learn/step/5753       text        0       0      1   \n",
       "\n",
       "   replies  anon_user_id  area  step_id  topic_id  \\\n",
       "0        0            45  math     5614     370.0   \n",
       "1        2            45  math     5614     370.0   \n",
       "2        0           105  math     5753     385.0   \n",
       "3        0           109  math     5753     385.0   \n",
       "4        0           122  math     5753     385.0   \n",
       "\n",
       "                                 lemmatized_comments  count_bad  \\\n",
       "0  \" ... to divide between two your friend \" \\r\\n...          0   \n",
       "1  it be not completely clear for I , how to conv...          1   \n",
       "2                           completly not understand          1   \n",
       "3  a well explanation be need with clear definiti...          2   \n",
       "4  > remember that 2 ^ 8 in decimal be 1000 0000 ...          0   \n",
       "\n",
       "   TextBlobPolarity  FlairPolarity  VaderPolarity  \n",
       "0          0.000000       0.817580         0.7351  \n",
       "1          0.065278      -0.999997         0.6766  \n",
       "2          0.000000      -0.999818         0.0000  \n",
       "3          0.300000       0.765204         0.6705  \n",
       "4          0.000000      -0.999927         0.0258  "
      ]
     },
     "execution_count": 6,
     "metadata": {},
     "output_type": "execute_result"
    }
   ],
   "source": [
    "# add polarities to the file with counts of bad words\n",
    "df_with_comments['TextBlobPolarity'] = df_with_polarities.TextBlobPolarity\n",
    "df_with_comments['FlairPolarity'] = df_with_polarities.FlairPolarity\n",
    "df_with_comments['VaderPolarity'] = df_with_polarities.VaderPolarity\n",
    "df_with_comments.head()"
   ]
  },
  {
   "cell_type": "code",
   "execution_count": 7,
   "metadata": {},
   "outputs": [],
   "source": [
    "def get_neg_score_from_three(blob, flair, vader, blob_thrshld=0.5, flair_thrshld=0.75, vader_thrshld=0.5):\n",
    "    \"\"\"\n",
    "    Comment has >= 2 negative scores --> negative.\n",
    "    Otherwise -- neutral.\n",
    "    \"\"\"\n",
    "    list_less_thrshld = [el <= -thrshld for el, thrshld in zip([blob, flair, vader], \n",
    "                                                               [blob_thrshld, flair_thrshld, vader_thrshld])]\n",
    "    if sum(list_less_thrshld) >= 2:\n",
    "        return -1\n",
    "    else:\n",
    "        return 0"
   ]
  },
  {
   "cell_type": "code",
   "execution_count": 8,
   "metadata": {},
   "outputs": [
    {
     "data": {
      "text/plain": [
       "<AxesSubplot:>"
      ]
     },
     "execution_count": 8,
     "metadata": {},
     "output_type": "execute_result"
    },
    {
     "data": {
      "image/png": "[encoded data removed]",
      "text/plain": [
       "<Figure size 432x288 with 1 Axes>"
      ]
     },
     "metadata": {
      "needs_background": "light"
     },
     "output_type": "display_data"
    }
   ],
   "source": [
    "grades = []\n",
    "\n",
    "for i, row in df_with_comments.iterrows():\n",
    "    if row.count_bad == 0:  # if there are no suspicious words in the comment, we mark it separately\n",
    "        grades.append(0.5)\n",
    "        continue\n",
    "    \n",
    "    blob = row.TextBlobPolarity\n",
    "    flair = row.FlairPolarity\n",
    "    vader = row.VaderPolarity\n",
    "    \n",
    "    common_decision = get_neg_score_from_three(blob, flair, vader)\n",
    "    grades.append(common_decision)\n",
    "    \n",
    "df_with_comments['comment_grades'] = grades\n",
    "df_with_comments.comment_grades.hist()"
   ]
  },
  {
   "cell_type": "code",
   "execution_count": 9,
   "metadata": {},
   "outputs": [
    {
     "name": "stdout",
     "output_type": "stream",
     "text": [
      "660\n",
      "15486\n",
      "7759\n"
     ]
    }
   ],
   "source": [
    "print(df_with_comments[df_with_comments.comment_grades == -1].shape[0])  # 'bad' comments\n",
    "print(df_with_comments[df_with_comments.comment_grades == 0.5].shape[0])  # comments without trigger words\n",
    "print(df_with_comments[df_with_comments.comment_grades == 0].shape[0])  # all other comments"
   ]
  },
  {
   "cell_type": "code",
   "execution_count": 10,
   "metadata": {},
   "outputs": [],
   "source": [
    "df_with_comments.to_csv(f'{path}/VER4_all_comments_to_theories_with_scores.csv', index=False)"
   ]
  },
  {
   "cell_type": "markdown",
   "metadata": {},
   "source": [
    "## Split topics according to comments' grades"
   ]
  },
  {
   "cell_type": "code",
   "execution_count": 11,
   "metadata": {},
   "outputs": [],
   "source": [
    "def count_good_and_bad_comments_per_each_topic(df):\n",
    "    \"\"\"\n",
    "    We need to store IDs of comments, to be able to check the number of their reactions later.\n",
    "    \"\"\"\n",
    "    bad_comments_count_for_topics = dict()\n",
    "    good_comments_count_for_topics = dict()\n",
    "\n",
    "    for i, row in df.iterrows():\n",
    "        status = row['status']\n",
    "        comment_grade = row['comment_grades']\n",
    "        topic_id = row['topic_id']\n",
    "\n",
    "        # add the bad comments count\n",
    "        if topic_id in bad_comments_count_for_topics:\n",
    "            if comment_grade == -1 and status != 'fixed':\n",
    "                bad_comments_count_for_topics[topic_id].append(row.id)\n",
    "            else:\n",
    "                pass  # topic is in the dict but this comment is not bad so we don't add it\n",
    "\n",
    "        else:\n",
    "            if comment_grade == -1 and status != 'fixed':\n",
    "                bad_comments_count_for_topics[topic_id] = [row.id]  # this is the first comment for topic and it's bad\n",
    "            else:\n",
    "                bad_comments_count_for_topics[topic_id] = []  # this is the first comment for topic and it's not bad\n",
    "\n",
    "        # now add the good comments count\n",
    "        if topic_id in good_comments_count_for_topics:\n",
    "            if comment_grade == 1:\n",
    "                good_comments_count_for_topics[topic_id].append(row.id)\n",
    "            else:\n",
    "                pass \n",
    "        else:\n",
    "            if comment_grade == 1:\n",
    "                good_comments_count_for_topics[topic_id] = [row.id]  \n",
    "            else:\n",
    "                good_comments_count_for_topics[topic_id] = []\n",
    "                \n",
    "    return bad_comments_count_for_topics, good_comments_count_for_topics"
   ]
  },
  {
   "cell_type": "code",
   "execution_count": 12,
   "metadata": {},
   "outputs": [],
   "source": [
    "bad_comments_count_for_topics, good_comments_count_for_topics = count_good_and_bad_comments_per_each_topic(df_with_comments)"
   ]
  },
  {
   "cell_type": "code",
   "execution_count": 13,
   "metadata": {},
   "outputs": [
    {
     "data": {
      "text/plain": [
       "[193128, 1579354]"
      ]
     },
     "execution_count": 13,
     "metadata": {},
     "output_type": "execute_result"
    }
   ],
   "source": [
    "bad_comments_count_for_topics[362]"
   ]
  },
  {
   "cell_type": "code",
   "execution_count": 14,
   "metadata": {},
   "outputs": [],
   "source": [
    "def divide_into_bad_and_rest(bad_comments_count_for_topics, threshold):\n",
    "    \"\"\"\n",
    "    For each topic, if it has >=threshold bad comments -- it's bad. Otherwise it's 'the rest'.\n",
    "    \"\"\"\n",
    "    final_bad_topics = []\n",
    "    final_rest_topics = []\n",
    "\n",
    "    for topic_id in bad_comments_count_for_topics:\n",
    "        bad_num = len(bad_comments_count_for_topics[topic_id])\n",
    "\n",
    "        if bad_num >= threshold:\n",
    "            final_bad_topics.append(topic_id)\n",
    "        else:\n",
    "            final_rest_topics.append(topic_id)\n",
    "            \n",
    "    return final_bad_topics, final_rest_topics"
   ]
  },
  {
   "cell_type": "code",
   "execution_count": 15,
   "metadata": {},
   "outputs": [],
   "source": [
    "final_bad_topics_2, final_rest_topics_2 = divide_into_bad_and_rest(bad_comments_count_for_topics, threshold=2)"
   ]
  },
  {
   "cell_type": "code",
   "execution_count": 16,
   "metadata": {},
   "outputs": [
    {
     "name": "stdout",
     "output_type": "stream",
     "text": [
      "good dataset 978\n",
      "bad dataset 142\n"
     ]
    }
   ],
   "source": [
    "print('good dataset', len(final_rest_topics_2))\n",
    "print('bad dataset', len(final_bad_topics_2))"
   ]
  },
  {
   "cell_type": "markdown",
   "metadata": {},
   "source": [
    "## Check the division of the topics with high likes and extend the corpus"
   ]
  },
  {
   "cell_type": "code",
   "execution_count": 17,
   "metadata": {},
   "outputs": [],
   "source": [
    "import pickle"
   ]
  },
  {
   "cell_type": "code",
   "execution_count": 18,
   "metadata": {},
   "outputs": [],
   "source": [
    "step_id_topic_id_mapping = pickle.load(open('step_id_topic_id_mapping.pkl', 'br'))"
   ]
  },
  {
   "cell_type": "code",
   "execution_count": 19,
   "metadata": {},
   "outputs": [],
   "source": [
    "file = '../topics_with_statistics/topics_3_months_with_statistics_and_scores.csv'\n",
    "topic_statistics = pd.read_csv(file)"
   ]
  },
  {
   "cell_type": "code",
   "execution_count": 20,
   "metadata": {},
   "outputs": [],
   "source": [
    "# df with topcis where we can trust likes (with >20 evaluations)\n",
    "more_likes = topic_statistics[topic_statistics.last_3_month_likes_count > 20]\n",
    "very_good_topics = more_likes[more_likes.last_3_month_avg_like > 1.85]\n",
    "good_like_steps = [row['step_id'] for i, row in very_good_topics.iterrows()]\n",
    "good_like_topics = set([step_id_topic_id_mapping[step_id] for step_id in good_like_steps])"
   ]
  },
  {
   "cell_type": "code",
   "execution_count": 21,
   "metadata": {},
   "outputs": [
    {
     "name": "stdout",
     "output_type": "stream",
     "text": [
      "11\n"
     ]
    }
   ],
   "source": [
    "intersected_good_like_bad_comments_2 = good_like_topics.intersection(final_bad_topics_2)\n",
    "print(len(intersected_good_like_bad_comments_2)) "
   ]
  },
  {
   "cell_type": "code",
   "execution_count": 22,
   "metadata": {},
   "outputs": [
    {
     "name": "stdout",
     "output_type": "stream",
     "text": [
      "673.0\n",
      "227.0\n",
      "166.0\n",
      "6.0\n",
      "585.0\n",
      "429.0\n",
      "685.0\n",
      "529.0\n",
      "530.0\n",
      "121.0\n",
      "634.0\n"
     ]
    }
   ],
   "source": [
    "for el in intersected_good_like_bad_comments_2:\n",
    "    print(el)"
   ]
  },
  {
   "cell_type": "markdown",
   "metadata": {},
   "source": [
    "We have already checked it, in VER3: they could really use some improvement!\n",
    "\n",
    "* 673 -- bad from the previous case\n",
    "* 227 -- could use some improvement\n",
    "* 166 -- too!\n",
    "* 6  -- too\n",
    "* 585 -- bad from the previous case\n",
    "* 429 -- bad from the previous case\n",
    "* 685 -- it's OK\n",
    "* 529 -- may need improvement\n",
    "* 530 -- may need improvement\n",
    "* 121 -- bad from the previous case\n",
    "* 634 -- may need improvement"
   ]
  },
  {
   "cell_type": "code",
   "execution_count": 25,
   "metadata": {},
   "outputs": [
    {
     "name": "stdout",
     "output_type": "stream",
     "text": [
      "Very nice tool for better efficiency! Avoids some redundant for loops to extract values, a simple asterisk would suffice :)\n",
      "<-------------->\n",
      "Importance of 'the order of passed arguments' had to be mentioned.\n",
      "<-------------->\n",
      "Cần giải thích kỹ hơn phần kết hợp\n",
      "- print(*(something)) với hàm def add(*arg)\n",
      "<-------------->\n",
      "I wish you showed unpacking operator for the first stage as well.\n",
      "<-------------->\n",
      "some context needed for keyword only parameters topic\n",
      "<-------------->\n",
      "Can someone help me with keyword only ?\n",
      "I can't recall if it is covered in earlier topics or not!\n",
      "help needed here\n",
      "<-------------->\n",
      "Hey Mods!! aren't default values automatically keyword arguments?\n",
      "From the theory:\n",
      "\n",
      "Normally, *args comes after specific parameters:\n",
      "\n",
      "def func(positional_args, defaults, *args):\n",
      "    pass\n",
      "\n",
      "Once all required arguments have been passed, the remaining values are packed into the tuple.\n",
      "\n",
      "The parameters that come after *args are keyword-only. It means that they can only be used as keywords rather than positional arguments.\n",
      "<-------------->\n",
      "Hi, Merlin! I think the difference is whether you can pass a value to the argument.\n",
      "For instance, if you have function like this:\n",
      "def with_default(a, b=0, *args):\n",
      "    ...\n",
      "    return smth\n",
      "\n",
      "and you pass values to the function like this:\n",
      "with_default(1, 2, 3, 4, 5)\n",
      "then a=1, b=2 and args=(3, 4, 5)\n",
      "\n",
      "But if you create function with keyword:\n",
      "def with_keyword(a, *args, b=0):\n",
      "    ...\n",
      "    return smth\n",
      "\n",
      "\n",
      "with_keword(1, 2, 3, 4, 5)\n",
      "then a=1, args=(2, 3, 4, 5) and b remains the same\n",
      "<-------------->\n",
      "It's really effective in some cases! I love it\n",
      "<-------------->\n",
      "accidentally clicked\n",
      "<-------------->\n",
      "Keyword-only arguments first come up here because they are only possible after a *args parameter. They're keyword-only because they can only be assigned by keyword, not position. (The *args parameter before them in the function definition will pack up all remaining non-keyword arguments.)\n",
      "<-------------->\n",
      "Is it too much to ask for a vegan-friendly recipe. I don't make my body into a graveyard. There are other ways to fill a belly.\n",
      "<-------------->\n",
      "Is it too much to ask for an unoffensive recipe? My body is not a graveyard for other species.\n",
      "<-------------->\n",
      "Is it too much to ask for a vegan/vegetarian recipe? My body is not a graveyard for other species.\n",
      "<-------------->\n",
      "Here is a recipe for \"Vegan Zucchini Noodles with Chickpeas and Zucchini Blossoms\"\n",
      "Ingredients:\n",
      "4 tablespoons olive oil\n",
      "2 cloves garlic, minced\n",
      "2 medium zucchini, cut into noodles with a spiralizer\n",
      "12 flowers zucchini blossoms, pistils removed, cut into strips\n",
      "½ cup canned chickpeas, drained and rinsed\n",
      "salt\n",
      "6 leaf (blank)s fresh basil leaves, cut into strips, or to taste \n",
      "Heat olive oil in a large skillet over low heat and cook garlic until softened, about 10 minutes. Add zucchini and zucchini blossoms; mix well with olive oil. Add chickpeas and stir to combine. Season with salt and stir in basil. Serve immediately.\n",
      "\n",
      "Hope this helps ya\n",
      "<-------------->\n",
      "Very good. This recipe will sufficient to wipe out all my tears.\n",
      "<-------------->\n",
      "Very good. This recipe is sufficient to wipe out my tears.\n",
      "<-------------->\n",
      "I wonder what if we pass a non-numeric argument via the function call, e.g. we can do func(1, 2, 3, 'hello', True, Object())\n",
      "\n",
      "*args will parse it as usual, but an error will occur during the execution because of inapropriate values.\n",
      "So if you use *args in real world programs you should explicitly check if arguments are of the right type trying to calculate sth with them.\n",
      "\n",
      "I think, this should've been mentioned in the Theory part above.\n",
      "<-------------->\n",
      "My body isn't a graveyard for dead plants decomposing to form ammonia, hydrogen sulfide and acids. Here's the solution: if you don't want products of death to be inside you - just don't eat at all.\n",
      "<-------------->\n",
      "When I was doing the Jack´s savings, problem, I came across a problem, that , as I understood, I should follow the order \"def func(positional_args, defaults, *args):\" -->> so i understood that I should always place the default ( for example, amount=1000), before the *args in a function. It seems I couldn´t understand the difference between keyword-only and default. Can someone enlighten me? Thanks!\n",
      "<-------------->\n",
      "Keyword arguments make it possible to define a default value for a parameter;\n",
      "def keyword_function(foo=3, bar=4)\n",
      "Just like positional arguments, keyword arguments can be specified using their order, or by specifying their names.\n",
      "All of these are valid;\n",
      "keyword_function(3, 4)\n",
      "keyword_function(3, bar=4)\n",
      "keyword_function(foo=3, bar=4)\n",
      "\n",
      "Keyword-only arguments are only specifiable via the name of the argument, and cannot be specified as a positional argument.\n",
      "The following is valid;\n",
      "def keyword_only_function(parameter, *, option1=False, option2='')\n",
      "keyword_only_function(3, option1=True, option2='Hello World!')\n",
      "But this example will raise an error.\n",
      "\n",
      "https://python-3-for-scientists.readthedocs.io/en/latest/python3_advanced.html\n",
      "<-------------->\n",
      "Keyword arguments make it possible to define a default value for a parameter;\n",
      "def keyword_function(foo=3, bar=4)\n",
      "Just like positional arguments, keyword arguments can be specified using their order, or by specifying their names.\n",
      "All of these are valid;\n",
      "keyword_function(3, 4)\n",
      "keyword_function(3, bar=4)\n",
      "keyword_function(foo=3, bar=4)\n",
      "\n",
      "Keyword-only arguments are only specifiable via the name of the argument, and cannot be specified as a positional argument.\n",
      "def keyword_only_function(parameter, *, option1=False, option2='')\n",
      "The following is valid;\n",
      "keyword_only_function(3, option1=True, option2='Hello World!')\n",
      "keyword_only_function(3, True, 'Hello World!')\n",
      "But this example will raise an error.\n",
      "\n",
      "https://python-3-for-scientists.readthedocs.io/en/latest/python3_advanced.html\n",
      "<-------------->\n",
      "python prefers the better ask for forgiveness than permission approach. so if an inappropriate value is passed, an exception will be raised. the type of regular positional arguments isn't explicitly enforced anywhere either..\n",
      "<-------------->\n",
      "Very clear explanation. Thanks a lot\n",
      "<-------------->\n",
      "Spoiler alert\n",
      "<-------------->\n",
      "let's get the *args unpacked!\n",
      "<-------------->\n",
      "This platform is the best!! love it\n",
      "<-------------->\n"
     ]
    }
   ],
   "source": [
    "# what about 685? Why is it still classified as bad?\n",
    "comments_for_this_topic = df_with_comments[df_with_comments.topic_id == 685]\n",
    "for com in comments_for_this_topic.text.values:\n",
    "    if len(com) < 10000:\n",
    "        print(com)\n",
    "        print('<-------------->')"
   ]
  },
  {
   "cell_type": "markdown",
   "metadata": {},
   "source": [
    "Apparently there's a recipe in the topic and users disucc it. But otherwise the topic is fine!"
   ]
  },
  {
   "cell_type": "code",
   "execution_count": 24,
   "metadata": {},
   "outputs": [],
   "source": [
    "df_with_features = pd.DataFrame({'topic_id': list([int(el) for el in final_bad_topics_2]) +\\\n",
    "                                 list([int(el) for el in final_rest_topics_2]), \n",
    "                                'target': [1] * len(final_bad_topics_2) + [0] * len(final_rest_topics_2)})"
   ]
  },
  {
   "cell_type": "code",
   "execution_count": 26,
   "metadata": {},
   "outputs": [],
   "source": [
    "path = './new_cleaned/train_corpus/target_features'\n",
    "df_with_features.to_csv(f'{path}/topic_ids_with_target_features_VER4.csv', index=False)"
   ]
  },
  {
   "cell_type": "code",
   "execution_count": null,
   "metadata": {},
   "outputs": [],
   "source": []
  }
 ],
 "metadata": {
  "kernelspec": {
   "display_name": "Python 3",
   "language": "python",
   "name": "python3"
  },
  "language_info": {
   "codemirror_mode": {
    "name": "ipython",
    "version": 3
   },
   "file_extension": ".py",
   "mimetype": "text/x-python",
   "name": "python",
   "nbconvert_exporter": "python",
   "pygments_lexer": "ipython3",
   "version": "3.6.9"
  }
 },
 "nbformat": 4,
 "nbformat_minor": 4
}
