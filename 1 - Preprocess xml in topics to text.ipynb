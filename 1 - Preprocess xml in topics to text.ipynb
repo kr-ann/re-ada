{
 "cells": [
  {
   "cell_type": "markdown",
   "metadata": {},
   "source": [
    "## Open and look at the data"
   ]
  },
  {
   "cell_type": "code",
   "execution_count": 1,
   "metadata": {},
   "outputs": [],
   "source": [
    "import pandas as pd"
   ]
  },
  {
   "cell_type": "code",
   "execution_count": 2,
   "metadata": {},
   "outputs": [],
   "source": [
    "path = '/home/anna/Documents/Diploma/topics_with_statistics/AN-1090-steps-stats-with-texts-for-Readability (bigger statistics).csv'"
   ]
  },
  {
   "cell_type": "code",
   "execution_count": 3,
   "metadata": {},
   "outputs": [],
   "source": [
    "file = pd.read_csv(path) "
   ]
  },
  {
   "cell_type": "code",
   "execution_count": 4,
   "metadata": {},
   "outputs": [
    {
     "data": {
      "text/html": [
       "<div>\n",
       "<style scoped>\n",
       "    .dataframe tbody tr th:only-of-type {\n",
       "        vertical-align: middle;\n",
       "    }\n",
       "\n",
       "    .dataframe tbody tr th {\n",
       "        vertical-align: top;\n",
       "    }\n",
       "\n",
       "    .dataframe thead th {\n",
       "        text-align: right;\n",
       "    }\n",
       "</style>\n",
       "<table border=\"1\" class=\"dataframe\">\n",
       "  <thead>\n",
       "    <tr style=\"text-align: right;\">\n",
       "      <th></th>\n",
       "      <th>step_id</th>\n",
       "      <th>is_theory</th>\n",
       "      <th>last_3_month_completion_rate</th>\n",
       "      <th>last_3_month_avg_like</th>\n",
       "      <th>last_3_month_completed_step_users_count</th>\n",
       "      <th>last_3_month_likes_count</th>\n",
       "      <th>last_year_completion_rate</th>\n",
       "      <th>last_year_avg_like</th>\n",
       "      <th>last_year_completed_step_users_count</th>\n",
       "      <th>last_year_likes_count</th>\n",
       "      <th>seconds_to_complete</th>\n",
       "      <th>last_3_month_topic_completion_rate</th>\n",
       "      <th>last_3_month_completed_topic_users_count</th>\n",
       "      <th>last_year_topic_completion_rate</th>\n",
       "      <th>last_year_completed_topic_users_count</th>\n",
       "      <th>text</th>\n",
       "      <th>back_to_theory_times_per_user_session_avg_last_3_month</th>\n",
       "      <th>back_to_theory_users_%_last_3_month</th>\n",
       "      <th>back_to_theory_times_per_user_session_avg_last_year</th>\n",
       "      <th>back_to_theory_users_%_last_year</th>\n",
       "    </tr>\n",
       "  </thead>\n",
       "  <tbody>\n",
       "    <tr>\n",
       "      <th>0</th>\n",
       "      <td>4660</td>\n",
       "      <td>0</td>\n",
       "      <td>0.95</td>\n",
       "      <td>1.59</td>\n",
       "      <td>494.0</td>\n",
       "      <td>78.0</td>\n",
       "      <td>0.96</td>\n",
       "      <td>1.51</td>\n",
       "      <td>1394.0</td>\n",
       "      <td>180.0</td>\n",
       "      <td>71.11</td>\n",
       "      <td>NaN</td>\n",
       "      <td>NaN</td>\n",
       "      <td>NaN</td>\n",
       "      <td>NaN</td>\n",
       "      <td>\"&lt;p&gt;Select correct code snippets with loops.&lt;/...</td>\n",
       "      <td>NaN</td>\n",
       "      <td>NaN</td>\n",
       "      <td>NaN</td>\n",
       "      <td>NaN</td>\n",
       "    </tr>\n",
       "    <tr>\n",
       "      <th>1</th>\n",
       "      <td>13289</td>\n",
       "      <td>0</td>\n",
       "      <td>0.94</td>\n",
       "      <td>1.64</td>\n",
       "      <td>148.0</td>\n",
       "      <td>11.0</td>\n",
       "      <td>0.95</td>\n",
       "      <td>1.87</td>\n",
       "      <td>629.0</td>\n",
       "      <td>47.0</td>\n",
       "      <td>32.23</td>\n",
       "      <td>NaN</td>\n",
       "      <td>NaN</td>\n",
       "      <td>NaN</td>\n",
       "      <td>NaN</td>\n",
       "      <td>\"&lt;p&gt;&lt;p&gt;Complete the &lt;code class=\\\"language-jav...</td>\n",
       "      <td>NaN</td>\n",
       "      <td>NaN</td>\n",
       "      <td>NaN</td>\n",
       "      <td>NaN</td>\n",
       "    </tr>\n",
       "    <tr>\n",
       "      <th>2</th>\n",
       "      <td>13147</td>\n",
       "      <td>0</td>\n",
       "      <td>0.95</td>\n",
       "      <td>2.00</td>\n",
       "      <td>21.0</td>\n",
       "      <td>4.0</td>\n",
       "      <td>0.93</td>\n",
       "      <td>1.41</td>\n",
       "      <td>116.0</td>\n",
       "      <td>17.0</td>\n",
       "      <td>37.22</td>\n",
       "      <td>NaN</td>\n",
       "      <td>NaN</td>\n",
       "      <td>NaN</td>\n",
       "      <td>NaN</td>\n",
       "      <td>\"&lt;p&gt;&lt;a target=\\\"_blank\\\" href=\\\"https://www.dr...</td>\n",
       "      <td>NaN</td>\n",
       "      <td>NaN</td>\n",
       "      <td>NaN</td>\n",
       "      <td>NaN</td>\n",
       "    </tr>\n",
       "    <tr>\n",
       "      <th>3</th>\n",
       "      <td>5090</td>\n",
       "      <td>0</td>\n",
       "      <td>1.00</td>\n",
       "      <td>1.81</td>\n",
       "      <td>416.0</td>\n",
       "      <td>32.0</td>\n",
       "      <td>0.99</td>\n",
       "      <td>1.62</td>\n",
       "      <td>1569.0</td>\n",
       "      <td>87.0</td>\n",
       "      <td>28.19</td>\n",
       "      <td>NaN</td>\n",
       "      <td>NaN</td>\n",
       "      <td>NaN</td>\n",
       "      <td>NaN</td>\n",
       "      <td>\"&lt;p&gt;If you rely on some dependency only during...</td>\n",
       "      <td>NaN</td>\n",
       "      <td>NaN</td>\n",
       "      <td>NaN</td>\n",
       "      <td>NaN</td>\n",
       "    </tr>\n",
       "    <tr>\n",
       "      <th>4</th>\n",
       "      <td>12941</td>\n",
       "      <td>0</td>\n",
       "      <td>0.97</td>\n",
       "      <td>1.60</td>\n",
       "      <td>30.0</td>\n",
       "      <td>5.0</td>\n",
       "      <td>0.89</td>\n",
       "      <td>1.24</td>\n",
       "      <td>332.0</td>\n",
       "      <td>38.0</td>\n",
       "      <td>66.20</td>\n",
       "      <td>NaN</td>\n",
       "      <td>NaN</td>\n",
       "      <td>NaN</td>\n",
       "      <td>NaN</td>\n",
       "      <td>\"&lt;p&gt;What is the term for accessing a database ...</td>\n",
       "      <td>NaN</td>\n",
       "      <td>NaN</td>\n",
       "      <td>NaN</td>\n",
       "      <td>NaN</td>\n",
       "    </tr>\n",
       "  </tbody>\n",
       "</table>\n",
       "</div>"
      ],
      "text/plain": [
       "   step_id  is_theory  last_3_month_completion_rate  last_3_month_avg_like  \\\n",
       "0     4660          0                          0.95                   1.59   \n",
       "1    13289          0                          0.94                   1.64   \n",
       "2    13147          0                          0.95                   2.00   \n",
       "3     5090          0                          1.00                   1.81   \n",
       "4    12941          0                          0.97                   1.60   \n",
       "\n",
       "   last_3_month_completed_step_users_count  last_3_month_likes_count  \\\n",
       "0                                    494.0                      78.0   \n",
       "1                                    148.0                      11.0   \n",
       "2                                     21.0                       4.0   \n",
       "3                                    416.0                      32.0   \n",
       "4                                     30.0                       5.0   \n",
       "\n",
       "   last_year_completion_rate  last_year_avg_like  \\\n",
       "0                       0.96                1.51   \n",
       "1                       0.95                1.87   \n",
       "2                       0.93                1.41   \n",
       "3                       0.99                1.62   \n",
       "4                       0.89                1.24   \n",
       "\n",
       "   last_year_completed_step_users_count  last_year_likes_count  \\\n",
       "0                                1394.0                  180.0   \n",
       "1                                 629.0                   47.0   \n",
       "2                                 116.0                   17.0   \n",
       "3                                1569.0                   87.0   \n",
       "4                                 332.0                   38.0   \n",
       "\n",
       "   seconds_to_complete  last_3_month_topic_completion_rate  \\\n",
       "0                71.11                                 NaN   \n",
       "1                32.23                                 NaN   \n",
       "2                37.22                                 NaN   \n",
       "3                28.19                                 NaN   \n",
       "4                66.20                                 NaN   \n",
       "\n",
       "   last_3_month_completed_topic_users_count  last_year_topic_completion_rate  \\\n",
       "0                                       NaN                              NaN   \n",
       "1                                       NaN                              NaN   \n",
       "2                                       NaN                              NaN   \n",
       "3                                       NaN                              NaN   \n",
       "4                                       NaN                              NaN   \n",
       "\n",
       "   last_year_completed_topic_users_count  \\\n",
       "0                                    NaN   \n",
       "1                                    NaN   \n",
       "2                                    NaN   \n",
       "3                                    NaN   \n",
       "4                                    NaN   \n",
       "\n",
       "                                                text  \\\n",
       "0  \"<p>Select correct code snippets with loops.</...   \n",
       "1  \"<p><p>Complete the <code class=\\\"language-jav...   \n",
       "2  \"<p><a target=\\\"_blank\\\" href=\\\"https://www.dr...   \n",
       "3  \"<p>If you rely on some dependency only during...   \n",
       "4  \"<p>What is the term for accessing a database ...   \n",
       "\n",
       "   back_to_theory_times_per_user_session_avg_last_3_month  \\\n",
       "0                                                NaN        \n",
       "1                                                NaN        \n",
       "2                                                NaN        \n",
       "3                                                NaN        \n",
       "4                                                NaN        \n",
       "\n",
       "   back_to_theory_users_%_last_3_month  \\\n",
       "0                                  NaN   \n",
       "1                                  NaN   \n",
       "2                                  NaN   \n",
       "3                                  NaN   \n",
       "4                                  NaN   \n",
       "\n",
       "   back_to_theory_times_per_user_session_avg_last_year  \\\n",
       "0                                                NaN     \n",
       "1                                                NaN     \n",
       "2                                                NaN     \n",
       "3                                                NaN     \n",
       "4                                                NaN     \n",
       "\n",
       "   back_to_theory_users_%_last_year  \n",
       "0                               NaN  \n",
       "1                               NaN  \n",
       "2                               NaN  \n",
       "3                               NaN  \n",
       "4                               NaN  "
      ]
     },
     "execution_count": 4,
     "metadata": {},
     "output_type": "execute_result"
    }
   ],
   "source": [
    "file.head()"
   ]
  },
  {
   "cell_type": "code",
   "execution_count": 5,
   "metadata": {},
   "outputs": [],
   "source": [
    "three_months_df = file[['step_id', 'is_theory', 'text', 'seconds_to_complete', \n",
    "                        'last_3_month_completion_rate', 'last_3_month_completed_step_users_count', \n",
    "                        'last_3_month_avg_like', 'last_3_month_likes_count', \n",
    "                        'last_3_month_topic_completion_rate', 'last_3_month_completed_topic_users_count', \n",
    "                        'back_to_theory_times_per_user_session_avg_last_3_month', \n",
    "                        'back_to_theory_users_%_last_3_month']]"
   ]
  },
  {
   "cell_type": "code",
   "execution_count": 6,
   "metadata": {},
   "outputs": [],
   "source": [
    "three_months_topics = three_months_df.drop(three_months_df[three_months_df.is_theory == 0].index)"
   ]
  },
  {
   "cell_type": "code",
   "execution_count": 7,
   "metadata": {},
   "outputs": [
    {
     "data": {
      "text/html": [
       "<div>\n",
       "<style scoped>\n",
       "    .dataframe tbody tr th:only-of-type {\n",
       "        vertical-align: middle;\n",
       "    }\n",
       "\n",
       "    .dataframe tbody tr th {\n",
       "        vertical-align: top;\n",
       "    }\n",
       "\n",
       "    .dataframe thead th {\n",
       "        text-align: right;\n",
       "    }\n",
       "</style>\n",
       "<table border=\"1\" class=\"dataframe\">\n",
       "  <thead>\n",
       "    <tr style=\"text-align: right;\">\n",
       "      <th></th>\n",
       "      <th>step_id</th>\n",
       "      <th>is_theory</th>\n",
       "      <th>text</th>\n",
       "      <th>seconds_to_complete</th>\n",
       "      <th>last_3_month_completion_rate</th>\n",
       "      <th>last_3_month_completed_step_users_count</th>\n",
       "      <th>last_3_month_avg_like</th>\n",
       "      <th>last_3_month_likes_count</th>\n",
       "      <th>last_3_month_topic_completion_rate</th>\n",
       "      <th>last_3_month_completed_topic_users_count</th>\n",
       "      <th>back_to_theory_times_per_user_session_avg_last_3_month</th>\n",
       "      <th>back_to_theory_users_%_last_3_month</th>\n",
       "    </tr>\n",
       "  </thead>\n",
       "  <tbody>\n",
       "    <tr>\n",
       "      <th>10</th>\n",
       "      <td>12357</td>\n",
       "      <td>1</td>\n",
       "      <td>\"&lt;h5 id=\\\"introduction\\\"&gt; Introduction&lt;/h5&gt;\\n\\...</td>\n",
       "      <td>603.45</td>\n",
       "      <td>0.56</td>\n",
       "      <td>40.0</td>\n",
       "      <td>2.00</td>\n",
       "      <td>10.0</td>\n",
       "      <td>0.90</td>\n",
       "      <td>35.0</td>\n",
       "      <td>1.43</td>\n",
       "      <td>67.21</td>\n",
       "    </tr>\n",
       "    <tr>\n",
       "      <th>11</th>\n",
       "      <td>12691</td>\n",
       "      <td>1</td>\n",
       "      <td>\"&lt;p&gt;JavaScript was originally developed as a l...</td>\n",
       "      <td>253.21</td>\n",
       "      <td>0.87</td>\n",
       "      <td>884.0</td>\n",
       "      <td>1.72</td>\n",
       "      <td>79.0</td>\n",
       "      <td>0.96</td>\n",
       "      <td>844.0</td>\n",
       "      <td>0.34</td>\n",
       "      <td>24.43</td>\n",
       "    </tr>\n",
       "    <tr>\n",
       "      <th>13</th>\n",
       "      <td>8112</td>\n",
       "      <td>1</td>\n",
       "      <td>\"&lt;p&gt;We've already learned what annotations are...</td>\n",
       "      <td>486.94</td>\n",
       "      <td>0.45</td>\n",
       "      <td>50.0</td>\n",
       "      <td>1.57</td>\n",
       "      <td>7.0</td>\n",
       "      <td>0.89</td>\n",
       "      <td>49.0</td>\n",
       "      <td>1.00</td>\n",
       "      <td>69.41</td>\n",
       "    </tr>\n",
       "    <tr>\n",
       "      <th>19</th>\n",
       "      <td>7892</td>\n",
       "      <td>1</td>\n",
       "      <td>\"&lt;h5&gt;Introduction&lt;/h5&gt;\\n\\n&lt;p&gt;You often hear pe...</td>\n",
       "      <td>542.73</td>\n",
       "      <td>0.72</td>\n",
       "      <td>60.0</td>\n",
       "      <td>2.00</td>\n",
       "      <td>5.0</td>\n",
       "      <td>0.91</td>\n",
       "      <td>58.0</td>\n",
       "      <td>0.33</td>\n",
       "      <td>26.39</td>\n",
       "    </tr>\n",
       "    <tr>\n",
       "      <th>22</th>\n",
       "      <td>15809</td>\n",
       "      <td>1</td>\n",
       "      <td>\"&lt;h5&gt;Introduction&lt;/h5&gt;\\n\\n&lt;p&gt;When you have alr...</td>\n",
       "      <td>556.76</td>\n",
       "      <td>0.43</td>\n",
       "      <td>43.0</td>\n",
       "      <td>1.40</td>\n",
       "      <td>10.0</td>\n",
       "      <td>0.91</td>\n",
       "      <td>53.0</td>\n",
       "      <td>0.93</td>\n",
       "      <td>50.88</td>\n",
       "    </tr>\n",
       "  </tbody>\n",
       "</table>\n",
       "</div>"
      ],
      "text/plain": [
       "    step_id  is_theory                                               text  \\\n",
       "10    12357          1  \"<h5 id=\\\"introduction\\\"> Introduction</h5>\\n\\...   \n",
       "11    12691          1  \"<p>JavaScript was originally developed as a l...   \n",
       "13     8112          1  \"<p>We've already learned what annotations are...   \n",
       "19     7892          1  \"<h5>Introduction</h5>\\n\\n<p>You often hear pe...   \n",
       "22    15809          1  \"<h5>Introduction</h5>\\n\\n<p>When you have alr...   \n",
       "\n",
       "    seconds_to_complete  last_3_month_completion_rate  \\\n",
       "10               603.45                          0.56   \n",
       "11               253.21                          0.87   \n",
       "13               486.94                          0.45   \n",
       "19               542.73                          0.72   \n",
       "22               556.76                          0.43   \n",
       "\n",
       "    last_3_month_completed_step_users_count  last_3_month_avg_like  \\\n",
       "10                                     40.0                   2.00   \n",
       "11                                    884.0                   1.72   \n",
       "13                                     50.0                   1.57   \n",
       "19                                     60.0                   2.00   \n",
       "22                                     43.0                   1.40   \n",
       "\n",
       "    last_3_month_likes_count  last_3_month_topic_completion_rate  \\\n",
       "10                      10.0                                0.90   \n",
       "11                      79.0                                0.96   \n",
       "13                       7.0                                0.89   \n",
       "19                       5.0                                0.91   \n",
       "22                      10.0                                0.91   \n",
       "\n",
       "    last_3_month_completed_topic_users_count  \\\n",
       "10                                      35.0   \n",
       "11                                     844.0   \n",
       "13                                      49.0   \n",
       "19                                      58.0   \n",
       "22                                      53.0   \n",
       "\n",
       "    back_to_theory_times_per_user_session_avg_last_3_month  \\\n",
       "10                                               1.43        \n",
       "11                                               0.34        \n",
       "13                                               1.00        \n",
       "19                                               0.33        \n",
       "22                                               0.93        \n",
       "\n",
       "    back_to_theory_users_%_last_3_month  \n",
       "10                                67.21  \n",
       "11                                24.43  \n",
       "13                                69.41  \n",
       "19                                26.39  \n",
       "22                                50.88  "
      ]
     },
     "execution_count": 7,
     "metadata": {},
     "output_type": "execute_result"
    }
   ],
   "source": [
    "three_months_topics.head()"
   ]
  },
  {
   "cell_type": "markdown",
   "metadata": {},
   "source": [
    "## Preprocessing functions (xml cleaning)"
   ]
  },
  {
   "cell_type": "code",
   "execution_count": 8,
   "metadata": {},
   "outputs": [],
   "source": [
    "from bs4 import BeautifulSoup"
   ]
  },
  {
   "cell_type": "code",
   "execution_count": 9,
   "metadata": {},
   "outputs": [],
   "source": [
    "def get_rid_of_code_snippets(text, replace_to=\" *code* \", return_snippets=False):\n",
    "    # <pre> ... </pre> -- and replave to *code*\n",
    "    code_snippets = []\n",
    "    \n",
    "    while True:\n",
    "        try:\n",
    "            start = text.index('<pre')\n",
    "            end = start + text[start:].index('</pre>') + 6\n",
    "            code_snippets.append(text[start:end])\n",
    "            \n",
    "            text = text[:start] + replace_to + text[end:]\n",
    "            \n",
    "        except ValueError:\n",
    "            break\n",
    "            \n",
    "    if return_snippets:\n",
    "        return text, code_snippets\n",
    "    return text"
   ]
  },
  {
   "cell_type": "code",
   "execution_count": 10,
   "metadata": {},
   "outputs": [],
   "source": [
    "new_text, snippets = get_rid_of_code_snippets(three_months_topics.text[7892], return_snippets=True)"
   ]
  },
  {
   "cell_type": "code",
   "execution_count": 11,
   "metadata": {
    "scrolled": true
   },
   "outputs": [
    {
     "data": {
      "text/plain": [
       "['<pre><code class=\\\\\"language-python\\\\\">def contains(text, pattern):\\\\n    for i in range(len(text) - len(pattern) + 1):\\\\n        found = True\\\\n\\\\n        for j in range(len(pattern)):\\\\n            if text[i + j] != pattern[j]:\\\\n                found = False\\\\n                break\\\\n\\\\n        if found:\\\\n            return True\\\\n\\\\n    return False</code></pre>',\n",
       " '<pre><code class=\\\\\"language-python\\\\\">contains(\\\\\"abacabad\\\\\", \\\\\"cab\\\\\")  # True\\\\ncontains(\\\\\"abacabad\\\\\", \\\\\"abacabad\\\\\")  # True\\\\ncontains(\\\\\"aba\\\\\", \\\\\"\\\\\")  # True\\\\ncontains(\\\\\"abacabad\\\\\", \\\\\"hello\\\\\")  # False</code></pre>',\n",
       " '<pre><code class=\\\\\"language-python\\\\\">print(\\\\\"apple\\\\\" in \\\\\"pineapple\\\\\")  # True\\\\nprint(\\\\\"milk\\\\\" in \\\\\"yogurt\\\\\")      # False</code></pre>',\n",
       " '<pre><code class=\\\\\"language-python\\\\\">print(\\'\\' in \\'\\')           # True\\\\nprint(\\'\\' not in \\\\\"lemon\\\\\")  # False</code></pre>',\n",
       " '<pre><code class=\\\\\"language-python\\\\\">email = \\\\\"email_address@something.com\\\\\"\\\\nprint(email.startswith(\\\\\"www.\\\\\"))          # False\\\\nprint(email.endswith(\\\\\"@something.com\\\\\"))  # True\\\\n</code></pre>',\n",
       " '<pre><code class=\\\\\"language-python\\\\\">email = \\\\\"my_email@something.com\\\\\"\\\\nprint(email.startswith(\\\\\"email\\\\\", 2))  # False\\\\nprint(email.startswith(\\\\\"email\\\\\", 3))  # True\\\\n</code></pre>',\n",
       " '<pre><code class=\\\\\"language-python\\\\\">email = \\\\\"my_email@something.com\\\\\"\\\\nprint(email.endswith(\\\\\"@\\\\\", 5, 8))  # False\\\\nprint(email.endswith(\\\\\"@\\\\\", 5, 9))  # True\\\\n</code></pre>',\n",
       " '<pre><code class=\\\\\"language-python\\\\\">best = \\\\\"friend\\\\\"\\\\n\\\\nprint(best.find(\\\\\"i\\\\\"))   # 2\\\\nprint(best.index(\\\\\"i\\\\\"))  # 2</code></pre>',\n",
       " '<pre><code class=\\\\\"language-python\\\\\">print(best.find(\\\\\"u\\\\\"))   # -1\\\\nprint(best.index(\\\\\"u\\\\\"))  # ValueError</code></pre>',\n",
       " '<pre><code class=\\\\\"language-python\\\\\">print(best.find(\\\\\"end\\\\\"))  # 3</code></pre>',\n",
       " '<pre><code class=\\\\\"language-python\\\\\">magic = \\\\\"abracadabra\\\\\"\\\\nprint(magic.find(\\\\\"ra\\\\\"))  # 2</code></pre>',\n",
       " '<pre><code class=\\\\\"language-python\\\\\">print(magic.find(\\\\\"ra\\\\\", 5))      # 9\\\\nprint(magic.find(\\\\\"ra\\\\\", 5, 10))  # -1</code></pre>',\n",
       " '<pre><code class=\\\\\"language-python\\\\\">print(magic.rfind(\\\\\"ra\\\\\"))  # 9\\\\nprint(magic.rindex(\\\\\"a\\\\\"))  # 10</code></pre>',\n",
       " '<pre><code class=\\\\\"language-python\\\\\">magic = \\\\\"abracadabra\\\\\"\\\\n\\\\nprint(magic.count(\\\\\"abra\\\\\"))  # 2\\\\nprint(magic.count(\\\\\"a\\\\\"))     # 5</code></pre>']"
      ]
     },
     "execution_count": 11,
     "metadata": {},
     "output_type": "execute_result"
    }
   ],
   "source": [
    "snippets  # to count the number of symbols inside, we'll need to clean them too"
   ]
  },
  {
   "cell_type": "code",
   "execution_count": 12,
   "metadata": {},
   "outputs": [],
   "source": [
    "def get_rid_of_tags(text, list_tags=['button', 'div', 'a', 'strong', 'li', 'ol', 'ul',\n",
    "                                     'u', 'code', 'p', 'em', 'span', 'br', 'samp']):\n",
    "    \"\"\"Important to use it after cleaning from code snippets and math text\"\"\"\n",
    "    for tag in list_tags:\n",
    "        while True:\n",
    "            try:\n",
    "                start_open_tag = text.index(f'<{tag}')\n",
    "                end_open_tag = start_open_tag + text[start_open_tag:].index('>') + 1\n",
    "\n",
    "                text = text[:start_open_tag] + text[end_open_tag:]\n",
    "                text = text.replace(f'</{tag}>', '')  # delete the closing one\n",
    "            except ValueError:\n",
    "                break\n",
    "    return text"
   ]
  },
  {
   "cell_type": "code",
   "execution_count": 13,
   "metadata": {},
   "outputs": [
    {
     "data": {
      "text/plain": [
       "'def contains(text, pattern):\\\\n    for i in range(len(text) - len(pattern) + 1):\\\\n        found = True\\\\n\\\\n        for j in range(len(pattern)):\\\\n            if text[i + j] != pattern[j]:\\\\n                found = False\\\\n                break\\\\n\\\\n        if found:\\\\n            return True\\\\n\\\\n    return False'"
      ]
     },
     "execution_count": 13,
     "metadata": {},
     "output_type": "execute_result"
    }
   ],
   "source": [
    "code_example = snippets[0]\n",
    "\n",
    "get_rid_of_tags(code_example, list_tags=['pre', 'code'])  \n",
    "# after this we'll need to 1) delete \\n, 2) remove spaces, 3) maybe replace \\\" to \\' "
   ]
  },
  {
   "cell_type": "code",
   "execution_count": 14,
   "metadata": {},
   "outputs": [],
   "source": [
    "def get_rid_of_maths(text, replace_to=' *math* '):\n",
    "    while True:  # loop to find spans of math text\n",
    "        try:\n",
    "            start = text.index('<span class=\\\\\"math-tex\\\\\">')\n",
    "            end = start + text[start:].index('</span>') + 7\n",
    "            text = text[:start] + replace_to + text[end:]\n",
    "        except ValueError:\n",
    "            break\n",
    "    \n",
    "    while True:  # loop to find what's inside dollar signs\n",
    "        try:\n",
    "            start = text.index('$')\n",
    "            end = start + text[start + 1:].index('$') + 2\n",
    "            text = text[:start] + replace_to + text[end:]\n",
    "        except ValueError:\n",
    "            break\n",
    "    \n",
    "    return text"
   ]
  },
  {
   "cell_type": "code",
   "execution_count": 15,
   "metadata": {},
   "outputs": [],
   "source": [
    "def get_rid_of_img(text, replace_to=' *img* '):\n",
    "    while True:  # loop to find spans of math text\n",
    "        try:\n",
    "            start = text.index('<img')\n",
    "            end = start + text[start:].index('>') + 1\n",
    "            text = text[:start] + replace_to + text[end:]\n",
    "        except ValueError:\n",
    "            break\n",
    "    \n",
    "    return text"
   ]
  },
  {
   "cell_type": "code",
   "execution_count": 16,
   "metadata": {},
   "outputs": [
    {
     "name": "stdout",
     "output_type": "stream",
     "text": [
      " *img* something hereantother image  *img* \n"
     ]
    }
   ],
   "source": [
    "test_str = '<img alt=\\\"\\\" height=\\\"254\\\" src=\\\"https://ucarecdn.com/7a6c3358-54d2-430f-9b38-543f0dc7dcd6/-/crop/392x256/0,66/-/preview/\\\" width=\\\"389\\\">\\\n",
    "something here\\\n",
    "antother image <img alt = lllll>'\n",
    "res = get_rid_of_img(test_str)\n",
    "print(res)"
   ]
  },
  {
   "cell_type": "code",
   "execution_count": 17,
   "metadata": {},
   "outputs": [],
   "source": [
    "def get_rid_of_headings(text, replace_to=' *heading* '):\n",
    "    while True:\n",
    "        try:\n",
    "            start = text.index('<h')\n",
    "            end = start + text[start:].index('</h') + 5\n",
    "            text = text[:start] + replace_to + text[end:]\n",
    "        except ValueError:\n",
    "            break\n",
    "    \n",
    "    return text"
   ]
  },
  {
   "cell_type": "code",
   "execution_count": 18,
   "metadata": {},
   "outputs": [],
   "source": [
    "def get_rid_of_tables(text, replace_to=' *table* '):\n",
    "    while True:\n",
    "        try:\n",
    "            start = text.index('<table')\n",
    "            end = start + text[start:].index('</table') + 8\n",
    "            text = text[:start] + replace_to + text[end:]\n",
    "        except ValueError:\n",
    "            break\n",
    "    \n",
    "    return text"
   ]
  },
  {
   "cell_type": "code",
   "execution_count": 19,
   "metadata": {},
   "outputs": [],
   "source": [
    "def final_cleaning(text):\n",
    "    text = text.replace('\\\\n', '')\n",
    "    text = text.replace('\\\\\"', \"'\")\n",
    "    text = text.replace('\\\\t', '')\n",
    "    return text"
   ]
  },
  {
   "cell_type": "code",
   "execution_count": 20,
   "metadata": {},
   "outputs": [],
   "source": [
    "def all_cleaning(text, _print=False):\n",
    "    if _print: print('INITIAL', text, sep='\\n')\n",
    "        \n",
    "    text, snippets = get_rid_of_code_snippets(text, return_snippets=True)\n",
    "    if _print: print('CODE SNIPPETS', text, sep='\\n')\n",
    "      \n",
    "    text = get_rid_of_maths(text)\n",
    "    if _print: print('MATH', text, sep='\\n')\n",
    "    \n",
    "    text = get_rid_of_tags(text)\n",
    "    if _print: print('ALL TAGS', text, sep='\\n')\n",
    "        \n",
    "    text = get_rid_of_img(text)\n",
    "    if _print: print('IMG', text, sep='\\n')\n",
    "    \n",
    "    text = get_rid_of_headings(text)\n",
    "    num_headings = text.count('*heading*')\n",
    "    if _print: print('heading tags', text, sep='\\n')\n",
    "    \n",
    "    text = get_rid_of_tables(text)\n",
    "    if _print: print('TABLES', text, sep='\\n')\n",
    "    \n",
    "    text = final_cleaning(text)\n",
    "    if _print: print('final moments', text, sep='\\n')\n",
    "        \n",
    "    for i, snippet in enumerate(snippets):\n",
    "        cleaned_snippet = get_rid_of_tags(snippet, list_tags=['pre', 'code'])\n",
    "        cleaned_snippet = final_cleaning(cleaned_snippet)\n",
    "        snippets[i] = cleaned_snippet\n",
    "        \n",
    "    return text, snippets, num_headings"
   ]
  },
  {
   "cell_type": "code",
   "execution_count": 21,
   "metadata": {
    "scrolled": true
   },
   "outputs": [
    {
     "data": {
      "text/plain": [
       "'\"<p>One of the essential skills when working with data is to be able to search it and locate specific bits of information. Working with textual data in Python, you may need to get some information about its content: whether it includes a specific <strong>substring</strong> (i.e. part of the string), where this substring is, or how many times it occurs in the text. In this topic, we will learn how to do it.</p>\\\\n\\\\n<h5>A substring searching algorithm</h5>\\\\n\\\\n<p>We\\'ll start with a substring searching problem. Given two strings, <em>text</em> and <em>pattern</em>, we need to identify whether there is at least one occurrence of the <em>pattern</em> in the <em>text</em>. The simplest and most natural way to solve this problem is to sequentially consider all substrings of the <em>text</em> whose length is equal to the length of the <em>pattern</em> and compare them with the <em>pattern</em> itself. If at least in one case all corresponding symbols match, the <em>pattern</em> is found. If none of such attempts were successful, we should indicate that there is no <em>pattern</em> in the text. Here\\'s how this simple algorithm can be implemented in Python:</p>\\\\n\\\\n<pre><code class=\\\\\"language-python\\\\\">def contains(text, pattern):\\\\n    for i in range(len(text) - len(pattern) + 1):\\\\n        found = True\\\\n\\\\n        for j in range(len(pattern)):\\\\n            if text[i + j] != pattern[j]:\\\\n                found = False\\\\n                break\\\\n\\\\n        if found:\\\\n            return True\\\\n\\\\n    return False</code></pre>\\\\n\\\\n<p>The function named <code class=\\\\\"language-python\\\\\">contains</code> takes two strings, <code class=\\\\\"language-python\\\\\">text</code> and <code class=\\\\\"language-python\\\\\">pattern</code>, as input and returns <code class=\\\\\"language-python\\\\\">True</code> if <code class=\\\\\"language-python\\\\\">text</code> contains <code class=\\\\\"language-python\\\\\">pattern</code> and <code class=\\\\\"language-python\\\\\">False</code> otherwise.</p>\\\\n\\\\n<p>At each step of the outer <code class=\\\\\"language-python\\\\\">for</code> loop, we create a variable named <code class=\\\\\"language-python\\\\\">found</code> and initialize it with <code class=\\\\\"language-python\\\\\">True</code>. Then, in the inner <code class=\\\\\"language-python\\\\\">for</code> loop, we start comparing <code class=\\\\\"language-python\\\\\">pattern</code> with the current substring of <code class=\\\\\"language-python\\\\\">text</code>. If at least one of the corresponding symbols doesn\\'t match, we set the variable <code class=\\\\\"language-python\\\\\">found</code> to <code class=\\\\\"language-python\\\\\">False</code> and break the inner loop. After the inner <code class=\\\\\"language-python\\\\\">for</code> loop is done,  we check the state of the <code class=\\\\\"language-python\\\\\">found</code> variable. If it remains <code class=\\\\\"language-python\\\\\">True</code>, this means that each symbol of <code class=\\\\\"language-python\\\\\">pattern</code> matches the current substring. In this case, we return <code class=\\\\\"language-python\\\\\">True</code> indicating that <code class=\\\\\"language-python\\\\\">pattern</code> is found. Otherwise, we move to the next iteration and start considering the next substring. In case none of the comparisons were successful, that is, the outer <code class=\\\\\"language-python\\\\\">for</code> loop finishes all iterations, the function returns <code class=\\\\\"language-python\\\\\">False</code> indicating that <code class=\\\\\"language-python\\\\\">pattern</code> is not found.</p>\\\\n\\\\n<p>Here is how this algorithm can be used:</p>\\\\n\\\\n<pre><code class=\\\\\"language-python\\\\\">contains(\\\\\"abacabad\\\\\", \\\\\"cab\\\\\")  # True\\\\ncontains(\\\\\"abacabad\\\\\", \\\\\"abacabad\\\\\")  # True\\\\ncontains(\\\\\"aba\\\\\", \\\\\"\\\\\")  # True\\\\ncontains(\\\\\"abacabad\\\\\", \\\\\"hello\\\\\")  # False</code></pre>\\\\n\\\\n<p>Now we know that there is a substring searching algorithm and how to implement it in Python. However, there are also built-in functions and operators that solve the problem. Let\\'s see what they are.</p>\\\\n\\\\n<h5>Membership testing</h5>\\\\n\\\\n<p>Another way to define if there\\'s a specific pattern in our string is called <strong>membership testing</strong>, and it is implemented with the help of the operators <code class=\\\\\"language-python\\\\\">in</code> and <code class=\\\\\"language-python\\\\\">not in</code>. When we write <code class=\\\\\"language-python\\\\\">pattern in string</code>, the left operand should be a string, and membership test checks if <code class=\\\\\"language-python\\\\\">string</code> contains <code class=\\\\\"language-python\\\\\">pattern</code> as a substring.</p>\\\\n\\\\n<p>If membership test returns <code class=\\\\\"language-python\\\\\">True</code>, this means that there exists a position in <code class=\\\\\"language-python\\\\\">string</code> starting from which you can read the pattern in the string.</p>\\\\n\\\\n<pre><code class=\\\\\"language-python\\\\\">print(\\\\\"apple\\\\\" in \\\\\"pineapple\\\\\")  # True\\\\nprint(\\\\\"milk\\\\\" in \\\\\"yogurt\\\\\")      # False</code></pre>\\\\n\\\\n<p>Interestingly, an empty string is considered to be a substring of any string.</p>\\\\n\\\\n<pre><code class=\\\\\"language-python\\\\\">print(\\'\\' in \\'\\')           # True\\\\nprint(\\'\\' not in \\\\\"lemon\\\\\")  # False</code></pre>\\\\n\\\\n<h5>Boolean search in a string</h5>\\\\n\\\\n<p>Apart from knowing that a substring just occurs in the string, we can determine that the string <em>starts </em>or <em>ends </em>with a specific pattern. Methods <code class=\\\\\"language-python\\\\\">startswith()</code> and <code class=\\\\\"language-python\\\\\">endswith()</code> return <code class=\\\\\"language-python\\\\\"><samp>True</samp></code> if the pattern is found and <code class=\\\\\"language-python\\\\\"><samp>False</samp></code> otherwise.</p>\\\\n\\\\n<pre><code class=\\\\\"language-python\\\\\">email = \\\\\"email_address@something.com\\\\\"\\\\nprint(email.startswith(\\\\\"www.\\\\\"))          # False\\\\nprint(email.endswith(\\\\\"@something.com\\\\\"))  # True\\\\n</code></pre>\\\\n\\\\n<p>Optional values for <code class=\\\\\"language-python\\\\\">start</code> and <code class=\\\\\"language-python\\\\\">end</code> that bound the search area can be added: <code class=\\\\\"language-python\\\\\">string.startswith(pattern, start, end)</code>. When we specify only one additional element, it\\'s automatically considered as <code class=\\\\\"language-python\\\\\">start</code>.</p>\\\\n\\\\n<pre><code class=\\\\\"language-python\\\\\">email = \\\\\"my_email@something.com\\\\\"\\\\nprint(email.startswith(\\\\\"email\\\\\", 2))  # False\\\\nprint(email.startswith(\\\\\"email\\\\\", 3))  # True\\\\n</code></pre>\\\\n\\\\n<p>In the example above, when we specified the <code class=\\\\\"language-python\\\\\">start</code> argument as <strong>2</strong>, we limited the search to the substring <code class=\\\\\"language-python\\\\\">\\\\\"_email@something.com\\\\\"</code>, which actually doesn\\'t start with <code class=\\\\\"language-python\\\\\">\\\\\"email\\\\\"</code>. Then we fixed this off-by-one mistake by setting start to <strong>3</strong>.</p>\\\\n\\\\n<p>Note that the substring bound by the start and end indexes <em>does </em>include the character with the start index but <em>does not</em> include the element with the end index.</p>\\\\n\\\\n<pre><code class=\\\\\"language-python\\\\\">email = \\\\\"my_email@something.com\\\\\"\\\\nprint(email.endswith(\\\\\"@\\\\\", 5, 8))  # False\\\\nprint(email.endswith(\\\\\"@\\\\\", 5, 9))  # True\\\\n</code></pre>\\\\n\\\\n<p>The substring defined for the search in the first case is <code class=\\\\\"language-python\\\\\">\\\\\"ail\\\\\"</code>, while in the second one it\\'s <code class=\\\\\"language-python\\\\\">\\\\\"ail@\\\\\"</code>.</p>\\\\n\\\\n<h5>Element position</h5>\\\\n\\\\n<p>Now, as we know how to check if a string contains a substring, starts or ends with it, let\\'s learn how to define the exact position of the substring. We can use the methods <code class=\\\\\"language-python\\\\\">find()</code> or <code class=\\\\\"language-python\\\\\">index()</code> to do so:</p>\\\\n\\\\n<pre><code class=\\\\\"language-python\\\\\">best = \\\\\"friend\\\\\"\\\\n\\\\nprint(best.find(\\\\\"i\\\\\"))   # 2\\\\nprint(best.index(\\\\\"i\\\\\"))  # 2</code></pre>\\\\n\\\\n<p>They work absolutely the same except that the former returns <code class=\\\\\"language-python\\\\\">-1</code> if it can\\'t find the given element, while the latter raises <code class=\\\\\"language-python\\\\\">ValueError</code>.</p>\\\\n\\\\n<pre><code class=\\\\\"language-python\\\\\">print(best.find(\\\\\"u\\\\\"))   # -1\\\\nprint(best.index(\\\\\"u\\\\\"))  # ValueError</code></pre>\\\\n\\\\n<p>So, all the examples with <code class=\\\\\"language-python\\\\\">find()</code> below will work with <code class=\\\\\"language-python\\\\\">index()</code> as well.</p>\\\\n\\\\n<p>We can search both for single characters and for longer substrings. In the latter case, the index of the <strong>first character</strong> of the substring is returned.</p>\\\\n\\\\n<pre><code class=\\\\\"language-python\\\\\">print(best.find(\\\\\"end\\\\\"))  # 3</code></pre>\\\\n\\\\n<p>In the string <code class=\\\\\"language-python\\\\\">friend</code>, the substring <code class=\\\\\"language-python\\\\\">end</code> occupies positions from <strong>3</strong> to <strong>5</strong>, and the start index is returned. Keep in mind that both methods return only the index of the first occurrence of the element we search for.</p>\\\\n\\\\n<pre><code class=\\\\\"language-python\\\\\">magic = \\\\\"abracadabra\\\\\"\\\\nprint(magic.find(\\\\\"ra\\\\\"))  # 2</code></pre>\\\\n\\\\n<p>However, we can additionally specify an interval for searching, just as with the boolean search: <code class=\\\\\"language-python\\\\\">string.find(pattern, start, end)</code>.</p>\\\\n\\\\n<pre><code class=\\\\\"language-python\\\\\">print(magic.find(\\\\\"ra\\\\\", 5))      # 9\\\\nprint(magic.find(\\\\\"ra\\\\\", 5, 10))  # -1</code></pre>\\\\n\\\\n<p>Once again, the end index is not included in the search area.</p>\\\\n\\\\n<p>Alternatively, we can use methods <code class=\\\\\"language-python\\\\\">rfind()</code> and <code class=\\\\\"language-python\\\\\">rindex()</code> to search backward from the end of the string.</p>\\\\n\\\\n<pre><code class=\\\\\"language-python\\\\\">print(magic.rfind(\\\\\"ra\\\\\"))  # 9\\\\nprint(magic.rindex(\\\\\"a\\\\\"))  # 10</code></pre>\\\\n\\\\n<h5>Element number</h5>\\\\n\\\\n<p>Finally, it\\'s often useful to count how many times an element (a char or a substring) occurs in the string, and for this, we can use the method <code class=\\\\\"language-python\\\\\">count()</code>.</p>\\\\n\\\\n<pre><code class=\\\\\"language-python\\\\\">magic = \\\\\"abracadabra\\\\\"\\\\n\\\\nprint(magic.count(\\\\\"abra\\\\\"))  # 2\\\\nprint(magic.count(\\\\\"a\\\\\"))     # 5</code></pre>\\\\n\\\\n<h5>Summary</h5>\\\\n\\\\n<p>In this topic, we have examined different aspects of searching through a string and learned how to locate specific patterns. Now you will be able:</p>\\\\n\\\\n<ul>\\\\n\\\\t<li>To implement a substring searching algorithm in Python,</li>\\\\n\\\\t<li>To test for membership in a text,</li>\\\\n\\\\t<li>To check that the string starts or ends with a specific pattern,</li>\\\\n\\\\t<li>To find the exact position of a substring,</li>\\\\n\\\\t<li>To count how many times a pattern occurs in the text.</li>\\\\n</ul>\\\\n\\\\n<p>This knowledge will be helpful in real-world tasks, so let\\'s practice it!</p>\"'"
      ]
     },
     "execution_count": 21,
     "metadata": {},
     "output_type": "execute_result"
    }
   ],
   "source": [
    "three_months_topics.text[7892]"
   ]
  },
  {
   "cell_type": "code",
   "execution_count": 22,
   "metadata": {},
   "outputs": [],
   "source": [
    "text, snippets, num_headings = all_cleaning(three_months_topics.text[7892])"
   ]
  },
  {
   "cell_type": "code",
   "execution_count": 23,
   "metadata": {
    "scrolled": true
   },
   "outputs": [
    {
     "name": "stdout",
     "output_type": "stream",
     "text": [
      "\"One of the essential skills when working with data is to be able to search it and locate specific bits of information. Working with textual data in Python, you may need to get some information about its content: whether it includes a specific substring (i.e. part of the string), where this substring is, or how many times it occurs in the text. In this topic, we will learn how to do it. *heading* We'll start with a substring searching problem. Given two strings, text and pattern, we need to identify whether there is at least one occurrence of the pattern in the text. The simplest and most natural way to solve this problem is to sequentially consider all substrings of the text whose length is equal to the length of the pattern and compare them with the pattern itself. If at least in one case all corresponding symbols match, the pattern is found. If none of such attempts were successful, we should indicate that there is no pattern in the text. Here's how this simple algorithm can be implemented in Python: *code* The function named contains takes two strings, text and pattern, as input and returns True if text contains pattern and False otherwise.At each step of the outer for loop, we create a variable named found and initialize it with True. Then, in the inner for loop, we start comparing pattern with the current substring of text. If at least one of the corresponding symbols doesn't match, we set the variable found to False and break the inner loop. After the inner for loop is done,  we check the state of the found variable. If it remains True, this means that each symbol of pattern matches the current substring. In this case, we return True indicating that pattern is found. Otherwise, we move to the next iteration and start considering the next substring. In case none of the comparisons were successful, that is, the outer for loop finishes all iterations, the function returns False indicating that pattern is not found.Here is how this algorithm can be used: *code* Now we know that there is a substring searching algorithm and how to implement it in Python. However, there are also built-in functions and operators that solve the problem. Let's see what they are. *heading* Another way to define if there's a specific pattern in our string is called membership testing, and it is implemented with the help of the operators in and not in. When we write pattern in string, the left operand should be a string, and membership test checks if string contains pattern as a substring.If membership test returns True, this means that there exists a position in string starting from which you can read the pattern in the string. *code* Interestingly, an empty string is considered to be a substring of any string. *code*  *heading* Apart from knowing that a substring just occurs in the string, we can determine that the string starts or ends with a specific pattern. Methods startswith() and endswith() return True if the pattern is found and False otherwise. *code* Optional values for start and end that bound the search area can be added: string.startswith(pattern, start, end). When we specify only one additional element, it's automatically considered as start. *code* In the example above, when we specified the start argument as 2, we limited the search to the substring '_email@something.com', which actually doesn't start with 'email'. Then we fixed this off-by-one mistake by setting start to 3.Note that the substring bound by the start and end indexes does include the character with the start index but does not include the element with the end index. *code* The substring defined for the search in the first case is 'ail', while in the second one it's 'ail@'. *heading* Now, as we know how to check if a string contains a substring, starts or ends with it, let's learn how to define the exact position of the substring. We can use the methods find() or index() to do so: *code* They work absolutely the same except that the former returns -1 if it can't find the given element, while the latter raises ValueError. *code* So, all the examples with find() below will work with index() as well.We can search both for single characters and for longer substrings. In the latter case, the index of the first character of the substring is returned. *code* In the string friend, the substring end occupies positions from 3 to 5, and the start index is returned. Keep in mind that both methods return only the index of the first occurrence of the element we search for. *code* However, we can additionally specify an interval for searching, just as with the boolean search: string.find(pattern, start, end). *code* Once again, the end index is not included in the search area.Alternatively, we can use methods rfind() and rindex() to search backward from the end of the string. *code*  *heading* Finally, it's often useful to count how many times an element (a char or a substring) occurs in the string, and for this, we can use the method count(). *code*  *heading* In this topic, we have examined different aspects of searching through a string and learned how to locate specific patterns. Now you will be able:To implement a substring searching algorithm in Python,To test for membership in a text,To check that the string starts or ends with a specific pattern,To find the exact position of a substring,To count how many times a pattern occurs in the text.This knowledge will be helpful in real-world tasks, so let's practice it!\"\n"
     ]
    }
   ],
   "source": [
    "print(text)"
   ]
  },
  {
   "cell_type": "code",
   "execution_count": 24,
   "metadata": {},
   "outputs": [
    {
     "data": {
      "text/plain": [
       "['def contains(text, pattern):    for i in range(len(text) - len(pattern) + 1):        found = True        for j in range(len(pattern)):            if text[i + j] != pattern[j]:                found = False                break        if found:            return True    return False',\n",
       " \"contains('abacabad', 'cab')  # Truecontains('abacabad', 'abacabad')  # Truecontains('aba', '')  # Truecontains('abacabad', 'hello')  # False\",\n",
       " \"print('apple' in 'pineapple')  # Trueprint('milk' in 'yogurt')      # False\",\n",
       " \"print('' in '')           # Trueprint('' not in 'lemon')  # False\",\n",
       " \"email = 'email_address@something.com'print(email.startswith('www.'))          # Falseprint(email.endswith('@something.com'))  # True\",\n",
       " \"email = 'my_email@something.com'print(email.startswith('email', 2))  # Falseprint(email.startswith('email', 3))  # True\",\n",
       " \"email = 'my_email@something.com'print(email.endswith('@', 5, 8))  # Falseprint(email.endswith('@', 5, 9))  # True\",\n",
       " \"best = 'friend'print(best.find('i'))   # 2print(best.index('i'))  # 2\",\n",
       " \"print(best.find('u'))   # -1print(best.index('u'))  # ValueError\",\n",
       " \"print(best.find('end'))  # 3\",\n",
       " \"magic = 'abracadabra'print(magic.find('ra'))  # 2\",\n",
       " \"print(magic.find('ra', 5))      # 9print(magic.find('ra', 5, 10))  # -1\",\n",
       " \"print(magic.rfind('ra'))  # 9print(magic.rindex('a'))  # 10\",\n",
       " \"magic = 'abracadabra'print(magic.count('abra'))  # 2print(magic.count('a'))     # 5\"]"
      ]
     },
     "execution_count": 24,
     "metadata": {},
     "output_type": "execute_result"
    }
   ],
   "source": [
    "snippets"
   ]
  },
  {
   "cell_type": "code",
   "execution_count": 25,
   "metadata": {},
   "outputs": [
    {
     "data": {
      "text/plain": [
       "6"
      ]
     },
     "execution_count": 25,
     "metadata": {},
     "output_type": "execute_result"
    }
   ],
   "source": [
    "num_headings"
   ]
  },
  {
   "cell_type": "markdown",
   "metadata": {},
   "source": [
    "## Clean our data"
   ]
  },
  {
   "cell_type": "code",
   "execution_count": 26,
   "metadata": {},
   "outputs": [],
   "source": [
    "import re\n",
    "pattern = re.compile(r'\\s+')  # for deleting all spaces from code snippets"
   ]
  },
  {
   "cell_type": "code",
   "execution_count": 27,
   "metadata": {},
   "outputs": [
    {
     "name": "stdout",
     "output_type": "stream",
     "text": [
      "1200\n",
      "1400\n",
      "2000\n",
      "4200\n",
      "4300\n",
      "5300\n",
      "6300\n",
      "7000\n",
      "8100\n",
      "9100\n",
      "9300\n",
      "10100\n",
      "12200\n",
      "12600\n"
     ]
    }
   ],
   "source": [
    "cleaned_texts = []\n",
    "headings_for_texts = []\n",
    "symbols_in_snippets = []\n",
    "\n",
    "for i, row in three_months_topics.iterrows():\n",
    "    if i % 100 == 0:\n",
    "        print(i)\n",
    "    try:\n",
    "        text, snippets, num_headings = all_cleaning(row.text)\n",
    "        \n",
    "        cleaned_texts.append(text)\n",
    "        headings_for_texts.append(num_headings)\n",
    "        \n",
    "        code_symbols = 0\n",
    "        for snippet in snippets:\n",
    "            wo_spaces = re.sub(pattern, '', snippet)\n",
    "            code_symbols += len(wo_spaces)\n",
    "        symbols_in_snippets.append(code_symbols)\n",
    "        \n",
    "    except ValueError:\n",
    "        print(i, '-', row.step_id)\n",
    "        raise"
   ]
  },
  {
   "cell_type": "code",
   "execution_count": 28,
   "metadata": {},
   "outputs": [
    {
     "name": "stdout",
     "output_type": "stream",
     "text": [
      "1321 1321 1321\n"
     ]
    }
   ],
   "source": [
    "print(len(cleaned_texts), len(headings_for_texts), len(symbols_in_snippets))"
   ]
  },
  {
   "cell_type": "code",
   "execution_count": 29,
   "metadata": {},
   "outputs": [
    {
     "name": "stdout",
     "output_type": "stream",
     "text": [
      "\"Imagine you've created a table to store data about Nobel prizes. You defined the following columns: year, field, winner's name, and year of winner's birth to evaluate the age of winners. However, for some winners, the year of birth is undefined, for instance, for the European Union citizens that received the Nobel Peace Prize in 2012. You may put some special value like  *math*  in these cells, but it may potentially lead to mistakes. For such cases, SQL has a special value: NULL. In this topic we'll discuss how to use it. *heading* NULL is used in SQL to indicate that some data value is unknown or undefined. It should not be confused with a value of  *math*  or ''. Arithmetic or string expressions with NULL among the operands are evaluated as NULL, for example,  *math*  equals NULL.A NULL value can be stored in a column of any type. However, a software engineer may use a NOT NULL constraint  in create table statement to specify that a column should not store NULL values. For example, according to this code, only the column 'winner_birth_year' may contain NULLs: *code*  *heading* NULL value basically means 'value is not present'. Because of this, comparisons with NULL can never result in either TRUE or FALSE, but always in a third logical result, UNKNOWN. It is, actually, the NULL value of boolean type and some data management systems do not distinguish a special UNKNOWN value. For example, the result of each of the following comparisons is UNKNOWN:NULL = 1NULL &lt;&gt; 1NULL &gt; 1NULL = '1'NULL = NULLNothing equals NULL; not even NULL equals NULL!How can we check whether an expression or a value is null or not? SQL supports special predicates for that: IS NULL and IS NOT NULL. For example, queries below both return TRUE as a result: *code* The following queries are evaluated as FALSE: *code*  *heading* In logic expressions with UNKNOWN operands, the result is UNKNOWN if it depends on an operand that is UNKNOWN. Thus, in contrast to comparisons, the result of a logic expression can be something other than UNKNOWN even though one operand is UNKNOWN. Let's consider the following examples:(NULL = 1) AND TRUE evaluates to UNKNOWN (the result would be TRUE only if both operands were TRUE), (NULL = 1) OR TRUE equals to TRUE (the result is TRUE because at least one operand is TRUE). *heading* Now you know how to work with data when there is actually no data and use NULL values where they are needed. Let's repeat the key points of the NULL value in SQL:NULL is used in SQL to indicate that some data value is unknown or undefined.Use NOT NULL constraint to specify that a column should not store NULL values.Check whether an expression or a value is null or not with IS NULL and IS NOT NULL.Logic is also possible with the NULL values: TRUE, FALSE, and UNKNOWN could be the result of an expression.\"\n"
     ]
    }
   ],
   "source": [
    "print(cleaned_texts[530])"
   ]
  },
  {
   "cell_type": "code",
   "execution_count": 30,
   "metadata": {},
   "outputs": [],
   "source": [
    "three_months_topics['cleaned_texts'] = cleaned_texts\n",
    "three_months_topics['num_headings'] = headings_for_texts\n",
    "three_months_topics['symbols_in_snippets'] = symbols_in_snippets"
   ]
  },
  {
   "cell_type": "code",
   "execution_count": 31,
   "metadata": {},
   "outputs": [
    {
     "data": {
      "text/html": [
       "<div>\n",
       "<style scoped>\n",
       "    .dataframe tbody tr th:only-of-type {\n",
       "        vertical-align: middle;\n",
       "    }\n",
       "\n",
       "    .dataframe tbody tr th {\n",
       "        vertical-align: top;\n",
       "    }\n",
       "\n",
       "    .dataframe thead th {\n",
       "        text-align: right;\n",
       "    }\n",
       "</style>\n",
       "<table border=\"1\" class=\"dataframe\">\n",
       "  <thead>\n",
       "    <tr style=\"text-align: right;\">\n",
       "      <th></th>\n",
       "      <th>step_id</th>\n",
       "      <th>is_theory</th>\n",
       "      <th>text</th>\n",
       "      <th>seconds_to_complete</th>\n",
       "      <th>last_3_month_completion_rate</th>\n",
       "      <th>last_3_month_completed_step_users_count</th>\n",
       "      <th>last_3_month_avg_like</th>\n",
       "      <th>last_3_month_likes_count</th>\n",
       "      <th>last_3_month_topic_completion_rate</th>\n",
       "      <th>last_3_month_completed_topic_users_count</th>\n",
       "      <th>back_to_theory_times_per_user_session_avg_last_3_month</th>\n",
       "      <th>back_to_theory_users_%_last_3_month</th>\n",
       "      <th>cleaned_texts</th>\n",
       "      <th>num_headings</th>\n",
       "      <th>symbols_in_snippets</th>\n",
       "    </tr>\n",
       "  </thead>\n",
       "  <tbody>\n",
       "    <tr>\n",
       "      <th>10</th>\n",
       "      <td>12357</td>\n",
       "      <td>1</td>\n",
       "      <td>\"&lt;h5 id=\\\"introduction\\\"&gt; Introduction&lt;/h5&gt;\\n\\...</td>\n",
       "      <td>603.45</td>\n",
       "      <td>0.56</td>\n",
       "      <td>40.0</td>\n",
       "      <td>2.00</td>\n",
       "      <td>10.0</td>\n",
       "      <td>0.90</td>\n",
       "      <td>35.0</td>\n",
       "      <td>1.43</td>\n",
       "      <td>67.21</td>\n",
       "      <td>\" *heading* So far you have learned quite a lo...</td>\n",
       "      <td>6</td>\n",
       "      <td>790</td>\n",
       "    </tr>\n",
       "    <tr>\n",
       "      <th>11</th>\n",
       "      <td>12691</td>\n",
       "      <td>1</td>\n",
       "      <td>\"&lt;p&gt;JavaScript was originally developed as a l...</td>\n",
       "      <td>253.21</td>\n",
       "      <td>0.87</td>\n",
       "      <td>884.0</td>\n",
       "      <td>1.72</td>\n",
       "      <td>79.0</td>\n",
       "      <td>0.96</td>\n",
       "      <td>844.0</td>\n",
       "      <td>0.34</td>\n",
       "      <td>24.43</td>\n",
       "      <td>\"JavaScript was originally developed as a lang...</td>\n",
       "      <td>5</td>\n",
       "      <td>35</td>\n",
       "    </tr>\n",
       "    <tr>\n",
       "      <th>13</th>\n",
       "      <td>8112</td>\n",
       "      <td>1</td>\n",
       "      <td>\"&lt;p&gt;We've already learned what annotations are...</td>\n",
       "      <td>486.94</td>\n",
       "      <td>0.45</td>\n",
       "      <td>50.0</td>\n",
       "      <td>1.57</td>\n",
       "      <td>7.0</td>\n",
       "      <td>0.89</td>\n",
       "      <td>49.0</td>\n",
       "      <td>1.00</td>\n",
       "      <td>69.41</td>\n",
       "      <td>\"We've already learned what annotations are an...</td>\n",
       "      <td>3</td>\n",
       "      <td>1506</td>\n",
       "    </tr>\n",
       "    <tr>\n",
       "      <th>19</th>\n",
       "      <td>7892</td>\n",
       "      <td>1</td>\n",
       "      <td>\"&lt;h5&gt;Introduction&lt;/h5&gt;\\n\\n&lt;p&gt;You often hear pe...</td>\n",
       "      <td>542.73</td>\n",
       "      <td>0.72</td>\n",
       "      <td>60.0</td>\n",
       "      <td>2.00</td>\n",
       "      <td>5.0</td>\n",
       "      <td>0.91</td>\n",
       "      <td>58.0</td>\n",
       "      <td>0.33</td>\n",
       "      <td>26.39</td>\n",
       "      <td>\" *heading* You often hear people speak about ...</td>\n",
       "      <td>5</td>\n",
       "      <td>0</td>\n",
       "    </tr>\n",
       "    <tr>\n",
       "      <th>22</th>\n",
       "      <td>15809</td>\n",
       "      <td>1</td>\n",
       "      <td>\"&lt;h5&gt;Introduction&lt;/h5&gt;\\n\\n&lt;p&gt;When you have alr...</td>\n",
       "      <td>556.76</td>\n",
       "      <td>0.43</td>\n",
       "      <td>43.0</td>\n",
       "      <td>1.40</td>\n",
       "      <td>10.0</td>\n",
       "      <td>0.91</td>\n",
       "      <td>53.0</td>\n",
       "      <td>0.93</td>\n",
       "      <td>50.88</td>\n",
       "      <td>\" *heading* When you have already learned the ...</td>\n",
       "      <td>5</td>\n",
       "      <td>409</td>\n",
       "    </tr>\n",
       "  </tbody>\n",
       "</table>\n",
       "</div>"
      ],
      "text/plain": [
       "    step_id  is_theory                                               text  \\\n",
       "10    12357          1  \"<h5 id=\\\"introduction\\\"> Introduction</h5>\\n\\...   \n",
       "11    12691          1  \"<p>JavaScript was originally developed as a l...   \n",
       "13     8112          1  \"<p>We've already learned what annotations are...   \n",
       "19     7892          1  \"<h5>Introduction</h5>\\n\\n<p>You often hear pe...   \n",
       "22    15809          1  \"<h5>Introduction</h5>\\n\\n<p>When you have alr...   \n",
       "\n",
       "    seconds_to_complete  last_3_month_completion_rate  \\\n",
       "10               603.45                          0.56   \n",
       "11               253.21                          0.87   \n",
       "13               486.94                          0.45   \n",
       "19               542.73                          0.72   \n",
       "22               556.76                          0.43   \n",
       "\n",
       "    last_3_month_completed_step_users_count  last_3_month_avg_like  \\\n",
       "10                                     40.0                   2.00   \n",
       "11                                    884.0                   1.72   \n",
       "13                                     50.0                   1.57   \n",
       "19                                     60.0                   2.00   \n",
       "22                                     43.0                   1.40   \n",
       "\n",
       "    last_3_month_likes_count  last_3_month_topic_completion_rate  \\\n",
       "10                      10.0                                0.90   \n",
       "11                      79.0                                0.96   \n",
       "13                       7.0                                0.89   \n",
       "19                       5.0                                0.91   \n",
       "22                      10.0                                0.91   \n",
       "\n",
       "    last_3_month_completed_topic_users_count  \\\n",
       "10                                      35.0   \n",
       "11                                     844.0   \n",
       "13                                      49.0   \n",
       "19                                      58.0   \n",
       "22                                      53.0   \n",
       "\n",
       "    back_to_theory_times_per_user_session_avg_last_3_month  \\\n",
       "10                                               1.43        \n",
       "11                                               0.34        \n",
       "13                                               1.00        \n",
       "19                                               0.33        \n",
       "22                                               0.93        \n",
       "\n",
       "    back_to_theory_users_%_last_3_month  \\\n",
       "10                                67.21   \n",
       "11                                24.43   \n",
       "13                                69.41   \n",
       "19                                26.39   \n",
       "22                                50.88   \n",
       "\n",
       "                                        cleaned_texts  num_headings  \\\n",
       "10  \" *heading* So far you have learned quite a lo...             6   \n",
       "11  \"JavaScript was originally developed as a lang...             5   \n",
       "13  \"We've already learned what annotations are an...             3   \n",
       "19  \" *heading* You often hear people speak about ...             5   \n",
       "22  \" *heading* When you have already learned the ...             5   \n",
       "\n",
       "    symbols_in_snippets  \n",
       "10                  790  \n",
       "11                   35  \n",
       "13                 1506  \n",
       "19                    0  \n",
       "22                  409  "
      ]
     },
     "execution_count": 31,
     "metadata": {},
     "output_type": "execute_result"
    }
   ],
   "source": [
    "three_months_topics.head()"
   ]
  },
  {
   "cell_type": "code",
   "execution_count": 32,
   "metadata": {},
   "outputs": [
    {
     "data": {
      "text/plain": [
       "(1321, 15)"
      ]
     },
     "execution_count": 32,
     "metadata": {},
     "output_type": "execute_result"
    }
   ],
   "source": [
    "three_months_topics.shape"
   ]
  },
  {
   "cell_type": "code",
   "execution_count": 33,
   "metadata": {},
   "outputs": [],
   "source": [
    "three_months_topics = three_months_topics.dropna()"
   ]
  },
  {
   "cell_type": "code",
   "execution_count": 34,
   "metadata": {},
   "outputs": [
    {
     "data": {
      "text/plain": [
       "(1318, 15)"
      ]
     },
     "execution_count": 34,
     "metadata": {},
     "output_type": "execute_result"
    }
   ],
   "source": [
    "three_months_topics.shape"
   ]
  },
  {
   "cell_type": "code",
   "execution_count": 35,
   "metadata": {},
   "outputs": [],
   "source": [
    "path_new_cleaned = '/home/anna/Documents/Diploma/code/new_cleaned/cleaned_topics_all.csv'\n",
    "three_months_topics.to_csv(path_new_cleaned, index=False)"
   ]
  },
  {
   "cell_type": "code",
   "execution_count": 36,
   "metadata": {},
   "outputs": [],
   "source": [
    "path = '/home/anna/Documents/Diploma/code/new_cleaned'\n",
    "\n",
    "# write cleaned texts into files\n",
    "for i, row in three_months_topics.iterrows():\n",
    "    s_id = row.step_id\n",
    "    text = row.cleaned_texts\n",
    "\n",
    "    if type(text) != str:\n",
    "        print(s_id, text)\n",
    "        continue\n",
    "        \n",
    "    with open(f'{path}/cleaned_texts/{s_id}.txt', 'w') as file:\n",
    "        file.write(text)"
   ]
  },
  {
   "cell_type": "code",
   "execution_count": null,
   "metadata": {},
   "outputs": [],
   "source": []
  }
 ],
 "metadata": {
  "kernelspec": {
   "display_name": "Python 3",
   "language": "python",
   "name": "python3"
  },
  "language_info": {
   "codemirror_mode": {
    "name": "ipython",
    "version": 3
   },
   "file_extension": ".py",
   "mimetype": "text/x-python",
   "name": "python",
   "nbconvert_exporter": "python",
   "pygments_lexer": "ipython3",
   "version": "3.6.9"
  }
 },
 "nbformat": 4,
 "nbformat_minor": 4
}
