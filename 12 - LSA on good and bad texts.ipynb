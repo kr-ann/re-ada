{
 "cells": [
  {
   "cell_type": "code",
   "execution_count": null,
   "metadata": {},
   "outputs": [],
   "source": [
    "# take the corpus of readable and unreadable texts and look at the topics it creates"
   ]
  },
  {
   "cell_type": "markdown",
   "metadata": {},
   "source": [
    "## Prepare data"
   ]
  },
  {
   "cell_type": "code",
   "execution_count": 1,
   "metadata": {},
   "outputs": [],
   "source": [
    "import pandas as pd"
   ]
  },
  {
   "cell_type": "code",
   "execution_count": 2,
   "metadata": {},
   "outputs": [],
   "source": [
    "import pickle"
   ]
  },
  {
   "cell_type": "code",
   "execution_count": 3,
   "metadata": {},
   "outputs": [],
   "source": [
    "path = './new_cleaned/train_corpus/target_features/'\n",
    "file = f'{path}/topic_ids_with_target_features_VER5.csv'  # all topics that have comments, I work only with them"
   ]
  },
  {
   "cell_type": "code",
   "execution_count": 4,
   "metadata": {},
   "outputs": [],
   "source": [
    "topics_with_targets = pd.read_csv(file)"
   ]
  },
  {
   "cell_type": "code",
   "execution_count": 5,
   "metadata": {},
   "outputs": [
    {
     "data": {
      "text/html": [
       "<div>\n",
       "<style scoped>\n",
       "    .dataframe tbody tr th:only-of-type {\n",
       "        vertical-align: middle;\n",
       "    }\n",
       "\n",
       "    .dataframe tbody tr th {\n",
       "        vertical-align: top;\n",
       "    }\n",
       "\n",
       "    .dataframe thead th {\n",
       "        text-align: right;\n",
       "    }\n",
       "</style>\n",
       "<table border=\"1\" class=\"dataframe\">\n",
       "  <thead>\n",
       "    <tr style=\"text-align: right;\">\n",
       "      <th></th>\n",
       "      <th>topic_id</th>\n",
       "      <th>target</th>\n",
       "    </tr>\n",
       "  </thead>\n",
       "  <tbody>\n",
       "    <tr>\n",
       "      <th>0</th>\n",
       "      <td>385</td>\n",
       "      <td>1</td>\n",
       "    </tr>\n",
       "    <tr>\n",
       "      <th>1</th>\n",
       "      <td>369</td>\n",
       "      <td>1</td>\n",
       "    </tr>\n",
       "    <tr>\n",
       "      <th>2</th>\n",
       "      <td>362</td>\n",
       "      <td>1</td>\n",
       "    </tr>\n",
       "    <tr>\n",
       "      <th>3</th>\n",
       "      <td>524</td>\n",
       "      <td>1</td>\n",
       "    </tr>\n",
       "    <tr>\n",
       "      <th>4</th>\n",
       "      <td>384</td>\n",
       "      <td>1</td>\n",
       "    </tr>\n",
       "  </tbody>\n",
       "</table>\n",
       "</div>"
      ],
      "text/plain": [
       "   topic_id  target\n",
       "0       385       1\n",
       "1       369       1\n",
       "2       362       1\n",
       "3       524       1\n",
       "4       384       1"
      ]
     },
     "execution_count": 5,
     "metadata": {},
     "output_type": "execute_result"
    }
   ],
   "source": [
    "topics_with_targets.head()  # 0 is 'good', 1 is 'bad'"
   ]
  },
  {
   "cell_type": "code",
   "execution_count": 6,
   "metadata": {},
   "outputs": [],
   "source": [
    "topic_id_step_id_map = pickle.load(open('./topic_id_step_id_mapping.pkl', 'rb'))"
   ]
  },
  {
   "cell_type": "code",
   "execution_count": 7,
   "metadata": {},
   "outputs": [],
   "source": [
    "topic_texts = pd.read_csv('./new_cleaned/topics_all_spacy_lemm.csv')"
   ]
  },
  {
   "cell_type": "code",
   "execution_count": 8,
   "metadata": {},
   "outputs": [
    {
     "data": {
      "text/html": [
       "<div>\n",
       "<style scoped>\n",
       "    .dataframe tbody tr th:only-of-type {\n",
       "        vertical-align: middle;\n",
       "    }\n",
       "\n",
       "    .dataframe tbody tr th {\n",
       "        vertical-align: top;\n",
       "    }\n",
       "\n",
       "    .dataframe thead th {\n",
       "        text-align: right;\n",
       "    }\n",
       "</style>\n",
       "<table border=\"1\" class=\"dataframe\">\n",
       "  <thead>\n",
       "    <tr style=\"text-align: right;\">\n",
       "      <th></th>\n",
       "      <th>step_id</th>\n",
       "      <th>cleaned_texts</th>\n",
       "      <th>num_words</th>\n",
       "      <th>ASL</th>\n",
       "      <th>norm_seconds</th>\n",
       "      <th>lemmatized_texts</th>\n",
       "      <th>lemm_wo_punct</th>\n",
       "    </tr>\n",
       "  </thead>\n",
       "  <tbody>\n",
       "    <tr>\n",
       "      <th>0</th>\n",
       "      <td>12357</td>\n",
       "      <td>\" *heading* So far you have learned quite a lo...</td>\n",
       "      <td>618</td>\n",
       "      <td>25.750000</td>\n",
       "      <td>9.764563</td>\n",
       "      <td>\" * head * so far you have learn quite a lot a...</td>\n",
       "      <td>head  so far you have learn quite a lot abou...</td>\n",
       "    </tr>\n",
       "    <tr>\n",
       "      <th>1</th>\n",
       "      <td>12691</td>\n",
       "      <td>\"JavaScript was originally developed as a lang...</td>\n",
       "      <td>605</td>\n",
       "      <td>17.285714</td>\n",
       "      <td>4.185289</td>\n",
       "      <td>\" JavaScript be originally develop as a langua...</td>\n",
       "      <td>JavaScript be originally develop as a languag...</td>\n",
       "    </tr>\n",
       "    <tr>\n",
       "      <th>2</th>\n",
       "      <td>8112</td>\n",
       "      <td>\"We've already learned what annotations are an...</td>\n",
       "      <td>610</td>\n",
       "      <td>20.333333</td>\n",
       "      <td>7.982623</td>\n",
       "      <td>\" we 've already learn what annotation be and ...</td>\n",
       "      <td>we ve already learn what annotation be and wh...</td>\n",
       "    </tr>\n",
       "    <tr>\n",
       "      <th>3</th>\n",
       "      <td>7892</td>\n",
       "      <td>\" *heading* You often hear people speak about ...</td>\n",
       "      <td>1079</td>\n",
       "      <td>21.156863</td>\n",
       "      <td>5.029935</td>\n",
       "      <td>\" * head * you often hear people speak about t...</td>\n",
       "      <td>head  you often hear people speak about the ...</td>\n",
       "    </tr>\n",
       "    <tr>\n",
       "      <th>4</th>\n",
       "      <td>15809</td>\n",
       "      <td>\" *heading* When you have already learned the ...</td>\n",
       "      <td>633</td>\n",
       "      <td>30.142857</td>\n",
       "      <td>8.795577</td>\n",
       "      <td>\" * head * when you have already learn the bas...</td>\n",
       "      <td>head  when you have already learn the basic ...</td>\n",
       "    </tr>\n",
       "  </tbody>\n",
       "</table>\n",
       "</div>"
      ],
      "text/plain": [
       "   step_id                                      cleaned_texts  num_words  \\\n",
       "0    12357  \" *heading* So far you have learned quite a lo...        618   \n",
       "1    12691  \"JavaScript was originally developed as a lang...        605   \n",
       "2     8112  \"We've already learned what annotations are an...        610   \n",
       "3     7892  \" *heading* You often hear people speak about ...       1079   \n",
       "4    15809  \" *heading* When you have already learned the ...        633   \n",
       "\n",
       "         ASL  norm_seconds                                   lemmatized_texts  \\\n",
       "0  25.750000      9.764563  \" * head * so far you have learn quite a lot a...   \n",
       "1  17.285714      4.185289  \" JavaScript be originally develop as a langua...   \n",
       "2  20.333333      7.982623  \" we 've already learn what annotation be and ...   \n",
       "3  21.156863      5.029935  \" * head * you often hear people speak about t...   \n",
       "4  30.142857      8.795577  \" * head * when you have already learn the bas...   \n",
       "\n",
       "                                       lemm_wo_punct  \n",
       "0    head  so far you have learn quite a lot abou...  \n",
       "1   JavaScript be originally develop as a languag...  \n",
       "2   we ve already learn what annotation be and wh...  \n",
       "3    head  you often hear people speak about the ...  \n",
       "4    head  when you have already learn the basic ...  "
      ]
     },
     "execution_count": 8,
     "metadata": {},
     "output_type": "execute_result"
    }
   ],
   "source": [
    "topic_texts.head()"
   ]
  },
  {
   "cell_type": "code",
   "execution_count": null,
   "metadata": {},
   "outputs": [],
   "source": [
    "# according to split in 'topics_with_targets' create a 'good' corpus and a 'bad' corpus"
   ]
  },
  {
   "cell_type": "code",
   "execution_count": 9,
   "metadata": {},
   "outputs": [
    {
     "name": "stdout",
     "output_type": "stream",
     "text": [
      "223\n",
      "897\n"
     ]
    }
   ],
   "source": [
    "bad_texts = []\n",
    "good_texts = []\n",
    "\n",
    "for i, row in topics_with_targets.iterrows():\n",
    "    corr_step_id = topic_id_step_id_map[row.topic_id]\n",
    "    corr_lemm_text = topic_texts[topic_texts.step_id == corr_step_id].lemm_wo_punct.values[0]\n",
    "    \n",
    "    if row.target == 0:\n",
    "        good_texts.append(corr_lemm_text)\n",
    "    elif row.target == 1:\n",
    "        bad_texts.append(corr_lemm_text)\n",
    "    else:\n",
    "        raise('Target is not in [1, 0]')\n",
    "        \n",
    "print(len(bad_texts))\n",
    "print(len(good_texts))"
   ]
  },
  {
   "cell_type": "code",
   "execution_count": 10,
   "metadata": {
    "collapsed": true
   },
   "outputs": [
    {
     "data": {
      "text/plain": [
       "'  head  the datum be store on disk under certain address  for a computer  such address be number  it use they to find the correspond information  however  human be not that good at memorize set of number  it be much easy for we to name our datum  for example  family photo  November report  and so on  therefore  the concept of a file be invent  in a file  one can store some information under any user  friendly name  let us take a close look at what file be   head     img  a file be associate with a piece of datum  as for its name  typically there exist some restriction in the system  for example  filename must contain only those character that be support by a specific file system  there be different type of content of the file  text  photo  music  video  etc  the type of information store in a file define the file format  in order for the computer to be able to distinguish what format a certain file have  file extension be invent   head     img  find out the format of a file right away be pretty useful  one way to do it involve filename extension  the end of a filename inform user or program about the file format  file format designation usually go after a period  so you get a name end with  ltextensiongt    as for more specific example  here be some of the most common extension  text file will have the txt extension  for example  november_reporttxt  file with photo may have the jpg extension  like my_photojpg  for video  the most usual be the avi extension and for music file  it be mp3  operate system use filename extension to remember which program to use to open file with a certain extension  filename extension be not strictly necessary  though  they just eliminate the need to guess the format of a file  now you know that a file extension be the service information use by a computer  let us find out what other information a file have that help computer understand what property it have  this information be call file metadata   head     img  Metadata stand for  datum about datum   one of the most common piece of such datum be a filename we ve discuss above  the other be for example the file size  creation time  the last access time  etc  also  metadata consist of file attribute  each attribute have two state  set  toggle on  or clear  toggle off   file attribute tell the file system or operating system if a file should get some special treatment  for example  if a file have a read  only attribute set  its content can be read  but all attempt to modify they will be prevent by the file system until this attribute gets clear  if a file have a hidden attribute set  it will not show up in a graphical user interface unless the user explicitly tell the operate system to show all hide file  attribute can be use to restrict file access to specific group of user   head  in order to find any file  we need to know the path to it  the path be a character set indicate the location of a file in the system  the file path can be see in the Explorer  there be two type of path  an absolute and a relative path  a path to a file that start with the root directory be call an absolute path and serve as the file s unique identifier  if you try to create another file name  my_file  in the same subdirectory  the file system will not allow you to do that  if both file have the same identifier  how will the system tell they apart  create a file name  my_file  in the root directory  however  would be okay   root_directory  sub_directory  my_file  and  root_directory  my_file  be different identifier  there be a catch with absolute path though  when you write a program that will be instal on different computer  you know your own program s directory  but you do not know where other user of this program will install it  your program s directory can end up in any parent directory on a user s computer  so you can not use an absolute path in your program to point to its directory  this be where relative path come into play  each process that run on a computer be associate with a work directory on this computer  it be track and manage by the operating system  this basically mean that the operating system of other user will be focus on your program s directory when they run it  your program can address the work directory by use a special character  instead of the directory s actual name  so you can use a path like  my_file  without specify the whole path from a root  you just let the user s operate system figure it out  you can also use  to address a parent directory of the working directory   head  to sum up  in this topic you ve learn thatthe information on the computer be store in filesthe file be name in accordance with the system s instructionsdepending on the type of datum in the file  the file will have a specific extension so that the computer can distinguish one format from anotherthe detailed information about the file be call the file metadatato find the file you need to look at its path in the file explorera path can be absolute and relative '"
      ]
     },
     "execution_count": 10,
     "metadata": {},
     "output_type": "execute_result"
    }
   ],
   "source": [
    "bad_texts[0]"
   ]
  },
  {
   "cell_type": "code",
   "execution_count": null,
   "metadata": {},
   "outputs": [],
   "source": [
    "# also remove stopwords from them"
   ]
  },
  {
   "cell_type": "code",
   "execution_count": 10,
   "metadata": {},
   "outputs": [],
   "source": [
    "from nltk.corpus import stopwords\n",
    "stop_words = stopwords.words('english')"
   ]
  },
  {
   "cell_type": "code",
   "execution_count": 11,
   "metadata": {},
   "outputs": [],
   "source": [
    "def clean_from_stopwords(text):\n",
    "    splitted = text.split()\n",
    "    cleaned_list = [el for el in splitted if el not in stop_words]\n",
    "    return ' '.join(cleaned_list)"
   ]
  },
  {
   "cell_type": "code",
   "execution_count": 12,
   "metadata": {},
   "outputs": [],
   "source": [
    "bad_texts_cleaned = []\n",
    "good_texts_cleaned = []\n",
    "\n",
    "for text in bad_texts:\n",
    "    bad_texts_cleaned.append(clean_from_stopwords(text))\n",
    "    \n",
    "for text in good_texts:\n",
    "    good_texts_cleaned.append(clean_from_stopwords(text))\n",
    "    "
   ]
  },
  {
   "cell_type": "markdown",
   "metadata": {},
   "source": [
    "## Perform LSA"
   ]
  },
  {
   "cell_type": "markdown",
   "metadata": {},
   "source": [
    "https://www.analyticsvidhya.com/blog/2018/10/stepwise-guide-topic-modeling-latent-semantic-analysis/"
   ]
  },
  {
   "cell_type": "code",
   "execution_count": 13,
   "metadata": {},
   "outputs": [],
   "source": [
    "import numpy as np\n",
    "import matplotlib.pyplot as plt\n",
    "import seaborn as sns"
   ]
  },
  {
   "cell_type": "code",
   "execution_count": 14,
   "metadata": {},
   "outputs": [],
   "source": [
    "from sklearn.feature_extraction.text import TfidfVectorizer"
   ]
  },
  {
   "cell_type": "code",
   "execution_count": 15,
   "metadata": {},
   "outputs": [],
   "source": [
    "from sklearn.decomposition import TruncatedSVD"
   ]
  },
  {
   "cell_type": "code",
   "execution_count": 16,
   "metadata": {},
   "outputs": [],
   "source": [
    "vectorizer = TfidfVectorizer(stop_words='english', max_df=0.6, smooth_idf=True)\n",
    "\n",
    "X = vectorizer.fit_transform(bad_texts_cleaned + good_texts_cleaned)"
   ]
  },
  {
   "cell_type": "code",
   "execution_count": 17,
   "metadata": {},
   "outputs": [
    {
     "data": {
      "text/plain": [
       "(1120, 15868)"
      ]
     },
     "execution_count": 17,
     "metadata": {},
     "output_type": "execute_result"
    }
   ],
   "source": [
    "X.shape # check shape of the document-term matrix"
   ]
  },
  {
   "cell_type": "code",
   "execution_count": 18,
   "metadata": {},
   "outputs": [],
   "source": [
    "# SVD represent documents and terms in vectors \n",
    "svd_model = TruncatedSVD(n_components=10, algorithm='randomized', n_iter=100, random_state=122)"
   ]
  },
  {
   "cell_type": "code",
   "execution_count": 19,
   "metadata": {},
   "outputs": [
    {
     "data": {
      "text/plain": [
       "TruncatedSVD(n_components=10, n_iter=100, random_state=122)"
      ]
     },
     "execution_count": 19,
     "metadata": {},
     "output_type": "execute_result"
    }
   ],
   "source": [
    "svd_model.fit(X)"
   ]
  },
  {
   "cell_type": "code",
   "execution_count": 20,
   "metadata": {},
   "outputs": [],
   "source": [
    "X_transformed = svd_model.transform(X)"
   ]
  },
  {
   "cell_type": "code",
   "execution_count": 21,
   "metadata": {},
   "outputs": [
    {
     "data": {
      "text/plain": [
       "(1120, 10)"
      ]
     },
     "execution_count": 21,
     "metadata": {},
     "output_type": "execute_result"
    }
   ],
   "source": [
    "X_transformed.shape"
   ]
  },
  {
   "cell_type": "code",
   "execution_count": 22,
   "metadata": {},
   "outputs": [
    {
     "name": "stdout",
     "output_type": "stream",
     "text": [
      "Topic 0: \n",
      "['math', 'method', 'function', 'class', 'element', 'value', 'string']\n",
      "Topic 1: \n",
      "['math', 'matrix', 'vector', 'node', 'graph', 'linear', 'probability']\n",
      "Topic 2: \n",
      "['class', 'method', 'object', 'instance', 'constructor', 'field', 'math']\n",
      "Topic 3: \n",
      "['array', 'element', 'index', 'list', 'method', 'collection', 'value']\n",
      "Topic 4: \n",
      "['function', 'string', 'variable', 'character', 'argument', 'value', 'operator']\n",
      "Topic 5: \n",
      "['string', 'character', 'match', 'pattern', 'substring', 'method', 'regex']\n",
      "Topic 6: \n",
      "['table', 'thread', 'loop', 'operator', 'query', 'statement', 'column']\n",
      "Topic 7: \n",
      "['thread', 'loop', 'exception', 'program', 'array', 'method', 'execute']\n",
      "Topic 8: \n",
      "['file', 'loop', 'array', 'operator', 'variable', 'type', 'directory']\n",
      "Topic 9: \n",
      "['array', 'thread', 'table', 'column', 'database', 'query', 'row']\n"
     ]
    }
   ],
   "source": [
    "#### VERSION 4 -- ALL TOPICS THAT HAVE COMMENTS ####\n",
    "\n",
    "terms = vectorizer.get_feature_names()\n",
    "\n",
    "for i, comp in enumerate(svd_model.components_):\n",
    "    terms_comp = zip(terms, comp)\n",
    "    sorted_terms = sorted(terms_comp, key= lambda x:x[1], reverse=True)[:7]\n",
    "    print(\"Topic \" + str(i) + \": \")\n",
    "    print([t[0] for t in sorted_terms])"
   ]
  },
  {
   "cell_type": "code",
   "execution_count": null,
   "metadata": {},
   "outputs": [],
   "source": [
    "terms = vectorizer.get_feature_names()\n",
    "\n",
    "for i, comp in enumerate(svd_model.components_):\n",
    "    terms_comp = zip(terms, comp)\n",
    "    sorted_terms = sorted(terms_comp, key= lambda x:x[1], reverse=True)[:7]\n",
    "    print(\"Topic \" + str(i) + \": \")\n",
    "    print([t[0] for t in sorted_terms])"
   ]
  },
  {
   "cell_type": "markdown",
   "metadata": {},
   "source": [
    "\n",
    "* Topic 0: **general concepts** ['math', 'method', 'function', 'class', 'element', 'value', 'string']\n",
    "* Topic 1: **mathematics** ['math', 'matrix', 'vector', 'node', 'graph', 'linear', 'probability']\n",
    "* Topic 2: **OOP** ['class', 'method', 'object', 'instance', 'constructor', 'field', 'math']\n",
    "* Topic 3: **collections** ['array', 'element', 'index', 'list', 'method', 'collection', 'value']\n",
    "* Topic 4: **functions (?)** ['function', 'string', 'variable', 'character', 'argument', 'value', 'operator']\n",
    "* Topic 5: **strings** ['string', 'character', 'match', 'pattern', 'substring', 'method', 'regex']\n",
    "* Topic 6: **???** ['table', 'thread', 'loop', 'operator', 'query', 'statement', 'column']\n",
    "* Topic 7: **program execution** ['thread', 'loop', 'exception', 'program', 'array', 'method', 'execute']\n",
    "* Topic 8: **files and OS (?)** ['file', 'loop', 'array', 'operator', 'variable', 'type', 'directory']\n",
    "* Topic 9: **databases** ['array', 'thread', 'table', 'column', 'database', 'query', 'row']"
   ]
  },
  {
   "cell_type": "markdown",
   "metadata": {},
   "source": [
    "## Visualization"
   ]
  },
  {
   "cell_type": "code",
   "execution_count": 28,
   "metadata": {
    "collapsed": true
   },
   "outputs": [
    {
     "name": "stdout",
     "output_type": "stream",
     "text": [
      "Defaulting to user installation because normal site-packages is not writeable\n",
      "Collecting umap\n",
      "  Downloading umap-0.1.1.tar.gz (3.2 kB)\n",
      "  Preparing metadata (setup.py) ... \u001b[?25ldone\n",
      "\u001b[?25hBuilding wheels for collected packages: umap\n",
      "  Building wheel for umap (setup.py) ... \u001b[?25ldone\n",
      "\u001b[?25h  Created wheel for umap: filename=umap-0.1.1-py3-none-any.whl size=3564 sha256=a48aa7182da66602c917ebaf394f07c8a83029f4158935a2e7d99595f81e9ddd\n",
      "  Stored in directory: /home/anna/.cache/pip/wheels/df/22/c9/3de2d976b162d3f90c60ed7e415f344d0630518a501093e7b1\n",
      "Successfully built umap\n",
      "Installing collected packages: umap\n",
      "Successfully installed umap-0.1.1\n"
     ]
    }
   ],
   "source": [
    "#!pip3 install umap"
   ]
  },
  {
   "cell_type": "code",
   "execution_count": 31,
   "metadata": {
    "collapsed": true
   },
   "outputs": [
    {
     "name": "stdout",
     "output_type": "stream",
     "text": [
      "Defaulting to user installation because normal site-packages is not writeable\n",
      "Collecting umap-learn\n",
      "  Downloading umap-learn-0.5.3.tar.gz (88 kB)\n",
      "     |████████████████████████████████| 88 kB 1.6 MB/s            \n",
      "\u001b[?25h  Preparing metadata (setup.py) ... \u001b[?25ldone\n",
      "\u001b[?25hRequirement already satisfied: numpy>=1.17 in /home/anna/.local/lib/python3.6/site-packages (from umap-learn) (1.19.5)\n",
      "Requirement already satisfied: scikit-learn>=0.22 in /home/anna/.local/lib/python3.6/site-packages (from umap-learn) (0.23.2)\n",
      "Requirement already satisfied: scipy>=1.0 in /home/anna/.local/lib/python3.6/site-packages (from umap-learn) (1.5.4)\n",
      "Requirement already satisfied: numba>=0.49 in /home/anna/.local/lib/python3.6/site-packages (from umap-learn) (0.53.1)\n",
      "Collecting pynndescent>=0.5\n",
      "  Downloading pynndescent-0.5.7.tar.gz (1.1 MB)\n",
      "     |████████████████████████████████| 1.1 MB 1.9 MB/s            \n",
      "\u001b[?25h  Preparing metadata (setup.py) ... \u001b[?25ldone\n",
      "\u001b[?25hRequirement already satisfied: tqdm in /home/anna/.local/lib/python3.6/site-packages (from umap-learn) (4.62.3)\n",
      "Requirement already satisfied: llvmlite<0.37,>=0.36.0rc1 in /home/anna/.local/lib/python3.6/site-packages (from numba>=0.49->umap-learn) (0.36.0)\n",
      "Requirement already satisfied: setuptools in /home/anna/.local/lib/python3.6/site-packages (from numba>=0.49->umap-learn) (58.2.0)\n",
      "Requirement already satisfied: joblib>=0.11 in /home/anna/.local/lib/python3.6/site-packages (from pynndescent>=0.5->umap-learn) (0.17.0)\n",
      "Requirement already satisfied: threadpoolctl>=2.0.0 in /home/anna/.local/lib/python3.6/site-packages (from scikit-learn>=0.22->umap-learn) (2.1.0)\n",
      "Building wheels for collected packages: umap-learn, pynndescent\n",
      "  Building wheel for umap-learn (setup.py) ... \u001b[?25ldone\n",
      "\u001b[?25h  Created wheel for umap-learn: filename=umap_learn-0.5.3-py3-none-any.whl size=82830 sha256=9dc5684024c66d6a388e7474960b4a78dca73df06d1a531d2ae6889e78c58c0a\n",
      "  Stored in directory: /home/anna/.cache/pip/wheels/54/ca/cf/35a4f9a744b0bce9549e4e492261bef3903434d0118f3ee858\n",
      "  Building wheel for pynndescent (setup.py) ... \u001b[?25ldone\n",
      "\u001b[?25h  Created wheel for pynndescent: filename=pynndescent-0.5.7-py3-none-any.whl size=54287 sha256=e9fab373cf92dcb00544c9b34436f158be00471783ebc5ac03363f284ad9ab3e\n",
      "  Stored in directory: /home/anna/.cache/pip/wheels/fd/8a/9e/58bdbe4211581dd2aeffe2ce46020a000bf67127afac24e772\n",
      "Successfully built umap-learn pynndescent\n",
      "Installing collected packages: pynndescent, umap-learn\n",
      "Successfully installed pynndescent-0.5.7 umap-learn-0.5.3\n"
     ]
    }
   ],
   "source": [
    "#!pip3 install umap-learn"
   ]
  },
  {
   "cell_type": "code",
   "execution_count": 23,
   "metadata": {},
   "outputs": [
    {
     "name": "stderr",
     "output_type": "stream",
     "text": [
      "/home/anna/.local/lib/python3.6/site-packages/numba/core/errors.py:154: UserWarning: Insufficiently recent colorama version found. Numba requires colorama >= 0.3.9\n",
      "  warnings.warn(msg)\n"
     ]
    }
   ],
   "source": [
    "# visualization\n",
    "import umap.umap_ as umap"
   ]
  },
  {
   "cell_type": "code",
   "execution_count": 24,
   "metadata": {},
   "outputs": [],
   "source": [
    "X_topics = svd_model.fit_transform(X)\n",
    "embedding = umap.UMAP(n_neighbors=150, min_dist=0.5, random_state=12).fit_transform(X_topics)"
   ]
  },
  {
   "cell_type": "code",
   "execution_count": 40,
   "metadata": {},
   "outputs": [
    {
     "data": {
      "text/plain": [
       "array([ 0.07227875,  0.00318305, -0.03563841, -0.00054061,  0.02779302,\n",
       "        0.02863548,  0.05717058, -0.0175189 ,  0.03111181,  0.0177481 ])"
      ]
     },
     "execution_count": 40,
     "metadata": {},
     "output_type": "execute_result"
    }
   ],
   "source": [
    "X_topics[0]"
   ]
  },
  {
   "cell_type": "code",
   "execution_count": 43,
   "metadata": {},
   "outputs": [
    {
     "data": {
      "image/png": "[encoded data removed]",
      "text/plain": [
       "<Figure size 504x360 with 1 Axes>"
      ]
     },
     "metadata": {
      "needs_background": "light"
     },
     "output_type": "display_data"
    }
   ],
   "source": [
    "########## THIS IS FOR VERSION 5 #########\n",
    "\n",
    "targets = [ [1] * len(bad_texts) + [0] * len(good_texts) ]\n",
    "\n",
    "# each dot represents a document \n",
    "# colors represent our 2 groups - blue is 'good', pink is 'bad'\n",
    "\n",
    "plt.figure(figsize=(7,5))\n",
    "plt.scatter(embedding[:, 0], embedding[:, 1], \n",
    "            c = targets,\n",
    "            s = 15,\n",
    "            cmap = 'cool',\n",
    "            edgecolor='none')\n",
    "plt.title('Distribution of good (blue) and bad (pink) texts, as plotted by umap')\n",
    "plt.show()"
   ]
  },
  {
   "cell_type": "markdown",
   "metadata": {},
   "source": [
    "## Get all matrices from SVD"
   ]
  },
  {
   "cell_type": "code",
   "execution_count": 26,
   "metadata": {},
   "outputs": [],
   "source": [
    "from sklearn.utils.extmath import randomized_svd"
   ]
  },
  {
   "cell_type": "code",
   "execution_count": 27,
   "metadata": {},
   "outputs": [
    {
     "data": {
      "text/plain": [
       "(1120, 15868)"
      ]
     },
     "execution_count": 27,
     "metadata": {},
     "output_type": "execute_result"
    }
   ],
   "source": [
    "X.shape"
   ]
  },
  {
   "cell_type": "code",
   "execution_count": 28,
   "metadata": {},
   "outputs": [],
   "source": [
    "U, Sigma, VT = randomized_svd(X, \n",
    "                              n_components=10,\n",
    "                              n_iter=100,\n",
    "                              random_state=122)"
   ]
  },
  {
   "cell_type": "code",
   "execution_count": null,
   "metadata": {},
   "outputs": [],
   "source": []
  },
  {
   "cell_type": "code",
   "execution_count": 29,
   "metadata": {},
   "outputs": [
    {
     "name": "stdout",
     "output_type": "stream",
     "text": [
      "(1120, 10) (10,) (10, 15868)\n"
     ]
    }
   ],
   "source": [
    "print(U.shape, Sigma.shape, VT.shape)"
   ]
  },
  {
   "cell_type": "code",
   "execution_count": 41,
   "metadata": {},
   "outputs": [
    {
     "data": {
      "text/plain": [
       "array([ 0.00980147,  0.00052452, -0.00821998, -0.00013018,  0.00703483,\n",
       "        0.0080446 ,  0.0162839 , -0.0051336 ,  0.00955412,  0.00560695])"
      ]
     },
     "execution_count": 41,
     "metadata": {},
     "output_type": "execute_result"
    }
   ],
   "source": [
    "U[0]"
   ]
  },
  {
   "cell_type": "code",
   "execution_count": 42,
   "metadata": {},
   "outputs": [
    {
     "data": {
      "text/plain": [
       "array([ 0.00955404,  0.00303738, -0.00488731, -0.00223654,  0.002308  ,\n",
       "        0.00432306,  0.01054926, -0.00518334,  0.00303227,  0.00264663])"
      ]
     },
     "execution_count": 42,
     "metadata": {},
     "output_type": "execute_result"
    }
   ],
   "source": [
    "U[1]"
   ]
  },
  {
   "cell_type": "code",
   "execution_count": 30,
   "metadata": {},
   "outputs": [
    {
     "data": {
      "text/plain": [
       "(1120, 10)"
      ]
     },
     "execution_count": 30,
     "metadata": {},
     "output_type": "execute_result"
    }
   ],
   "source": [
    "X_transformed.shape"
   ]
  },
  {
   "cell_type": "code",
   "execution_count": 31,
   "metadata": {},
   "outputs": [
    {
     "data": {
      "text/plain": [
       "(10,)"
      ]
     },
     "execution_count": 31,
     "metadata": {},
     "output_type": "execute_result"
    }
   ],
   "source": [
    "svd_model.singular_values_.shape  # this is Sigma: singular values signify topic importance"
   ]
  },
  {
   "cell_type": "code",
   "execution_count": 33,
   "metadata": {},
   "outputs": [
    {
     "data": {
      "text/plain": [
       "(10, 15868)"
      ]
     },
     "execution_count": 33,
     "metadata": {},
     "output_type": "execute_result"
    }
   ],
   "source": [
    "svd_model.components_.shape  # this is VT -- distribution of words across topics"
   ]
  },
  {
   "cell_type": "code",
   "execution_count": 32,
   "metadata": {},
   "outputs": [
    {
     "name": "stdout",
     "output_type": "stream",
     "text": [
      "[[False False False ... False False False]\n",
      " [False False False ... False False False]\n",
      " [False False False ... False False False]\n",
      " ...\n",
      " [False False False ... False False False]\n",
      " [False False False ... False False False]\n",
      " [False False False ... False False False]]\n",
      "\n",
      "[ True  True  True  True  True  True  True  True  True  True]\n",
      "\n",
      "[[ True  True  True ...  True  True  True]\n",
      " [ True  True  True ...  True  True  True]\n",
      " [ True  True  True ...  True  True  True]\n",
      " ...\n",
      " [ True  True  True ...  True  True  True]\n",
      " [ True  True  True ...  True  True  True]\n",
      " [ True  True  True ...  True  True  True]]\n"
     ]
    }
   ],
   "source": [
    "print(U == X_transformed)\n",
    "print()\n",
    "print(Sigma == svd_model.singular_values_)\n",
    "print()\n",
    "print(VT == svd_model.components_)"
   ]
  },
  {
   "cell_type": "code",
   "execution_count": null,
   "metadata": {},
   "outputs": [],
   "source": [
    "# U and X_transformed are not the same\n",
    "# X_transformed = SVD.fit_transform(X) = U*np.diag(Sigma) which is != U"
   ]
  },
  {
   "cell_type": "code",
   "execution_count": 33,
   "metadata": {},
   "outputs": [
    {
     "data": {
      "text/plain": [
       "array([[ 0.07227875,  0.00318305, -0.03563841, -0.00054061,  0.02779302,\n",
       "         0.02863548,  0.05717058, -0.0175189 ,  0.03111181,  0.0177481 ],\n",
       "       [ 0.07045415,  0.01843245, -0.02118934, -0.00928816,  0.00911841,\n",
       "         0.01538832,  0.03703703, -0.01768865,  0.00987421,  0.00837757]])"
      ]
     },
     "execution_count": 33,
     "metadata": {},
     "output_type": "execute_result"
    }
   ],
   "source": [
    "X_transformed[:2]"
   ]
  },
  {
   "cell_type": "code",
   "execution_count": 34,
   "metadata": {},
   "outputs": [
    {
     "data": {
      "text/plain": [
       "array([[ 0.00980147,  0.00052452, -0.00821998, -0.00013018,  0.00703483,\n",
       "         0.0080446 ,  0.0162839 , -0.0051336 ,  0.00955412,  0.00560695],\n",
       "       [ 0.00955404,  0.00303738, -0.00488731, -0.00223654,  0.002308  ,\n",
       "         0.00432306,  0.01054926, -0.00518334,  0.00303227,  0.00264663]])"
      ]
     },
     "execution_count": 34,
     "metadata": {},
     "output_type": "execute_result"
    }
   ],
   "source": [
    "U[:2]"
   ]
  },
  {
   "cell_type": "markdown",
   "metadata": {},
   "source": [
    "## Cluster docs according to what their main topic is"
   ]
  },
  {
   "cell_type": "code",
   "execution_count": 35,
   "metadata": {},
   "outputs": [
    {
     "data": {
      "text/plain": [
       "array([1, 1, 1, ..., 0, 0, 0])"
      ]
     },
     "execution_count": 35,
     "metadata": {},
     "output_type": "execute_result"
    }
   ],
   "source": [
    "topics_with_targets.target.values"
   ]
  },
  {
   "cell_type": "code",
   "execution_count": 36,
   "metadata": {},
   "outputs": [],
   "source": [
    "best_topics = dict()\n",
    "\n",
    "for list_topics, doc_id in zip(U, topics_with_targets.topic_id.values):\n",
    "    list_topics = list(list_topics)\n",
    "    best_topic = list_topics.index(max(list_topics))\n",
    "    best_topics[doc_id] = best_topic"
   ]
  },
  {
   "cell_type": "code",
   "execution_count": 37,
   "metadata": {
    "collapsed": true
   },
   "outputs": [
    {
     "data": {
      "text/plain": [
       "{385: 6,\n",
       " 369: 6,\n",
       " 362: 5,\n",
       " 524: 1,\n",
       " 384: 6,\n",
       " 781: 1,\n",
       " 719: 1,\n",
       " 643: 1,\n",
       " 1147: 1,\n",
       " 112: 4,\n",
       " 28: 2,\n",
       " 15: 0,\n",
       " 124: 2,\n",
       " 192: 8,\n",
       " 301: 0,\n",
       " 4: 3,\n",
       " 27: 4,\n",
       " 148: 0,\n",
       " 185: 5,\n",
       " 147: 5,\n",
       " 309: 8,\n",
       " 98: 5,\n",
       " 172: 8,\n",
       " 193: 5,\n",
       " 59: 2,\n",
       " 14: 8,\n",
       " 32: 4,\n",
       " 99: 3,\n",
       " 90: 8,\n",
       " 116: 2,\n",
       " 307: 6,\n",
       " 2: 2,\n",
       " 17: 2,\n",
       " 19: 8,\n",
       " 25: 6,\n",
       " 103: 2,\n",
       " 75: 2,\n",
       " 20: 6,\n",
       " 128: 2,\n",
       " 89: 8,\n",
       " 356: 0,\n",
       " 9: 5,\n",
       " 60: 7,\n",
       " 324: 2,\n",
       " 167: 2,\n",
       " 31: 5,\n",
       " 6: 2,\n",
       " 181: 5,\n",
       " 8: 2,\n",
       " 123: 2,\n",
       " 491: 2,\n",
       " 317: 2,\n",
       " 77: 7,\n",
       " 86: 7,\n",
       " 38: 2,\n",
       " 37: 0,\n",
       " 173: 8,\n",
       " 159: 2,\n",
       " 12: 3,\n",
       " 5: 2,\n",
       " 518: 5,\n",
       " 323: 2,\n",
       " 111: 0,\n",
       " 129: 2,\n",
       " 316: 0,\n",
       " 724: 5,\n",
       " 49: 2,\n",
       " 113: 0,\n",
       " 85: 2,\n",
       " 849: 9,\n",
       " 80: 2,\n",
       " 1033: 2,\n",
       " 48: 2,\n",
       " 1495: 0,\n",
       " 1671: 0,\n",
       " 483: 7,\n",
       " 539: 0,\n",
       " 660: 3,\n",
       " 1004: 3,\n",
       " 1105: 6,\n",
       " 1093: 0,\n",
       " 1314: 3,\n",
       " 1315: 3,\n",
       " 1198: 3,\n",
       " 273: 3,\n",
       " 260: 0,\n",
       " 315: 8,\n",
       " 191: 7,\n",
       " 410: 1,\n",
       " 313: 0,\n",
       " 270: 3,\n",
       " 502: 0,\n",
       " 503: 0,\n",
       " 117: 2,\n",
       " 255: 0,\n",
       " 346: 3,\n",
       " 321: 5,\n",
       " 494: 0,\n",
       " 537: 3,\n",
       " 391: 0,\n",
       " 559: 6,\n",
       " 438: 0,\n",
       " 607: 8,\n",
       " 608: 0,\n",
       " 577: 5,\n",
       " 652: 6,\n",
       " 673: 6,\n",
       " 656: 9,\n",
       " 708: 6,\n",
       " 485: 6,\n",
       " 680: 2,\n",
       " 289: 3,\n",
       " 709: 0,\n",
       " 872: 0,\n",
       " 740: 0,\n",
       " 884: 2,\n",
       " 886: 0,\n",
       " 876: 8,\n",
       " 793: 0,\n",
       " 910: 2,\n",
       " 812: 7,\n",
       " 856: 0,\n",
       " 980: 6,\n",
       " 1031: 8,\n",
       " 1027: 1,\n",
       " 1450: 8,\n",
       " 288: 9,\n",
       " 1473: 9,\n",
       " 1692: 0,\n",
       " 1732: 5,\n",
       " 263: 1,\n",
       " 267: 0,\n",
       " 451: 0,\n",
       " 467: 0,\n",
       " 486: 0,\n",
       " 522: 2,\n",
       " 543: 0,\n",
       " 715: 9,\n",
       " 712: 0,\n",
       " 474: 0,\n",
       " 1392: 0,\n",
       " 1454: 6,\n",
       " 1519: 2,\n",
       " 561: 2,\n",
       " 1641: 0,\n",
       " 1805: 2,\n",
       " 224: 4,\n",
       " 216: 0,\n",
       " 218: 0,\n",
       " 210: 5,\n",
       " 236: 4,\n",
       " 240: 8,\n",
       " 230: 4,\n",
       " 412: 4,\n",
       " 432: 4,\n",
       " 220: 5,\n",
       " 241: 4,\n",
       " 213: 4,\n",
       " 433: 8,\n",
       " 234: 4,\n",
       " 484: 4,\n",
       " 845: 4,\n",
       " 870: 4,\n",
       " 805: 2,\n",
       " 1015: 6,\n",
       " 1058: 4,\n",
       " 496: 0,\n",
       " 1550: 3,\n",
       " 1581: 3,\n",
       " 903: 0,\n",
       " 921: 3,\n",
       " 1006: 6,\n",
       " 1024: 4,\n",
       " 333: 0,\n",
       " 402: 5,\n",
       " 405: 6,\n",
       " 403: 0,\n",
       " 415: 4,\n",
       " 399: 4,\n",
       " 394: 4,\n",
       " 336: 4,\n",
       " 398: 6,\n",
       " 401: 4,\n",
       " 404: 0,\n",
       " 429: 8,\n",
       " 417: 4,\n",
       " 397: 0,\n",
       " 490: 2,\n",
       " 475: 6,\n",
       " 529: 5,\n",
       " 565: 0,\n",
       " 585: 0,\n",
       " 534: 4,\n",
       " 632: 8,\n",
       " 625: 5,\n",
       " 488: 2,\n",
       " 400: 4,\n",
       " 455: 4,\n",
       " 530: 2,\n",
       " 487: 3,\n",
       " 408: 6,\n",
       " 624: 5,\n",
       " 501: 5,\n",
       " 421: 0,\n",
       " 466: 0,\n",
       " 444: 8,\n",
       " 418: 0,\n",
       " 449: 7,\n",
       " 597: 0,\n",
       " 435: 3,\n",
       " 509: 3,\n",
       " 454: 3,\n",
       " 431: 0,\n",
       " 615: 0,\n",
       " 448: 0,\n",
       " 508: 2,\n",
       " 434: 3,\n",
       " 857: 4,\n",
       " 855: 5,\n",
       " 918: 4,\n",
       " 952: 4,\n",
       " 935: 0,\n",
       " 1074: 0,\n",
       " 370: 6,\n",
       " 368: 5,\n",
       " 560: 1,\n",
       " 622: 1,\n",
       " 623: 1,\n",
       " 542: 1,\n",
       " 723: 1,\n",
       " 783: 1,\n",
       " 888: 1,\n",
       " 696: 1,\n",
       " 727: 1,\n",
       " 890: 1,\n",
       " 891: 1,\n",
       " 941: 0,\n",
       " 939: 1,\n",
       " 940: 1,\n",
       " 960: 1,\n",
       " 986: 1,\n",
       " 989: 1,\n",
       " 1001: 1,\n",
       " 1002: 1,\n",
       " 988: 1,\n",
       " 1000: 1,\n",
       " 894: 1,\n",
       " 1018: 1,\n",
       " 782: 1,\n",
       " 808: 1,\n",
       " 889: 1,\n",
       " 1019: 1,\n",
       " 1078: 1,\n",
       " 545: 1,\n",
       " 984: 1,\n",
       " 1099: 1,\n",
       " 603: 1,\n",
       " 954: 1,\n",
       " 1319: 1,\n",
       " 1064: 1,\n",
       " 1372: 1,\n",
       " 1394: 1,\n",
       " 1402: 1,\n",
       " 1421: 1,\n",
       " 1101: 0,\n",
       " 1146: 1,\n",
       " 1546: 1,\n",
       " 1541: 1,\n",
       " 1542: 1,\n",
       " 1820: 1,\n",
       " 1793: 1,\n",
       " 1822: 1,\n",
       " 1545: 1,\n",
       " 1821: 1,\n",
       " 1335: 1,\n",
       " 1369: 1,\n",
       " 785: 1,\n",
       " 1808: 1,\n",
       " 2005: 1,\n",
       " 1748: 1,\n",
       " 2030: 1,\n",
       " 2007: 1,\n",
       " 895: 1,\n",
       " 2004: 1,\n",
       " 1791: 1,\n",
       " 1098: 1,\n",
       " 1717: 1,\n",
       " 1792: 1,\n",
       " 1845: 1,\n",
       " 738: 0,\n",
       " 866: 3,\n",
       " 865: 4,\n",
       " 739: 7,\n",
       " 796: 4,\n",
       " 864: 3,\n",
       " 127: 2,\n",
       " 295: 7,\n",
       " 96: 2,\n",
       " 65: 7,\n",
       " 326: 2,\n",
       " 162: 2,\n",
       " 119: 2,\n",
       " 106: 2,\n",
       " 108: 2,\n",
       " 114: 2,\n",
       " 146: 6,\n",
       " 304: 7,\n",
       " 294: 7,\n",
       " 168: 2,\n",
       " 319: 7,\n",
       " 36: 4,\n",
       " 161: 8,\n",
       " 300: 7,\n",
       " 353: 0,\n",
       " 45: 3,\n",
       " 102: 7,\n",
       " 7: 2,\n",
       " 1: 2,\n",
       " 30: 0,\n",
       " 115: 2,\n",
       " 42: 3,\n",
       " 166: 3,\n",
       " 201: 5,\n",
       " 296: 7,\n",
       " 197: 3,\n",
       " 22: 2,\n",
       " 298: 7,\n",
       " 299: 7,\n",
       " 33: 6,\n",
       " 297: 7,\n",
       " 303: 7,\n",
       " 87: 6,\n",
       " 40: 3,\n",
       " 88: 6,\n",
       " 163: 7,\n",
       " 104: 2,\n",
       " 78: 0,\n",
       " 97: 3,\n",
       " 186: 5,\n",
       " 110: 2,\n",
       " 183: 5,\n",
       " 170: 2,\n",
       " 66: 0,\n",
       " 39: 3,\n",
       " 122: 2,\n",
       " 175: 8,\n",
       " 51: 4,\n",
       " 155: 2,\n",
       " 118: 2,\n",
       " 24: 2,\n",
       " 156: 2,\n",
       " 46: 3,\n",
       " 151: 4,\n",
       " 120: 2,\n",
       " 152: 6,\n",
       " 182: 5,\n",
       " 177: 8,\n",
       " 72: 7,\n",
       " 121: 2,\n",
       " 178: 5,\n",
       " 164: 4,\n",
       " 70: 0,\n",
       " 411: 2,\n",
       " 180: 5,\n",
       " 41: 3,\n",
       " 160: 2,\n",
       " 176: 8,\n",
       " 184: 5,\n",
       " 165: 3,\n",
       " 171: 3,\n",
       " 310: 0,\n",
       " 58: 3,\n",
       " 354: 0,\n",
       " 571: 4,\n",
       " 125: 8,\n",
       " 132: 0,\n",
       " 83: 2,\n",
       " 627: 2,\n",
       " 629: 2,\n",
       " 628: 2,\n",
       " 50: 0,\n",
       " 100: 2,\n",
       " 382: 2,\n",
       " 630: 2,\n",
       " 54: 0,\n",
       " 53: 3,\n",
       " 55: 4,\n",
       " 667: 3,\n",
       " 871: 0,\n",
       " 770: 5,\n",
       " 875: 7,\n",
       " 668: 0,\n",
       " 305: 7,\n",
       " 897: 6,\n",
       " 929: 0,\n",
       " 84: 2,\n",
       " 105: 2,\n",
       " 82: 8,\n",
       " 979: 3,\n",
       " 308: 5,\n",
       " 56: 0,\n",
       " 985: 7,\n",
       " 52: 4,\n",
       " 1038: 2,\n",
       " 1040: 6,\n",
       " 1070: 9,\n",
       " 1071: 2,\n",
       " 1086: 2,\n",
       " 1100: 4,\n",
       " 1087: 8,\n",
       " 1088: 2,\n",
       " 1126: 2,\n",
       " 1137: 2,\n",
       " 1248: 0,\n",
       " 1245: 3,\n",
       " 1246: 3,\n",
       " 1305: 0,\n",
       " 1323: 7,\n",
       " 1332: 2,\n",
       " 1341: 0,\n",
       " 1351: 2,\n",
       " 1299: 2,\n",
       " 666: 0,\n",
       " 1401: 0,\n",
       " 1340: 2,\n",
       " 1425: 7,\n",
       " 1470: 6,\n",
       " 1455: 2,\n",
       " 1696: 0,\n",
       " 513: 7,\n",
       " 1769: 2,\n",
       " 1712: 6,\n",
       " 1830: 7,\n",
       " 1862: 5,\n",
       " 1950: 0,\n",
       " 2001: 2,\n",
       " 1993: 2,\n",
       " 1979: 2,\n",
       " 2041: 0,\n",
       " 352: 0,\n",
       " 452: 0,\n",
       " 499: 0,\n",
       " 470: 0,\n",
       " 997: 0,\n",
       " 1145: 0,\n",
       " 1247: 9,\n",
       " 1349: 0,\n",
       " 478: 0,\n",
       " 594: 0,\n",
       " 471: 6,\n",
       " 614: 6,\n",
       " 552: 3,\n",
       " 553: 0,\n",
       " 639: 0,\n",
       " 658: 3,\n",
       " 661: 0,\n",
       " 550: 6,\n",
       " 587: 6,\n",
       " 592: 0,\n",
       " 642: 3,\n",
       " 476: 6,\n",
       " 556: 0,\n",
       " 593: 0,\n",
       " 601: 0,\n",
       " 554: 0,\n",
       " 695: 0,\n",
       " 879: 3,\n",
       " 925: 0,\n",
       " 551: 0,\n",
       " 555: 0,\n",
       " 786: 0,\n",
       " 996: 0,\n",
       " 1022: 3,\n",
       " 1048: 6,\n",
       " 1052: 3,\n",
       " 1051: 3,\n",
       " 1082: 0,\n",
       " 1102: 0,\n",
       " 1104: 0,\n",
       " 1021: 6,\n",
       " 1117: 6,\n",
       " 1116: 0,\n",
       " 1125: 0,\n",
       " 1199: 3,\n",
       " 1196: 3,\n",
       " 1119: 0,\n",
       " 1200: 3,\n",
       " 1197: 0,\n",
       " 1395: 0,\n",
       " 948: 0,\n",
       " 1399: 0,\n",
       " 1494: 0,\n",
       " 1587: 0,\n",
       " 1274: 0,\n",
       " 1094: 0,\n",
       " 1586: 0,\n",
       " 1781: 6,\n",
       " 1995: 8,\n",
       " 1275: 0,\n",
       " 1118: 6,\n",
       " 868: 3,\n",
       " 909: 0,\n",
       " 915: 3,\n",
       " 928: 9,\n",
       " 963: 0,\n",
       " 969: 1,\n",
       " 956: 5,\n",
       " 917: 9,\n",
       " 1016: 3,\n",
       " 1059: 6,\n",
       " 1034: 9,\n",
       " 1054: 0,\n",
       " 1055: 0,\n",
       " 1056: 9,\n",
       " 1068: 1,\n",
       " 1073: 0,\n",
       " 1035: 0,\n",
       " 1076: 0,\n",
       " 966: 3,\n",
       " 978: 0,\n",
       " 1296: 9,\n",
       " 1301: 9,\n",
       " 1396: 9,\n",
       " 1359: 9,\n",
       " 1360: 9,\n",
       " 1377: 0,\n",
       " 1234: 9,\n",
       " 968: 6,\n",
       " 1344: 0,\n",
       " 967: 0,\n",
       " 1901: 6,\n",
       " 1398: 9,\n",
       " 1642: 1,\n",
       " 1527: 6,\n",
       " 1799: 0,\n",
       " 1680: 1,\n",
       " 1954: 0,\n",
       " 1913: 0,\n",
       " 2025: 0,\n",
       " 1843: 0,\n",
       " 1573: 0,\n",
       " 1773: 0,\n",
       " 2051: 0,\n",
       " 149: 7,\n",
       " 322: 5,\n",
       " 387: 0,\n",
       " 150: 7,\n",
       " 284: 6,\n",
       " 314: 0,\n",
       " 360: 0,\n",
       " 207: 8,\n",
       " 285: 3,\n",
       " 286: 3,\n",
       " 389: 0,\n",
       " 371: 1,\n",
       " 293: 8,\n",
       " 472: 1,\n",
       " 348: 7,\n",
       " 388: 5,\n",
       " 157: 5,\n",
       " 318: 3,\n",
       " 363: 1,\n",
       " 202: 0,\n",
       " 274: 3,\n",
       " 390: 0,\n",
       " 505: 0,\n",
       " 271: 3,\n",
       " 375: 1,\n",
       " 365: 1,\n",
       " 528: 9,\n",
       " 343: 3,\n",
       " 595: 6,\n",
       " 291: 3,\n",
       " 519: 9,\n",
       " 506: 0,\n",
       " 275: 1,\n",
       " 339: 1,\n",
       " 338: 1,\n",
       " 264: 3,\n",
       " 604: 5,\n",
       " 441: 0,\n",
       " 344: 3,\n",
       " 711: 0,\n",
       " 741: 0,\n",
       " 527: 1,\n",
       " 479: 6,\n",
       " 480: 8,\n",
       " 573: 1,\n",
       " 330: 0,\n",
       " 766: 9,\n",
       " 768: 9,\n",
       " 493: 6,\n",
       " 495: 6,\n",
       " 599: 6,\n",
       " 372: 1,\n",
       " 366: 1,\n",
       " 367: 1,\n",
       " 843: 0,\n",
       " 851: 0,\n",
       " 777: 6,\n",
       " 208: 8,\n",
       " 861: 9,\n",
       " 860: 9,\n",
       " 558: 6,\n",
       " 815: 7,\n",
       " 257: 8,\n",
       " 670: 9,\n",
       " 765: 9,\n",
       " 721: 6,\n",
       " 671: 0,\n",
       " 863: 2,\n",
       " 858: 9,\n",
       " 859: 9,\n",
       " 882: 9,\n",
       " 833: 9,\n",
       " 693: 6,\n",
       " 767: 9,\n",
       " 364: 1,\n",
       " 557: 4,\n",
       " 692: 6,\n",
       " 887: 2,\n",
       " 606: 6,\n",
       " 916: 2,\n",
       " 694: 6,\n",
       " 611: 1,\n",
       " 892: 9,\n",
       " 612: 1,\n",
       " 800: 6,\n",
       " 337: 5,\n",
       " 883: 6,\n",
       " 621: 1,\n",
       " 282: 1,\n",
       " 572: 0,\n",
       " 1030: 8,\n",
       " 1029: 8,\n",
       " 789: 0,\n",
       " 259: 0,\n",
       " 862: 6,\n",
       " 341: 3,\n",
       " 562: 3,\n",
       " 1089: 8,\n",
       " 1123: 6,\n",
       " 1124: 6,\n",
       " 1120: 9,\n",
       " 1081: 8,\n",
       " 1053: 8,\n",
       " 1080: 0,\n",
       " 1090: 8,\n",
       " 1143: 8,\n",
       " 999: 0,\n",
       " 1127: 0,\n",
       " 1157: 0,\n",
       " 1161: 9,\n",
       " 1178: 0,\n",
       " 1176: 9,\n",
       " 1144: 0,\n",
       " 1160: 9,\n",
       " 465: 0,\n",
       " 1284: 8,\n",
       " 881: 9,\n",
       " 1107: 6,\n",
       " 1235: 9,\n",
       " 1316: 5,\n",
       " 1317: 0,\n",
       " 1342: 0,\n",
       " 1393: 0,\n",
       " 512: 8,\n",
       " 1109: 6,\n",
       " 1400: 0,\n",
       " 1426: 6,\n",
       " 1385: 8,\n",
       " 1387: 6,\n",
       " 1443: 0,\n",
       " 1277: 8,\n",
       " 1451: 8,\n",
       " 1361: 8,\n",
       " 1466: 6,\n",
       " 1464: 0,\n",
       " 1449: 6,\n",
       " 1476: 7,\n",
       " 1515: 6,\n",
       " 1521: 3,\n",
       " 1381: 0,\n",
       " 1444: 4,\n",
       " 1536: 6,\n",
       " 1156: 0,\n",
       " 1184: 0,\n",
       " 1553: 0,\n",
       " 1487: 6,\n",
       " 1589: 1,\n",
       " 1566: 0,\n",
       " 1552: 6,\n",
       " 1678: 6,\n",
       " 1579: 0,\n",
       " 1705: 8,\n",
       " 507: 1,\n",
       " 334: 1,\n",
       " 1644: 9,\n",
       " 1599: 6,\n",
       " 1729: 6,\n",
       " 1697: 3,\n",
       " 1590: 0,\n",
       " 1574: 0,\n",
       " 1172: 6,\n",
       " 266: 0,\n",
       " 1282: 8,\n",
       " 1760: 2,\n",
       " 1388: 6,\n",
       " 342: 0,\n",
       " 1578: 0,\n",
       " 1582: 8,\n",
       " 1171: 8,\n",
       " 1350: 8,\n",
       " 1622: 0,\n",
       " 1849: 6,\n",
       " 1756: 2,\n",
       " 1459: 7,\n",
       " 1645: 2,\n",
       " 1833: 2,\n",
       " 1483: 8,\n",
       " 1777: 6,\n",
       " 1784: 8,\n",
       " 1594: 9,\n",
       " 1857: 8,\n",
       " 1447: 0,\n",
       " 1790: 2,\n",
       " 1734: 9,\n",
       " 1538: 5,\n",
       " 1727: 8,\n",
       " 1974: 6,\n",
       " 469: 1,\n",
       " 1783: 9,\n",
       " 1378: 8,\n",
       " 2002: 6,\n",
       " 1858: 1,\n",
       " 1674: 7,\n",
       " 1691: 0,\n",
       " 268: 1,\n",
       " 1517: 7,\n",
       " 1588: 0,\n",
       " 457: 0,\n",
       " 1008: 0,\n",
       " 1067: 6,\n",
       " 1039: 0,\n",
       " 1066: 0,\n",
       " 1045: 0,\n",
       " 1013: 0,\n",
       " 1151: 0,\n",
       " 1230: 0,\n",
       " 1333: 0,\n",
       " 1345: 0,\n",
       " 1072: 0,\n",
       " 1150: 0,\n",
       " 1346: 0,\n",
       " 1468: 9,\n",
       " 1363: 7,\n",
       " 1149: 0,\n",
       " 1283: 0,\n",
       " 1543: 0,\n",
       " 1334: 0,\n",
       " 1445: 0,\n",
       " 1540: 0,\n",
       " 1467: 9,\n",
       " 1628: 0,\n",
       " 1148: 0,\n",
       " 1300: 0,\n",
       " 1357: 0,\n",
       " 1713: 0,\n",
       " 1907: 0,\n",
       " 1575: 0,\n",
       " 1782: 0,\n",
       " 2029: 0,\n",
       " 450: 0,\n",
       " 544: 0,\n",
       " 459: 0,\n",
       " 460: 0,\n",
       " 517: 6,\n",
       " 586: 0,\n",
       " 717: 7,\n",
       " 609: 6,\n",
       " 568: 0,\n",
       " 804: 0,\n",
       " 500: 9,\n",
       " 602: 0,\n",
       " 514: 9,\n",
       " 904: 0,\n",
       " 905: 0,\n",
       " 913: 0,\n",
       " 532: 0,\n",
       " 1411: 0,\n",
       " 1410: 0,\n",
       " 1416: 6,\n",
       " 1437: 0,\n",
       " 515: 6,\n",
       " 531: 0,\n",
       " 1474: 0,\n",
       " 1539: 2,\n",
       " 1484: 0,\n",
       " 1555: 7,\n",
       " 1592: 0,\n",
       " 1638: 6,\n",
       " 1724: 0,\n",
       " 1751: 0,\n",
       " 716: 9,\n",
       " 1872: 0,\n",
       " 1788: 0,\n",
       " 736: 6,\n",
       " 1884: 9,\n",
       " 1915: 0,\n",
       " 1978: 9,\n",
       " 1885: 0,\n",
       " 1983: 6,\n",
       " 852: 9,\n",
       " 1875: 0,\n",
       " 1905: 0,\n",
       " 1976: 9,\n",
       " 1953: 0,\n",
       " 1982: 6,\n",
       " 1984: 0,\n",
       " 1986: 9,\n",
       " 1871: 0,\n",
       " 1876: 0,\n",
       " 1865: 0,\n",
       " 227: 5,\n",
       " 217: 0,\n",
       " 225: 6,\n",
       " 232: 6,\n",
       " 211: 0,\n",
       " 221: 6,\n",
       " 233: 6,\n",
       " 219: 4,\n",
       " 231: 4,\n",
       " 215: 4,\n",
       " 222: 8,\n",
       " 235: 4,\n",
       " 238: 8,\n",
       " 212: 7,\n",
       " 464: 8,\n",
       " 443: 0,\n",
       " 237: 3,\n",
       " 535: 7,\n",
       " 223: 4,\n",
       " 583: 8,\n",
       " 591: 2,\n",
       " 229: 3,\n",
       " 250: 5,\n",
       " 613: 0,\n",
       " 684: 7,\n",
       " 463: 2,\n",
       " 764: 0,\n",
       " 579: 7,\n",
       " 214: 4,\n",
       " 682: 4,\n",
       " 439: 2,\n",
       " 681: 2,\n",
       " 873: 8,\n",
       " 763: 5,\n",
       " 239: 8,\n",
       " 582: 8,\n",
       " 943: 0,\n",
       " 932: 2,\n",
       " 998: 7,\n",
       " 549: 0,\n",
       " 1007: 2,\n",
       " 1010: 3,\n",
       " 961: 3,\n",
       " 442: 2,\n",
       " 1012: 2,\n",
       " 1041: 3,\n",
       " 1057: 4,\n",
       " 976: 0,\n",
       " 1092: 7,\n",
       " 1083: 3,\n",
       " 1036: 3,\n",
       " 1091: 4,\n",
       " 1121: 0,\n",
       " 600: 2,\n",
       " 1142: 3,\n",
       " 1122: 7,\n",
       " 1065: 3,\n",
       " 1286: 0,\n",
       " 1294: 5,\n",
       " 1309: 4,\n",
       " 1009: 5,\n",
       " 1390: 7,\n",
       " 1420: 0,\n",
       " 1308: 3,\n",
       " 1490: 5,\n",
       " 1518: 5,\n",
       " 1584: 8,\n",
       " 1507: 5,\n",
       " 1551: 3,\n",
       " 1488: 6,\n",
       " 1625: 4,\n",
       " 1520: 0,\n",
       " 1419: 7,\n",
       " 1489: 7,\n",
       " 1708: 7,\n",
       " 1744: 0,\n",
       " 1570: 3,\n",
       " 228: 4,\n",
       " 1569: 7,\n",
       " 1815: 2,\n",
       " 1408: 4,\n",
       " 1834: 4,\n",
       " 1534: 2,\n",
       " 1501: 6,\n",
       " 1631: 7,\n",
       " 1252: 2,\n",
       " 1951: 7,\n",
       " 1949: 7,\n",
       " 1702: 7,\n",
       " 1990: 2,\n",
       " 1529: 2,\n",
       " 1725: 7,\n",
       " 1650: 2,\n",
       " 1835: 8,\n",
       " 1988: 5,\n",
       " 640: 4,\n",
       " 662: 4,\n",
       " 663: 6,\n",
       " 636: 4,\n",
       " 619: 0,\n",
       " 686: 0,\n",
       " 689: 0,\n",
       " 703: 0,\n",
       " 676: 6,\n",
       " 675: 4,\n",
       " 704: 0,\n",
       " 774: 8,\n",
       " 730: 0,\n",
       " 729: 6,\n",
       " 771: 6,\n",
       " 641: 4,\n",
       " 665: 4,\n",
       " 664: 4,\n",
       " 775: 8,\n",
       " 880: 4,\n",
       " 869: 0,\n",
       " 728: 6,\n",
       " 688: 4,\n",
       " 637: 0,\n",
       " 893: 0,\n",
       " 698: 3,\n",
       " 638: 0,\n",
       " 900: 4,\n",
       " 902: 4,\n",
       " 807: 0,\n",
       " 934: 0,\n",
       " 899: 0,\n",
       " 706: 5,\n",
       " 806: 8,\n",
       " 1025: 6,\n",
       " 1026: 4,\n",
       " 1192: 0,\n",
       " 1276: 7,\n",
       " 1313: 0,\n",
       " 1103: 2,\n",
       " 1720: 3,\n",
       " 1719: 3,\n",
       " 1745: 3,\n",
       " 1747: 0,\n",
       " 1813: 0,\n",
       " 1707: 0,\n",
       " 1812: 3,\n",
       " 1746: 3,\n",
       " 1706: 0,\n",
       " 1934: 5,\n",
       " 1779: 3,\n",
       " 1998: 0,\n",
       " 1996: 3,\n",
       " 1931: 5,\n",
       " 1933: 5,\n",
       " 1810: 3,\n",
       " 1513: 0,\n",
       " 1997: 5,\n",
       " 1935: 5,\n",
       " 2048: 3,\n",
       " 1506: 4,\n",
       " 1600: 5,\n",
       " 1531: 8,\n",
       " 1728: 6,\n",
       " 1701: 3,\n",
       " 1750: 4,\n",
       " 1806: 4,\n",
       " 1768: 8,\n",
       " 1824: 6,\n",
       " 1829: 0,\n",
       " 1699: 8,\n",
       " 1850: 3,\n",
       " 1787: 8,\n",
       " 1629: 4,\n",
       " 1795: 0,\n",
       " 1548: 3,\n",
       " 1672: 3,\n",
       " 1892: 0,\n",
       " 1807: 4,\n",
       " 1785: 6,\n",
       " 1908: 8,\n",
       " 1497: 8,\n",
       " ...}"
      ]
     },
     "execution_count": 37,
     "metadata": {},
     "output_type": "execute_result"
    }
   ],
   "source": [
    "best_topics"
   ]
  },
  {
   "cell_type": "code",
   "execution_count": 38,
   "metadata": {
    "collapsed": true
   },
   "outputs": [
    {
     "data": {
      "text/plain": [
       "[849,\n",
       " 656,\n",
       " 288,\n",
       " 1473,\n",
       " 715,\n",
       " 1070,\n",
       " 1247,\n",
       " 928,\n",
       " 917,\n",
       " 1034,\n",
       " 1056,\n",
       " 1296,\n",
       " 1301,\n",
       " 1396,\n",
       " 1359,\n",
       " 1360,\n",
       " 1234,\n",
       " 1398,\n",
       " 528,\n",
       " 519,\n",
       " 766,\n",
       " 768,\n",
       " 861,\n",
       " 860,\n",
       " 670,\n",
       " 765,\n",
       " 858,\n",
       " 859,\n",
       " 882,\n",
       " 833,\n",
       " 767,\n",
       " 892,\n",
       " 1120,\n",
       " 1161,\n",
       " 1176,\n",
       " 1160,\n",
       " 881,\n",
       " 1235,\n",
       " 1644,\n",
       " 1594,\n",
       " 1734,\n",
       " 1783,\n",
       " 1468,\n",
       " 1467,\n",
       " 500,\n",
       " 514,\n",
       " 716,\n",
       " 1884,\n",
       " 1978,\n",
       " 852,\n",
       " 1976,\n",
       " 1986,\n",
       " 1348,\n",
       " 1362,\n",
       " 1839]"
      ]
     },
     "execution_count": 38,
     "metadata": {},
     "output_type": "execute_result"
    }
   ],
   "source": [
    "# all documents for which the most pronounced topic is 9\n",
    "[el for el in best_topics if best_topics[el] == 9]"
   ]
  },
  {
   "cell_type": "markdown",
   "metadata": {},
   "source": [
    "## Save results of SVD to use them as a new set of features"
   ]
  },
  {
   "cell_type": "code",
   "execution_count": 54,
   "metadata": {},
   "outputs": [],
   "source": [
    "lsa_df = pd.DataFrame(X_transformed)"
   ]
  },
  {
   "cell_type": "code",
   "execution_count": 56,
   "metadata": {},
   "outputs": [],
   "source": [
    "lsa_df.columns = ['topic1', 'topic2', 'topic3', 'topic4', 'topic5', 'topic6', 'topic7', 'topic8', 'topic9', 'topic10']"
   ]
  },
  {
   "cell_type": "code",
   "execution_count": 58,
   "metadata": {},
   "outputs": [],
   "source": [
    "# add topic_ids\n",
    "lsa_df['topic_id'] = topics_with_targets.topic_id.values"
   ]
  },
  {
   "cell_type": "code",
   "execution_count": 59,
   "metadata": {},
   "outputs": [
    {
     "data": {
      "text/html": [
       "<div>\n",
       "<style scoped>\n",
       "    .dataframe tbody tr th:only-of-type {\n",
       "        vertical-align: middle;\n",
       "    }\n",
       "\n",
       "    .dataframe tbody tr th {\n",
       "        vertical-align: top;\n",
       "    }\n",
       "\n",
       "    .dataframe thead th {\n",
       "        text-align: right;\n",
       "    }\n",
       "</style>\n",
       "<table border=\"1\" class=\"dataframe\">\n",
       "  <thead>\n",
       "    <tr style=\"text-align: right;\">\n",
       "      <th></th>\n",
       "      <th>topic1</th>\n",
       "      <th>topic2</th>\n",
       "      <th>topic3</th>\n",
       "      <th>topic4</th>\n",
       "      <th>topic5</th>\n",
       "      <th>topic6</th>\n",
       "      <th>topic7</th>\n",
       "      <th>topic8</th>\n",
       "      <th>topic9</th>\n",
       "      <th>topic10</th>\n",
       "      <th>topic_id</th>\n",
       "    </tr>\n",
       "  </thead>\n",
       "  <tbody>\n",
       "    <tr>\n",
       "      <th>0</th>\n",
       "      <td>0.150044</td>\n",
       "      <td>0.049077</td>\n",
       "      <td>-0.063434</td>\n",
       "      <td>-0.016152</td>\n",
       "      <td>0.051941</td>\n",
       "      <td>0.095804</td>\n",
       "      <td>0.065959</td>\n",
       "      <td>-0.022702</td>\n",
       "      <td>0.033782</td>\n",
       "      <td>0.019681</td>\n",
       "      <td>362</td>\n",
       "    </tr>\n",
       "    <tr>\n",
       "      <th>1</th>\n",
       "      <td>0.274386</td>\n",
       "      <td>0.378059</td>\n",
       "      <td>-0.022950</td>\n",
       "      <td>0.073009</td>\n",
       "      <td>-0.096538</td>\n",
       "      <td>0.001527</td>\n",
       "      <td>0.097993</td>\n",
       "      <td>-0.056784</td>\n",
       "      <td>0.048809</td>\n",
       "      <td>0.153477</td>\n",
       "      <td>524</td>\n",
       "    </tr>\n",
       "    <tr>\n",
       "      <th>2</th>\n",
       "      <td>0.112809</td>\n",
       "      <td>0.004343</td>\n",
       "      <td>-0.052788</td>\n",
       "      <td>0.003488</td>\n",
       "      <td>0.047481</td>\n",
       "      <td>0.041063</td>\n",
       "      <td>0.074780</td>\n",
       "      <td>-0.021828</td>\n",
       "      <td>0.045878</td>\n",
       "      <td>0.025094</td>\n",
       "      <td>384</td>\n",
       "    </tr>\n",
       "    <tr>\n",
       "      <th>3</th>\n",
       "      <td>0.321835</td>\n",
       "      <td>0.610472</td>\n",
       "      <td>0.061429</td>\n",
       "      <td>-0.006924</td>\n",
       "      <td>-0.056966</td>\n",
       "      <td>0.015125</td>\n",
       "      <td>0.027587</td>\n",
       "      <td>-0.006050</td>\n",
       "      <td>0.027774</td>\n",
       "      <td>0.057805</td>\n",
       "      <td>781</td>\n",
       "    </tr>\n",
       "    <tr>\n",
       "      <th>4</th>\n",
       "      <td>0.325092</td>\n",
       "      <td>0.464082</td>\n",
       "      <td>0.006443</td>\n",
       "      <td>-0.043563</td>\n",
       "      <td>0.031883</td>\n",
       "      <td>0.084394</td>\n",
       "      <td>0.038440</td>\n",
       "      <td>-0.002160</td>\n",
       "      <td>0.026950</td>\n",
       "      <td>0.021789</td>\n",
       "      <td>719</td>\n",
       "    </tr>\n",
       "  </tbody>\n",
       "</table>\n",
       "</div>"
      ],
      "text/plain": [
       "     topic1    topic2    topic3    topic4    topic5    topic6    topic7  \\\n",
       "0  0.150044  0.049077 -0.063434 -0.016152  0.051941  0.095804  0.065959   \n",
       "1  0.274386  0.378059 -0.022950  0.073009 -0.096538  0.001527  0.097993   \n",
       "2  0.112809  0.004343 -0.052788  0.003488  0.047481  0.041063  0.074780   \n",
       "3  0.321835  0.610472  0.061429 -0.006924 -0.056966  0.015125  0.027587   \n",
       "4  0.325092  0.464082  0.006443 -0.043563  0.031883  0.084394  0.038440   \n",
       "\n",
       "     topic8    topic9   topic10  topic_id  \n",
       "0 -0.022702  0.033782  0.019681       362  \n",
       "1 -0.056784  0.048809  0.153477       524  \n",
       "2 -0.021828  0.045878  0.025094       384  \n",
       "3 -0.006050  0.027774  0.057805       781  \n",
       "4 -0.002160  0.026950  0.021789       719  "
      ]
     },
     "execution_count": 59,
     "metadata": {},
     "output_type": "execute_result"
    }
   ],
   "source": [
    "lsa_df.head()"
   ]
  },
  {
   "cell_type": "code",
   "execution_count": 61,
   "metadata": {},
   "outputs": [],
   "source": [
    "# change the order of columns\n",
    "lsa_df = lsa_df[['topic_id', 'topic1', 'topic2', 'topic3', 'topic4', 'topic5', 'topic6', 'topic7', 'topic8', 'topic9', 'topic10']]"
   ]
  },
  {
   "cell_type": "code",
   "execution_count": 62,
   "metadata": {},
   "outputs": [
    {
     "data": {
      "text/html": [
       "<div>\n",
       "<style scoped>\n",
       "    .dataframe tbody tr th:only-of-type {\n",
       "        vertical-align: middle;\n",
       "    }\n",
       "\n",
       "    .dataframe tbody tr th {\n",
       "        vertical-align: top;\n",
       "    }\n",
       "\n",
       "    .dataframe thead th {\n",
       "        text-align: right;\n",
       "    }\n",
       "</style>\n",
       "<table border=\"1\" class=\"dataframe\">\n",
       "  <thead>\n",
       "    <tr style=\"text-align: right;\">\n",
       "      <th></th>\n",
       "      <th>topic_id</th>\n",
       "      <th>topic1</th>\n",
       "      <th>topic2</th>\n",
       "      <th>topic3</th>\n",
       "      <th>topic4</th>\n",
       "      <th>topic5</th>\n",
       "      <th>topic6</th>\n",
       "      <th>topic7</th>\n",
       "      <th>topic8</th>\n",
       "      <th>topic9</th>\n",
       "      <th>topic10</th>\n",
       "    </tr>\n",
       "  </thead>\n",
       "  <tbody>\n",
       "    <tr>\n",
       "      <th>0</th>\n",
       "      <td>362</td>\n",
       "      <td>0.150044</td>\n",
       "      <td>0.049077</td>\n",
       "      <td>-0.063434</td>\n",
       "      <td>-0.016152</td>\n",
       "      <td>0.051941</td>\n",
       "      <td>0.095804</td>\n",
       "      <td>0.065959</td>\n",
       "      <td>-0.022702</td>\n",
       "      <td>0.033782</td>\n",
       "      <td>0.019681</td>\n",
       "    </tr>\n",
       "    <tr>\n",
       "      <th>1</th>\n",
       "      <td>524</td>\n",
       "      <td>0.274386</td>\n",
       "      <td>0.378059</td>\n",
       "      <td>-0.022950</td>\n",
       "      <td>0.073009</td>\n",
       "      <td>-0.096538</td>\n",
       "      <td>0.001527</td>\n",
       "      <td>0.097993</td>\n",
       "      <td>-0.056784</td>\n",
       "      <td>0.048809</td>\n",
       "      <td>0.153477</td>\n",
       "    </tr>\n",
       "    <tr>\n",
       "      <th>2</th>\n",
       "      <td>384</td>\n",
       "      <td>0.112809</td>\n",
       "      <td>0.004343</td>\n",
       "      <td>-0.052788</td>\n",
       "      <td>0.003488</td>\n",
       "      <td>0.047481</td>\n",
       "      <td>0.041063</td>\n",
       "      <td>0.074780</td>\n",
       "      <td>-0.021828</td>\n",
       "      <td>0.045878</td>\n",
       "      <td>0.025094</td>\n",
       "    </tr>\n",
       "    <tr>\n",
       "      <th>3</th>\n",
       "      <td>781</td>\n",
       "      <td>0.321835</td>\n",
       "      <td>0.610472</td>\n",
       "      <td>0.061429</td>\n",
       "      <td>-0.006924</td>\n",
       "      <td>-0.056966</td>\n",
       "      <td>0.015125</td>\n",
       "      <td>0.027587</td>\n",
       "      <td>-0.006050</td>\n",
       "      <td>0.027774</td>\n",
       "      <td>0.057805</td>\n",
       "    </tr>\n",
       "    <tr>\n",
       "      <th>4</th>\n",
       "      <td>719</td>\n",
       "      <td>0.325092</td>\n",
       "      <td>0.464082</td>\n",
       "      <td>0.006443</td>\n",
       "      <td>-0.043563</td>\n",
       "      <td>0.031883</td>\n",
       "      <td>0.084394</td>\n",
       "      <td>0.038440</td>\n",
       "      <td>-0.002160</td>\n",
       "      <td>0.026950</td>\n",
       "      <td>0.021789</td>\n",
       "    </tr>\n",
       "  </tbody>\n",
       "</table>\n",
       "</div>"
      ],
      "text/plain": [
       "   topic_id    topic1    topic2    topic3    topic4    topic5    topic6  \\\n",
       "0       362  0.150044  0.049077 -0.063434 -0.016152  0.051941  0.095804   \n",
       "1       524  0.274386  0.378059 -0.022950  0.073009 -0.096538  0.001527   \n",
       "2       384  0.112809  0.004343 -0.052788  0.003488  0.047481  0.041063   \n",
       "3       781  0.321835  0.610472  0.061429 -0.006924 -0.056966  0.015125   \n",
       "4       719  0.325092  0.464082  0.006443 -0.043563  0.031883  0.084394   \n",
       "\n",
       "     topic7    topic8    topic9   topic10  \n",
       "0  0.065959 -0.022702  0.033782  0.019681  \n",
       "1  0.097993 -0.056784  0.048809  0.153477  \n",
       "2  0.074780 -0.021828  0.045878  0.025094  \n",
       "3  0.027587 -0.006050  0.027774  0.057805  \n",
       "4  0.038440 -0.002160  0.026950  0.021789  "
      ]
     },
     "execution_count": 62,
     "metadata": {},
     "output_type": "execute_result"
    }
   ],
   "source": [
    "lsa_df.head()"
   ]
  },
  {
   "cell_type": "code",
   "execution_count": 63,
   "metadata": {},
   "outputs": [],
   "source": [
    "lsa_df.to_csv('./new_cleaned/train_corpus/train_features/LSA_features.csv', index=False)"
   ]
  },
  {
   "cell_type": "code",
   "execution_count": 64,
   "metadata": {},
   "outputs": [
    {
     "data": {
      "text/plain": [
       "1120"
      ]
     },
     "execution_count": 64,
     "metadata": {},
     "output_type": "execute_result"
    }
   ],
   "source": [
    "lsa_df.shape[0]"
   ]
  },
  {
   "cell_type": "code",
   "execution_count": 65,
   "metadata": {},
   "outputs": [
    {
     "data": {
      "text/html": [
       "<div>\n",
       "<style scoped>\n",
       "    .dataframe tbody tr th:only-of-type {\n",
       "        vertical-align: middle;\n",
       "    }\n",
       "\n",
       "    .dataframe tbody tr th {\n",
       "        vertical-align: top;\n",
       "    }\n",
       "\n",
       "    .dataframe thead th {\n",
       "        text-align: right;\n",
       "    }\n",
       "</style>\n",
       "<table border=\"1\" class=\"dataframe\">\n",
       "  <thead>\n",
       "    <tr style=\"text-align: right;\">\n",
       "      <th></th>\n",
       "      <th>topic_id</th>\n",
       "      <th>topic1</th>\n",
       "      <th>topic2</th>\n",
       "      <th>topic3</th>\n",
       "      <th>topic4</th>\n",
       "      <th>topic5</th>\n",
       "      <th>topic6</th>\n",
       "      <th>topic7</th>\n",
       "      <th>topic8</th>\n",
       "      <th>topic9</th>\n",
       "      <th>topic10</th>\n",
       "    </tr>\n",
       "  </thead>\n",
       "  <tbody>\n",
       "  </tbody>\n",
       "</table>\n",
       "</div>"
      ],
      "text/plain": [
       "Empty DataFrame\n",
       "Columns: [topic_id, topic1, topic2, topic3, topic4, topic5, topic6, topic7, topic8, topic9, topic10]\n",
       "Index: []"
      ]
     },
     "execution_count": 65,
     "metadata": {},
     "output_type": "execute_result"
    }
   ],
   "source": [
    "lsa_df[lsa_df.topic_id == 1825]  # this is one of the topics from VER 1, and it doesn't exist in VER 4\n",
    "# as well as topics 1826, 1930, 1512 (probably it's topics with high likes that didn't have any comments)"
   ]
  },
  {
   "cell_type": "code",
   "execution_count": null,
   "metadata": {},
   "outputs": [],
   "source": []
  }
 ],
 "metadata": {
  "kernelspec": {
   "display_name": "Python 3",
   "language": "python",
   "name": "python3"
  },
  "language_info": {
   "codemirror_mode": {
    "name": "ipython",
    "version": 3
   },
   "file_extension": ".py",
   "mimetype": "text/x-python",
   "name": "python",
   "nbconvert_exporter": "python",
   "pygments_lexer": "ipython3",
   "version": "3.6.9"
  }
 },
 "nbformat": 4,
 "nbformat_minor": 4
}
