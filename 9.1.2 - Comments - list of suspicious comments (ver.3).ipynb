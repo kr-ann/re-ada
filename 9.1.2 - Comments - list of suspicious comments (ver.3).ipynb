{
 "cells": [
  {
   "cell_type": "code",
   "execution_count": 1,
   "metadata": {},
   "outputs": [],
   "source": [
    "import pandas as pd"
   ]
  },
  {
   "cell_type": "code",
   "execution_count": 2,
   "metadata": {},
   "outputs": [],
   "source": [
    "path = '../other_dumps/comments'"
   ]
  },
  {
   "cell_type": "code",
   "execution_count": 4,
   "metadata": {},
   "outputs": [],
   "source": [
    "all_texts_comments = pd.read_csv(f'{path}/all_comments_to_theories.csv')"
   ]
  },
  {
   "cell_type": "markdown",
   "metadata": {},
   "source": [
    "## Search only for nouns and verbs in the comments"
   ]
  },
  {
   "cell_type": "code",
   "execution_count": 6,
   "metadata": {},
   "outputs": [
    {
     "data": {
      "text/plain": [
       "['trouble',\n",
       " 'concern',\n",
       " 'inconvenience',\n",
       " 'struggle',\n",
       " 'discontent',\n",
       " 'dissatisfaction',\n",
       " 'comprehension',\n",
       " 'apprehension',\n",
       " 'grasp',\n",
       " 'problem']"
      ]
     },
     "execution_count": 6,
     "metadata": {},
     "output_type": "execute_result"
    }
   ],
   "source": [
    "file = './synonyms_noun.txt'\n",
    "with open(file, 'r') as f:\n",
    "    list_noun = f.read().split('\\n')\n",
    "list_noun = [el for el in list_noun if el]\n",
    "list_noun[:10]"
   ]
  },
  {
   "cell_type": "code",
   "execution_count": 7,
   "metadata": {},
   "outputs": [
    {
     "data": {
      "text/plain": [
       "['confuse',\n",
       " 'baffle',\n",
       " 'confound',\n",
       " 'disconcert',\n",
       " 'frustrate',\n",
       " 'obscure',\n",
       " 'perplex',\n",
       " 'puzzle',\n",
       " 'trouble',\n",
       " 'complicate']"
      ]
     },
     "execution_count": 7,
     "metadata": {},
     "output_type": "execute_result"
    }
   ],
   "source": [
    "file = './synonyms_verb.txt'\n",
    "with open(file, 'r') as f:\n",
    "    list_verb = f.read().split('\\n')\n",
    "list_verb = [el for el in list_verb if el]\n",
    "list_verb[:10]"
   ]
  },
  {
   "cell_type": "code",
   "execution_count": 8,
   "metadata": {},
   "outputs": [],
   "source": [
    "overall_set = set(list_noun + list_verb)"
   ]
  },
  {
   "cell_type": "code",
   "execution_count": 9,
   "metadata": {},
   "outputs": [],
   "source": [
    "def words_occur(lem_text, list_words):\n",
    "    try:\n",
    "        lem_set = set(lem_text.split())\n",
    "    except:\n",
    "        print(lem_text)\n",
    "        raise\n",
    "    count = 0\n",
    "    for word in list_words:\n",
    "        if word in lem_set:\n",
    "            count += 1\n",
    "    return count"
   ]
  },
  {
   "cell_type": "code",
   "execution_count": 10,
   "metadata": {},
   "outputs": [],
   "source": [
    "counts_bad = []\n",
    "\n",
    "for i, row in all_texts_comments.iterrows():\n",
    "    text = row.lemmatized_comments\n",
    "    if isinstance(text, float):\n",
    "        text = ''\n",
    "    count_bad_all = words_occur(text, overall_set)\n",
    "    counts_bad.append(count_bad_all)"
   ]
  },
  {
   "cell_type": "code",
   "execution_count": 11,
   "metadata": {},
   "outputs": [],
   "source": [
    "all_texts_comments['count_bad'] = counts_bad"
   ]
  },
  {
   "cell_type": "code",
   "execution_count": 12,
   "metadata": {},
   "outputs": [],
   "source": [
    "all_texts_comments.to_csv(f'{path}/VER3_all_comments_to_theories_with_scores.csv', index=False)"
   ]
  },
  {
   "cell_type": "code",
   "execution_count": null,
   "metadata": {},
   "outputs": [],
   "source": []
  }
 ],
 "metadata": {
  "kernelspec": {
   "display_name": "Python 3",
   "language": "python",
   "name": "python3"
  },
  "language_info": {
   "codemirror_mode": {
    "name": "ipython",
    "version": 3
   },
   "file_extension": ".py",
   "mimetype": "text/x-python",
   "name": "python",
   "nbconvert_exporter": "python",
   "pygments_lexer": "ipython3",
   "version": "3.6.9"
  }
 },
 "nbformat": 4,
 "nbformat_minor": 4
}
