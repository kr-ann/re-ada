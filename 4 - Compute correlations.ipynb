{
 "cells": [
  {
   "cell_type": "code",
   "execution_count": 1,
   "metadata": {},
   "outputs": [],
   "source": [
    "import pandas as pd"
   ]
  },
  {
   "cell_type": "code",
   "execution_count": 2,
   "metadata": {},
   "outputs": [],
   "source": [
    "path = '/home/anna/Documents/Diploma/code/new_cleaned'"
   ]
  },
  {
   "cell_type": "code",
   "execution_count": 3,
   "metadata": {},
   "outputs": [],
   "source": [
    "topic_df_statistics = pd.read_csv(f'{path}/topics_all_statistics_and_scores.csv')"
   ]
  },
  {
   "cell_type": "code",
   "execution_count": 4,
   "metadata": {},
   "outputs": [],
   "source": [
    "topic_df_statistics = topic_df_statistics.drop(topic_df_statistics[topic_df_statistics.last_3_month_completed_step_users_count< 20].index)"
   ]
  },
  {
   "cell_type": "code",
   "execution_count": 5,
   "metadata": {},
   "outputs": [
    {
     "data": {
      "text/html": [
       "<div>\n",
       "<style scoped>\n",
       "    .dataframe tbody tr th:only-of-type {\n",
       "        vertical-align: middle;\n",
       "    }\n",
       "\n",
       "    .dataframe tbody tr th {\n",
       "        vertical-align: top;\n",
       "    }\n",
       "\n",
       "    .dataframe thead th {\n",
       "        text-align: right;\n",
       "    }\n",
       "</style>\n",
       "<table border=\"1\" class=\"dataframe\">\n",
       "  <thead>\n",
       "    <tr style=\"text-align: right;\">\n",
       "      <th></th>\n",
       "      <th>step_id</th>\n",
       "      <th>is_theory</th>\n",
       "      <th>text</th>\n",
       "      <th>seconds_to_complete</th>\n",
       "      <th>last_3_month_completion_rate</th>\n",
       "      <th>last_3_month_completed_step_users_count</th>\n",
       "      <th>last_3_month_avg_like</th>\n",
       "      <th>last_3_month_likes_count</th>\n",
       "      <th>last_3_month_topic_completion_rate</th>\n",
       "      <th>last_3_month_completed_topic_users_count</th>\n",
       "      <th>...</th>\n",
       "      <th>cleaned_texts</th>\n",
       "      <th>num_headings</th>\n",
       "      <th>symbols_in_snippets</th>\n",
       "      <th>num_words</th>\n",
       "      <th>num_sentences</th>\n",
       "      <th>num_syllables</th>\n",
       "      <th>norm_seconds</th>\n",
       "      <th>ASL</th>\n",
       "      <th>flesch_score</th>\n",
       "      <th>dale_chall_score</th>\n",
       "    </tr>\n",
       "  </thead>\n",
       "  <tbody>\n",
       "    <tr>\n",
       "      <th>0</th>\n",
       "      <td>12357</td>\n",
       "      <td>1</td>\n",
       "      <td>\"&lt;h5 id=\\\"introduction\\\"&gt; Introduction&lt;/h5&gt;\\n\\...</td>\n",
       "      <td>603.45</td>\n",
       "      <td>0.56</td>\n",
       "      <td>40.0</td>\n",
       "      <td>2.00</td>\n",
       "      <td>10.0</td>\n",
       "      <td>0.90</td>\n",
       "      <td>35.0</td>\n",
       "      <td>...</td>\n",
       "      <td>\" *heading* So far you have learned quite a lo...</td>\n",
       "      <td>6</td>\n",
       "      <td>790</td>\n",
       "      <td>618</td>\n",
       "      <td>24</td>\n",
       "      <td>995</td>\n",
       "      <td>9.764563</td>\n",
       "      <td>25.750000</td>\n",
       "      <td>44.490012</td>\n",
       "      <td>9.180577</td>\n",
       "    </tr>\n",
       "    <tr>\n",
       "      <th>1</th>\n",
       "      <td>12691</td>\n",
       "      <td>1</td>\n",
       "      <td>\"&lt;p&gt;JavaScript was originally developed as a l...</td>\n",
       "      <td>253.21</td>\n",
       "      <td>0.87</td>\n",
       "      <td>884.0</td>\n",
       "      <td>1.72</td>\n",
       "      <td>79.0</td>\n",
       "      <td>0.96</td>\n",
       "      <td>844.0</td>\n",
       "      <td>...</td>\n",
       "      <td>\"JavaScript was originally developed as a lang...</td>\n",
       "      <td>5</td>\n",
       "      <td>35</td>\n",
       "      <td>605</td>\n",
       "      <td>35</td>\n",
       "      <td>962</td>\n",
       "      <td>4.185289</td>\n",
       "      <td>17.285714</td>\n",
       "      <td>54.769008</td>\n",
       "      <td>9.896400</td>\n",
       "    </tr>\n",
       "    <tr>\n",
       "      <th>2</th>\n",
       "      <td>8112</td>\n",
       "      <td>1</td>\n",
       "      <td>\"&lt;p&gt;We've already learned what annotations are...</td>\n",
       "      <td>486.94</td>\n",
       "      <td>0.45</td>\n",
       "      <td>50.0</td>\n",
       "      <td>1.57</td>\n",
       "      <td>7.0</td>\n",
       "      <td>0.89</td>\n",
       "      <td>49.0</td>\n",
       "      <td>...</td>\n",
       "      <td>\"We've already learned what annotations are an...</td>\n",
       "      <td>3</td>\n",
       "      <td>1506</td>\n",
       "      <td>610</td>\n",
       "      <td>30</td>\n",
       "      <td>990</td>\n",
       "      <td>7.982623</td>\n",
       "      <td>20.333333</td>\n",
       "      <td>48.895027</td>\n",
       "      <td>9.097296</td>\n",
       "    </tr>\n",
       "    <tr>\n",
       "      <th>3</th>\n",
       "      <td>7892</td>\n",
       "      <td>1</td>\n",
       "      <td>\"&lt;h5&gt;Introduction&lt;/h5&gt;\\n\\n&lt;p&gt;You often hear pe...</td>\n",
       "      <td>542.73</td>\n",
       "      <td>0.72</td>\n",
       "      <td>60.0</td>\n",
       "      <td>2.00</td>\n",
       "      <td>5.0</td>\n",
       "      <td>0.91</td>\n",
       "      <td>58.0</td>\n",
       "      <td>...</td>\n",
       "      <td>\" *heading* You often hear people speak about ...</td>\n",
       "      <td>5</td>\n",
       "      <td>0</td>\n",
       "      <td>1079</td>\n",
       "      <td>51</td>\n",
       "      <td>1652</td>\n",
       "      <td>5.029935</td>\n",
       "      <td>21.156863</td>\n",
       "      <td>55.834186</td>\n",
       "      <td>9.207762</td>\n",
       "    </tr>\n",
       "    <tr>\n",
       "      <th>4</th>\n",
       "      <td>15809</td>\n",
       "      <td>1</td>\n",
       "      <td>\"&lt;h5&gt;Introduction&lt;/h5&gt;\\n\\n&lt;p&gt;When you have alr...</td>\n",
       "      <td>556.76</td>\n",
       "      <td>0.43</td>\n",
       "      <td>43.0</td>\n",
       "      <td>1.40</td>\n",
       "      <td>10.0</td>\n",
       "      <td>0.91</td>\n",
       "      <td>53.0</td>\n",
       "      <td>...</td>\n",
       "      <td>\" *heading* When you have already learned the ...</td>\n",
       "      <td>5</td>\n",
       "      <td>409</td>\n",
       "      <td>633</td>\n",
       "      <td>21</td>\n",
       "      <td>995</td>\n",
       "      <td>8.795577</td>\n",
       "      <td>30.142857</td>\n",
       "      <td>43.258957</td>\n",
       "      <td>9.721412</td>\n",
       "    </tr>\n",
       "  </tbody>\n",
       "</table>\n",
       "<p>5 rows × 22 columns</p>\n",
       "</div>"
      ],
      "text/plain": [
       "   step_id  is_theory                                               text  \\\n",
       "0    12357          1  \"<h5 id=\\\"introduction\\\"> Introduction</h5>\\n\\...   \n",
       "1    12691          1  \"<p>JavaScript was originally developed as a l...   \n",
       "2     8112          1  \"<p>We've already learned what annotations are...   \n",
       "3     7892          1  \"<h5>Introduction</h5>\\n\\n<p>You often hear pe...   \n",
       "4    15809          1  \"<h5>Introduction</h5>\\n\\n<p>When you have alr...   \n",
       "\n",
       "   seconds_to_complete  last_3_month_completion_rate  \\\n",
       "0               603.45                          0.56   \n",
       "1               253.21                          0.87   \n",
       "2               486.94                          0.45   \n",
       "3               542.73                          0.72   \n",
       "4               556.76                          0.43   \n",
       "\n",
       "   last_3_month_completed_step_users_count  last_3_month_avg_like  \\\n",
       "0                                     40.0                   2.00   \n",
       "1                                    884.0                   1.72   \n",
       "2                                     50.0                   1.57   \n",
       "3                                     60.0                   2.00   \n",
       "4                                     43.0                   1.40   \n",
       "\n",
       "   last_3_month_likes_count  last_3_month_topic_completion_rate  \\\n",
       "0                      10.0                                0.90   \n",
       "1                      79.0                                0.96   \n",
       "2                       7.0                                0.89   \n",
       "3                       5.0                                0.91   \n",
       "4                      10.0                                0.91   \n",
       "\n",
       "   last_3_month_completed_topic_users_count  ...  \\\n",
       "0                                      35.0  ...   \n",
       "1                                     844.0  ...   \n",
       "2                                      49.0  ...   \n",
       "3                                      58.0  ...   \n",
       "4                                      53.0  ...   \n",
       "\n",
       "                                       cleaned_texts  num_headings  \\\n",
       "0  \" *heading* So far you have learned quite a lo...             6   \n",
       "1  \"JavaScript was originally developed as a lang...             5   \n",
       "2  \"We've already learned what annotations are an...             3   \n",
       "3  \" *heading* You often hear people speak about ...             5   \n",
       "4  \" *heading* When you have already learned the ...             5   \n",
       "\n",
       "  symbols_in_snippets  num_words  num_sentences  num_syllables  norm_seconds  \\\n",
       "0                 790        618             24            995      9.764563   \n",
       "1                  35        605             35            962      4.185289   \n",
       "2                1506        610             30            990      7.982623   \n",
       "3                   0       1079             51           1652      5.029935   \n",
       "4                 409        633             21            995      8.795577   \n",
       "\n",
       "         ASL  flesch_score  dale_chall_score  \n",
       "0  25.750000     44.490012          9.180577  \n",
       "1  17.285714     54.769008          9.896400  \n",
       "2  20.333333     48.895027          9.097296  \n",
       "3  21.156863     55.834186          9.207762  \n",
       "4  30.142857     43.258957          9.721412  \n",
       "\n",
       "[5 rows x 22 columns]"
      ]
     },
     "execution_count": 5,
     "metadata": {},
     "output_type": "execute_result"
    }
   ],
   "source": [
    "topic_df_statistics.head()"
   ]
  },
  {
   "cell_type": "code",
   "execution_count": 6,
   "metadata": {},
   "outputs": [
    {
     "data": {
      "text/plain": [
       "(1064, 22)"
      ]
     },
     "execution_count": 6,
     "metadata": {},
     "output_type": "execute_result"
    }
   ],
   "source": [
    "topic_df_statistics.shape"
   ]
  },
  {
   "cell_type": "code",
   "execution_count": 7,
   "metadata": {},
   "outputs": [],
   "source": [
    "topic_df_statistics = topic_df_statistics.dropna()"
   ]
  },
  {
   "cell_type": "code",
   "execution_count": 8,
   "metadata": {},
   "outputs": [
    {
     "data": {
      "text/plain": [
       "(1064, 22)"
      ]
     },
     "execution_count": 8,
     "metadata": {},
     "output_type": "execute_result"
    }
   ],
   "source": [
    "topic_df_statistics.shape  # there were no Nan values"
   ]
  },
  {
   "cell_type": "code",
   "execution_count": 16,
   "metadata": {},
   "outputs": [
    {
     "name": "stdout",
     "output_type": "stream",
     "text": [
      "sents 34773 32.68\n",
      "words 790823 743.25\n"
     ]
    }
   ],
   "source": [
    "# compute average number of sentences and words in topics\n",
    "only_two = topic_df_statistics[['num_sentences', 'num_words']]\n",
    "\n",
    "overall = only_two.shape[0]\n",
    "sents = 0\n",
    "words = 0\n",
    "\n",
    "for i, row in only_two.iterrows():\n",
    "    sents += row['num_sentences']\n",
    "    words += row['num_words']\n",
    "    \n",
    "print('sents', sents, round(sents/overall, 2))\n",
    "print('words', words, round(words/overall, 2))"
   ]
  },
  {
   "cell_type": "code",
   "execution_count": 13,
   "metadata": {},
   "outputs": [
    {
     "name": "stdout",
     "output_type": "stream",
     "text": [
      "24\n"
     ]
    }
   ],
   "source": [
    "for i, row in only_two.iterrows():\n",
    "    print(row['num_sentences'])\n",
    "    break"
   ]
  },
  {
   "cell_type": "code",
   "execution_count": 11,
   "metadata": {},
   "outputs": [
    {
     "data": {
      "text/plain": [
       "(1064, 2)"
      ]
     },
     "execution_count": 11,
     "metadata": {},
     "output_type": "execute_result"
    }
   ],
   "source": [
    "only_two.shape"
   ]
  },
  {
   "cell_type": "markdown",
   "metadata": {},
   "source": [
    "## Compute correlations"
   ]
  },
  {
   "cell_type": "markdown",
   "metadata": {},
   "source": [
    "Correlations between Flesch score / Dale-Chall score and:\n",
    "\n",
    "* normalized seconds_to_complete\n",
    "* last_3_month_completion_rate\n",
    "* last_3_month_avg_like (but only for those where last_year_likes_count is > 20)\n",
    "* last_3_month_topic_completion_rate\n",
    "* back_to_theory_times_per_user_session_avg_last_3_month\n",
    "* back_to_theory_users_%_last_3_month"
   ]
  },
  {
   "cell_type": "code",
   "execution_count": 7,
   "metadata": {},
   "outputs": [],
   "source": [
    "from scipy.stats import spearmanr"
   ]
  },
  {
   "cell_type": "code",
   "execution_count": 14,
   "metadata": {},
   "outputs": [],
   "source": [
    "def correlate_two(df, name_row1, name_row2):    \n",
    "    score, pvalue = spearmanr(a=df[name_row1].values, b=df[name_row2].values, nan_policy='raise')\n",
    "    return score, pvalue"
   ]
  },
  {
   "cell_type": "code",
   "execution_count": 16,
   "metadata": {},
   "outputs": [
    {
     "name": "stdout",
     "output_type": "stream",
     "text": [
      "FLESCH\n",
      "norm_seconds\n",
      "-0.186 0.0\n",
      "\n",
      "last_3_month_completion_rate\n",
      "0.099 0.00119\n",
      "\n",
      "last_3_month_topic_completion_rate\n",
      "0.025 0.4138\n",
      "\n",
      "back_to_theory_times_per_user_session_avg_last_3_month\n",
      "-0.096 0.00176\n",
      "\n",
      "back_to_theory_users_%_last_3_month\n",
      "-0.116 0.00014\n",
      "\n"
     ]
    }
   ],
   "source": [
    "print('FLESCH')\n",
    "for column in ['norm_seconds', 'last_3_month_completion_rate', 'last_3_month_topic_completion_rate', \n",
    "              'back_to_theory_times_per_user_session_avg_last_3_month', 'back_to_theory_users_%_last_3_month']:\n",
    "    print(column)\n",
    "    \n",
    "    score, p = correlate_two(topic_df_statistics, 'flesch_score', column)\n",
    "    print(round(score, 3), round(p, 5))\n",
    "    print()"
   ]
  },
  {
   "cell_type": "code",
   "execution_count": 17,
   "metadata": {},
   "outputs": [
    {
     "name": "stdout",
     "output_type": "stream",
     "text": [
      "0.009 0.82518\n"
     ]
    }
   ],
   "source": [
    "# for last_year_avg_like we need to take rows where last_year_likes_count > 20\n",
    "df_with_likes = topic_df_statistics.drop(topic_df_statistics[topic_df_statistics.last_3_month_likes_count < 20].index)\n",
    "\n",
    "score, p = correlate_two(df_with_likes, 'flesch_score', 'last_3_month_avg_like')\n",
    "print(round(score, 3), round(p, 5))"
   ]
  },
  {
   "cell_type": "code",
   "execution_count": 18,
   "metadata": {},
   "outputs": [
    {
     "name": "stdout",
     "output_type": "stream",
     "text": [
      "DALE-CHALL\n",
      "norm_seconds\n",
      "0.177 0.0\n",
      "\n",
      "last_3_month_completion_rate\n",
      "-0.074 0.01601\n",
      "\n",
      "last_3_month_topic_completion_rate\n",
      "-0.009 0.77102\n",
      "\n",
      "back_to_theory_times_per_user_session_avg_last_3_month\n",
      "0.087 0.00438\n",
      "\n",
      "back_to_theory_users_%_last_3_month\n",
      "0.088 0.00419\n",
      "\n"
     ]
    }
   ],
   "source": [
    "print('DALE-CHALL')\n",
    "for column in ['norm_seconds', 'last_3_month_completion_rate', 'last_3_month_topic_completion_rate', \n",
    "              'back_to_theory_times_per_user_session_avg_last_3_month', 'back_to_theory_users_%_last_3_month']:\n",
    "    print(column)\n",
    "    \n",
    "    score, p = correlate_two(topic_df_statistics, 'dale_chall_score', column)\n",
    "    print(round(score, 3), round(p, 5))\n",
    "    print()"
   ]
  },
  {
   "cell_type": "code",
   "execution_count": 19,
   "metadata": {},
   "outputs": [
    {
     "name": "stdout",
     "output_type": "stream",
     "text": [
      "-0.104 0.01005\n"
     ]
    }
   ],
   "source": [
    "score, p = correlate_two(df_with_likes, 'dale_chall_score', 'last_3_month_avg_like')\n",
    "print(round(score, 3), round(p, 5))"
   ]
  },
  {
   "cell_type": "code",
   "execution_count": 22,
   "metadata": {},
   "outputs": [
    {
     "name": "stdout",
     "output_type": "stream",
     "text": [
      "-0.666 0.0\n"
     ]
    }
   ],
   "source": [
    "# the scores between each other\n",
    "score, p = correlate_two(topic_df_statistics, 'dale_chall_score', 'flesch_score')\n",
    "print(round(score, 3), round(p, 5))"
   ]
  },
  {
   "cell_type": "code",
   "execution_count": 23,
   "metadata": {},
   "outputs": [
    {
     "name": "stdout",
     "output_type": "stream",
     "text": [
      "norm_seconds last_3_month_completion_rate\n",
      "-0.494 0.0\n",
      "norm_seconds last_3_month_topic_completion_rate\n",
      "0.012 0.77614\n",
      "norm_seconds last_3_month_avg_like\n",
      "-0.042 0.29742\n",
      "norm_seconds back_to_theory_times_per_user_session_avg_last_3_month\n",
      "0.687 0.0\n",
      "norm_seconds back_to_theory_users_%_last_3_month\n",
      "0.669 0.0\n",
      "last_3_month_completion_rate norm_seconds\n",
      "-0.494 0.0\n",
      "last_3_month_completion_rate last_3_month_topic_completion_rate\n",
      "-0.101 0.01251\n",
      "last_3_month_completion_rate last_3_month_avg_like\n",
      "-0.023 0.57693\n",
      "last_3_month_completion_rate back_to_theory_times_per_user_session_avg_last_3_month\n",
      "-0.463 0.0\n",
      "last_3_month_completion_rate back_to_theory_users_%_last_3_month\n",
      "-0.51 0.0\n",
      "last_3_month_topic_completion_rate norm_seconds\n",
      "0.012 0.77614\n",
      "last_3_month_topic_completion_rate last_3_month_completion_rate\n",
      "-0.101 0.01251\n",
      "last_3_month_topic_completion_rate last_3_month_avg_like\n",
      "-0.002 0.95814\n",
      "last_3_month_topic_completion_rate back_to_theory_times_per_user_session_avg_last_3_month\n",
      "0.005 0.90796\n",
      "last_3_month_topic_completion_rate back_to_theory_users_%_last_3_month\n",
      "0.091 0.02436\n",
      "last_3_month_avg_like norm_seconds\n",
      "-0.042 0.29742\n",
      "last_3_month_avg_like last_3_month_completion_rate\n",
      "-0.023 0.57693\n",
      "last_3_month_avg_like last_3_month_topic_completion_rate\n",
      "-0.002 0.95814\n",
      "last_3_month_avg_like back_to_theory_times_per_user_session_avg_last_3_month\n",
      "-0.013 0.74929\n",
      "last_3_month_avg_like back_to_theory_users_%_last_3_month\n",
      "-0.008 0.8498\n",
      "back_to_theory_times_per_user_session_avg_last_3_month norm_seconds\n",
      "0.687 0.0\n",
      "back_to_theory_times_per_user_session_avg_last_3_month last_3_month_completion_rate\n",
      "-0.463 0.0\n",
      "back_to_theory_times_per_user_session_avg_last_3_month last_3_month_topic_completion_rate\n",
      "0.005 0.90796\n",
      "back_to_theory_times_per_user_session_avg_last_3_month last_3_month_avg_like\n",
      "-0.013 0.74929\n",
      "back_to_theory_times_per_user_session_avg_last_3_month back_to_theory_users_%_last_3_month\n",
      "0.97 0.0\n",
      "back_to_theory_users_%_last_3_month norm_seconds\n",
      "0.669 0.0\n",
      "back_to_theory_users_%_last_3_month last_3_month_completion_rate\n",
      "-0.51 0.0\n",
      "back_to_theory_users_%_last_3_month last_3_month_topic_completion_rate\n",
      "0.091 0.02436\n",
      "back_to_theory_users_%_last_3_month last_3_month_avg_like\n",
      "-0.008 0.8498\n",
      "back_to_theory_users_%_last_3_month back_to_theory_times_per_user_session_avg_last_3_month\n",
      "0.97 0.0\n"
     ]
    }
   ],
   "source": [
    "# and now -- between all the parameters with each other\n",
    "for column1 in ['norm_seconds', 'last_3_month_completion_rate', 'last_3_month_topic_completion_rate', \n",
    "               'last_3_month_avg_like', 'back_to_theory_times_per_user_session_avg_last_3_month', \n",
    "               'back_to_theory_users_%_last_3_month']:\n",
    "    for column2 in ['norm_seconds', 'last_3_month_completion_rate', 'last_3_month_topic_completion_rate', \n",
    "                    'last_3_month_avg_like', 'back_to_theory_times_per_user_session_avg_last_3_month',\n",
    "                    'back_to_theory_users_%_last_3_month']:\n",
    "        if column1 == column2:\n",
    "            continue\n",
    "        score, p = correlate_two(df_with_likes, column1, column2)\n",
    "        print(column1, column2)\n",
    "        print(round(score, 3), round(p, 5))"
   ]
  },
  {
   "cell_type": "markdown",
   "metadata": {},
   "source": [
    "## Correlations with other readability scores"
   ]
  },
  {
   "cell_type": "code",
   "execution_count": 30,
   "metadata": {},
   "outputs": [],
   "source": [
    "path = '/home/anna/Documents/Diploma/code/new_cleaned'"
   ]
  },
  {
   "cell_type": "code",
   "execution_count": 31,
   "metadata": {},
   "outputs": [],
   "source": [
    "df_with_all_scores = pd.read_csv(f'{path}/topics_20_compl_statistics_and_MORE_scores.csv')"
   ]
  },
  {
   "cell_type": "code",
   "execution_count": 33,
   "metadata": {},
   "outputs": [
    {
     "name": "stdout",
     "output_type": "stream",
     "text": [
      "### flesch_kincaid ###\n",
      "norm_seconds\n",
      "0.167 0.0\n",
      "\n",
      "last_3_month_completion_rate\n",
      "-0.061 0.04502\n",
      "\n",
      "last_3_month_topic_completion_rate\n",
      "-0.017 0.5832\n",
      "\n",
      "last_3_month_avg_like\n",
      "0.021 0.48733\n",
      "\n",
      "back_to_theory_times_per_user_session_avg_last_3_month\n",
      "0.128 3e-05\n",
      "\n",
      "back_to_theory_users_%_last_3_month\n",
      "0.135 1e-05\n",
      "\n",
      "##########\n",
      "### gunning_fog ###\n",
      "norm_seconds\n",
      "0.123 6e-05\n",
      "\n",
      "last_3_month_completion_rate\n",
      "-0.024 0.44312\n",
      "\n",
      "last_3_month_topic_completion_rate\n",
      "-0.04 0.19355\n",
      "\n",
      "last_3_month_avg_like\n",
      "0.028 0.36409\n",
      "\n",
      "back_to_theory_times_per_user_session_avg_last_3_month\n",
      "0.08 0.0088\n",
      "\n",
      "back_to_theory_users_%_last_3_month\n",
      "0.077 0.01183\n",
      "\n",
      "##########\n",
      "### coleman_liau ###\n",
      "norm_seconds\n",
      "0.198 0.0\n",
      "\n",
      "last_3_month_completion_rate\n",
      "-0.158 0.0\n",
      "\n",
      "last_3_month_topic_completion_rate\n",
      "-0.011 0.71649\n",
      "\n",
      "last_3_month_avg_like\n",
      "0.007 0.81527\n",
      "\n",
      "back_to_theory_times_per_user_session_avg_last_3_month\n",
      "0.046 0.13514\n",
      "\n",
      "back_to_theory_users_%_last_3_month\n",
      "0.083 0.00655\n",
      "\n",
      "##########\n",
      "### ari ###\n",
      "norm_seconds\n",
      "0.178 0.0\n",
      "\n",
      "last_3_month_completion_rate\n",
      "-0.075 0.01466\n",
      "\n",
      "last_3_month_topic_completion_rate\n",
      "-0.007 0.80938\n",
      "\n",
      "last_3_month_avg_like\n",
      "0.016 0.59753\n",
      "\n",
      "back_to_theory_times_per_user_session_avg_last_3_month\n",
      "0.132 2e-05\n",
      "\n",
      "back_to_theory_users_%_last_3_month\n",
      "0.14 0.0\n",
      "\n",
      "##########\n",
      "### linsear_write ###\n",
      "norm_seconds\n",
      "0.129 2e-05\n",
      "\n",
      "last_3_month_completion_rate\n",
      "-0.018 0.55232\n",
      "\n",
      "last_3_month_topic_completion_rate\n",
      "-0.013 0.6632\n",
      "\n",
      "last_3_month_avg_like\n",
      "0.021 0.48938\n",
      "\n",
      "back_to_theory_times_per_user_session_avg_last_3_month\n",
      "0.127 3e-05\n",
      "\n",
      "back_to_theory_users_%_last_3_month\n",
      "0.12 8e-05\n",
      "\n",
      "##########\n",
      "### spache ###\n",
      "norm_seconds\n",
      "0.185 0.0\n",
      "\n",
      "last_3_month_completion_rate\n",
      "-0.055 0.07373\n",
      "\n",
      "last_3_month_topic_completion_rate\n",
      "0.002 0.94263\n",
      "\n",
      "last_3_month_avg_like\n",
      "-0.011 0.72364\n",
      "\n",
      "back_to_theory_times_per_user_session_avg_last_3_month\n",
      "0.157 0.0\n",
      "\n",
      "back_to_theory_users_%_last_3_month\n",
      "0.152 0.0\n",
      "\n",
      "##########\n"
     ]
    }
   ],
   "source": [
    "for score in ['flesch_kincaid', 'gunning_fog', 'coleman_liau', 'ari', 'linsear_write', 'spache']:\n",
    "    print('###', score, '###')\n",
    "    for column in ['norm_seconds', 'last_3_month_completion_rate', 'last_3_month_topic_completion_rate', \n",
    "                   'last_3_month_avg_like', 'back_to_theory_times_per_user_session_avg_last_3_month', \n",
    "                   'back_to_theory_users_%_last_3_month']:\n",
    "        print(column)\n",
    "\n",
    "        index, p = correlate_two(df_with_all_scores, f'{score}_score', column)\n",
    "        print(round(index, 3), round(p, 5))\n",
    "        print()\n",
    "    print('##########')"
   ]
  },
  {
   "cell_type": "code",
   "execution_count": 35,
   "metadata": {},
   "outputs": [],
   "source": [
    "# for smog we need to disregard those values where there are zeros\n",
    "df_topics_for_smog = df_with_all_scores.drop(df_with_all_scores[df_with_all_scores.smog_score == 0].index)"
   ]
  },
  {
   "cell_type": "code",
   "execution_count": 36,
   "metadata": {},
   "outputs": [
    {
     "name": "stdout",
     "output_type": "stream",
     "text": [
      "smog\n",
      "norm_seconds\n",
      "0.141 0.00066\n",
      "\n",
      "last_3_month_completion_rate\n",
      "-0.121 0.00362\n",
      "\n",
      "last_3_month_topic_completion_rate\n",
      "-0.118 0.00436\n",
      "\n",
      "last_3_month_avg_like\n",
      "0.028 0.49847\n",
      "\n",
      "back_to_theory_times_per_user_session_avg_last_3_month\n",
      "0.101 0.01521\n",
      "\n",
      "back_to_theory_users_%_last_3_month\n",
      "0.103 0.0134\n",
      "\n",
      "##########\n"
     ]
    }
   ],
   "source": [
    "for score in ['smog']:\n",
    "    print(score)\n",
    "    for column in ['norm_seconds', 'last_3_month_completion_rate', 'last_3_month_topic_completion_rate', \n",
    "                   'last_3_month_avg_like', 'back_to_theory_times_per_user_session_avg_last_3_month', \n",
    "                   'back_to_theory_users_%_last_3_month']:\n",
    "        print(column)\n",
    "\n",
    "        index, p = correlate_two(df_topics_for_smog, f'{score}_score', column)\n",
    "        print(round(index, 3), round(p, 5))\n",
    "        print()\n",
    "    print('##########')"
   ]
  },
  {
   "cell_type": "code",
   "execution_count": null,
   "metadata": {},
   "outputs": [],
   "source": []
  }
 ],
 "metadata": {
  "kernelspec": {
   "display_name": "Python 3",
   "language": "python",
   "name": "python3"
  },
  "language_info": {
   "codemirror_mode": {
    "name": "ipython",
    "version": 3
   },
   "file_extension": ".py",
   "mimetype": "text/x-python",
   "name": "python",
   "nbconvert_exporter": "python",
   "pygments_lexer": "ipython3",
   "version": "3.6.9"
  }
 },
 "nbformat": 4,
 "nbformat_minor": 4
}
